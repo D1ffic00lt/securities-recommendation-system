{
 "cells": [
  {
   "cell_type": "code",
   "id": "initial_id",
   "metadata": {
    "collapsed": true,
    "ExecuteTime": {
     "end_time": "2024-11-11T09:58:04.680723Z",
     "start_time": "2024-11-11T09:57:58.693159Z"
    }
   },
   "source": [
    "import pandas as pd\n",
    "from preprocessing.rating import SecurityRating"
   ],
   "outputs": [],
   "execution_count": 1
  },
  {
   "metadata": {
    "ExecuteTime": {
     "end_time": "2024-11-11T09:58:04.716950Z",
     "start_time": "2024-11-11T09:58:04.689430Z"
    }
   },
   "cell_type": "code",
   "source": [
    "bonds = pd.read_csv('../bonds.csv')\n",
    "bonds_prices = pd.read_csv('../bonds_price_ratings.csv')\n",
    "rating = SecurityRating(\n",
    "    bonds=bonds,\n",
    ")"
   ],
   "id": "5659422bffdd15d6",
   "outputs": [],
   "execution_count": 2
  },
  {
   "metadata": {
    "ExecuteTime": {
     "end_time": "2024-11-11T09:58:04.818724Z",
     "start_time": "2024-11-11T09:58:04.810235Z"
    }
   },
   "cell_type": "code",
   "source": "bonds[\"rating\"] = bonds.apply(rating.calculate_bonds_rating, axis=1)",
   "id": "b0004d96f3d8c9e",
   "outputs": [],
   "execution_count": 3
  },
  {
   "metadata": {
    "ExecuteTime": {
     "end_time": "2024-11-11T09:58:04.833718Z",
     "start_time": "2024-11-11T09:58:04.830247Z"
    }
   },
   "cell_type": "code",
   "source": "bonds_with_ratings = bonds.merge(bonds_prices, on=\"figi\", how=\"inner\")",
   "id": "638a97fa82b3950c",
   "outputs": [],
   "execution_count": 4
  },
  {
   "metadata": {
    "ExecuteTime": {
     "end_time": "2024-11-11T09:58:04.874718Z",
     "start_time": "2024-11-11T09:58:04.871729Z"
    }
   },
   "cell_type": "code",
   "source": "bonds_with_ratings = bonds_with_ratings.rename({\"rating_x\": \"company_rating\", \"rating_y\": \"price_rating\"}, axis=1)",
   "id": "89affd10c8c9262a",
   "outputs": [],
   "execution_count": 5
  },
  {
   "metadata": {
    "ExecuteTime": {
     "end_time": "2024-11-11T09:58:04.889233Z",
     "start_time": "2024-11-11T09:58:04.886461Z"
    }
   },
   "cell_type": "code",
   "source": [
    "bonds_with_ratings = bonds_with_ratings[\n",
    "    [\"figi\", \"sector\", \"price_rating\", \"company_rating\", \"lot\", \"rub_price\"]].dropna()"
   ],
   "id": "cac94650b152295e",
   "outputs": [],
   "execution_count": 6
  },
  {
   "metadata": {
    "ExecuteTime": {
     "end_time": "2024-11-11T09:58:04.909056Z",
     "start_time": "2024-11-11T09:58:04.900553Z"
    }
   },
   "cell_type": "code",
   "source": "bonds_with_ratings",
   "id": "5fbc266ddc8e4029",
   "outputs": [
    {
     "data": {
      "text/plain": [
       "              figi       sector  price_rating  company_rating  lot  rub_price\n",
       "0     TCS00A107D74  industrials      5.398579        6.293961    1      93.86\n",
       "1     BBG00XH4W3N3   government      3.921603        3.675523    1      56.66\n",
       "2     BBG00Z8KGGC3    financial      4.403083        5.425456    1      76.96\n",
       "3     TCS00A102D46    financial      4.281776        5.401428    1      65.40\n",
       "4     ISSUANCEPRLS        other      6.204494        6.306879    1      95.32\n",
       "...            ...          ...           ...             ...  ...        ...\n",
       "1135  BBG012YS2TP2    financial      5.268277        6.204105    1      88.44\n",
       "1136  TCS00A105HJ9    financial      6.742966        5.442307    1      99.40\n",
       "1137  BBG00T7HZJG4    materials      0.000000        5.002399    1       0.00\n",
       "1138  TCS00A104735  real_estate      5.320846        4.801130    1      89.80\n",
       "1139  BBG00J7HHGH1      telecom      5.684299        4.965786    1      89.46\n",
       "\n",
       "[1136 rows x 6 columns]"
      ],
      "text/html": [
       "<div>\n",
       "<style scoped>\n",
       "    .dataframe tbody tr th:only-of-type {\n",
       "        vertical-align: middle;\n",
       "    }\n",
       "\n",
       "    .dataframe tbody tr th {\n",
       "        vertical-align: top;\n",
       "    }\n",
       "\n",
       "    .dataframe thead th {\n",
       "        text-align: right;\n",
       "    }\n",
       "</style>\n",
       "<table border=\"1\" class=\"dataframe\">\n",
       "  <thead>\n",
       "    <tr style=\"text-align: right;\">\n",
       "      <th></th>\n",
       "      <th>figi</th>\n",
       "      <th>sector</th>\n",
       "      <th>price_rating</th>\n",
       "      <th>company_rating</th>\n",
       "      <th>lot</th>\n",
       "      <th>rub_price</th>\n",
       "    </tr>\n",
       "  </thead>\n",
       "  <tbody>\n",
       "    <tr>\n",
       "      <th>0</th>\n",
       "      <td>TCS00A107D74</td>\n",
       "      <td>industrials</td>\n",
       "      <td>5.398579</td>\n",
       "      <td>6.293961</td>\n",
       "      <td>1</td>\n",
       "      <td>93.86</td>\n",
       "    </tr>\n",
       "    <tr>\n",
       "      <th>1</th>\n",
       "      <td>BBG00XH4W3N3</td>\n",
       "      <td>government</td>\n",
       "      <td>3.921603</td>\n",
       "      <td>3.675523</td>\n",
       "      <td>1</td>\n",
       "      <td>56.66</td>\n",
       "    </tr>\n",
       "    <tr>\n",
       "      <th>2</th>\n",
       "      <td>BBG00Z8KGGC3</td>\n",
       "      <td>financial</td>\n",
       "      <td>4.403083</td>\n",
       "      <td>5.425456</td>\n",
       "      <td>1</td>\n",
       "      <td>76.96</td>\n",
       "    </tr>\n",
       "    <tr>\n",
       "      <th>3</th>\n",
       "      <td>TCS00A102D46</td>\n",
       "      <td>financial</td>\n",
       "      <td>4.281776</td>\n",
       "      <td>5.401428</td>\n",
       "      <td>1</td>\n",
       "      <td>65.40</td>\n",
       "    </tr>\n",
       "    <tr>\n",
       "      <th>4</th>\n",
       "      <td>ISSUANCEPRLS</td>\n",
       "      <td>other</td>\n",
       "      <td>6.204494</td>\n",
       "      <td>6.306879</td>\n",
       "      <td>1</td>\n",
       "      <td>95.32</td>\n",
       "    </tr>\n",
       "    <tr>\n",
       "      <th>...</th>\n",
       "      <td>...</td>\n",
       "      <td>...</td>\n",
       "      <td>...</td>\n",
       "      <td>...</td>\n",
       "      <td>...</td>\n",
       "      <td>...</td>\n",
       "    </tr>\n",
       "    <tr>\n",
       "      <th>1135</th>\n",
       "      <td>BBG012YS2TP2</td>\n",
       "      <td>financial</td>\n",
       "      <td>5.268277</td>\n",
       "      <td>6.204105</td>\n",
       "      <td>1</td>\n",
       "      <td>88.44</td>\n",
       "    </tr>\n",
       "    <tr>\n",
       "      <th>1136</th>\n",
       "      <td>TCS00A105HJ9</td>\n",
       "      <td>financial</td>\n",
       "      <td>6.742966</td>\n",
       "      <td>5.442307</td>\n",
       "      <td>1</td>\n",
       "      <td>99.40</td>\n",
       "    </tr>\n",
       "    <tr>\n",
       "      <th>1137</th>\n",
       "      <td>BBG00T7HZJG4</td>\n",
       "      <td>materials</td>\n",
       "      <td>0.000000</td>\n",
       "      <td>5.002399</td>\n",
       "      <td>1</td>\n",
       "      <td>0.00</td>\n",
       "    </tr>\n",
       "    <tr>\n",
       "      <th>1138</th>\n",
       "      <td>TCS00A104735</td>\n",
       "      <td>real_estate</td>\n",
       "      <td>5.320846</td>\n",
       "      <td>4.801130</td>\n",
       "      <td>1</td>\n",
       "      <td>89.80</td>\n",
       "    </tr>\n",
       "    <tr>\n",
       "      <th>1139</th>\n",
       "      <td>BBG00J7HHGH1</td>\n",
       "      <td>telecom</td>\n",
       "      <td>5.684299</td>\n",
       "      <td>4.965786</td>\n",
       "      <td>1</td>\n",
       "      <td>89.46</td>\n",
       "    </tr>\n",
       "  </tbody>\n",
       "</table>\n",
       "<p>1136 rows × 6 columns</p>\n",
       "</div>"
      ]
     },
     "execution_count": 7,
     "metadata": {},
     "output_type": "execute_result"
    }
   ],
   "execution_count": 7
  },
  {
   "metadata": {
    "ExecuteTime": {
     "end_time": "2024-11-11T10:27:34.306287Z",
     "start_time": "2024-11-11T10:27:34.288127Z"
    }
   },
   "cell_type": "code",
   "source": "bonds_with_ratings[\"sum_of_ratings\"] = bonds_with_ratings[\"price_rating\"] + bonds_with_ratings[\"company_rating\"]",
   "id": "16a3bd00b897df67",
   "outputs": [],
   "execution_count": 38
  },
  {
   "metadata": {
    "ExecuteTime": {
     "end_time": "2024-11-11T10:27:50.136064Z",
     "start_time": "2024-11-11T10:27:50.120828Z"
    }
   },
   "cell_type": "code",
   "source": "bonds_with_ratings.sort_values(by=\"sum_of_ratings\", ascending=False)",
   "id": "21e0e21d14fb8953",
   "outputs": [
    {
     "data": {
      "text/plain": [
       "             figi       sector  price_rating  company_rating  lot  rub_price  \\\n",
       "797  TCS00A106VV3  industrials      5.863216        8.181922    1      99.25   \n",
       "721  TCS00A108VW7    materials      5.832779        8.185184    1      97.51   \n",
       "739  BBG011DV0155    financial      5.874284        8.136146    1      87.82   \n",
       "385  TCS00A107UW1       energy      5.798108        8.190037    1      98.51   \n",
       "202  TCS00A1075S4    financial      5.870291        7.933749    1      99.49   \n",
       "..            ...          ...           ...             ...  ...        ...   \n",
       "323  BBG00NBJSLV4      telecom      0.000000        2.177904    1       0.00   \n",
       "356  BBG012G07QT0    financial      0.000000        2.155773    1       0.00   \n",
       "101  BBG00GXQKMJ9   government      0.000000        2.153558    1       0.00   \n",
       "420  BBG007KHNMS0    financial      0.000000        2.135396    1       0.00   \n",
       "346  BBG00JQC5C47   government      0.000000        2.049043    1       0.00   \n",
       "\n",
       "     sum_of_ratings  \n",
       "797       14.045139  \n",
       "721       14.017963  \n",
       "739       14.010430  \n",
       "385       13.988145  \n",
       "202       13.804040  \n",
       "..              ...  \n",
       "323        2.177904  \n",
       "356        2.155773  \n",
       "101        2.153558  \n",
       "420        2.135396  \n",
       "346        2.049043  \n",
       "\n",
       "[1136 rows x 7 columns]"
      ],
      "text/html": [
       "<div>\n",
       "<style scoped>\n",
       "    .dataframe tbody tr th:only-of-type {\n",
       "        vertical-align: middle;\n",
       "    }\n",
       "\n",
       "    .dataframe tbody tr th {\n",
       "        vertical-align: top;\n",
       "    }\n",
       "\n",
       "    .dataframe thead th {\n",
       "        text-align: right;\n",
       "    }\n",
       "</style>\n",
       "<table border=\"1\" class=\"dataframe\">\n",
       "  <thead>\n",
       "    <tr style=\"text-align: right;\">\n",
       "      <th></th>\n",
       "      <th>figi</th>\n",
       "      <th>sector</th>\n",
       "      <th>price_rating</th>\n",
       "      <th>company_rating</th>\n",
       "      <th>lot</th>\n",
       "      <th>rub_price</th>\n",
       "      <th>sum_of_ratings</th>\n",
       "    </tr>\n",
       "  </thead>\n",
       "  <tbody>\n",
       "    <tr>\n",
       "      <th>797</th>\n",
       "      <td>TCS00A106VV3</td>\n",
       "      <td>industrials</td>\n",
       "      <td>5.863216</td>\n",
       "      <td>8.181922</td>\n",
       "      <td>1</td>\n",
       "      <td>99.25</td>\n",
       "      <td>14.045139</td>\n",
       "    </tr>\n",
       "    <tr>\n",
       "      <th>721</th>\n",
       "      <td>TCS00A108VW7</td>\n",
       "      <td>materials</td>\n",
       "      <td>5.832779</td>\n",
       "      <td>8.185184</td>\n",
       "      <td>1</td>\n",
       "      <td>97.51</td>\n",
       "      <td>14.017963</td>\n",
       "    </tr>\n",
       "    <tr>\n",
       "      <th>739</th>\n",
       "      <td>BBG011DV0155</td>\n",
       "      <td>financial</td>\n",
       "      <td>5.874284</td>\n",
       "      <td>8.136146</td>\n",
       "      <td>1</td>\n",
       "      <td>87.82</td>\n",
       "      <td>14.010430</td>\n",
       "    </tr>\n",
       "    <tr>\n",
       "      <th>385</th>\n",
       "      <td>TCS00A107UW1</td>\n",
       "      <td>energy</td>\n",
       "      <td>5.798108</td>\n",
       "      <td>8.190037</td>\n",
       "      <td>1</td>\n",
       "      <td>98.51</td>\n",
       "      <td>13.988145</td>\n",
       "    </tr>\n",
       "    <tr>\n",
       "      <th>202</th>\n",
       "      <td>TCS00A1075S4</td>\n",
       "      <td>financial</td>\n",
       "      <td>5.870291</td>\n",
       "      <td>7.933749</td>\n",
       "      <td>1</td>\n",
       "      <td>99.49</td>\n",
       "      <td>13.804040</td>\n",
       "    </tr>\n",
       "    <tr>\n",
       "      <th>...</th>\n",
       "      <td>...</td>\n",
       "      <td>...</td>\n",
       "      <td>...</td>\n",
       "      <td>...</td>\n",
       "      <td>...</td>\n",
       "      <td>...</td>\n",
       "      <td>...</td>\n",
       "    </tr>\n",
       "    <tr>\n",
       "      <th>323</th>\n",
       "      <td>BBG00NBJSLV4</td>\n",
       "      <td>telecom</td>\n",
       "      <td>0.000000</td>\n",
       "      <td>2.177904</td>\n",
       "      <td>1</td>\n",
       "      <td>0.00</td>\n",
       "      <td>2.177904</td>\n",
       "    </tr>\n",
       "    <tr>\n",
       "      <th>356</th>\n",
       "      <td>BBG012G07QT0</td>\n",
       "      <td>financial</td>\n",
       "      <td>0.000000</td>\n",
       "      <td>2.155773</td>\n",
       "      <td>1</td>\n",
       "      <td>0.00</td>\n",
       "      <td>2.155773</td>\n",
       "    </tr>\n",
       "    <tr>\n",
       "      <th>101</th>\n",
       "      <td>BBG00GXQKMJ9</td>\n",
       "      <td>government</td>\n",
       "      <td>0.000000</td>\n",
       "      <td>2.153558</td>\n",
       "      <td>1</td>\n",
       "      <td>0.00</td>\n",
       "      <td>2.153558</td>\n",
       "    </tr>\n",
       "    <tr>\n",
       "      <th>420</th>\n",
       "      <td>BBG007KHNMS0</td>\n",
       "      <td>financial</td>\n",
       "      <td>0.000000</td>\n",
       "      <td>2.135396</td>\n",
       "      <td>1</td>\n",
       "      <td>0.00</td>\n",
       "      <td>2.135396</td>\n",
       "    </tr>\n",
       "    <tr>\n",
       "      <th>346</th>\n",
       "      <td>BBG00JQC5C47</td>\n",
       "      <td>government</td>\n",
       "      <td>0.000000</td>\n",
       "      <td>2.049043</td>\n",
       "      <td>1</td>\n",
       "      <td>0.00</td>\n",
       "      <td>2.049043</td>\n",
       "    </tr>\n",
       "  </tbody>\n",
       "</table>\n",
       "<p>1136 rows × 7 columns</p>\n",
       "</div>"
      ]
     },
     "execution_count": 40,
     "metadata": {},
     "output_type": "execute_result"
    }
   ],
   "execution_count": 40
  },
  {
   "metadata": {
    "ExecuteTime": {
     "end_time": "2024-11-11T10:50:27.775643Z",
     "start_time": "2024-11-11T10:50:27.760702Z"
    }
   },
   "cell_type": "code",
   "source": "bonds_with_ratings.loc[bonds_with_ratings.rub_price <= 100].sort_values(by=\"sum_of_ratings\", ascending=False)",
   "id": "7ee1e1a5c5d740e0",
   "outputs": [
    {
     "data": {
      "text/plain": [
       "              figi       sector  price_rating  company_rating  lot  rub_price  \\\n",
       "797   TCS00A106VV3  industrials      5.863216        8.181922    1    99.2500   \n",
       "721   TCS00A108VW7    materials      5.832779        8.185184    1    97.5100   \n",
       "739   BBG011DV0155    financial      5.874284        8.136146    1    87.8200   \n",
       "385   TCS00A107UW1       energy      5.798108        8.190037    1    98.5100   \n",
       "202   TCS00A1075S4    financial      5.870291        7.933749    1    99.4900   \n",
       "...            ...          ...           ...             ...  ...        ...   \n",
       "670   BBG01N8LD6P8    materials      2.288492        4.122222    1    74.9998   \n",
       "581   TCS10A109QN4    financial      1.728831        4.588361    1    96.7500   \n",
       "368   TCS00A109KX6    financial      1.295787        4.732142    1    92.0000   \n",
       "1008  TCS10A108Q29    financial      1.894820        4.091795    1    71.8799   \n",
       "990   TCS00A105XG2    financial      1.075155        4.014042    1    75.2000   \n",
       "\n",
       "      sum_of_ratings  \n",
       "797        14.045139  \n",
       "721        14.017963  \n",
       "739        14.010430  \n",
       "385        13.988145  \n",
       "202        13.804040  \n",
       "...              ...  \n",
       "670         6.410714  \n",
       "581         6.317192  \n",
       "368         6.027929  \n",
       "1008        5.986615  \n",
       "990         5.089197  \n",
       "\n",
       "[1025 rows x 7 columns]"
      ],
      "text/html": [
       "<div>\n",
       "<style scoped>\n",
       "    .dataframe tbody tr th:only-of-type {\n",
       "        vertical-align: middle;\n",
       "    }\n",
       "\n",
       "    .dataframe tbody tr th {\n",
       "        vertical-align: top;\n",
       "    }\n",
       "\n",
       "    .dataframe thead th {\n",
       "        text-align: right;\n",
       "    }\n",
       "</style>\n",
       "<table border=\"1\" class=\"dataframe\">\n",
       "  <thead>\n",
       "    <tr style=\"text-align: right;\">\n",
       "      <th></th>\n",
       "      <th>figi</th>\n",
       "      <th>sector</th>\n",
       "      <th>price_rating</th>\n",
       "      <th>company_rating</th>\n",
       "      <th>lot</th>\n",
       "      <th>rub_price</th>\n",
       "      <th>sum_of_ratings</th>\n",
       "    </tr>\n",
       "  </thead>\n",
       "  <tbody>\n",
       "    <tr>\n",
       "      <th>797</th>\n",
       "      <td>TCS00A106VV3</td>\n",
       "      <td>industrials</td>\n",
       "      <td>5.863216</td>\n",
       "      <td>8.181922</td>\n",
       "      <td>1</td>\n",
       "      <td>99.2500</td>\n",
       "      <td>14.045139</td>\n",
       "    </tr>\n",
       "    <tr>\n",
       "      <th>721</th>\n",
       "      <td>TCS00A108VW7</td>\n",
       "      <td>materials</td>\n",
       "      <td>5.832779</td>\n",
       "      <td>8.185184</td>\n",
       "      <td>1</td>\n",
       "      <td>97.5100</td>\n",
       "      <td>14.017963</td>\n",
       "    </tr>\n",
       "    <tr>\n",
       "      <th>739</th>\n",
       "      <td>BBG011DV0155</td>\n",
       "      <td>financial</td>\n",
       "      <td>5.874284</td>\n",
       "      <td>8.136146</td>\n",
       "      <td>1</td>\n",
       "      <td>87.8200</td>\n",
       "      <td>14.010430</td>\n",
       "    </tr>\n",
       "    <tr>\n",
       "      <th>385</th>\n",
       "      <td>TCS00A107UW1</td>\n",
       "      <td>energy</td>\n",
       "      <td>5.798108</td>\n",
       "      <td>8.190037</td>\n",
       "      <td>1</td>\n",
       "      <td>98.5100</td>\n",
       "      <td>13.988145</td>\n",
       "    </tr>\n",
       "    <tr>\n",
       "      <th>202</th>\n",
       "      <td>TCS00A1075S4</td>\n",
       "      <td>financial</td>\n",
       "      <td>5.870291</td>\n",
       "      <td>7.933749</td>\n",
       "      <td>1</td>\n",
       "      <td>99.4900</td>\n",
       "      <td>13.804040</td>\n",
       "    </tr>\n",
       "    <tr>\n",
       "      <th>...</th>\n",
       "      <td>...</td>\n",
       "      <td>...</td>\n",
       "      <td>...</td>\n",
       "      <td>...</td>\n",
       "      <td>...</td>\n",
       "      <td>...</td>\n",
       "      <td>...</td>\n",
       "    </tr>\n",
       "    <tr>\n",
       "      <th>670</th>\n",
       "      <td>BBG01N8LD6P8</td>\n",
       "      <td>materials</td>\n",
       "      <td>2.288492</td>\n",
       "      <td>4.122222</td>\n",
       "      <td>1</td>\n",
       "      <td>74.9998</td>\n",
       "      <td>6.410714</td>\n",
       "    </tr>\n",
       "    <tr>\n",
       "      <th>581</th>\n",
       "      <td>TCS10A109QN4</td>\n",
       "      <td>financial</td>\n",
       "      <td>1.728831</td>\n",
       "      <td>4.588361</td>\n",
       "      <td>1</td>\n",
       "      <td>96.7500</td>\n",
       "      <td>6.317192</td>\n",
       "    </tr>\n",
       "    <tr>\n",
       "      <th>368</th>\n",
       "      <td>TCS00A109KX6</td>\n",
       "      <td>financial</td>\n",
       "      <td>1.295787</td>\n",
       "      <td>4.732142</td>\n",
       "      <td>1</td>\n",
       "      <td>92.0000</td>\n",
       "      <td>6.027929</td>\n",
       "    </tr>\n",
       "    <tr>\n",
       "      <th>1008</th>\n",
       "      <td>TCS10A108Q29</td>\n",
       "      <td>financial</td>\n",
       "      <td>1.894820</td>\n",
       "      <td>4.091795</td>\n",
       "      <td>1</td>\n",
       "      <td>71.8799</td>\n",
       "      <td>5.986615</td>\n",
       "    </tr>\n",
       "    <tr>\n",
       "      <th>990</th>\n",
       "      <td>TCS00A105XG2</td>\n",
       "      <td>financial</td>\n",
       "      <td>1.075155</td>\n",
       "      <td>4.014042</td>\n",
       "      <td>1</td>\n",
       "      <td>75.2000</td>\n",
       "      <td>5.089197</td>\n",
       "    </tr>\n",
       "  </tbody>\n",
       "</table>\n",
       "<p>1025 rows × 7 columns</p>\n",
       "</div>"
      ]
     },
     "execution_count": 82,
     "metadata": {},
     "output_type": "execute_result"
    }
   ],
   "execution_count": 82
  },
  {
   "metadata": {
    "ExecuteTime": {
     "end_time": "2024-11-11T10:49:20.779455Z",
     "start_time": "2024-11-11T10:49:20.749195Z"
    }
   },
   "cell_type": "code",
   "source": [
    "import pandas as pd\n",
    "import math\n",
    "from ortools.algorithms.python import knapsack_solver\n",
    "bonds_with_ratings = bonds_with_ratings.loc[bonds_with_ratings.rub_price > 0]\n",
    "\n",
    "prices = bonds_with_ratings[\"rub_price\"].apply(lambda x: math.ceil(x)).tolist()\n",
    "ratings = bonds_with_ratings[\"sum_of_ratings\"].apply(lambda x: int(x * 10)).tolist()\n",
    "capacity = 100"
   ],
   "id": "f69edf05d8f5e6e3",
   "outputs": [],
   "execution_count": 75
  },
  {
   "metadata": {
    "ExecuteTime": {
     "end_time": "2024-11-11T10:49:21.233177Z",
     "start_time": "2024-11-11T10:49:21.206173Z"
    }
   },
   "cell_type": "code",
   "source": [
    "solver = knapsack_solver.KnapsackSolver(\n",
    "    knapsack_solver.KNAPSACK_DYNAMIC_PROGRAMMING_SOLVER, 'KnapsackBonds'\n",
    ")\n",
    "\n",
    "solver.init(ratings, [prices], [capacity])\n",
    "computed_value = solver.solve()\n",
    "\n",
    "selected_items = []\n",
    "for i in range(len(prices)):\n",
    "    if solver.best_solution_contains(i):\n",
    "        selected_items.append(bonds_with_ratings.iloc[i])\n",
    "\n",
    "portfolio_df = pd.DataFrame(selected_items)\n",
    "print(portfolio_df)"
   ],
   "id": "49f64fc72dfc6416",
   "outputs": [
    {
     "name": "stdout",
     "output_type": "stream",
     "text": [
      "              figi      sector  price_rating  company_rating  lot  rub_price  \\\n",
      "119   TCS70A107SH6    consumer      3.062828        4.512535    1      4.920   \n",
      "335   TCS10A107U40       other      3.317778        4.512263    1      6.170   \n",
      "392   TCS10A1050X7    consumer      3.635257        4.571317    1     13.660   \n",
      "685   TCS70A106U74    consumer      3.391305        4.527559    1      5.700   \n",
      "775   BBG011MLGP84  government      4.128527        5.972519    1     51.537   \n",
      "864   TCS20A105AW7       other      3.847246        4.541151    1      6.500   \n",
      "1083  TCS00A106QS9       other      3.403140        4.528374    1      5.370   \n",
      "\n",
      "      sum_of_ratings  \n",
      "119         7.575363  \n",
      "335         7.830041  \n",
      "392         8.206574  \n",
      "685         7.918864  \n",
      "775        10.101045  \n",
      "864         8.388396  \n",
      "1083        7.931514  \n"
     ]
    }
   ],
   "execution_count": 76
  },
  {
   "metadata": {
    "ExecuteTime": {
     "end_time": "2024-11-11T13:07:56.836909Z",
     "start_time": "2024-11-11T13:07:56.802122Z"
    }
   },
   "cell_type": "code",
   "source": "computed_value",
   "id": "6d27708b693ca73b",
   "outputs": [
    {
     "data": {
      "text/plain": [
       "577"
      ]
     },
     "execution_count": 83,
     "metadata": {},
     "output_type": "execute_result"
    }
   ],
   "execution_count": 83
  },
  {
   "metadata": {
    "ExecuteTime": {
     "end_time": "2024-11-11T10:49:22.199390Z",
     "start_time": "2024-11-11T10:49:22.190429Z"
    }
   },
   "cell_type": "code",
   "source": "portfolio_df.sort_values(by=\"sum_of_ratings\", ascending=False)",
   "id": "fd578ea2f8ce850",
   "outputs": [
    {
     "data": {
      "text/plain": [
       "              figi      sector  price_rating  company_rating  lot  rub_price  \\\n",
       "775   BBG011MLGP84  government      4.128527        5.972519    1     51.537   \n",
       "864   TCS20A105AW7       other      3.847246        4.541151    1      6.500   \n",
       "392   TCS10A1050X7    consumer      3.635257        4.571317    1     13.660   \n",
       "1083  TCS00A106QS9       other      3.403140        4.528374    1      5.370   \n",
       "685   TCS70A106U74    consumer      3.391305        4.527559    1      5.700   \n",
       "335   TCS10A107U40       other      3.317778        4.512263    1      6.170   \n",
       "119   TCS70A107SH6    consumer      3.062828        4.512535    1      4.920   \n",
       "\n",
       "      sum_of_ratings  \n",
       "775        10.101045  \n",
       "864         8.388396  \n",
       "392         8.206574  \n",
       "1083        7.931514  \n",
       "685         7.918864  \n",
       "335         7.830041  \n",
       "119         7.575363  "
      ],
      "text/html": [
       "<div>\n",
       "<style scoped>\n",
       "    .dataframe tbody tr th:only-of-type {\n",
       "        vertical-align: middle;\n",
       "    }\n",
       "\n",
       "    .dataframe tbody tr th {\n",
       "        vertical-align: top;\n",
       "    }\n",
       "\n",
       "    .dataframe thead th {\n",
       "        text-align: right;\n",
       "    }\n",
       "</style>\n",
       "<table border=\"1\" class=\"dataframe\">\n",
       "  <thead>\n",
       "    <tr style=\"text-align: right;\">\n",
       "      <th></th>\n",
       "      <th>figi</th>\n",
       "      <th>sector</th>\n",
       "      <th>price_rating</th>\n",
       "      <th>company_rating</th>\n",
       "      <th>lot</th>\n",
       "      <th>rub_price</th>\n",
       "      <th>sum_of_ratings</th>\n",
       "    </tr>\n",
       "  </thead>\n",
       "  <tbody>\n",
       "    <tr>\n",
       "      <th>775</th>\n",
       "      <td>BBG011MLGP84</td>\n",
       "      <td>government</td>\n",
       "      <td>4.128527</td>\n",
       "      <td>5.972519</td>\n",
       "      <td>1</td>\n",
       "      <td>51.537</td>\n",
       "      <td>10.101045</td>\n",
       "    </tr>\n",
       "    <tr>\n",
       "      <th>864</th>\n",
       "      <td>TCS20A105AW7</td>\n",
       "      <td>other</td>\n",
       "      <td>3.847246</td>\n",
       "      <td>4.541151</td>\n",
       "      <td>1</td>\n",
       "      <td>6.500</td>\n",
       "      <td>8.388396</td>\n",
       "    </tr>\n",
       "    <tr>\n",
       "      <th>392</th>\n",
       "      <td>TCS10A1050X7</td>\n",
       "      <td>consumer</td>\n",
       "      <td>3.635257</td>\n",
       "      <td>4.571317</td>\n",
       "      <td>1</td>\n",
       "      <td>13.660</td>\n",
       "      <td>8.206574</td>\n",
       "    </tr>\n",
       "    <tr>\n",
       "      <th>1083</th>\n",
       "      <td>TCS00A106QS9</td>\n",
       "      <td>other</td>\n",
       "      <td>3.403140</td>\n",
       "      <td>4.528374</td>\n",
       "      <td>1</td>\n",
       "      <td>5.370</td>\n",
       "      <td>7.931514</td>\n",
       "    </tr>\n",
       "    <tr>\n",
       "      <th>685</th>\n",
       "      <td>TCS70A106U74</td>\n",
       "      <td>consumer</td>\n",
       "      <td>3.391305</td>\n",
       "      <td>4.527559</td>\n",
       "      <td>1</td>\n",
       "      <td>5.700</td>\n",
       "      <td>7.918864</td>\n",
       "    </tr>\n",
       "    <tr>\n",
       "      <th>335</th>\n",
       "      <td>TCS10A107U40</td>\n",
       "      <td>other</td>\n",
       "      <td>3.317778</td>\n",
       "      <td>4.512263</td>\n",
       "      <td>1</td>\n",
       "      <td>6.170</td>\n",
       "      <td>7.830041</td>\n",
       "    </tr>\n",
       "    <tr>\n",
       "      <th>119</th>\n",
       "      <td>TCS70A107SH6</td>\n",
       "      <td>consumer</td>\n",
       "      <td>3.062828</td>\n",
       "      <td>4.512535</td>\n",
       "      <td>1</td>\n",
       "      <td>4.920</td>\n",
       "      <td>7.575363</td>\n",
       "    </tr>\n",
       "  </tbody>\n",
       "</table>\n",
       "</div>"
      ]
     },
     "execution_count": 77,
     "metadata": {},
     "output_type": "execute_result"
    }
   ],
   "execution_count": 77
  },
  {
   "metadata": {
    "ExecuteTime": {
     "end_time": "2024-11-11T10:49:23.615361Z",
     "start_time": "2024-11-11T10:49:23.612108Z"
    }
   },
   "cell_type": "code",
   "source": "import plotly.express as px",
   "id": "45814506042fa1dc",
   "outputs": [],
   "execution_count": 78
  },
  {
   "metadata": {
    "ExecuteTime": {
     "end_time": "2024-11-11T10:49:24.520983Z",
     "start_time": "2024-11-11T10:49:24.488502Z"
    }
   },
   "cell_type": "code",
   "source": "px.pie(data_frame=portfolio_df, names='sector')",
   "id": "2352481abdb4545e",
   "outputs": [
    {
     "data": {
      "application/vnd.plotly.v1+json": {
       "data": [
        {
         "domain": {
          "x": [
           0.0,
           1.0
          ],
          "y": [
           0.0,
           1.0
          ]
         },
         "hovertemplate": "sector=%{label}<extra></extra>",
         "labels": [
          "consumer",
          "other",
          "consumer",
          "consumer",
          "government",
          "other",
          "other"
         ],
         "legendgroup": "",
         "name": "",
         "showlegend": true,
         "type": "pie"
        }
       ],
       "layout": {
        "template": {
         "data": {
          "histogram2dcontour": [
           {
            "type": "histogram2dcontour",
            "colorbar": {
             "outlinewidth": 0,
             "ticks": ""
            },
            "colorscale": [
             [
              0.0,
              "#0d0887"
             ],
             [
              0.1111111111111111,
              "#46039f"
             ],
             [
              0.2222222222222222,
              "#7201a8"
             ],
             [
              0.3333333333333333,
              "#9c179e"
             ],
             [
              0.4444444444444444,
              "#bd3786"
             ],
             [
              0.5555555555555556,
              "#d8576b"
             ],
             [
              0.6666666666666666,
              "#ed7953"
             ],
             [
              0.7777777777777778,
              "#fb9f3a"
             ],
             [
              0.8888888888888888,
              "#fdca26"
             ],
             [
              1.0,
              "#f0f921"
             ]
            ]
           }
          ],
          "choropleth": [
           {
            "type": "choropleth",
            "colorbar": {
             "outlinewidth": 0,
             "ticks": ""
            }
           }
          ],
          "histogram2d": [
           {
            "type": "histogram2d",
            "colorbar": {
             "outlinewidth": 0,
             "ticks": ""
            },
            "colorscale": [
             [
              0.0,
              "#0d0887"
             ],
             [
              0.1111111111111111,
              "#46039f"
             ],
             [
              0.2222222222222222,
              "#7201a8"
             ],
             [
              0.3333333333333333,
              "#9c179e"
             ],
             [
              0.4444444444444444,
              "#bd3786"
             ],
             [
              0.5555555555555556,
              "#d8576b"
             ],
             [
              0.6666666666666666,
              "#ed7953"
             ],
             [
              0.7777777777777778,
              "#fb9f3a"
             ],
             [
              0.8888888888888888,
              "#fdca26"
             ],
             [
              1.0,
              "#f0f921"
             ]
            ]
           }
          ],
          "heatmap": [
           {
            "type": "heatmap",
            "colorbar": {
             "outlinewidth": 0,
             "ticks": ""
            },
            "colorscale": [
             [
              0.0,
              "#0d0887"
             ],
             [
              0.1111111111111111,
              "#46039f"
             ],
             [
              0.2222222222222222,
              "#7201a8"
             ],
             [
              0.3333333333333333,
              "#9c179e"
             ],
             [
              0.4444444444444444,
              "#bd3786"
             ],
             [
              0.5555555555555556,
              "#d8576b"
             ],
             [
              0.6666666666666666,
              "#ed7953"
             ],
             [
              0.7777777777777778,
              "#fb9f3a"
             ],
             [
              0.8888888888888888,
              "#fdca26"
             ],
             [
              1.0,
              "#f0f921"
             ]
            ]
           }
          ],
          "heatmapgl": [
           {
            "type": "heatmapgl",
            "colorbar": {
             "outlinewidth": 0,
             "ticks": ""
            },
            "colorscale": [
             [
              0.0,
              "#0d0887"
             ],
             [
              0.1111111111111111,
              "#46039f"
             ],
             [
              0.2222222222222222,
              "#7201a8"
             ],
             [
              0.3333333333333333,
              "#9c179e"
             ],
             [
              0.4444444444444444,
              "#bd3786"
             ],
             [
              0.5555555555555556,
              "#d8576b"
             ],
             [
              0.6666666666666666,
              "#ed7953"
             ],
             [
              0.7777777777777778,
              "#fb9f3a"
             ],
             [
              0.8888888888888888,
              "#fdca26"
             ],
             [
              1.0,
              "#f0f921"
             ]
            ]
           }
          ],
          "contourcarpet": [
           {
            "type": "contourcarpet",
            "colorbar": {
             "outlinewidth": 0,
             "ticks": ""
            }
           }
          ],
          "contour": [
           {
            "type": "contour",
            "colorbar": {
             "outlinewidth": 0,
             "ticks": ""
            },
            "colorscale": [
             [
              0.0,
              "#0d0887"
             ],
             [
              0.1111111111111111,
              "#46039f"
             ],
             [
              0.2222222222222222,
              "#7201a8"
             ],
             [
              0.3333333333333333,
              "#9c179e"
             ],
             [
              0.4444444444444444,
              "#bd3786"
             ],
             [
              0.5555555555555556,
              "#d8576b"
             ],
             [
              0.6666666666666666,
              "#ed7953"
             ],
             [
              0.7777777777777778,
              "#fb9f3a"
             ],
             [
              0.8888888888888888,
              "#fdca26"
             ],
             [
              1.0,
              "#f0f921"
             ]
            ]
           }
          ],
          "surface": [
           {
            "type": "surface",
            "colorbar": {
             "outlinewidth": 0,
             "ticks": ""
            },
            "colorscale": [
             [
              0.0,
              "#0d0887"
             ],
             [
              0.1111111111111111,
              "#46039f"
             ],
             [
              0.2222222222222222,
              "#7201a8"
             ],
             [
              0.3333333333333333,
              "#9c179e"
             ],
             [
              0.4444444444444444,
              "#bd3786"
             ],
             [
              0.5555555555555556,
              "#d8576b"
             ],
             [
              0.6666666666666666,
              "#ed7953"
             ],
             [
              0.7777777777777778,
              "#fb9f3a"
             ],
             [
              0.8888888888888888,
              "#fdca26"
             ],
             [
              1.0,
              "#f0f921"
             ]
            ]
           }
          ],
          "mesh3d": [
           {
            "type": "mesh3d",
            "colorbar": {
             "outlinewidth": 0,
             "ticks": ""
            }
           }
          ],
          "scatter": [
           {
            "marker": {
             "line": {
              "color": "#283442"
             }
            },
            "type": "scatter"
           }
          ],
          "parcoords": [
           {
            "type": "parcoords",
            "line": {
             "colorbar": {
              "outlinewidth": 0,
              "ticks": ""
             }
            }
           }
          ],
          "scatterpolargl": [
           {
            "type": "scatterpolargl",
            "marker": {
             "colorbar": {
              "outlinewidth": 0,
              "ticks": ""
             }
            }
           }
          ],
          "bar": [
           {
            "error_x": {
             "color": "#f2f5fa"
            },
            "error_y": {
             "color": "#f2f5fa"
            },
            "marker": {
             "line": {
              "color": "rgb(17,17,17)",
              "width": 0.5
             },
             "pattern": {
              "fillmode": "overlay",
              "size": 10,
              "solidity": 0.2
             }
            },
            "type": "bar"
           }
          ],
          "scattergeo": [
           {
            "type": "scattergeo",
            "marker": {
             "colorbar": {
              "outlinewidth": 0,
              "ticks": ""
             }
            }
           }
          ],
          "scatterpolar": [
           {
            "type": "scatterpolar",
            "marker": {
             "colorbar": {
              "outlinewidth": 0,
              "ticks": ""
             }
            }
           }
          ],
          "histogram": [
           {
            "marker": {
             "pattern": {
              "fillmode": "overlay",
              "size": 10,
              "solidity": 0.2
             }
            },
            "type": "histogram"
           }
          ],
          "scattergl": [
           {
            "marker": {
             "line": {
              "color": "#283442"
             }
            },
            "type": "scattergl"
           }
          ],
          "scatter3d": [
           {
            "type": "scatter3d",
            "line": {
             "colorbar": {
              "outlinewidth": 0,
              "ticks": ""
             }
            },
            "marker": {
             "colorbar": {
              "outlinewidth": 0,
              "ticks": ""
             }
            }
           }
          ],
          "scattermapbox": [
           {
            "type": "scattermapbox",
            "marker": {
             "colorbar": {
              "outlinewidth": 0,
              "ticks": ""
             }
            }
           }
          ],
          "scatterternary": [
           {
            "type": "scatterternary",
            "marker": {
             "colorbar": {
              "outlinewidth": 0,
              "ticks": ""
             }
            }
           }
          ],
          "scattercarpet": [
           {
            "type": "scattercarpet",
            "marker": {
             "colorbar": {
              "outlinewidth": 0,
              "ticks": ""
             }
            }
           }
          ],
          "carpet": [
           {
            "aaxis": {
             "endlinecolor": "#A2B1C6",
             "gridcolor": "#506784",
             "linecolor": "#506784",
             "minorgridcolor": "#506784",
             "startlinecolor": "#A2B1C6"
            },
            "baxis": {
             "endlinecolor": "#A2B1C6",
             "gridcolor": "#506784",
             "linecolor": "#506784",
             "minorgridcolor": "#506784",
             "startlinecolor": "#A2B1C6"
            },
            "type": "carpet"
           }
          ],
          "table": [
           {
            "cells": {
             "fill": {
              "color": "#506784"
             },
             "line": {
              "color": "rgb(17,17,17)"
             }
            },
            "header": {
             "fill": {
              "color": "#2a3f5f"
             },
             "line": {
              "color": "rgb(17,17,17)"
             }
            },
            "type": "table"
           }
          ],
          "barpolar": [
           {
            "marker": {
             "line": {
              "color": "rgb(17,17,17)",
              "width": 0.5
             },
             "pattern": {
              "fillmode": "overlay",
              "size": 10,
              "solidity": 0.2
             }
            },
            "type": "barpolar"
           }
          ],
          "pie": [
           {
            "automargin": true,
            "type": "pie"
           }
          ]
         },
         "layout": {
          "autotypenumbers": "strict",
          "colorway": [
           "#636efa",
           "#EF553B",
           "#00cc96",
           "#ab63fa",
           "#FFA15A",
           "#19d3f3",
           "#FF6692",
           "#B6E880",
           "#FF97FF",
           "#FECB52"
          ],
          "font": {
           "color": "#f2f5fa"
          },
          "hovermode": "closest",
          "hoverlabel": {
           "align": "left"
          },
          "paper_bgcolor": "rgb(17,17,17)",
          "plot_bgcolor": "rgb(17,17,17)",
          "polar": {
           "bgcolor": "rgb(17,17,17)",
           "angularaxis": {
            "gridcolor": "#506784",
            "linecolor": "#506784",
            "ticks": ""
           },
           "radialaxis": {
            "gridcolor": "#506784",
            "linecolor": "#506784",
            "ticks": ""
           }
          },
          "ternary": {
           "bgcolor": "rgb(17,17,17)",
           "aaxis": {
            "gridcolor": "#506784",
            "linecolor": "#506784",
            "ticks": ""
           },
           "baxis": {
            "gridcolor": "#506784",
            "linecolor": "#506784",
            "ticks": ""
           },
           "caxis": {
            "gridcolor": "#506784",
            "linecolor": "#506784",
            "ticks": ""
           }
          },
          "coloraxis": {
           "colorbar": {
            "outlinewidth": 0,
            "ticks": ""
           }
          },
          "colorscale": {
           "sequential": [
            [
             0.0,
             "#0d0887"
            ],
            [
             0.1111111111111111,
             "#46039f"
            ],
            [
             0.2222222222222222,
             "#7201a8"
            ],
            [
             0.3333333333333333,
             "#9c179e"
            ],
            [
             0.4444444444444444,
             "#bd3786"
            ],
            [
             0.5555555555555556,
             "#d8576b"
            ],
            [
             0.6666666666666666,
             "#ed7953"
            ],
            [
             0.7777777777777778,
             "#fb9f3a"
            ],
            [
             0.8888888888888888,
             "#fdca26"
            ],
            [
             1.0,
             "#f0f921"
            ]
           ],
           "sequentialminus": [
            [
             0.0,
             "#0d0887"
            ],
            [
             0.1111111111111111,
             "#46039f"
            ],
            [
             0.2222222222222222,
             "#7201a8"
            ],
            [
             0.3333333333333333,
             "#9c179e"
            ],
            [
             0.4444444444444444,
             "#bd3786"
            ],
            [
             0.5555555555555556,
             "#d8576b"
            ],
            [
             0.6666666666666666,
             "#ed7953"
            ],
            [
             0.7777777777777778,
             "#fb9f3a"
            ],
            [
             0.8888888888888888,
             "#fdca26"
            ],
            [
             1.0,
             "#f0f921"
            ]
           ],
           "diverging": [
            [
             0,
             "#8e0152"
            ],
            [
             0.1,
             "#c51b7d"
            ],
            [
             0.2,
             "#de77ae"
            ],
            [
             0.3,
             "#f1b6da"
            ],
            [
             0.4,
             "#fde0ef"
            ],
            [
             0.5,
             "#f7f7f7"
            ],
            [
             0.6,
             "#e6f5d0"
            ],
            [
             0.7,
             "#b8e186"
            ],
            [
             0.8,
             "#7fbc41"
            ],
            [
             0.9,
             "#4d9221"
            ],
            [
             1,
             "#276419"
            ]
           ]
          },
          "xaxis": {
           "gridcolor": "#283442",
           "linecolor": "#506784",
           "ticks": "",
           "title": {
            "standoff": 15
           },
           "zerolinecolor": "#283442",
           "automargin": true,
           "zerolinewidth": 2
          },
          "yaxis": {
           "gridcolor": "#283442",
           "linecolor": "#506784",
           "ticks": "",
           "title": {
            "standoff": 15
           },
           "zerolinecolor": "#283442",
           "automargin": true,
           "zerolinewidth": 2
          },
          "scene": {
           "xaxis": {
            "backgroundcolor": "rgb(17,17,17)",
            "gridcolor": "#506784",
            "linecolor": "#506784",
            "showbackground": true,
            "ticks": "",
            "zerolinecolor": "#C8D4E3",
            "gridwidth": 2
           },
           "yaxis": {
            "backgroundcolor": "rgb(17,17,17)",
            "gridcolor": "#506784",
            "linecolor": "#506784",
            "showbackground": true,
            "ticks": "",
            "zerolinecolor": "#C8D4E3",
            "gridwidth": 2
           },
           "zaxis": {
            "backgroundcolor": "rgb(17,17,17)",
            "gridcolor": "#506784",
            "linecolor": "#506784",
            "showbackground": true,
            "ticks": "",
            "zerolinecolor": "#C8D4E3",
            "gridwidth": 2
           }
          },
          "shapedefaults": {
           "line": {
            "color": "#f2f5fa"
           }
          },
          "annotationdefaults": {
           "arrowcolor": "#f2f5fa",
           "arrowhead": 0,
           "arrowwidth": 1
          },
          "geo": {
           "bgcolor": "rgb(17,17,17)",
           "landcolor": "rgb(17,17,17)",
           "subunitcolor": "#506784",
           "showland": true,
           "showlakes": true,
           "lakecolor": "rgb(17,17,17)"
          },
          "title": {
           "x": 0.05
          },
          "updatemenudefaults": {
           "bgcolor": "#506784",
           "borderwidth": 0
          },
          "sliderdefaults": {
           "bgcolor": "#C8D4E3",
           "borderwidth": 1,
           "bordercolor": "rgb(17,17,17)",
           "tickwidth": 0
          },
          "mapbox": {
           "style": "dark"
          }
         }
        },
        "legend": {
         "tracegroupgap": 0
        },
        "margin": {
         "t": 60
        }
       },
       "config": {
        "plotlyServerURL": "https://plot.ly"
       }
      },
      "text/html": [
       "<div>                            <div id=\"d608b9aa-b9c8-4185-a575-b21bea26dacc\" class=\"plotly-graph-div\" style=\"height:525px; width:100%;\"></div>            <script type=\"text/javascript\">                require([\"plotly\"], function(Plotly) {                    window.PLOTLYENV=window.PLOTLYENV || {};                                    if (document.getElementById(\"d608b9aa-b9c8-4185-a575-b21bea26dacc\")) {                    Plotly.newPlot(                        \"d608b9aa-b9c8-4185-a575-b21bea26dacc\",                        [{\"domain\":{\"x\":[0.0,1.0],\"y\":[0.0,1.0]},\"hovertemplate\":\"sector=%{label}<extra></extra>\",\"labels\":[\"consumer\",\"other\",\"consumer\",\"consumer\",\"government\",\"other\",\"other\"],\"legendgroup\":\"\",\"name\":\"\",\"showlegend\":true,\"type\":\"pie\"}],                        {\"template\":{\"data\":{\"histogram2dcontour\":[{\"type\":\"histogram2dcontour\",\"colorbar\":{\"outlinewidth\":0,\"ticks\":\"\"},\"colorscale\":[[0.0,\"#0d0887\"],[0.1111111111111111,\"#46039f\"],[0.2222222222222222,\"#7201a8\"],[0.3333333333333333,\"#9c179e\"],[0.4444444444444444,\"#bd3786\"],[0.5555555555555556,\"#d8576b\"],[0.6666666666666666,\"#ed7953\"],[0.7777777777777778,\"#fb9f3a\"],[0.8888888888888888,\"#fdca26\"],[1.0,\"#f0f921\"]]}],\"choropleth\":[{\"type\":\"choropleth\",\"colorbar\":{\"outlinewidth\":0,\"ticks\":\"\"}}],\"histogram2d\":[{\"type\":\"histogram2d\",\"colorbar\":{\"outlinewidth\":0,\"ticks\":\"\"},\"colorscale\":[[0.0,\"#0d0887\"],[0.1111111111111111,\"#46039f\"],[0.2222222222222222,\"#7201a8\"],[0.3333333333333333,\"#9c179e\"],[0.4444444444444444,\"#bd3786\"],[0.5555555555555556,\"#d8576b\"],[0.6666666666666666,\"#ed7953\"],[0.7777777777777778,\"#fb9f3a\"],[0.8888888888888888,\"#fdca26\"],[1.0,\"#f0f921\"]]}],\"heatmap\":[{\"type\":\"heatmap\",\"colorbar\":{\"outlinewidth\":0,\"ticks\":\"\"},\"colorscale\":[[0.0,\"#0d0887\"],[0.1111111111111111,\"#46039f\"],[0.2222222222222222,\"#7201a8\"],[0.3333333333333333,\"#9c179e\"],[0.4444444444444444,\"#bd3786\"],[0.5555555555555556,\"#d8576b\"],[0.6666666666666666,\"#ed7953\"],[0.7777777777777778,\"#fb9f3a\"],[0.8888888888888888,\"#fdca26\"],[1.0,\"#f0f921\"]]}],\"heatmapgl\":[{\"type\":\"heatmapgl\",\"colorbar\":{\"outlinewidth\":0,\"ticks\":\"\"},\"colorscale\":[[0.0,\"#0d0887\"],[0.1111111111111111,\"#46039f\"],[0.2222222222222222,\"#7201a8\"],[0.3333333333333333,\"#9c179e\"],[0.4444444444444444,\"#bd3786\"],[0.5555555555555556,\"#d8576b\"],[0.6666666666666666,\"#ed7953\"],[0.7777777777777778,\"#fb9f3a\"],[0.8888888888888888,\"#fdca26\"],[1.0,\"#f0f921\"]]}],\"contourcarpet\":[{\"type\":\"contourcarpet\",\"colorbar\":{\"outlinewidth\":0,\"ticks\":\"\"}}],\"contour\":[{\"type\":\"contour\",\"colorbar\":{\"outlinewidth\":0,\"ticks\":\"\"},\"colorscale\":[[0.0,\"#0d0887\"],[0.1111111111111111,\"#46039f\"],[0.2222222222222222,\"#7201a8\"],[0.3333333333333333,\"#9c179e\"],[0.4444444444444444,\"#bd3786\"],[0.5555555555555556,\"#d8576b\"],[0.6666666666666666,\"#ed7953\"],[0.7777777777777778,\"#fb9f3a\"],[0.8888888888888888,\"#fdca26\"],[1.0,\"#f0f921\"]]}],\"surface\":[{\"type\":\"surface\",\"colorbar\":{\"outlinewidth\":0,\"ticks\":\"\"},\"colorscale\":[[0.0,\"#0d0887\"],[0.1111111111111111,\"#46039f\"],[0.2222222222222222,\"#7201a8\"],[0.3333333333333333,\"#9c179e\"],[0.4444444444444444,\"#bd3786\"],[0.5555555555555556,\"#d8576b\"],[0.6666666666666666,\"#ed7953\"],[0.7777777777777778,\"#fb9f3a\"],[0.8888888888888888,\"#fdca26\"],[1.0,\"#f0f921\"]]}],\"mesh3d\":[{\"type\":\"mesh3d\",\"colorbar\":{\"outlinewidth\":0,\"ticks\":\"\"}}],\"scatter\":[{\"marker\":{\"line\":{\"color\":\"#283442\"}},\"type\":\"scatter\"}],\"parcoords\":[{\"type\":\"parcoords\",\"line\":{\"colorbar\":{\"outlinewidth\":0,\"ticks\":\"\"}}}],\"scatterpolargl\":[{\"type\":\"scatterpolargl\",\"marker\":{\"colorbar\":{\"outlinewidth\":0,\"ticks\":\"\"}}}],\"bar\":[{\"error_x\":{\"color\":\"#f2f5fa\"},\"error_y\":{\"color\":\"#f2f5fa\"},\"marker\":{\"line\":{\"color\":\"rgb(17,17,17)\",\"width\":0.5},\"pattern\":{\"fillmode\":\"overlay\",\"size\":10,\"solidity\":0.2}},\"type\":\"bar\"}],\"scattergeo\":[{\"type\":\"scattergeo\",\"marker\":{\"colorbar\":{\"outlinewidth\":0,\"ticks\":\"\"}}}],\"scatterpolar\":[{\"type\":\"scatterpolar\",\"marker\":{\"colorbar\":{\"outlinewidth\":0,\"ticks\":\"\"}}}],\"histogram\":[{\"marker\":{\"pattern\":{\"fillmode\":\"overlay\",\"size\":10,\"solidity\":0.2}},\"type\":\"histogram\"}],\"scattergl\":[{\"marker\":{\"line\":{\"color\":\"#283442\"}},\"type\":\"scattergl\"}],\"scatter3d\":[{\"type\":\"scatter3d\",\"line\":{\"colorbar\":{\"outlinewidth\":0,\"ticks\":\"\"}},\"marker\":{\"colorbar\":{\"outlinewidth\":0,\"ticks\":\"\"}}}],\"scattermapbox\":[{\"type\":\"scattermapbox\",\"marker\":{\"colorbar\":{\"outlinewidth\":0,\"ticks\":\"\"}}}],\"scatterternary\":[{\"type\":\"scatterternary\",\"marker\":{\"colorbar\":{\"outlinewidth\":0,\"ticks\":\"\"}}}],\"scattercarpet\":[{\"type\":\"scattercarpet\",\"marker\":{\"colorbar\":{\"outlinewidth\":0,\"ticks\":\"\"}}}],\"carpet\":[{\"aaxis\":{\"endlinecolor\":\"#A2B1C6\",\"gridcolor\":\"#506784\",\"linecolor\":\"#506784\",\"minorgridcolor\":\"#506784\",\"startlinecolor\":\"#A2B1C6\"},\"baxis\":{\"endlinecolor\":\"#A2B1C6\",\"gridcolor\":\"#506784\",\"linecolor\":\"#506784\",\"minorgridcolor\":\"#506784\",\"startlinecolor\":\"#A2B1C6\"},\"type\":\"carpet\"}],\"table\":[{\"cells\":{\"fill\":{\"color\":\"#506784\"},\"line\":{\"color\":\"rgb(17,17,17)\"}},\"header\":{\"fill\":{\"color\":\"#2a3f5f\"},\"line\":{\"color\":\"rgb(17,17,17)\"}},\"type\":\"table\"}],\"barpolar\":[{\"marker\":{\"line\":{\"color\":\"rgb(17,17,17)\",\"width\":0.5},\"pattern\":{\"fillmode\":\"overlay\",\"size\":10,\"solidity\":0.2}},\"type\":\"barpolar\"}],\"pie\":[{\"automargin\":true,\"type\":\"pie\"}]},\"layout\":{\"autotypenumbers\":\"strict\",\"colorway\":[\"#636efa\",\"#EF553B\",\"#00cc96\",\"#ab63fa\",\"#FFA15A\",\"#19d3f3\",\"#FF6692\",\"#B6E880\",\"#FF97FF\",\"#FECB52\"],\"font\":{\"color\":\"#f2f5fa\"},\"hovermode\":\"closest\",\"hoverlabel\":{\"align\":\"left\"},\"paper_bgcolor\":\"rgb(17,17,17)\",\"plot_bgcolor\":\"rgb(17,17,17)\",\"polar\":{\"bgcolor\":\"rgb(17,17,17)\",\"angularaxis\":{\"gridcolor\":\"#506784\",\"linecolor\":\"#506784\",\"ticks\":\"\"},\"radialaxis\":{\"gridcolor\":\"#506784\",\"linecolor\":\"#506784\",\"ticks\":\"\"}},\"ternary\":{\"bgcolor\":\"rgb(17,17,17)\",\"aaxis\":{\"gridcolor\":\"#506784\",\"linecolor\":\"#506784\",\"ticks\":\"\"},\"baxis\":{\"gridcolor\":\"#506784\",\"linecolor\":\"#506784\",\"ticks\":\"\"},\"caxis\":{\"gridcolor\":\"#506784\",\"linecolor\":\"#506784\",\"ticks\":\"\"}},\"coloraxis\":{\"colorbar\":{\"outlinewidth\":0,\"ticks\":\"\"}},\"colorscale\":{\"sequential\":[[0.0,\"#0d0887\"],[0.1111111111111111,\"#46039f\"],[0.2222222222222222,\"#7201a8\"],[0.3333333333333333,\"#9c179e\"],[0.4444444444444444,\"#bd3786\"],[0.5555555555555556,\"#d8576b\"],[0.6666666666666666,\"#ed7953\"],[0.7777777777777778,\"#fb9f3a\"],[0.8888888888888888,\"#fdca26\"],[1.0,\"#f0f921\"]],\"sequentialminus\":[[0.0,\"#0d0887\"],[0.1111111111111111,\"#46039f\"],[0.2222222222222222,\"#7201a8\"],[0.3333333333333333,\"#9c179e\"],[0.4444444444444444,\"#bd3786\"],[0.5555555555555556,\"#d8576b\"],[0.6666666666666666,\"#ed7953\"],[0.7777777777777778,\"#fb9f3a\"],[0.8888888888888888,\"#fdca26\"],[1.0,\"#f0f921\"]],\"diverging\":[[0,\"#8e0152\"],[0.1,\"#c51b7d\"],[0.2,\"#de77ae\"],[0.3,\"#f1b6da\"],[0.4,\"#fde0ef\"],[0.5,\"#f7f7f7\"],[0.6,\"#e6f5d0\"],[0.7,\"#b8e186\"],[0.8,\"#7fbc41\"],[0.9,\"#4d9221\"],[1,\"#276419\"]]},\"xaxis\":{\"gridcolor\":\"#283442\",\"linecolor\":\"#506784\",\"ticks\":\"\",\"title\":{\"standoff\":15},\"zerolinecolor\":\"#283442\",\"automargin\":true,\"zerolinewidth\":2},\"yaxis\":{\"gridcolor\":\"#283442\",\"linecolor\":\"#506784\",\"ticks\":\"\",\"title\":{\"standoff\":15},\"zerolinecolor\":\"#283442\",\"automargin\":true,\"zerolinewidth\":2},\"scene\":{\"xaxis\":{\"backgroundcolor\":\"rgb(17,17,17)\",\"gridcolor\":\"#506784\",\"linecolor\":\"#506784\",\"showbackground\":true,\"ticks\":\"\",\"zerolinecolor\":\"#C8D4E3\",\"gridwidth\":2},\"yaxis\":{\"backgroundcolor\":\"rgb(17,17,17)\",\"gridcolor\":\"#506784\",\"linecolor\":\"#506784\",\"showbackground\":true,\"ticks\":\"\",\"zerolinecolor\":\"#C8D4E3\",\"gridwidth\":2},\"zaxis\":{\"backgroundcolor\":\"rgb(17,17,17)\",\"gridcolor\":\"#506784\",\"linecolor\":\"#506784\",\"showbackground\":true,\"ticks\":\"\",\"zerolinecolor\":\"#C8D4E3\",\"gridwidth\":2}},\"shapedefaults\":{\"line\":{\"color\":\"#f2f5fa\"}},\"annotationdefaults\":{\"arrowcolor\":\"#f2f5fa\",\"arrowhead\":0,\"arrowwidth\":1},\"geo\":{\"bgcolor\":\"rgb(17,17,17)\",\"landcolor\":\"rgb(17,17,17)\",\"subunitcolor\":\"#506784\",\"showland\":true,\"showlakes\":true,\"lakecolor\":\"rgb(17,17,17)\"},\"title\":{\"x\":0.05},\"updatemenudefaults\":{\"bgcolor\":\"#506784\",\"borderwidth\":0},\"sliderdefaults\":{\"bgcolor\":\"#C8D4E3\",\"borderwidth\":1,\"bordercolor\":\"rgb(17,17,17)\",\"tickwidth\":0},\"mapbox\":{\"style\":\"dark\"}}},\"legend\":{\"tracegroupgap\":0},\"margin\":{\"t\":60}},                        {\"responsive\": true}                    ).then(function(){\n",
       "                            \n",
       "var gd = document.getElementById('d608b9aa-b9c8-4185-a575-b21bea26dacc');\n",
       "var x = new MutationObserver(function (mutations, observer) {{\n",
       "        var display = window.getComputedStyle(gd).display;\n",
       "        if (!display || display === 'none') {{\n",
       "            console.log([gd, 'removed!']);\n",
       "            Plotly.purge(gd);\n",
       "            observer.disconnect();\n",
       "        }}\n",
       "}});\n",
       "\n",
       "// Listen for the removal of the full notebook cells\n",
       "var notebookContainer = gd.closest('#notebook-container');\n",
       "if (notebookContainer) {{\n",
       "    x.observe(notebookContainer, {childList: true});\n",
       "}}\n",
       "\n",
       "// Listen for the clearing of the current output cell\n",
       "var outputEl = gd.closest('.output');\n",
       "if (outputEl) {{\n",
       "    x.observe(outputEl, {childList: true});\n",
       "}}\n",
       "\n",
       "                        })                };                });            </script>        </div>"
      ]
     },
     "metadata": {},
     "output_type": "display_data"
    }
   ],
   "execution_count": 79
  },
  {
   "metadata": {},
   "cell_type": "code",
   "outputs": [],
   "execution_count": null,
   "source": "",
   "id": "dad04ad0de46fbae"
  }
 ],
 "metadata": {
  "kernelspec": {
   "display_name": "Python 3",
   "language": "python",
   "name": "python3"
  },
  "language_info": {
   "codemirror_mode": {
    "name": "ipython",
    "version": 2
   },
   "file_extension": ".py",
   "mimetype": "text/x-python",
   "name": "python",
   "nbconvert_exporter": "python",
   "pygments_lexer": "ipython2",
   "version": "2.7.6"
  }
 },
 "nbformat": 4,
 "nbformat_minor": 5
}
