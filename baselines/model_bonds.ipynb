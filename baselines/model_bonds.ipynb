{
 "cells": [
  {
   "cell_type": "code",
   "id": "initial_id",
   "metadata": {
    "collapsed": true,
    "ExecuteTime": {
     "end_time": "2024-11-18T14:59:01.234315Z",
     "start_time": "2024-11-18T14:59:01.214537Z"
    }
   },
   "source": [
    "import pandas as pd\n",
    "import numpy as np\n",
    "\n",
    "from sklearn.preprocessing import OneHotEncoder\n",
    "from sklearn.ensemble import RandomForestRegressor\n",
    "from sklearn.model_selection import train_test_split\n",
    "from sklearn.preprocessing import StandardScaler\n",
    "from sklearn.metrics import classification_report, r2_score, mean_squared_error, mean_absolute_error\n",
    "from sklearn.linear_model import Ridge, LinearRegression"
   ],
   "outputs": [],
   "execution_count": 236
  },
  {
   "metadata": {
    "ExecuteTime": {
     "end_time": "2024-11-18T14:13:39.209545Z",
     "start_time": "2024-11-18T14:13:39.197521Z"
    }
   },
   "cell_type": "code",
   "source": "train_bonds_data = pd.read_csv(\"../api/.cache2/bonds.csv\")",
   "id": "10e7ce37e730d026",
   "outputs": [],
   "execution_count": 7
  },
  {
   "metadata": {
    "ExecuteTime": {
     "end_time": "2024-11-18T14:13:39.292435Z",
     "start_time": "2024-11-18T14:13:39.284167Z"
    }
   },
   "cell_type": "code",
   "source": "new_bonds = pd.read_csv('../api/.cache/bonds.csv')",
   "id": "1524dda00ad303cc",
   "outputs": [],
   "execution_count": 8
  },
  {
   "metadata": {
    "ExecuteTime": {
     "end_time": "2024-11-18T14:13:39.444676Z",
     "start_time": "2024-11-18T14:13:39.439994Z"
    }
   },
   "cell_type": "code",
   "source": "prices = {figi: price for figi, price in new_bonds[[\"figi\", \"candle_price\"]].values}",
   "id": "d484dd64d55d325a",
   "outputs": [],
   "execution_count": 9
  },
  {
   "metadata": {
    "ExecuteTime": {
     "end_time": "2024-11-18T14:13:39.859985Z",
     "start_time": "2024-11-18T14:13:39.858083Z"
    }
   },
   "cell_type": "code",
   "source": [
    "def validate_prices(old_price, new_price):\n",
    "    return new_price - old_price"
   ],
   "id": "32a0ef6014b177bf",
   "outputs": [],
   "execution_count": 10
  },
  {
   "metadata": {
    "ExecuteTime": {
     "end_time": "2024-11-18T14:16:06.597685Z",
     "start_time": "2024-11-18T14:16:06.591450Z"
    }
   },
   "cell_type": "code",
   "source": [
    "def transform_bonds_data(dataset: pd.DataFrame):\n",
    "    new_dataset = dataset.drop([\"ticker\", \"isin\"], axis=1)\n",
    "    new_dataset.maturity_date = pd.to_datetime(new_dataset.maturity_date, format=\"%d/%m/%Y\")\n",
    "    new_dataset.maturity_date = new_dataset.maturity_date - pd.to_datetime(\"today\")\n",
    "    new_dataset.maturity_date = new_dataset.maturity_date.apply(lambda x: x.days)\n",
    "    new_dataset = new_dataset.loc[np.isin(new_dataset.figi, new_bonds.figi)]\n",
    "\n",
    "    new_dataset[\"target\"] = new_dataset[[\"figi\", \"candle_price\"]].apply(\n",
    "        lambda x:\n",
    "        validate_prices(x.candle_price, prices[x.figi]), axis=1\n",
    "    )\n",
    "    return new_dataset.drop(\n",
    "        [\"figi\", \"country_of_risk_name\", \"price\", \"rub_price\", \"name\"],\n",
    "        axis=1\n",
    "    ).dropna()"
   ],
   "id": "3da5e454ac5c4fc1",
   "outputs": [],
   "execution_count": 40
  },
  {
   "metadata": {
    "ExecuteTime": {
     "end_time": "2024-11-18T14:16:06.798347Z",
     "start_time": "2024-11-18T14:16:06.762152Z"
    }
   },
   "cell_type": "code",
   "source": "processed_data = transform_bonds_data(train_bonds_data)",
   "id": "a4a01d9c839f64d7",
   "outputs": [],
   "execution_count": 41
  },
  {
   "metadata": {
    "ExecuteTime": {
     "end_time": "2024-11-18T14:17:35.369041Z",
     "start_time": "2024-11-18T14:17:35.364715Z"
    }
   },
   "cell_type": "code",
   "source": [
    "def transform_and_merge(df):\n",
    "    columns_to_encode = df.select_dtypes(include=['object']).columns\n",
    "    encoder = OneHotEncoder(sparse_output=False, handle_unknown='ignore')\n",
    "    scaler = StandardScaler()\n",
    "\n",
    "    encoded_features = encoder.fit_transform(df[columns_to_encode])\n",
    "    encoded_columns = encoder.get_feature_names_out(columns_to_encode)\n",
    "    encoded_df = pd.DataFrame(encoded_features, columns=encoded_columns, index=df.index)\n",
    "\n",
    "    df_remaining = df.drop(columns=columns_to_encode)\n",
    "\n",
    "    numeric_columns = df_remaining.select_dtypes(include=['int64', 'float64']).columns\n",
    "\n",
    "    if not numeric_columns.empty:\n",
    "        scaled_features = scaler.fit_transform(df_remaining[numeric_columns])\n",
    "        scaled_df = pd.DataFrame(scaled_features, columns=numeric_columns, index=df.index)\n",
    "    else:\n",
    "        scaled_df = pd.DataFrame(index=df.index)\n",
    "\n",
    "    result_df = pd.concat([scaled_df, encoded_df], axis=1)\n",
    "\n",
    "    return result_df"
   ],
   "id": "c7a191f49317fa19",
   "outputs": [],
   "execution_count": 61
  },
  {
   "metadata": {
    "ExecuteTime": {
     "end_time": "2024-11-18T14:19:46.611486Z",
     "start_time": "2024-11-18T14:19:46.573668Z"
    }
   },
   "cell_type": "code",
   "source": [
    "train = transform_and_merge(\n",
    "    processed_data\n",
    ")\n",
    "train[\"target\"] = processed_data[\"target\"]"
   ],
   "id": "f9aa2331d428b0e5",
   "outputs": [],
   "execution_count": 75
  },
  {
   "metadata": {
    "ExecuteTime": {
     "end_time": "2024-11-18T14:19:48.683677Z",
     "start_time": "2024-11-18T14:19:48.679388Z"
    }
   },
   "cell_type": "code",
   "source": [
    "X_train, X_test, y_train, y_test = train_test_split(\n",
    "    train.drop(\"target\", axis=1),\n",
    "    train[\"target\"],\n",
    "    test_size=0.1,\n",
    "    random_state=42\n",
    ")"
   ],
   "id": "be2b62216a03cba6",
   "outputs": [],
   "execution_count": 76
  },
  {
   "metadata": {
    "ExecuteTime": {
     "end_time": "2024-11-18T14:44:58.339470Z",
     "start_time": "2024-11-18T14:44:58.327044Z"
    }
   },
   "cell_type": "code",
   "source": "model = Ridge()",
   "id": "cf0513c6d8bf1522",
   "outputs": [],
   "execution_count": 159
  },
  {
   "metadata": {
    "ExecuteTime": {
     "end_time": "2024-11-18T14:44:58.757820Z",
     "start_time": "2024-11-18T14:44:58.706746Z"
    }
   },
   "cell_type": "code",
   "source": "model.fit(X_train, y_train)",
   "id": "1b7ac2578fe9b8c1",
   "outputs": [
    {
     "data": {
      "text/plain": [
       "Ridge()"
      ],
      "text/html": [
       "<style>#sk-container-id-9 {color: black;background-color: white;}#sk-container-id-9 pre{padding: 0;}#sk-container-id-9 div.sk-toggleable {background-color: white;}#sk-container-id-9 label.sk-toggleable__label {cursor: pointer;display: block;width: 100%;margin-bottom: 0;padding: 0.3em;box-sizing: border-box;text-align: center;}#sk-container-id-9 label.sk-toggleable__label-arrow:before {content: \"▸\";float: left;margin-right: 0.25em;color: #696969;}#sk-container-id-9 label.sk-toggleable__label-arrow:hover:before {color: black;}#sk-container-id-9 div.sk-estimator:hover label.sk-toggleable__label-arrow:before {color: black;}#sk-container-id-9 div.sk-toggleable__content {max-height: 0;max-width: 0;overflow: hidden;text-align: left;background-color: #f0f8ff;}#sk-container-id-9 div.sk-toggleable__content pre {margin: 0.2em;color: black;border-radius: 0.25em;background-color: #f0f8ff;}#sk-container-id-9 input.sk-toggleable__control:checked~div.sk-toggleable__content {max-height: 200px;max-width: 100%;overflow: auto;}#sk-container-id-9 input.sk-toggleable__control:checked~label.sk-toggleable__label-arrow:before {content: \"▾\";}#sk-container-id-9 div.sk-estimator input.sk-toggleable__control:checked~label.sk-toggleable__label {background-color: #d4ebff;}#sk-container-id-9 div.sk-label input.sk-toggleable__control:checked~label.sk-toggleable__label {background-color: #d4ebff;}#sk-container-id-9 input.sk-hidden--visually {border: 0;clip: rect(1px 1px 1px 1px);clip: rect(1px, 1px, 1px, 1px);height: 1px;margin: -1px;overflow: hidden;padding: 0;position: absolute;width: 1px;}#sk-container-id-9 div.sk-estimator {font-family: monospace;background-color: #f0f8ff;border: 1px dotted black;border-radius: 0.25em;box-sizing: border-box;margin-bottom: 0.5em;}#sk-container-id-9 div.sk-estimator:hover {background-color: #d4ebff;}#sk-container-id-9 div.sk-parallel-item::after {content: \"\";width: 100%;border-bottom: 1px solid gray;flex-grow: 1;}#sk-container-id-9 div.sk-label:hover label.sk-toggleable__label {background-color: #d4ebff;}#sk-container-id-9 div.sk-serial::before {content: \"\";position: absolute;border-left: 1px solid gray;box-sizing: border-box;top: 0;bottom: 0;left: 50%;z-index: 0;}#sk-container-id-9 div.sk-serial {display: flex;flex-direction: column;align-items: center;background-color: white;padding-right: 0.2em;padding-left: 0.2em;position: relative;}#sk-container-id-9 div.sk-item {position: relative;z-index: 1;}#sk-container-id-9 div.sk-parallel {display: flex;align-items: stretch;justify-content: center;background-color: white;position: relative;}#sk-container-id-9 div.sk-item::before, #sk-container-id-9 div.sk-parallel-item::before {content: \"\";position: absolute;border-left: 1px solid gray;box-sizing: border-box;top: 0;bottom: 0;left: 50%;z-index: -1;}#sk-container-id-9 div.sk-parallel-item {display: flex;flex-direction: column;z-index: 1;position: relative;background-color: white;}#sk-container-id-9 div.sk-parallel-item:first-child::after {align-self: flex-end;width: 50%;}#sk-container-id-9 div.sk-parallel-item:last-child::after {align-self: flex-start;width: 50%;}#sk-container-id-9 div.sk-parallel-item:only-child::after {width: 0;}#sk-container-id-9 div.sk-dashed-wrapped {border: 1px dashed gray;margin: 0 0.4em 0.5em 0.4em;box-sizing: border-box;padding-bottom: 0.4em;background-color: white;}#sk-container-id-9 div.sk-label label {font-family: monospace;font-weight: bold;display: inline-block;line-height: 1.2em;}#sk-container-id-9 div.sk-label-container {text-align: center;}#sk-container-id-9 div.sk-container {/* jupyter's `normalize.less` sets `[hidden] { display: none; }` but bootstrap.min.css set `[hidden] { display: none !important; }` so we also need the `!important` here to be able to override the default hidden behavior on the sphinx rendered scikit-learn.org. See: https://github.com/scikit-learn/scikit-learn/issues/21755 */display: inline-block !important;position: relative;}#sk-container-id-9 div.sk-text-repr-fallback {display: none;}</style><div id=\"sk-container-id-9\" class=\"sk-top-container\"><div class=\"sk-text-repr-fallback\"><pre>Ridge()</pre><b>In a Jupyter environment, please rerun this cell to show the HTML representation or trust the notebook. <br />On GitHub, the HTML representation is unable to render, please try loading this page with nbviewer.org.</b></div><div class=\"sk-container\" hidden><div class=\"sk-item\"><div class=\"sk-estimator sk-toggleable\"><input class=\"sk-toggleable__control sk-hidden--visually\" id=\"sk-estimator-id-9\" type=\"checkbox\" checked><label for=\"sk-estimator-id-9\" class=\"sk-toggleable__label sk-toggleable__label-arrow\">Ridge</label><div class=\"sk-toggleable__content\"><pre>Ridge()</pre></div></div></div></div></div>"
      ]
     },
     "execution_count": 160,
     "metadata": {},
     "output_type": "execute_result"
    }
   ],
   "execution_count": 160
  },
  {
   "metadata": {
    "ExecuteTime": {
     "end_time": "2024-11-18T14:44:59.382930Z",
     "start_time": "2024-11-18T14:44:59.372555Z"
    }
   },
   "cell_type": "code",
   "source": "y_pred = model.predict(X_test)",
   "id": "2ce69eac57becc51",
   "outputs": [],
   "execution_count": 161
  },
  {
   "metadata": {
    "ExecuteTime": {
     "end_time": "2024-11-18T14:44:59.863987Z",
     "start_time": "2024-11-18T14:44:59.858039Z"
    }
   },
   "cell_type": "code",
   "source": "r2_score(y_test, y_pred)",
   "id": "c164b11f5d0e295f",
   "outputs": [
    {
     "data": {
      "text/plain": [
       "0.715348356910481"
      ]
     },
     "execution_count": 162,
     "metadata": {},
     "output_type": "execute_result"
    }
   ],
   "execution_count": 162
  },
  {
   "metadata": {
    "ExecuteTime": {
     "end_time": "2024-11-18T14:45:00.549602Z",
     "start_time": "2024-11-18T14:45:00.545235Z"
    }
   },
   "cell_type": "code",
   "source": "mean_squared_error(y_test, y_pred, squared=False)",
   "id": "308602d890352a5",
   "outputs": [
    {
     "data": {
      "text/plain": [
       "13.339866462119074"
      ]
     },
     "execution_count": 163,
     "metadata": {},
     "output_type": "execute_result"
    }
   ],
   "execution_count": 163
  },
  {
   "metadata": {
    "ExecuteTime": {
     "end_time": "2024-11-18T14:45:01.073081Z",
     "start_time": "2024-11-18T14:45:01.070049Z"
    }
   },
   "cell_type": "code",
   "source": "y_pred_classes = np.sign(y_pred) == np.sign(y_test)",
   "id": "b67ed8e5074293b7",
   "outputs": [],
   "execution_count": 164
  },
  {
   "metadata": {
    "ExecuteTime": {
     "end_time": "2024-11-18T14:45:01.450053Z",
     "start_time": "2024-11-18T14:45:01.446567Z"
    }
   },
   "cell_type": "code",
   "source": "y_pred_classes.mean()",
   "id": "1667fe6849794b36",
   "outputs": [
    {
     "data": {
      "text/plain": [
       "0.5555555555555556"
      ]
     },
     "execution_count": 165,
     "metadata": {},
     "output_type": "execute_result"
    }
   ],
   "execution_count": 165
  },
  {
   "metadata": {
    "ExecuteTime": {
     "end_time": "2024-11-18T14:45:02.221815Z",
     "start_time": "2024-11-18T14:45:02.210025Z"
    }
   },
   "cell_type": "code",
   "source": "print(classification_report(np.sign(y_test), np.sign(y_pred), zero_division=False))",
   "id": "c2ed699f7d471ce",
   "outputs": [
    {
     "name": "stdout",
     "output_type": "stream",
     "text": [
      "              precision    recall  f1-score   support\n",
      "\n",
      "        -1.0       0.69      0.62      0.66        72\n",
      "         0.0       0.00      0.00      0.00         2\n",
      "         1.0       0.35      0.44      0.39        34\n",
      "\n",
      "    accuracy                           0.56       108\n",
      "   macro avg       0.35      0.36      0.35       108\n",
      "weighted avg       0.57      0.56      0.56       108\n",
      "\n"
     ]
    }
   ],
   "execution_count": 166
  },
  {
   "metadata": {
    "ExecuteTime": {
     "end_time": "2024-11-18T14:45:03.961157Z",
     "start_time": "2024-11-18T14:45:03.950282Z"
    }
   },
   "cell_type": "code",
   "source": "corred_columns = train.corr()[((abs(train.corr()[\"target\"])) > 0.05)].index",
   "id": "8a4d6b94afd48427",
   "outputs": [],
   "execution_count": 168
  },
  {
   "metadata": {
    "ExecuteTime": {
     "end_time": "2024-11-18T14:45:04.515450Z",
     "start_time": "2024-11-18T14:45:04.511520Z"
    }
   },
   "cell_type": "code",
   "source": "X_train_corred = X_train[list(set(corred_columns) - {\"target\"})]",
   "id": "46d4bb463217b104",
   "outputs": [],
   "execution_count": 169
  },
  {
   "metadata": {
    "ExecuteTime": {
     "end_time": "2024-11-18T14:45:04.936394Z",
     "start_time": "2024-11-18T14:45:04.934584Z"
    }
   },
   "cell_type": "code",
   "source": "corr_model = Ridge()",
   "id": "404b840737142220",
   "outputs": [],
   "execution_count": 170
  },
  {
   "metadata": {
    "ExecuteTime": {
     "end_time": "2024-11-18T14:45:05.461165Z",
     "start_time": "2024-11-18T14:45:05.448461Z"
    }
   },
   "cell_type": "code",
   "source": "corr_model.fit(X_train_corred, y_train)",
   "id": "3f119a42afabc6fc",
   "outputs": [
    {
     "data": {
      "text/plain": [
       "Ridge()"
      ],
      "text/html": [
       "<style>#sk-container-id-10 {color: black;background-color: white;}#sk-container-id-10 pre{padding: 0;}#sk-container-id-10 div.sk-toggleable {background-color: white;}#sk-container-id-10 label.sk-toggleable__label {cursor: pointer;display: block;width: 100%;margin-bottom: 0;padding: 0.3em;box-sizing: border-box;text-align: center;}#sk-container-id-10 label.sk-toggleable__label-arrow:before {content: \"▸\";float: left;margin-right: 0.25em;color: #696969;}#sk-container-id-10 label.sk-toggleable__label-arrow:hover:before {color: black;}#sk-container-id-10 div.sk-estimator:hover label.sk-toggleable__label-arrow:before {color: black;}#sk-container-id-10 div.sk-toggleable__content {max-height: 0;max-width: 0;overflow: hidden;text-align: left;background-color: #f0f8ff;}#sk-container-id-10 div.sk-toggleable__content pre {margin: 0.2em;color: black;border-radius: 0.25em;background-color: #f0f8ff;}#sk-container-id-10 input.sk-toggleable__control:checked~div.sk-toggleable__content {max-height: 200px;max-width: 100%;overflow: auto;}#sk-container-id-10 input.sk-toggleable__control:checked~label.sk-toggleable__label-arrow:before {content: \"▾\";}#sk-container-id-10 div.sk-estimator input.sk-toggleable__control:checked~label.sk-toggleable__label {background-color: #d4ebff;}#sk-container-id-10 div.sk-label input.sk-toggleable__control:checked~label.sk-toggleable__label {background-color: #d4ebff;}#sk-container-id-10 input.sk-hidden--visually {border: 0;clip: rect(1px 1px 1px 1px);clip: rect(1px, 1px, 1px, 1px);height: 1px;margin: -1px;overflow: hidden;padding: 0;position: absolute;width: 1px;}#sk-container-id-10 div.sk-estimator {font-family: monospace;background-color: #f0f8ff;border: 1px dotted black;border-radius: 0.25em;box-sizing: border-box;margin-bottom: 0.5em;}#sk-container-id-10 div.sk-estimator:hover {background-color: #d4ebff;}#sk-container-id-10 div.sk-parallel-item::after {content: \"\";width: 100%;border-bottom: 1px solid gray;flex-grow: 1;}#sk-container-id-10 div.sk-label:hover label.sk-toggleable__label {background-color: #d4ebff;}#sk-container-id-10 div.sk-serial::before {content: \"\";position: absolute;border-left: 1px solid gray;box-sizing: border-box;top: 0;bottom: 0;left: 50%;z-index: 0;}#sk-container-id-10 div.sk-serial {display: flex;flex-direction: column;align-items: center;background-color: white;padding-right: 0.2em;padding-left: 0.2em;position: relative;}#sk-container-id-10 div.sk-item {position: relative;z-index: 1;}#sk-container-id-10 div.sk-parallel {display: flex;align-items: stretch;justify-content: center;background-color: white;position: relative;}#sk-container-id-10 div.sk-item::before, #sk-container-id-10 div.sk-parallel-item::before {content: \"\";position: absolute;border-left: 1px solid gray;box-sizing: border-box;top: 0;bottom: 0;left: 50%;z-index: -1;}#sk-container-id-10 div.sk-parallel-item {display: flex;flex-direction: column;z-index: 1;position: relative;background-color: white;}#sk-container-id-10 div.sk-parallel-item:first-child::after {align-self: flex-end;width: 50%;}#sk-container-id-10 div.sk-parallel-item:last-child::after {align-self: flex-start;width: 50%;}#sk-container-id-10 div.sk-parallel-item:only-child::after {width: 0;}#sk-container-id-10 div.sk-dashed-wrapped {border: 1px dashed gray;margin: 0 0.4em 0.5em 0.4em;box-sizing: border-box;padding-bottom: 0.4em;background-color: white;}#sk-container-id-10 div.sk-label label {font-family: monospace;font-weight: bold;display: inline-block;line-height: 1.2em;}#sk-container-id-10 div.sk-label-container {text-align: center;}#sk-container-id-10 div.sk-container {/* jupyter's `normalize.less` sets `[hidden] { display: none; }` but bootstrap.min.css set `[hidden] { display: none !important; }` so we also need the `!important` here to be able to override the default hidden behavior on the sphinx rendered scikit-learn.org. See: https://github.com/scikit-learn/scikit-learn/issues/21755 */display: inline-block !important;position: relative;}#sk-container-id-10 div.sk-text-repr-fallback {display: none;}</style><div id=\"sk-container-id-10\" class=\"sk-top-container\"><div class=\"sk-text-repr-fallback\"><pre>Ridge()</pre><b>In a Jupyter environment, please rerun this cell to show the HTML representation or trust the notebook. <br />On GitHub, the HTML representation is unable to render, please try loading this page with nbviewer.org.</b></div><div class=\"sk-container\" hidden><div class=\"sk-item\"><div class=\"sk-estimator sk-toggleable\"><input class=\"sk-toggleable__control sk-hidden--visually\" id=\"sk-estimator-id-10\" type=\"checkbox\" checked><label for=\"sk-estimator-id-10\" class=\"sk-toggleable__label sk-toggleable__label-arrow\">Ridge</label><div class=\"sk-toggleable__content\"><pre>Ridge()</pre></div></div></div></div></div>"
      ]
     },
     "execution_count": 171,
     "metadata": {},
     "output_type": "execute_result"
    }
   ],
   "execution_count": 171
  },
  {
   "metadata": {
    "ExecuteTime": {
     "end_time": "2024-11-18T14:45:06.021439Z",
     "start_time": "2024-11-18T14:45:05.995083Z"
    }
   },
   "cell_type": "code",
   "source": "y_pred_corr = corr_model.predict(X_test[list(X_train_corred.columns)])",
   "id": "8813a6993e8c31ba",
   "outputs": [],
   "execution_count": 172
  },
  {
   "metadata": {
    "ExecuteTime": {
     "end_time": "2024-11-18T14:45:06.370520Z",
     "start_time": "2024-11-18T14:45:06.365597Z"
    }
   },
   "cell_type": "code",
   "source": "r2_score(y_test, y_pred_corr)",
   "id": "979380aefd0d2a11",
   "outputs": [
    {
     "data": {
      "text/plain": [
       "0.687880344016166"
      ]
     },
     "execution_count": 173,
     "metadata": {},
     "output_type": "execute_result"
    }
   ],
   "execution_count": 173
  },
  {
   "metadata": {
    "ExecuteTime": {
     "end_time": "2024-11-18T14:59:14.094088Z",
     "start_time": "2024-11-18T14:59:14.084387Z"
    }
   },
   "cell_type": "code",
   "source": "mean_squared_error(y_test, y_pred_corr, squared=False)",
   "id": "56c38e082e24c6b7",
   "outputs": [
    {
     "data": {
      "text/plain": [
       "13.968674400879747"
      ]
     },
     "execution_count": 237,
     "metadata": {},
     "output_type": "execute_result"
    }
   ],
   "execution_count": 237
  },
  {
   "metadata": {
    "ExecuteTime": {
     "end_time": "2024-11-18T14:45:07.701229Z",
     "start_time": "2024-11-18T14:45:07.698949Z"
    }
   },
   "cell_type": "code",
   "source": "y_pred_classes_corr = np.sign(y_pred_corr) == np.sign(y_test)",
   "id": "a8d98903956c5417",
   "outputs": [],
   "execution_count": 175
  },
  {
   "metadata": {
    "ExecuteTime": {
     "end_time": "2024-11-18T14:45:07.972998Z",
     "start_time": "2024-11-18T14:45:07.969644Z"
    }
   },
   "cell_type": "code",
   "source": "y_pred_classes_corr.mean()",
   "id": "5e52e2c03086c7ac",
   "outputs": [
    {
     "data": {
      "text/plain": [
       "0.5555555555555556"
      ]
     },
     "execution_count": 176,
     "metadata": {},
     "output_type": "execute_result"
    }
   ],
   "execution_count": 176
  },
  {
   "metadata": {
    "ExecuteTime": {
     "end_time": "2024-11-18T14:45:08.206865Z",
     "start_time": "2024-11-18T14:45:08.199832Z"
    }
   },
   "cell_type": "code",
   "source": "print(classification_report(np.sign(y_test), np.sign(y_pred_corr), zero_division=False))",
   "id": "490b99751068ab95",
   "outputs": [
    {
     "name": "stdout",
     "output_type": "stream",
     "text": [
      "              precision    recall  f1-score   support\n",
      "\n",
      "        -1.0       0.70      0.61      0.65        72\n",
      "         0.0       0.00      0.00      0.00         2\n",
      "         1.0       0.36      0.47      0.41        34\n",
      "\n",
      "    accuracy                           0.56       108\n",
      "   macro avg       0.35      0.36      0.35       108\n",
      "weighted avg       0.58      0.56      0.56       108\n",
      "\n"
     ]
    }
   ],
   "execution_count": 177
  },
  {
   "metadata": {
    "ExecuteTime": {
     "end_time": "2024-11-18T14:45:08.843028Z",
     "start_time": "2024-11-18T14:45:08.839247Z"
    }
   },
   "cell_type": "code",
   "source": "model.coef_",
   "id": "9f34b1ef83403e8f",
   "outputs": [
    {
     "data": {
      "text/plain": [
       "array([  1.30797571,   0.25477732,  -0.03677804,  -0.02580512,\n",
       "        -0.62177028,  -0.34134388,   0.15088905,  -1.94760812,\n",
       "         0.61719262,   0.56561267,   1.81283113,  -0.44784671,\n",
       "         0.02813038,  -0.97300801,  -5.18480115,   0.50883255,\n",
       "         0.53170553,   1.05502174,  -1.44925415,  -1.51307077,\n",
       "        -9.73284365,   6.22298345,   5.73179405,   2.19924259,\n",
       "         5.31610491,   0.41627778, -19.88640278,   2.61552037,\n",
       "        -2.61552037,   0.04125366,   0.07519407,  -0.11644774,\n",
       "        -3.39012109,   3.39012109,  -0.95007015,   1.25301381,\n",
       "         0.31493105,   3.16761027,   2.41200216,  -0.48403667,\n",
       "        -3.4165542 ,   1.92191319,  -0.54444481,   0.48833458,\n",
       "        -1.6835277 ,  -1.1725896 ,  -1.30658192,   0.58689397,\n",
       "        -0.58689397])"
      ]
     },
     "execution_count": 178,
     "metadata": {},
     "output_type": "execute_result"
    }
   ],
   "execution_count": 178
  },
  {
   "metadata": {
    "ExecuteTime": {
     "end_time": "2024-11-18T14:45:09.590788Z",
     "start_time": "2024-11-18T14:45:09.581763Z"
    }
   },
   "cell_type": "code",
   "source": "pd.DataFrame([X_train.columns, abs(model.coef_)]).T.sort_values(1, ascending=False)",
   "id": "c1cac875eafc9ebc",
   "outputs": [
    {
     "data": {
      "text/plain": [
       "                             0          1\n",
       "26             class_code_TQRD  19.886403\n",
       "20                candle_price   9.732844\n",
       "21             class_code_TQCB   6.222983\n",
       "22             class_code_TQIR   5.731794\n",
       "24             class_code_TQOB   5.316105\n",
       "14            inverse_drawdown   5.184801\n",
       "40                   sector_it   3.416554\n",
       "33          country_of_risk_RU   3.390121\n",
       "32          country_of_risk_KZ   3.390121\n",
       "37           sector_government    3.16761\n",
       "28                currency_rub    2.61552\n",
       "27                currency_cny    2.61552\n",
       "38          sector_health_care   2.412002\n",
       "23             class_code_TQIY   2.199243\n",
       "7              issue_size_plan   1.947608\n",
       "41            sector_materials   1.921913\n",
       "10                         lot   1.812831\n",
       "44          sector_real_estate   1.683528\n",
       "19                     ratings   1.513071\n",
       "18                price_rating   1.449254\n",
       "0     coupon_quantity_per_year   1.307976\n",
       "46            sector_utilities   1.306582\n",
       "35               sector_energy   1.253014\n",
       "45              sector_telecom    1.17259\n",
       "17                 trend_slope   1.055022\n",
       "13                   stability   0.973008\n",
       "34             sector_consumer    0.95007\n",
       "4              placement_price    0.62177\n",
       "8                   risk_level   0.617193\n",
       "47      issue_kind_documentary   0.586894\n",
       "48  issue_kind_non_documentary   0.586894\n",
       "9          min_price_increment   0.565613\n",
       "42            sector_municipal   0.544445\n",
       "16               sortino_ratio   0.531706\n",
       "15                sharpe_ratio   0.508833\n",
       "43                sector_other   0.488335\n",
       "39          sector_industrials   0.484037\n",
       "11              company_rating   0.447847\n",
       "25             class_code_TQOY   0.416278\n",
       "5                    aci_value   0.341344\n",
       "36            sector_financial   0.314931\n",
       "1                maturity_date   0.254777\n",
       "6                   issue_size   0.150889\n",
       "31            exchange_unknown   0.116448\n",
       "30          exchange_MOEX_PLUS   0.075194\n",
       "29               exchange_MOEX   0.041254\n",
       "2                      nominal   0.036778\n",
       "12                 mean_return    0.02813\n",
       "3              initial_nominal   0.025805"
      ],
      "text/html": [
       "<div>\n",
       "<style scoped>\n",
       "    .dataframe tbody tr th:only-of-type {\n",
       "        vertical-align: middle;\n",
       "    }\n",
       "\n",
       "    .dataframe tbody tr th {\n",
       "        vertical-align: top;\n",
       "    }\n",
       "\n",
       "    .dataframe thead th {\n",
       "        text-align: right;\n",
       "    }\n",
       "</style>\n",
       "<table border=\"1\" class=\"dataframe\">\n",
       "  <thead>\n",
       "    <tr style=\"text-align: right;\">\n",
       "      <th></th>\n",
       "      <th>0</th>\n",
       "      <th>1</th>\n",
       "    </tr>\n",
       "  </thead>\n",
       "  <tbody>\n",
       "    <tr>\n",
       "      <th>26</th>\n",
       "      <td>class_code_TQRD</td>\n",
       "      <td>19.886403</td>\n",
       "    </tr>\n",
       "    <tr>\n",
       "      <th>20</th>\n",
       "      <td>candle_price</td>\n",
       "      <td>9.732844</td>\n",
       "    </tr>\n",
       "    <tr>\n",
       "      <th>21</th>\n",
       "      <td>class_code_TQCB</td>\n",
       "      <td>6.222983</td>\n",
       "    </tr>\n",
       "    <tr>\n",
       "      <th>22</th>\n",
       "      <td>class_code_TQIR</td>\n",
       "      <td>5.731794</td>\n",
       "    </tr>\n",
       "    <tr>\n",
       "      <th>24</th>\n",
       "      <td>class_code_TQOB</td>\n",
       "      <td>5.316105</td>\n",
       "    </tr>\n",
       "    <tr>\n",
       "      <th>14</th>\n",
       "      <td>inverse_drawdown</td>\n",
       "      <td>5.184801</td>\n",
       "    </tr>\n",
       "    <tr>\n",
       "      <th>40</th>\n",
       "      <td>sector_it</td>\n",
       "      <td>3.416554</td>\n",
       "    </tr>\n",
       "    <tr>\n",
       "      <th>33</th>\n",
       "      <td>country_of_risk_RU</td>\n",
       "      <td>3.390121</td>\n",
       "    </tr>\n",
       "    <tr>\n",
       "      <th>32</th>\n",
       "      <td>country_of_risk_KZ</td>\n",
       "      <td>3.390121</td>\n",
       "    </tr>\n",
       "    <tr>\n",
       "      <th>37</th>\n",
       "      <td>sector_government</td>\n",
       "      <td>3.16761</td>\n",
       "    </tr>\n",
       "    <tr>\n",
       "      <th>28</th>\n",
       "      <td>currency_rub</td>\n",
       "      <td>2.61552</td>\n",
       "    </tr>\n",
       "    <tr>\n",
       "      <th>27</th>\n",
       "      <td>currency_cny</td>\n",
       "      <td>2.61552</td>\n",
       "    </tr>\n",
       "    <tr>\n",
       "      <th>38</th>\n",
       "      <td>sector_health_care</td>\n",
       "      <td>2.412002</td>\n",
       "    </tr>\n",
       "    <tr>\n",
       "      <th>23</th>\n",
       "      <td>class_code_TQIY</td>\n",
       "      <td>2.199243</td>\n",
       "    </tr>\n",
       "    <tr>\n",
       "      <th>7</th>\n",
       "      <td>issue_size_plan</td>\n",
       "      <td>1.947608</td>\n",
       "    </tr>\n",
       "    <tr>\n",
       "      <th>41</th>\n",
       "      <td>sector_materials</td>\n",
       "      <td>1.921913</td>\n",
       "    </tr>\n",
       "    <tr>\n",
       "      <th>10</th>\n",
       "      <td>lot</td>\n",
       "      <td>1.812831</td>\n",
       "    </tr>\n",
       "    <tr>\n",
       "      <th>44</th>\n",
       "      <td>sector_real_estate</td>\n",
       "      <td>1.683528</td>\n",
       "    </tr>\n",
       "    <tr>\n",
       "      <th>19</th>\n",
       "      <td>ratings</td>\n",
       "      <td>1.513071</td>\n",
       "    </tr>\n",
       "    <tr>\n",
       "      <th>18</th>\n",
       "      <td>price_rating</td>\n",
       "      <td>1.449254</td>\n",
       "    </tr>\n",
       "    <tr>\n",
       "      <th>0</th>\n",
       "      <td>coupon_quantity_per_year</td>\n",
       "      <td>1.307976</td>\n",
       "    </tr>\n",
       "    <tr>\n",
       "      <th>46</th>\n",
       "      <td>sector_utilities</td>\n",
       "      <td>1.306582</td>\n",
       "    </tr>\n",
       "    <tr>\n",
       "      <th>35</th>\n",
       "      <td>sector_energy</td>\n",
       "      <td>1.253014</td>\n",
       "    </tr>\n",
       "    <tr>\n",
       "      <th>45</th>\n",
       "      <td>sector_telecom</td>\n",
       "      <td>1.17259</td>\n",
       "    </tr>\n",
       "    <tr>\n",
       "      <th>17</th>\n",
       "      <td>trend_slope</td>\n",
       "      <td>1.055022</td>\n",
       "    </tr>\n",
       "    <tr>\n",
       "      <th>13</th>\n",
       "      <td>stability</td>\n",
       "      <td>0.973008</td>\n",
       "    </tr>\n",
       "    <tr>\n",
       "      <th>34</th>\n",
       "      <td>sector_consumer</td>\n",
       "      <td>0.95007</td>\n",
       "    </tr>\n",
       "    <tr>\n",
       "      <th>4</th>\n",
       "      <td>placement_price</td>\n",
       "      <td>0.62177</td>\n",
       "    </tr>\n",
       "    <tr>\n",
       "      <th>8</th>\n",
       "      <td>risk_level</td>\n",
       "      <td>0.617193</td>\n",
       "    </tr>\n",
       "    <tr>\n",
       "      <th>47</th>\n",
       "      <td>issue_kind_documentary</td>\n",
       "      <td>0.586894</td>\n",
       "    </tr>\n",
       "    <tr>\n",
       "      <th>48</th>\n",
       "      <td>issue_kind_non_documentary</td>\n",
       "      <td>0.586894</td>\n",
       "    </tr>\n",
       "    <tr>\n",
       "      <th>9</th>\n",
       "      <td>min_price_increment</td>\n",
       "      <td>0.565613</td>\n",
       "    </tr>\n",
       "    <tr>\n",
       "      <th>42</th>\n",
       "      <td>sector_municipal</td>\n",
       "      <td>0.544445</td>\n",
       "    </tr>\n",
       "    <tr>\n",
       "      <th>16</th>\n",
       "      <td>sortino_ratio</td>\n",
       "      <td>0.531706</td>\n",
       "    </tr>\n",
       "    <tr>\n",
       "      <th>15</th>\n",
       "      <td>sharpe_ratio</td>\n",
       "      <td>0.508833</td>\n",
       "    </tr>\n",
       "    <tr>\n",
       "      <th>43</th>\n",
       "      <td>sector_other</td>\n",
       "      <td>0.488335</td>\n",
       "    </tr>\n",
       "    <tr>\n",
       "      <th>39</th>\n",
       "      <td>sector_industrials</td>\n",
       "      <td>0.484037</td>\n",
       "    </tr>\n",
       "    <tr>\n",
       "      <th>11</th>\n",
       "      <td>company_rating</td>\n",
       "      <td>0.447847</td>\n",
       "    </tr>\n",
       "    <tr>\n",
       "      <th>25</th>\n",
       "      <td>class_code_TQOY</td>\n",
       "      <td>0.416278</td>\n",
       "    </tr>\n",
       "    <tr>\n",
       "      <th>5</th>\n",
       "      <td>aci_value</td>\n",
       "      <td>0.341344</td>\n",
       "    </tr>\n",
       "    <tr>\n",
       "      <th>36</th>\n",
       "      <td>sector_financial</td>\n",
       "      <td>0.314931</td>\n",
       "    </tr>\n",
       "    <tr>\n",
       "      <th>1</th>\n",
       "      <td>maturity_date</td>\n",
       "      <td>0.254777</td>\n",
       "    </tr>\n",
       "    <tr>\n",
       "      <th>6</th>\n",
       "      <td>issue_size</td>\n",
       "      <td>0.150889</td>\n",
       "    </tr>\n",
       "    <tr>\n",
       "      <th>31</th>\n",
       "      <td>exchange_unknown</td>\n",
       "      <td>0.116448</td>\n",
       "    </tr>\n",
       "    <tr>\n",
       "      <th>30</th>\n",
       "      <td>exchange_MOEX_PLUS</td>\n",
       "      <td>0.075194</td>\n",
       "    </tr>\n",
       "    <tr>\n",
       "      <th>29</th>\n",
       "      <td>exchange_MOEX</td>\n",
       "      <td>0.041254</td>\n",
       "    </tr>\n",
       "    <tr>\n",
       "      <th>2</th>\n",
       "      <td>nominal</td>\n",
       "      <td>0.036778</td>\n",
       "    </tr>\n",
       "    <tr>\n",
       "      <th>12</th>\n",
       "      <td>mean_return</td>\n",
       "      <td>0.02813</td>\n",
       "    </tr>\n",
       "    <tr>\n",
       "      <th>3</th>\n",
       "      <td>initial_nominal</td>\n",
       "      <td>0.025805</td>\n",
       "    </tr>\n",
       "  </tbody>\n",
       "</table>\n",
       "</div>"
      ]
     },
     "execution_count": 179,
     "metadata": {},
     "output_type": "execute_result"
    }
   ],
   "execution_count": 179
  },
  {
   "metadata": {
    "ExecuteTime": {
     "end_time": "2024-11-18T14:45:10.114746Z",
     "start_time": "2024-11-18T14:45:10.109615Z"
    }
   },
   "cell_type": "code",
   "source": "pd.DataFrame([X_train_corred.columns, abs(corr_model.coef_)]).T.sort_values(1, ascending=False)",
   "id": "57d83bb0243d3b44",
   "outputs": [
    {
     "data": {
      "text/plain": [
       "                           0         1\n",
       "14              candle_price  8.830526\n",
       "16          inverse_drawdown  5.744127\n",
       "0               sharpe_ratio  2.297417\n",
       "12          sector_materials   2.11986\n",
       "11              price_rating  1.673819\n",
       "10                   ratings  1.419766\n",
       "9              exchange_MOEX   1.37121\n",
       "5   coupon_quantity_per_year  1.348521\n",
       "15                 stability   0.77207\n",
       "4              sortino_ratio  0.729386\n",
       "7                trend_slope  0.677672\n",
       "3                mean_return  0.593093\n",
       "13       min_price_increment   0.52737\n",
       "8            class_code_TQCB  0.389728\n",
       "6               sector_other  0.350892\n",
       "2         exchange_MOEX_PLUS  0.304804\n",
       "1             company_rating   0.13731"
      ],
      "text/html": [
       "<div>\n",
       "<style scoped>\n",
       "    .dataframe tbody tr th:only-of-type {\n",
       "        vertical-align: middle;\n",
       "    }\n",
       "\n",
       "    .dataframe tbody tr th {\n",
       "        vertical-align: top;\n",
       "    }\n",
       "\n",
       "    .dataframe thead th {\n",
       "        text-align: right;\n",
       "    }\n",
       "</style>\n",
       "<table border=\"1\" class=\"dataframe\">\n",
       "  <thead>\n",
       "    <tr style=\"text-align: right;\">\n",
       "      <th></th>\n",
       "      <th>0</th>\n",
       "      <th>1</th>\n",
       "    </tr>\n",
       "  </thead>\n",
       "  <tbody>\n",
       "    <tr>\n",
       "      <th>14</th>\n",
       "      <td>candle_price</td>\n",
       "      <td>8.830526</td>\n",
       "    </tr>\n",
       "    <tr>\n",
       "      <th>16</th>\n",
       "      <td>inverse_drawdown</td>\n",
       "      <td>5.744127</td>\n",
       "    </tr>\n",
       "    <tr>\n",
       "      <th>0</th>\n",
       "      <td>sharpe_ratio</td>\n",
       "      <td>2.297417</td>\n",
       "    </tr>\n",
       "    <tr>\n",
       "      <th>12</th>\n",
       "      <td>sector_materials</td>\n",
       "      <td>2.11986</td>\n",
       "    </tr>\n",
       "    <tr>\n",
       "      <th>11</th>\n",
       "      <td>price_rating</td>\n",
       "      <td>1.673819</td>\n",
       "    </tr>\n",
       "    <tr>\n",
       "      <th>10</th>\n",
       "      <td>ratings</td>\n",
       "      <td>1.419766</td>\n",
       "    </tr>\n",
       "    <tr>\n",
       "      <th>9</th>\n",
       "      <td>exchange_MOEX</td>\n",
       "      <td>1.37121</td>\n",
       "    </tr>\n",
       "    <tr>\n",
       "      <th>5</th>\n",
       "      <td>coupon_quantity_per_year</td>\n",
       "      <td>1.348521</td>\n",
       "    </tr>\n",
       "    <tr>\n",
       "      <th>15</th>\n",
       "      <td>stability</td>\n",
       "      <td>0.77207</td>\n",
       "    </tr>\n",
       "    <tr>\n",
       "      <th>4</th>\n",
       "      <td>sortino_ratio</td>\n",
       "      <td>0.729386</td>\n",
       "    </tr>\n",
       "    <tr>\n",
       "      <th>7</th>\n",
       "      <td>trend_slope</td>\n",
       "      <td>0.677672</td>\n",
       "    </tr>\n",
       "    <tr>\n",
       "      <th>3</th>\n",
       "      <td>mean_return</td>\n",
       "      <td>0.593093</td>\n",
       "    </tr>\n",
       "    <tr>\n",
       "      <th>13</th>\n",
       "      <td>min_price_increment</td>\n",
       "      <td>0.52737</td>\n",
       "    </tr>\n",
       "    <tr>\n",
       "      <th>8</th>\n",
       "      <td>class_code_TQCB</td>\n",
       "      <td>0.389728</td>\n",
       "    </tr>\n",
       "    <tr>\n",
       "      <th>6</th>\n",
       "      <td>sector_other</td>\n",
       "      <td>0.350892</td>\n",
       "    </tr>\n",
       "    <tr>\n",
       "      <th>2</th>\n",
       "      <td>exchange_MOEX_PLUS</td>\n",
       "      <td>0.304804</td>\n",
       "    </tr>\n",
       "    <tr>\n",
       "      <th>1</th>\n",
       "      <td>company_rating</td>\n",
       "      <td>0.13731</td>\n",
       "    </tr>\n",
       "  </tbody>\n",
       "</table>\n",
       "</div>"
      ]
     },
     "execution_count": 180,
     "metadata": {},
     "output_type": "execute_result"
    }
   ],
   "execution_count": 180
  },
  {
   "metadata": {
    "ExecuteTime": {
     "end_time": "2024-11-18T14:59:25.739101Z",
     "start_time": "2024-11-18T14:59:25.728876Z"
    }
   },
   "cell_type": "code",
   "source": "rf = RandomForestRegressor()",
   "id": "9d1100805b492d48",
   "outputs": [],
   "execution_count": 238
  },
  {
   "metadata": {
    "ExecuteTime": {
     "end_time": "2024-11-18T14:59:27.445184Z",
     "start_time": "2024-11-18T14:59:26.561047Z"
    }
   },
   "cell_type": "code",
   "source": "rf.fit(X_train, y_train)",
   "id": "d87995940ad88c28",
   "outputs": [
    {
     "data": {
      "text/plain": [
       "RandomForestRegressor()"
      ],
      "text/html": [
       "<style>#sk-container-id-18 {color: black;background-color: white;}#sk-container-id-18 pre{padding: 0;}#sk-container-id-18 div.sk-toggleable {background-color: white;}#sk-container-id-18 label.sk-toggleable__label {cursor: pointer;display: block;width: 100%;margin-bottom: 0;padding: 0.3em;box-sizing: border-box;text-align: center;}#sk-container-id-18 label.sk-toggleable__label-arrow:before {content: \"▸\";float: left;margin-right: 0.25em;color: #696969;}#sk-container-id-18 label.sk-toggleable__label-arrow:hover:before {color: black;}#sk-container-id-18 div.sk-estimator:hover label.sk-toggleable__label-arrow:before {color: black;}#sk-container-id-18 div.sk-toggleable__content {max-height: 0;max-width: 0;overflow: hidden;text-align: left;background-color: #f0f8ff;}#sk-container-id-18 div.sk-toggleable__content pre {margin: 0.2em;color: black;border-radius: 0.25em;background-color: #f0f8ff;}#sk-container-id-18 input.sk-toggleable__control:checked~div.sk-toggleable__content {max-height: 200px;max-width: 100%;overflow: auto;}#sk-container-id-18 input.sk-toggleable__control:checked~label.sk-toggleable__label-arrow:before {content: \"▾\";}#sk-container-id-18 div.sk-estimator input.sk-toggleable__control:checked~label.sk-toggleable__label {background-color: #d4ebff;}#sk-container-id-18 div.sk-label input.sk-toggleable__control:checked~label.sk-toggleable__label {background-color: #d4ebff;}#sk-container-id-18 input.sk-hidden--visually {border: 0;clip: rect(1px 1px 1px 1px);clip: rect(1px, 1px, 1px, 1px);height: 1px;margin: -1px;overflow: hidden;padding: 0;position: absolute;width: 1px;}#sk-container-id-18 div.sk-estimator {font-family: monospace;background-color: #f0f8ff;border: 1px dotted black;border-radius: 0.25em;box-sizing: border-box;margin-bottom: 0.5em;}#sk-container-id-18 div.sk-estimator:hover {background-color: #d4ebff;}#sk-container-id-18 div.sk-parallel-item::after {content: \"\";width: 100%;border-bottom: 1px solid gray;flex-grow: 1;}#sk-container-id-18 div.sk-label:hover label.sk-toggleable__label {background-color: #d4ebff;}#sk-container-id-18 div.sk-serial::before {content: \"\";position: absolute;border-left: 1px solid gray;box-sizing: border-box;top: 0;bottom: 0;left: 50%;z-index: 0;}#sk-container-id-18 div.sk-serial {display: flex;flex-direction: column;align-items: center;background-color: white;padding-right: 0.2em;padding-left: 0.2em;position: relative;}#sk-container-id-18 div.sk-item {position: relative;z-index: 1;}#sk-container-id-18 div.sk-parallel {display: flex;align-items: stretch;justify-content: center;background-color: white;position: relative;}#sk-container-id-18 div.sk-item::before, #sk-container-id-18 div.sk-parallel-item::before {content: \"\";position: absolute;border-left: 1px solid gray;box-sizing: border-box;top: 0;bottom: 0;left: 50%;z-index: -1;}#sk-container-id-18 div.sk-parallel-item {display: flex;flex-direction: column;z-index: 1;position: relative;background-color: white;}#sk-container-id-18 div.sk-parallel-item:first-child::after {align-self: flex-end;width: 50%;}#sk-container-id-18 div.sk-parallel-item:last-child::after {align-self: flex-start;width: 50%;}#sk-container-id-18 div.sk-parallel-item:only-child::after {width: 0;}#sk-container-id-18 div.sk-dashed-wrapped {border: 1px dashed gray;margin: 0 0.4em 0.5em 0.4em;box-sizing: border-box;padding-bottom: 0.4em;background-color: white;}#sk-container-id-18 div.sk-label label {font-family: monospace;font-weight: bold;display: inline-block;line-height: 1.2em;}#sk-container-id-18 div.sk-label-container {text-align: center;}#sk-container-id-18 div.sk-container {/* jupyter's `normalize.less` sets `[hidden] { display: none; }` but bootstrap.min.css set `[hidden] { display: none !important; }` so we also need the `!important` here to be able to override the default hidden behavior on the sphinx rendered scikit-learn.org. See: https://github.com/scikit-learn/scikit-learn/issues/21755 */display: inline-block !important;position: relative;}#sk-container-id-18 div.sk-text-repr-fallback {display: none;}</style><div id=\"sk-container-id-18\" class=\"sk-top-container\"><div class=\"sk-text-repr-fallback\"><pre>RandomForestRegressor()</pre><b>In a Jupyter environment, please rerun this cell to show the HTML representation or trust the notebook. <br />On GitHub, the HTML representation is unable to render, please try loading this page with nbviewer.org.</b></div><div class=\"sk-container\" hidden><div class=\"sk-item\"><div class=\"sk-estimator sk-toggleable\"><input class=\"sk-toggleable__control sk-hidden--visually\" id=\"sk-estimator-id-18\" type=\"checkbox\" checked><label for=\"sk-estimator-id-18\" class=\"sk-toggleable__label sk-toggleable__label-arrow\">RandomForestRegressor</label><div class=\"sk-toggleable__content\"><pre>RandomForestRegressor()</pre></div></div></div></div></div>"
      ]
     },
     "execution_count": 239,
     "metadata": {},
     "output_type": "execute_result"
    }
   ],
   "execution_count": 239
  },
  {
   "metadata": {
    "ExecuteTime": {
     "end_time": "2024-11-18T14:59:27.615312Z",
     "start_time": "2024-11-18T14:59:27.605577Z"
    }
   },
   "cell_type": "code",
   "source": "y_pred_rf = rf.predict(X_test)",
   "id": "530e67dfb419a9f6",
   "outputs": [],
   "execution_count": 240
  },
  {
   "metadata": {
    "ExecuteTime": {
     "end_time": "2024-11-18T14:59:27.932246Z",
     "start_time": "2024-11-18T14:59:27.927082Z"
    }
   },
   "cell_type": "code",
   "source": "r2_score(y_test, y_pred_rf)",
   "id": "e649387668b5b082",
   "outputs": [
    {
     "data": {
      "text/plain": [
       "0.5500191465241009"
      ]
     },
     "execution_count": 241,
     "metadata": {},
     "output_type": "execute_result"
    }
   ],
   "execution_count": 241
  },
  {
   "metadata": {
    "ExecuteTime": {
     "end_time": "2024-11-18T14:59:39.702693Z",
     "start_time": "2024-11-18T14:59:39.692825Z"
    }
   },
   "cell_type": "code",
   "source": "mean_squared_error(y_test, y_pred_rf, squared=False), mean_absolute_error(y_test, y_pred_rf)",
   "id": "28774bb1370356e4",
   "outputs": [
    {
     "data": {
      "text/plain": [
       "(16.772262550256464, 5.222013953703703)"
      ]
     },
     "execution_count": 242,
     "metadata": {},
     "output_type": "execute_result"
    }
   ],
   "execution_count": 242
  },
  {
   "metadata": {
    "ExecuteTime": {
     "end_time": "2024-11-18T14:51:34.207831Z",
     "start_time": "2024-11-18T14:51:34.205125Z"
    }
   },
   "cell_type": "code",
   "source": "y_pred_classes_rf = np.sign(y_pred_rf) == np.sign(y_test)",
   "id": "1783e1fdb6098774",
   "outputs": [],
   "execution_count": 222
  },
  {
   "metadata": {
    "ExecuteTime": {
     "end_time": "2024-11-18T14:51:34.640665Z",
     "start_time": "2024-11-18T14:51:34.637933Z"
    }
   },
   "cell_type": "code",
   "source": "y_pred_classes_rf.mean()",
   "id": "6d6d6351408c3800",
   "outputs": [
    {
     "data": {
      "text/plain": [
       "0.7592592592592593"
      ]
     },
     "execution_count": 223,
     "metadata": {},
     "output_type": "execute_result"
    }
   ],
   "execution_count": 223
  },
  {
   "metadata": {
    "ExecuteTime": {
     "end_time": "2024-11-18T14:51:36.971180Z",
     "start_time": "2024-11-18T14:51:36.961352Z"
    }
   },
   "cell_type": "code",
   "source": "print(classification_report(np.sign(y_test), np.sign(y_pred_rf), zero_division=False))",
   "id": "b781ac802229614",
   "outputs": [
    {
     "name": "stdout",
     "output_type": "stream",
     "text": [
      "              precision    recall  f1-score   support\n",
      "\n",
      "        -1.0       0.75      0.97      0.85        72\n",
      "         0.0       0.00      0.00      0.00         2\n",
      "         1.0       0.80      0.35      0.49        34\n",
      "\n",
      "    accuracy                           0.76       108\n",
      "   macro avg       0.52      0.44      0.45       108\n",
      "weighted avg       0.75      0.76      0.72       108\n",
      "\n"
     ]
    }
   ],
   "execution_count": 224
  },
  {
   "metadata": {
    "ExecuteTime": {
     "end_time": "2024-11-18T14:51:39.419577Z",
     "start_time": "2024-11-18T14:51:39.375403Z"
    }
   },
   "cell_type": "code",
   "source": "pd.DataFrame([X_train.columns, rf.feature_importances_]).T.sort_values(1, ascending=False)",
   "id": "2131e1b7bd02710c",
   "outputs": [
    {
     "data": {
      "text/plain": [
       "                             0         1\n",
       "20                candle_price  0.187086\n",
       "14            inverse_drawdown  0.178977\n",
       "18                price_rating  0.159346\n",
       "19                     ratings   0.10929\n",
       "1                maturity_date  0.093996\n",
       "5                    aci_value  0.064612\n",
       "11              company_rating  0.060935\n",
       "6                   issue_size  0.047164\n",
       "7              issue_size_plan  0.035694\n",
       "41            sector_materials   0.01182\n",
       "8                   risk_level  0.010597\n",
       "36            sector_financial  0.008838\n",
       "40                   sector_it  0.005551\n",
       "34             sector_consumer  0.005067\n",
       "17                 trend_slope  0.002825\n",
       "4              placement_price  0.002666\n",
       "45              sector_telecom  0.001862\n",
       "44          sector_real_estate  0.001673\n",
       "12                 mean_return   0.00155\n",
       "15                sharpe_ratio  0.001539\n",
       "2                      nominal  0.001326\n",
       "43                sector_other   0.00111\n",
       "35               sector_energy  0.001062\n",
       "39          sector_industrials  0.001022\n",
       "16               sortino_ratio  0.000931\n",
       "38          sector_health_care   0.00081\n",
       "0     coupon_quantity_per_year  0.000761\n",
       "13                   stability   0.00076\n",
       "46            sector_utilities  0.000227\n",
       "3              initial_nominal  0.000169\n",
       "48  issue_kind_non_documentary  0.000137\n",
       "25             class_code_TQOY  0.000115\n",
       "47      issue_kind_documentary  0.000101\n",
       "42            sector_municipal  0.000084\n",
       "9          min_price_increment  0.000063\n",
       "27                currency_cny  0.000062\n",
       "28                currency_rub  0.000062\n",
       "21             class_code_TQCB  0.000044\n",
       "22             class_code_TQIR  0.000017\n",
       "30          exchange_MOEX_PLUS  0.000015\n",
       "29               exchange_MOEX  0.000013\n",
       "37           sector_government  0.000007\n",
       "33          country_of_risk_RU  0.000006\n",
       "32          country_of_risk_KZ  0.000006\n",
       "26             class_code_TQRD  0.000001\n",
       "24             class_code_TQOB       0.0\n",
       "23             class_code_TQIY       0.0\n",
       "10                         lot       0.0\n",
       "31            exchange_unknown       0.0"
      ],
      "text/html": [
       "<div>\n",
       "<style scoped>\n",
       "    .dataframe tbody tr th:only-of-type {\n",
       "        vertical-align: middle;\n",
       "    }\n",
       "\n",
       "    .dataframe tbody tr th {\n",
       "        vertical-align: top;\n",
       "    }\n",
       "\n",
       "    .dataframe thead th {\n",
       "        text-align: right;\n",
       "    }\n",
       "</style>\n",
       "<table border=\"1\" class=\"dataframe\">\n",
       "  <thead>\n",
       "    <tr style=\"text-align: right;\">\n",
       "      <th></th>\n",
       "      <th>0</th>\n",
       "      <th>1</th>\n",
       "    </tr>\n",
       "  </thead>\n",
       "  <tbody>\n",
       "    <tr>\n",
       "      <th>20</th>\n",
       "      <td>candle_price</td>\n",
       "      <td>0.187086</td>\n",
       "    </tr>\n",
       "    <tr>\n",
       "      <th>14</th>\n",
       "      <td>inverse_drawdown</td>\n",
       "      <td>0.178977</td>\n",
       "    </tr>\n",
       "    <tr>\n",
       "      <th>18</th>\n",
       "      <td>price_rating</td>\n",
       "      <td>0.159346</td>\n",
       "    </tr>\n",
       "    <tr>\n",
       "      <th>19</th>\n",
       "      <td>ratings</td>\n",
       "      <td>0.10929</td>\n",
       "    </tr>\n",
       "    <tr>\n",
       "      <th>1</th>\n",
       "      <td>maturity_date</td>\n",
       "      <td>0.093996</td>\n",
       "    </tr>\n",
       "    <tr>\n",
       "      <th>5</th>\n",
       "      <td>aci_value</td>\n",
       "      <td>0.064612</td>\n",
       "    </tr>\n",
       "    <tr>\n",
       "      <th>11</th>\n",
       "      <td>company_rating</td>\n",
       "      <td>0.060935</td>\n",
       "    </tr>\n",
       "    <tr>\n",
       "      <th>6</th>\n",
       "      <td>issue_size</td>\n",
       "      <td>0.047164</td>\n",
       "    </tr>\n",
       "    <tr>\n",
       "      <th>7</th>\n",
       "      <td>issue_size_plan</td>\n",
       "      <td>0.035694</td>\n",
       "    </tr>\n",
       "    <tr>\n",
       "      <th>41</th>\n",
       "      <td>sector_materials</td>\n",
       "      <td>0.01182</td>\n",
       "    </tr>\n",
       "    <tr>\n",
       "      <th>8</th>\n",
       "      <td>risk_level</td>\n",
       "      <td>0.010597</td>\n",
       "    </tr>\n",
       "    <tr>\n",
       "      <th>36</th>\n",
       "      <td>sector_financial</td>\n",
       "      <td>0.008838</td>\n",
       "    </tr>\n",
       "    <tr>\n",
       "      <th>40</th>\n",
       "      <td>sector_it</td>\n",
       "      <td>0.005551</td>\n",
       "    </tr>\n",
       "    <tr>\n",
       "      <th>34</th>\n",
       "      <td>sector_consumer</td>\n",
       "      <td>0.005067</td>\n",
       "    </tr>\n",
       "    <tr>\n",
       "      <th>17</th>\n",
       "      <td>trend_slope</td>\n",
       "      <td>0.002825</td>\n",
       "    </tr>\n",
       "    <tr>\n",
       "      <th>4</th>\n",
       "      <td>placement_price</td>\n",
       "      <td>0.002666</td>\n",
       "    </tr>\n",
       "    <tr>\n",
       "      <th>45</th>\n",
       "      <td>sector_telecom</td>\n",
       "      <td>0.001862</td>\n",
       "    </tr>\n",
       "    <tr>\n",
       "      <th>44</th>\n",
       "      <td>sector_real_estate</td>\n",
       "      <td>0.001673</td>\n",
       "    </tr>\n",
       "    <tr>\n",
       "      <th>12</th>\n",
       "      <td>mean_return</td>\n",
       "      <td>0.00155</td>\n",
       "    </tr>\n",
       "    <tr>\n",
       "      <th>15</th>\n",
       "      <td>sharpe_ratio</td>\n",
       "      <td>0.001539</td>\n",
       "    </tr>\n",
       "    <tr>\n",
       "      <th>2</th>\n",
       "      <td>nominal</td>\n",
       "      <td>0.001326</td>\n",
       "    </tr>\n",
       "    <tr>\n",
       "      <th>43</th>\n",
       "      <td>sector_other</td>\n",
       "      <td>0.00111</td>\n",
       "    </tr>\n",
       "    <tr>\n",
       "      <th>35</th>\n",
       "      <td>sector_energy</td>\n",
       "      <td>0.001062</td>\n",
       "    </tr>\n",
       "    <tr>\n",
       "      <th>39</th>\n",
       "      <td>sector_industrials</td>\n",
       "      <td>0.001022</td>\n",
       "    </tr>\n",
       "    <tr>\n",
       "      <th>16</th>\n",
       "      <td>sortino_ratio</td>\n",
       "      <td>0.000931</td>\n",
       "    </tr>\n",
       "    <tr>\n",
       "      <th>38</th>\n",
       "      <td>sector_health_care</td>\n",
       "      <td>0.00081</td>\n",
       "    </tr>\n",
       "    <tr>\n",
       "      <th>0</th>\n",
       "      <td>coupon_quantity_per_year</td>\n",
       "      <td>0.000761</td>\n",
       "    </tr>\n",
       "    <tr>\n",
       "      <th>13</th>\n",
       "      <td>stability</td>\n",
       "      <td>0.00076</td>\n",
       "    </tr>\n",
       "    <tr>\n",
       "      <th>46</th>\n",
       "      <td>sector_utilities</td>\n",
       "      <td>0.000227</td>\n",
       "    </tr>\n",
       "    <tr>\n",
       "      <th>3</th>\n",
       "      <td>initial_nominal</td>\n",
       "      <td>0.000169</td>\n",
       "    </tr>\n",
       "    <tr>\n",
       "      <th>48</th>\n",
       "      <td>issue_kind_non_documentary</td>\n",
       "      <td>0.000137</td>\n",
       "    </tr>\n",
       "    <tr>\n",
       "      <th>25</th>\n",
       "      <td>class_code_TQOY</td>\n",
       "      <td>0.000115</td>\n",
       "    </tr>\n",
       "    <tr>\n",
       "      <th>47</th>\n",
       "      <td>issue_kind_documentary</td>\n",
       "      <td>0.000101</td>\n",
       "    </tr>\n",
       "    <tr>\n",
       "      <th>42</th>\n",
       "      <td>sector_municipal</td>\n",
       "      <td>0.000084</td>\n",
       "    </tr>\n",
       "    <tr>\n",
       "      <th>9</th>\n",
       "      <td>min_price_increment</td>\n",
       "      <td>0.000063</td>\n",
       "    </tr>\n",
       "    <tr>\n",
       "      <th>27</th>\n",
       "      <td>currency_cny</td>\n",
       "      <td>0.000062</td>\n",
       "    </tr>\n",
       "    <tr>\n",
       "      <th>28</th>\n",
       "      <td>currency_rub</td>\n",
       "      <td>0.000062</td>\n",
       "    </tr>\n",
       "    <tr>\n",
       "      <th>21</th>\n",
       "      <td>class_code_TQCB</td>\n",
       "      <td>0.000044</td>\n",
       "    </tr>\n",
       "    <tr>\n",
       "      <th>22</th>\n",
       "      <td>class_code_TQIR</td>\n",
       "      <td>0.000017</td>\n",
       "    </tr>\n",
       "    <tr>\n",
       "      <th>30</th>\n",
       "      <td>exchange_MOEX_PLUS</td>\n",
       "      <td>0.000015</td>\n",
       "    </tr>\n",
       "    <tr>\n",
       "      <th>29</th>\n",
       "      <td>exchange_MOEX</td>\n",
       "      <td>0.000013</td>\n",
       "    </tr>\n",
       "    <tr>\n",
       "      <th>37</th>\n",
       "      <td>sector_government</td>\n",
       "      <td>0.000007</td>\n",
       "    </tr>\n",
       "    <tr>\n",
       "      <th>33</th>\n",
       "      <td>country_of_risk_RU</td>\n",
       "      <td>0.000006</td>\n",
       "    </tr>\n",
       "    <tr>\n",
       "      <th>32</th>\n",
       "      <td>country_of_risk_KZ</td>\n",
       "      <td>0.000006</td>\n",
       "    </tr>\n",
       "    <tr>\n",
       "      <th>26</th>\n",
       "      <td>class_code_TQRD</td>\n",
       "      <td>0.000001</td>\n",
       "    </tr>\n",
       "    <tr>\n",
       "      <th>24</th>\n",
       "      <td>class_code_TQOB</td>\n",
       "      <td>0.0</td>\n",
       "    </tr>\n",
       "    <tr>\n",
       "      <th>23</th>\n",
       "      <td>class_code_TQIY</td>\n",
       "      <td>0.0</td>\n",
       "    </tr>\n",
       "    <tr>\n",
       "      <th>10</th>\n",
       "      <td>lot</td>\n",
       "      <td>0.0</td>\n",
       "    </tr>\n",
       "    <tr>\n",
       "      <th>31</th>\n",
       "      <td>exchange_unknown</td>\n",
       "      <td>0.0</td>\n",
       "    </tr>\n",
       "  </tbody>\n",
       "</table>\n",
       "</div>"
      ]
     },
     "execution_count": 225,
     "metadata": {},
     "output_type": "execute_result"
    }
   ],
   "execution_count": 225
  },
  {
   "metadata": {
    "ExecuteTime": {
     "end_time": "2024-11-18T14:51:40.546882Z",
     "start_time": "2024-11-18T14:51:40.543293Z"
    }
   },
   "cell_type": "code",
   "source": "rf_corr = RandomForestRegressor()",
   "id": "765bc63709417f58",
   "outputs": [],
   "execution_count": 226
  },
  {
   "metadata": {
    "ExecuteTime": {
     "end_time": "2024-11-18T14:51:44.640907Z",
     "start_time": "2024-11-18T14:51:40.885919Z"
    }
   },
   "cell_type": "code",
   "source": "rf.fit(X_train_corred, y_train)",
   "id": "3e8e99038dbb3d0a",
   "outputs": [
    {
     "data": {
      "text/plain": [
       "RandomForestRegressor(max_depth=10, n_estimators=1000, random_state=42)"
      ],
      "text/html": [
       "<style>#sk-container-id-17 {color: black;background-color: white;}#sk-container-id-17 pre{padding: 0;}#sk-container-id-17 div.sk-toggleable {background-color: white;}#sk-container-id-17 label.sk-toggleable__label {cursor: pointer;display: block;width: 100%;margin-bottom: 0;padding: 0.3em;box-sizing: border-box;text-align: center;}#sk-container-id-17 label.sk-toggleable__label-arrow:before {content: \"▸\";float: left;margin-right: 0.25em;color: #696969;}#sk-container-id-17 label.sk-toggleable__label-arrow:hover:before {color: black;}#sk-container-id-17 div.sk-estimator:hover label.sk-toggleable__label-arrow:before {color: black;}#sk-container-id-17 div.sk-toggleable__content {max-height: 0;max-width: 0;overflow: hidden;text-align: left;background-color: #f0f8ff;}#sk-container-id-17 div.sk-toggleable__content pre {margin: 0.2em;color: black;border-radius: 0.25em;background-color: #f0f8ff;}#sk-container-id-17 input.sk-toggleable__control:checked~div.sk-toggleable__content {max-height: 200px;max-width: 100%;overflow: auto;}#sk-container-id-17 input.sk-toggleable__control:checked~label.sk-toggleable__label-arrow:before {content: \"▾\";}#sk-container-id-17 div.sk-estimator input.sk-toggleable__control:checked~label.sk-toggleable__label {background-color: #d4ebff;}#sk-container-id-17 div.sk-label input.sk-toggleable__control:checked~label.sk-toggleable__label {background-color: #d4ebff;}#sk-container-id-17 input.sk-hidden--visually {border: 0;clip: rect(1px 1px 1px 1px);clip: rect(1px, 1px, 1px, 1px);height: 1px;margin: -1px;overflow: hidden;padding: 0;position: absolute;width: 1px;}#sk-container-id-17 div.sk-estimator {font-family: monospace;background-color: #f0f8ff;border: 1px dotted black;border-radius: 0.25em;box-sizing: border-box;margin-bottom: 0.5em;}#sk-container-id-17 div.sk-estimator:hover {background-color: #d4ebff;}#sk-container-id-17 div.sk-parallel-item::after {content: \"\";width: 100%;border-bottom: 1px solid gray;flex-grow: 1;}#sk-container-id-17 div.sk-label:hover label.sk-toggleable__label {background-color: #d4ebff;}#sk-container-id-17 div.sk-serial::before {content: \"\";position: absolute;border-left: 1px solid gray;box-sizing: border-box;top: 0;bottom: 0;left: 50%;z-index: 0;}#sk-container-id-17 div.sk-serial {display: flex;flex-direction: column;align-items: center;background-color: white;padding-right: 0.2em;padding-left: 0.2em;position: relative;}#sk-container-id-17 div.sk-item {position: relative;z-index: 1;}#sk-container-id-17 div.sk-parallel {display: flex;align-items: stretch;justify-content: center;background-color: white;position: relative;}#sk-container-id-17 div.sk-item::before, #sk-container-id-17 div.sk-parallel-item::before {content: \"\";position: absolute;border-left: 1px solid gray;box-sizing: border-box;top: 0;bottom: 0;left: 50%;z-index: -1;}#sk-container-id-17 div.sk-parallel-item {display: flex;flex-direction: column;z-index: 1;position: relative;background-color: white;}#sk-container-id-17 div.sk-parallel-item:first-child::after {align-self: flex-end;width: 50%;}#sk-container-id-17 div.sk-parallel-item:last-child::after {align-self: flex-start;width: 50%;}#sk-container-id-17 div.sk-parallel-item:only-child::after {width: 0;}#sk-container-id-17 div.sk-dashed-wrapped {border: 1px dashed gray;margin: 0 0.4em 0.5em 0.4em;box-sizing: border-box;padding-bottom: 0.4em;background-color: white;}#sk-container-id-17 div.sk-label label {font-family: monospace;font-weight: bold;display: inline-block;line-height: 1.2em;}#sk-container-id-17 div.sk-label-container {text-align: center;}#sk-container-id-17 div.sk-container {/* jupyter's `normalize.less` sets `[hidden] { display: none; }` but bootstrap.min.css set `[hidden] { display: none !important; }` so we also need the `!important` here to be able to override the default hidden behavior on the sphinx rendered scikit-learn.org. See: https://github.com/scikit-learn/scikit-learn/issues/21755 */display: inline-block !important;position: relative;}#sk-container-id-17 div.sk-text-repr-fallback {display: none;}</style><div id=\"sk-container-id-17\" class=\"sk-top-container\"><div class=\"sk-text-repr-fallback\"><pre>RandomForestRegressor(max_depth=10, n_estimators=1000, random_state=42)</pre><b>In a Jupyter environment, please rerun this cell to show the HTML representation or trust the notebook. <br />On GitHub, the HTML representation is unable to render, please try loading this page with nbviewer.org.</b></div><div class=\"sk-container\" hidden><div class=\"sk-item\"><div class=\"sk-estimator sk-toggleable\"><input class=\"sk-toggleable__control sk-hidden--visually\" id=\"sk-estimator-id-17\" type=\"checkbox\" checked><label for=\"sk-estimator-id-17\" class=\"sk-toggleable__label sk-toggleable__label-arrow\">RandomForestRegressor</label><div class=\"sk-toggleable__content\"><pre>RandomForestRegressor(max_depth=10, n_estimators=1000, random_state=42)</pre></div></div></div></div></div>"
      ]
     },
     "execution_count": 227,
     "metadata": {},
     "output_type": "execute_result"
    }
   ],
   "execution_count": 227
  },
  {
   "metadata": {
    "ExecuteTime": {
     "end_time": "2024-11-18T14:51:44.693530Z",
     "start_time": "2024-11-18T14:51:44.651754Z"
    }
   },
   "cell_type": "code",
   "source": "y_pred_rf_corr = rf.predict(X_test[list(X_train_corred.columns)])",
   "id": "228c72ad226a9d01",
   "outputs": [],
   "execution_count": 228
  },
  {
   "metadata": {
    "ExecuteTime": {
     "end_time": "2024-11-18T14:51:44.727705Z",
     "start_time": "2024-11-18T14:51:44.725006Z"
    }
   },
   "cell_type": "code",
   "source": "r2_score(y_test, y_pred_rf_corr)",
   "id": "eca2170d0e1ed64f",
   "outputs": [
    {
     "data": {
      "text/plain": [
       "0.5259978608231077"
      ]
     },
     "execution_count": 229,
     "metadata": {},
     "output_type": "execute_result"
    }
   ],
   "execution_count": 229
  },
  {
   "metadata": {
    "ExecuteTime": {
     "end_time": "2024-11-18T14:51:44.759703Z",
     "start_time": "2024-11-18T14:51:44.757325Z"
    }
   },
   "cell_type": "code",
   "source": "mean_squared_error(y_test, y_pred_rf_corr, squared=False)",
   "id": "b299c4a775e36693",
   "outputs": [
    {
     "data": {
      "text/plain": [
       "17.214118387704477"
      ]
     },
     "execution_count": 230,
     "metadata": {},
     "output_type": "execute_result"
    }
   ],
   "execution_count": 230
  },
  {
   "metadata": {
    "ExecuteTime": {
     "end_time": "2024-11-18T14:51:44.818386Z",
     "start_time": "2024-11-18T14:51:44.816104Z"
    }
   },
   "cell_type": "code",
   "source": "y_pred_classes_rf_corr = np.sign(y_pred_rf_corr) == np.sign(y_test)",
   "id": "ccc22692c126dc6b",
   "outputs": [],
   "execution_count": 231
  },
  {
   "metadata": {
    "ExecuteTime": {
     "end_time": "2024-11-18T14:51:44.827415Z",
     "start_time": "2024-11-18T14:51:44.824336Z"
    }
   },
   "cell_type": "code",
   "source": "y_pred_classes_rf_corr.mean()",
   "id": "440879e5a8e2495",
   "outputs": [
    {
     "data": {
      "text/plain": [
       "0.7314814814814815"
      ]
     },
     "execution_count": 232,
     "metadata": {},
     "output_type": "execute_result"
    }
   ],
   "execution_count": 232
  },
  {
   "metadata": {
    "ExecuteTime": {
     "end_time": "2024-11-18T14:51:44.931426Z",
     "start_time": "2024-11-18T14:51:44.926174Z"
    }
   },
   "cell_type": "code",
   "source": "print(classification_report(np.sign(y_test), np.sign(y_pred_rf_corr), zero_division=False))",
   "id": "e2f1a5dbe29f0709",
   "outputs": [
    {
     "name": "stdout",
     "output_type": "stream",
     "text": [
      "              precision    recall  f1-score   support\n",
      "\n",
      "        -1.0       0.74      0.94      0.83        72\n",
      "         0.0       0.00      0.00      0.00         2\n",
      "         1.0       0.69      0.32      0.44        34\n",
      "\n",
      "    accuracy                           0.73       108\n",
      "   macro avg       0.48      0.42      0.42       108\n",
      "weighted avg       0.71      0.73      0.69       108\n",
      "\n"
     ]
    }
   ],
   "execution_count": 233
  },
  {
   "metadata": {},
   "cell_type": "code",
   "outputs": [],
   "execution_count": null,
   "source": "",
   "id": "c4b8749f2aac640d"
  }
 ],
 "metadata": {
  "kernelspec": {
   "display_name": "Python 3",
   "language": "python",
   "name": "python3"
  },
  "language_info": {
   "codemirror_mode": {
    "name": "ipython",
    "version": 2
   },
   "file_extension": ".py",
   "mimetype": "text/x-python",
   "name": "python",
   "nbconvert_exporter": "python",
   "pygments_lexer": "ipython2",
   "version": "2.7.6"
  }
 },
 "nbformat": 4,
 "nbformat_minor": 5
}
