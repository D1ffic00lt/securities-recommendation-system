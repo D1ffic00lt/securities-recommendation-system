{
 "cells": [
  {
   "cell_type": "code",
   "id": "initial_id",
   "metadata": {
    "collapsed": true
   },
   "source": [
    "import matplotlib.pyplot as plt\n",
    "import numpy as np\n",
    "import pandas as pd\n",
    "from catboost import CatBoostClassifier"
   ],
   "outputs": [],
   "execution_count": null
  },
  {
   "metadata": {},
   "cell_type": "code",
   "source": [
    "old_bonds = pd.read_csv('../api/.cache2/bonds.csv')\n",
    "old_etfs = pd.read_csv('../api/.cache2/etfs.csv')\n",
    "old_shares = pd.read_csv('../api/.cache2/shares.csv')\n",
    "\n",
    "new_bonds = pd.read_csv('../api/.cache/bonds.csv')\n",
    "new_etfs = pd.read_csv('../api/.cache/etfs.csv')\n",
    "new_shares = pd.read_csv('../api/.cache/shares.csv')"
   ],
   "id": "e163beaa42dd613e",
   "outputs": [],
   "execution_count": null
  },
  {
   "metadata": {},
   "cell_type": "code",
   "source": "old_bonds.columns",
   "id": "8d1b89f07e9128e4",
   "outputs": [],
   "execution_count": null
  },
  {
   "metadata": {},
   "cell_type": "code",
   "source": "valid_columns = list(set(old_bonds.columns) & set(old_etfs.columns) & set(old_shares.columns))",
   "id": "35b08cdf16d00a0f",
   "outputs": [],
   "execution_count": null
  },
  {
   "metadata": {},
   "cell_type": "code",
   "source": [
    "old_bonds = old_bonds[valid_columns]\n",
    "old_etfs = old_etfs[valid_columns]\n",
    "old_shares = old_shares[valid_columns]"
   ],
   "id": "5b42d2317227986d",
   "outputs": [],
   "execution_count": null
  },
  {
   "metadata": {},
   "cell_type": "code",
   "source": [
    "old_bonds = old_bonds.dropna()\n",
    "old_etfs = old_etfs.dropna()\n",
    "old_shares = old_shares.dropna()"
   ],
   "id": "ac36a7fc7da20464",
   "outputs": [],
   "execution_count": null
  },
  {
   "metadata": {},
   "cell_type": "code",
   "source": [
    "useless_columns = [\n",
    "    \"ticker\", \"rub_price\", \"name\", \"company_rating\", \"isin\", \"price_rating\", \"ratings\", \"price\", \"country_of_risk_name\"\n",
    "]\n",
    "\n",
    "old_bonds = old_bonds.drop(useless_columns, axis=1)\n",
    "old_etfs = old_etfs.drop(useless_columns, axis=1)\n",
    "old_shares = old_shares.drop(useless_columns, axis=1)"
   ],
   "id": "793c1466a569f99f",
   "outputs": [],
   "execution_count": null
  },
  {
   "metadata": {},
   "cell_type": "code",
   "source": "list(old_bonds.columns) == list(old_etfs.columns) == list(old_shares.columns)",
   "id": "8c65c63c0a0465eb",
   "outputs": [],
   "execution_count": null
  },
  {
   "metadata": {},
   "cell_type": "code",
   "source": "train = pd.concat([old_bonds, old_etfs, old_shares])",
   "id": "bf5053267f17bfb2",
   "outputs": [],
   "execution_count": null
  },
  {
   "metadata": {},
   "cell_type": "code",
   "source": [
    "new_bonds = new_bonds[valid_columns].drop(useless_columns, axis=1)\n",
    "new_etfs = new_etfs[valid_columns].drop(useless_columns, axis=1)\n",
    "new_shares = new_shares[valid_columns].drop(useless_columns, axis=1)\n",
    "\n",
    "val = pd.concat([new_bonds, new_etfs, new_shares])"
   ],
   "id": "5224b56177de544e",
   "outputs": [],
   "execution_count": null
  },
  {
   "metadata": {},
   "cell_type": "code",
   "source": "val[[\"candle_price\", \"figi\"]].rename({\"candle_price\": \"price\"}, axis=1)",
   "id": "fcc4d3aafb1c4b75",
   "outputs": [],
   "execution_count": null
  },
  {
   "metadata": {},
   "cell_type": "code",
   "source": [
    "import numpy as np\n",
    "\n",
    "train.loc[np.isin(train.figi, val.figi)].shape == train.shape"
   ],
   "id": "59f0e410f9a848cf",
   "outputs": [],
   "execution_count": null
  },
  {
   "metadata": {},
   "cell_type": "code",
   "source": "train = train.loc[np.isin(train.figi, val.figi)]",
   "id": "b3eb45b646ee4b59",
   "outputs": [],
   "execution_count": null
  },
  {
   "metadata": {},
   "cell_type": "code",
   "source": [
    "prices = pd.merge(\n",
    "    val[[\"candle_price\", \"figi\"]].rename({\"candle_price\": \"price\"}, axis=1), train[[\"candle_price\",\n",
    "                                                                                    \"figi\"]],\n",
    "    on=\"figi\",\n",
    "    how=\"left\"\n",
    ")"
   ],
   "id": "df727cf991c6a055",
   "outputs": [],
   "execution_count": null
  },
  {
   "metadata": {},
   "cell_type": "code",
   "source": "na_figis = prices[prices.isna()].figi",
   "id": "1b38c6c728363454",
   "outputs": [],
   "execution_count": null
  },
  {
   "metadata": {},
   "cell_type": "code",
   "source": "prices = prices.dropna()",
   "id": "92dad2bf36428f83",
   "outputs": [],
   "execution_count": null
  },
  {
   "metadata": {},
   "cell_type": "code",
   "source": "prices[\"target\"] = prices.price > prices.candle_price",
   "id": "43a0a5ed775eef97",
   "outputs": [],
   "execution_count": null
  },
  {
   "metadata": {},
   "cell_type": "code",
   "source": "prices.dtypes",
   "id": "deecd9b7c15cffb9",
   "outputs": [],
   "execution_count": null
  },
  {
   "metadata": {},
   "cell_type": "code",
   "source": "train[\"target\"] = train.figi.apply(lambda x: prices.loc[prices.figi == x].iloc[0].target)",
   "id": "789a47fce92a583d",
   "outputs": [],
   "execution_count": null
  },
  {
   "metadata": {},
   "cell_type": "code",
   "source": "train = train.drop([\"figi\", \"candle_price\"], axis=1)",
   "id": "81576954b246ece7",
   "outputs": [],
   "execution_count": null
  },
  {
   "metadata": {},
   "cell_type": "code",
   "source": "train.columns",
   "id": "b2dfa723f966969f",
   "outputs": [],
   "execution_count": null
  },
  {
   "metadata": {},
   "cell_type": "code",
   "source": "train.dtypes",
   "id": "4ecd0c358885629a",
   "outputs": [],
   "execution_count": null
  },
  {
   "metadata": {},
   "cell_type": "code",
   "source": [
    "real_bonds = pd.read_csv('../api/.actual_cache/bonds.csv')\n",
    "real_etfs = pd.read_csv('../api/.actual_cache/etfs.csv')\n",
    "real_shares = pd.read_csv('../api/.actual_cache/shares.csv')"
   ],
   "id": "d80324e26a1d9232",
   "outputs": [],
   "execution_count": null
  },
  {
   "metadata": {},
   "cell_type": "code",
   "source": [
    "real_bonds = real_bonds[valid_columns].drop(useless_columns, axis=1)\n",
    "real_etfs = real_etfs[valid_columns].drop(useless_columns, axis=1)\n",
    "real_shares = real_shares[valid_columns].drop(useless_columns, axis=1)"
   ],
   "id": "2f9169c408435868",
   "outputs": [],
   "execution_count": null
  },
  {
   "metadata": {},
   "cell_type": "code",
   "source": "test = pd.concat([real_bonds, real_etfs, real_shares])",
   "id": "f1986bd763a02bc5",
   "outputs": [],
   "execution_count": null
  },
  {
   "metadata": {},
   "cell_type": "code",
   "source": "test = test.dropna()",
   "id": "2d64025ebe8befb",
   "outputs": [],
   "execution_count": null
  },
  {
   "metadata": {},
   "cell_type": "code",
   "source": "val.figi.nunique(), test.figi.nunique()",
   "id": "4dcb001513106d2b",
   "outputs": [],
   "execution_count": null
  },
  {
   "metadata": {},
   "cell_type": "code",
   "source": [
    "test_prices = pd.merge(\n",
    "    test[[\"candle_price\", \"figi\"]].rename({\"candle_price\": \"price\"}, axis=1), val[[\"candle_price\", \"figi\"]],\n",
    "    on=\"figi\",\n",
    "    how=\"left\"\n",
    ")"
   ],
   "id": "4916a92846a45f4",
   "outputs": [],
   "execution_count": null
  },
  {
   "metadata": {},
   "cell_type": "code",
   "source": [
    "test_prices = test_prices.dropna()\n",
    "test_prices[\"target\"] = test_prices.price > test_prices.candle_price\n",
    "X_test = val.loc[np.isin(val.figi, test.figi)]\n",
    "Y_test = X_test.figi.apply(lambda x: test_prices.loc[test_prices.figi == x].iloc[0].target)"
   ],
   "id": "7d743ca9f282c27a",
   "outputs": [],
   "execution_count": null
  },
  {
   "metadata": {},
   "cell_type": "code",
   "source": "X_test = X_test.drop([\"figi\", \"candle_price\"], axis=1)",
   "id": "6373bc08a774aa69",
   "outputs": [],
   "execution_count": null
  },
  {
   "metadata": {
    "ExecuteTime": {
     "end_time": "2024-11-13T16:18:39.016206Z",
     "start_time": "2024-11-13T16:18:39.008789Z"
    }
   },
   "cell_type": "code",
   "source": "model = CatBoostClassifier(iterations=10001, depth=5)",
   "id": "de4a9c2e4155a8a6",
   "outputs": [],
   "execution_count": 250
  },
  {
   "metadata": {
    "ExecuteTime": {
     "end_time": "2024-11-13T16:19:02.358954Z",
     "start_time": "2024-11-13T16:18:39.319186Z"
    }
   },
   "cell_type": "code",
   "source": [
    "model.fit(\n",
    "    train.drop(\"target\", axis=1),\n",
    "    train.target,\n",
    "    verbose=100,\n",
    "    cat_features=[\n",
    "        \"currency\",\n",
    "        \"country_of_risk\",\n",
    "        \"exchange\",\n",
    "        \"class_code\",\n",
    "        \"sector\"\n",
    "    ]\n",
    ")"
   ],
   "id": "218fdb17b09820b6",
   "outputs": [
    {
     "name": "stdout",
     "output_type": "stream",
     "text": [
      "Learning rate set to 0.001393\n",
      "0:\tlearn: 0.6928123\ttotal: 12.2ms\tremaining: 2m 1s\n",
      "100:\tlearn: 0.6662781\ttotal: 194ms\tremaining: 19s\n",
      "200:\tlearn: 0.6449033\ttotal: 363ms\tremaining: 17.7s\n",
      "300:\tlearn: 0.6277406\ttotal: 542ms\tremaining: 17.5s\n",
      "400:\tlearn: 0.6135756\ttotal: 729ms\tremaining: 17.5s\n",
      "500:\tlearn: 0.6020645\ttotal: 909ms\tremaining: 17.2s\n",
      "600:\tlearn: 0.5928085\ttotal: 1.09s\tremaining: 17s\n",
      "700:\tlearn: 0.5847055\ttotal: 1.27s\tremaining: 16.9s\n",
      "800:\tlearn: 0.5776791\ttotal: 1.45s\tremaining: 16.7s\n",
      "900:\tlearn: 0.5719739\ttotal: 1.63s\tremaining: 16.5s\n",
      "1000:\tlearn: 0.5668953\ttotal: 1.82s\tremaining: 16.4s\n",
      "1100:\tlearn: 0.5622258\ttotal: 2s\tremaining: 16.2s\n",
      "1200:\tlearn: 0.5584656\ttotal: 2.18s\tremaining: 16s\n",
      "1300:\tlearn: 0.5547438\ttotal: 2.37s\tremaining: 15.9s\n",
      "1400:\tlearn: 0.5515246\ttotal: 2.56s\tremaining: 15.7s\n",
      "1500:\tlearn: 0.5485183\ttotal: 2.75s\tremaining: 15.6s\n",
      "1600:\tlearn: 0.5458630\ttotal: 2.94s\tremaining: 15.5s\n",
      "1700:\tlearn: 0.5432636\ttotal: 3.14s\tremaining: 15.3s\n",
      "1800:\tlearn: 0.5410220\ttotal: 3.33s\tremaining: 15.1s\n",
      "1900:\tlearn: 0.5385922\ttotal: 3.52s\tremaining: 15s\n",
      "2000:\tlearn: 0.5364247\ttotal: 3.74s\tremaining: 15s\n",
      "2100:\tlearn: 0.5343694\ttotal: 4.07s\tremaining: 15.3s\n",
      "2200:\tlearn: 0.5323178\ttotal: 4.34s\tremaining: 15.4s\n",
      "2300:\tlearn: 0.5304005\ttotal: 4.62s\tremaining: 15.5s\n",
      "2400:\tlearn: 0.5286762\ttotal: 4.89s\tremaining: 15.5s\n",
      "2500:\tlearn: 0.5269449\ttotal: 5.16s\tremaining: 15.5s\n",
      "2600:\tlearn: 0.5254721\ttotal: 5.41s\tremaining: 15.4s\n",
      "2700:\tlearn: 0.5239058\ttotal: 5.74s\tremaining: 15.5s\n",
      "2800:\tlearn: 0.5221998\ttotal: 6.01s\tremaining: 15.5s\n",
      "2900:\tlearn: 0.5207274\ttotal: 6.26s\tremaining: 15.3s\n",
      "3000:\tlearn: 0.5191362\ttotal: 6.5s\tremaining: 15.2s\n",
      "3100:\tlearn: 0.5176624\ttotal: 6.77s\tremaining: 15.1s\n",
      "3200:\tlearn: 0.5162477\ttotal: 6.98s\tremaining: 14.8s\n",
      "3300:\tlearn: 0.5147478\ttotal: 7.18s\tremaining: 14.6s\n",
      "3400:\tlearn: 0.5133930\ttotal: 7.38s\tremaining: 14.3s\n",
      "3500:\tlearn: 0.5120876\ttotal: 7.58s\tremaining: 14.1s\n",
      "3600:\tlearn: 0.5107301\ttotal: 7.79s\tremaining: 13.8s\n",
      "3700:\tlearn: 0.5093192\ttotal: 8.02s\tremaining: 13.6s\n",
      "3800:\tlearn: 0.5079254\ttotal: 8.23s\tremaining: 13.4s\n",
      "3900:\tlearn: 0.5064351\ttotal: 8.44s\tremaining: 13.2s\n",
      "4000:\tlearn: 0.5050916\ttotal: 8.64s\tremaining: 13s\n",
      "4100:\tlearn: 0.5038457\ttotal: 8.92s\tremaining: 12.8s\n",
      "4200:\tlearn: 0.5025787\ttotal: 9.11s\tremaining: 12.6s\n",
      "4300:\tlearn: 0.5011972\ttotal: 9.31s\tremaining: 12.3s\n",
      "4400:\tlearn: 0.5000336\ttotal: 9.55s\tremaining: 12.1s\n",
      "4500:\tlearn: 0.4987986\ttotal: 9.78s\tremaining: 12s\n",
      "4600:\tlearn: 0.4975486\ttotal: 9.98s\tremaining: 11.7s\n",
      "4700:\tlearn: 0.4961990\ttotal: 10.2s\tremaining: 11.5s\n",
      "4800:\tlearn: 0.4949067\ttotal: 10.4s\tremaining: 11.3s\n",
      "4900:\tlearn: 0.4935888\ttotal: 10.7s\tremaining: 11.1s\n",
      "5000:\tlearn: 0.4919973\ttotal: 10.9s\tremaining: 10.9s\n",
      "5100:\tlearn: 0.4907860\ttotal: 11.1s\tremaining: 10.6s\n",
      "5200:\tlearn: 0.4893881\ttotal: 11.3s\tremaining: 10.4s\n",
      "5300:\tlearn: 0.4879369\ttotal: 11.5s\tremaining: 10.2s\n",
      "5400:\tlearn: 0.4864204\ttotal: 11.7s\tremaining: 9.95s\n",
      "5500:\tlearn: 0.4849428\ttotal: 11.9s\tremaining: 9.72s\n",
      "5600:\tlearn: 0.4834177\ttotal: 12.1s\tremaining: 9.5s\n",
      "5700:\tlearn: 0.4819420\ttotal: 12.3s\tremaining: 9.28s\n",
      "5800:\tlearn: 0.4805012\ttotal: 12.5s\tremaining: 9.08s\n",
      "5900:\tlearn: 0.4790611\ttotal: 12.8s\tremaining: 8.86s\n",
      "6000:\tlearn: 0.4775448\ttotal: 13s\tremaining: 8.64s\n",
      "6100:\tlearn: 0.4760220\ttotal: 13.2s\tremaining: 8.42s\n",
      "6200:\tlearn: 0.4746413\ttotal: 13.4s\tremaining: 8.2s\n",
      "6300:\tlearn: 0.4731358\ttotal: 13.6s\tremaining: 7.99s\n",
      "6400:\tlearn: 0.4715045\ttotal: 13.8s\tremaining: 7.76s\n",
      "6500:\tlearn: 0.4699442\ttotal: 14s\tremaining: 7.54s\n",
      "6600:\tlearn: 0.4682920\ttotal: 14.2s\tremaining: 7.32s\n",
      "6700:\tlearn: 0.4665048\ttotal: 14.4s\tremaining: 7.1s\n",
      "6800:\tlearn: 0.4648106\ttotal: 14.6s\tremaining: 6.89s\n",
      "6900:\tlearn: 0.4632452\ttotal: 14.9s\tremaining: 6.67s\n",
      "7000:\tlearn: 0.4615167\ttotal: 15.1s\tremaining: 6.46s\n",
      "7100:\tlearn: 0.4597636\ttotal: 15.3s\tremaining: 6.24s\n",
      "7200:\tlearn: 0.4579659\ttotal: 15.5s\tremaining: 6.02s\n",
      "7300:\tlearn: 0.4562261\ttotal: 15.7s\tremaining: 5.81s\n",
      "7400:\tlearn: 0.4544011\ttotal: 15.9s\tremaining: 5.59s\n",
      "7500:\tlearn: 0.4526786\ttotal: 16.1s\tremaining: 5.37s\n",
      "7600:\tlearn: 0.4509663\ttotal: 16.3s\tremaining: 5.16s\n",
      "7700:\tlearn: 0.4493234\ttotal: 16.6s\tremaining: 4.95s\n",
      "7800:\tlearn: 0.4477053\ttotal: 16.9s\tremaining: 4.76s\n",
      "7900:\tlearn: 0.4461057\ttotal: 17.2s\tremaining: 4.57s\n",
      "8000:\tlearn: 0.4443207\ttotal: 17.5s\tremaining: 4.37s\n",
      "8100:\tlearn: 0.4428610\ttotal: 17.8s\tremaining: 4.17s\n",
      "8200:\tlearn: 0.4412083\ttotal: 18.1s\tremaining: 3.97s\n",
      "8300:\tlearn: 0.4394495\ttotal: 18.4s\tremaining: 3.77s\n",
      "8400:\tlearn: 0.4378824\ttotal: 18.7s\tremaining: 3.57s\n",
      "8500:\tlearn: 0.4363781\ttotal: 19s\tremaining: 3.36s\n",
      "8600:\tlearn: 0.4347043\ttotal: 19.2s\tremaining: 3.13s\n",
      "8700:\tlearn: 0.4331305\ttotal: 19.5s\tremaining: 2.91s\n",
      "8800:\tlearn: 0.4315102\ttotal: 19.7s\tremaining: 2.69s\n",
      "8900:\tlearn: 0.4298674\ttotal: 19.9s\tremaining: 2.46s\n",
      "9000:\tlearn: 0.4283339\ttotal: 20.1s\tremaining: 2.24s\n",
      "9100:\tlearn: 0.4268442\ttotal: 20.4s\tremaining: 2.01s\n",
      "9200:\tlearn: 0.4253271\ttotal: 20.6s\tremaining: 1.79s\n",
      "9300:\tlearn: 0.4237407\ttotal: 20.8s\tremaining: 1.57s\n",
      "9400:\tlearn: 0.4222353\ttotal: 21s\tremaining: 1.34s\n",
      "9500:\tlearn: 0.4207538\ttotal: 21.2s\tremaining: 1.12s\n",
      "9600:\tlearn: 0.4191103\ttotal: 21.5s\tremaining: 894ms\n",
      "9700:\tlearn: 0.4176547\ttotal: 21.7s\tremaining: 671ms\n",
      "9800:\tlearn: 0.4163159\ttotal: 21.9s\tremaining: 447ms\n",
      "9900:\tlearn: 0.4149562\ttotal: 22.1s\tremaining: 224ms\n",
      "10000:\tlearn: 0.4134107\ttotal: 22.3s\tremaining: 0us\n"
     ]
    },
    {
     "data": {
      "text/plain": [
       "<catboost.core.CatBoostClassifier at 0x16c3a1ed0>"
      ]
     },
     "execution_count": 251,
     "metadata": {},
     "output_type": "execute_result"
    }
   ],
   "execution_count": 251
  },
  {
   "metadata": {
    "ExecuteTime": {
     "end_time": "2024-11-13T16:19:05.356318Z",
     "start_time": "2024-11-13T16:19:05.353843Z"
    }
   },
   "cell_type": "code",
   "source": "from sklearn.metrics import classification_report",
   "id": "8ed22c69a4e5c59a",
   "outputs": [],
   "execution_count": 252
  },
  {
   "metadata": {
    "ExecuteTime": {
     "end_time": "2024-11-13T16:19:07.867484Z",
     "start_time": "2024-11-13T16:19:07.758362Z"
    }
   },
   "cell_type": "code",
   "source": "print(classification_report(Y_test.astype(str), model.predict(X_test)))",
   "id": "fb81eda3e8898c3",
   "outputs": [
    {
     "name": "stdout",
     "output_type": "stream",
     "text": [
      "              precision    recall  f1-score   support\n",
      "\n",
      "       False       0.83      0.77      0.80      1004\n",
      "        True       0.40      0.48      0.44       313\n",
      "\n",
      "    accuracy                           0.70      1317\n",
      "   macro avg       0.61      0.63      0.62      1317\n",
      "weighted avg       0.73      0.70      0.71      1317\n",
      "\n"
     ]
    }
   ],
   "execution_count": 253
  },
  {
   "metadata": {},
   "cell_type": "code",
   "source": [
    "bonds = pd.read_csv('../api/.cache/bonds.csv')\n",
    "etfs = pd.read_csv('../api/.cache/etfs.csv')\n",
    "shares = pd.read_csv('../api/.cache/shares.csv')"
   ],
   "id": "638f2b0a02d22718",
   "outputs": [],
   "execution_count": null
  },
  {
   "metadata": {
    "ExecuteTime": {
     "end_time": "2024-11-13T16:20:06.958692Z",
     "start_time": "2024-11-13T16:20:06.945787Z"
    }
   },
   "cell_type": "code",
   "source": "bonds_nans = bonds[X_test.columns].isna().any(axis=1)",
   "id": "a10441dbcc3b3525",
   "outputs": [],
   "execution_count": 255
  },
  {
   "metadata": {
    "ExecuteTime": {
     "end_time": "2024-11-13T16:20:07.369433Z",
     "start_time": "2024-11-13T16:20:07.345938Z"
    }
   },
   "cell_type": "code",
   "source": "score = model.predict_proba(bonds[X_test.columns][~bonds_nans])",
   "id": "5ac2e250f71b9a30",
   "outputs": [],
   "execution_count": 256
  },
  {
   "metadata": {
    "ExecuteTime": {
     "end_time": "2024-11-13T16:20:07.671576Z",
     "start_time": "2024-11-13T16:20:07.667034Z"
    }
   },
   "cell_type": "code",
   "source": [
    "bonds.loc[~bonds_nans, \"ratings\"] = score[:, 1]\n",
    "bonds.loc[bonds_nans, \"ratings\"] = 0"
   ],
   "id": "13f7f8395c2486f7",
   "outputs": [],
   "execution_count": 257
  },
  {
   "metadata": {
    "ExecuteTime": {
     "end_time": "2024-11-13T16:20:08.068299Z",
     "start_time": "2024-11-13T16:20:08.057228Z"
    }
   },
   "cell_type": "code",
   "source": "bonds",
   "id": "b12fa837e37cb7de",
   "outputs": [
    {
     "data": {
      "text/plain": [
       "              figi        ticker class_code          isin currency  \\\n",
       "0     TCS00A107D74  RU000A107D74       TQCB  RU000A107D74      rub   \n",
       "1     BBG00XH4W3N3  RU000A101RZ3       TQCB  RU000A101RZ3      rub   \n",
       "2     BBG00Z8KGGC3  RU000A102R73       TQCB  RU000A102R73      rub   \n",
       "3     TCS00A102D46  RU000A102D46       TQCB  RU000A102D46      rub   \n",
       "4     ISSUANCEPRLS  RU000A1022E6       TQCB  RU000A1022E6      rub   \n",
       "...            ...           ...        ...           ...      ...   \n",
       "1092  TCS00A105Q63  RU000A105Q63       TQCB  RU000A105Q63      rub   \n",
       "1093  BBG012YS2TP2  RU000A103VD8       TQCB  RU000A103VD8      rub   \n",
       "1094  TCS00A105HJ9  RU000A105HJ9       TQCB  RU000A105HJ9      rub   \n",
       "1095  TCS00A104735  RU000A104735       TQCB  RU000A104735      rub   \n",
       "1096  BBG00J7HHGH1  RU000A0ZYG52       TQCB  RU000A0ZYG52      rub   \n",
       "\n",
       "                             name exchange  coupon_quantity_per_year  \\\n",
       "0         ЭнергоТехСервис 001P-05     MOEX                        12   \n",
       "1             Казахстан выпуск 11     MOEX                         2   \n",
       "2     Банк Открытие БО-П выпуск 7     MOEX                         2   \n",
       "3                  ДОМ.РФ ИА 018P     MOEX                         4   \n",
       "4               ПР-Лизинг 002P-01     MOEX                        12   \n",
       "...                           ...      ...                       ...   \n",
       "1092     Уральская Сталь выпуск 1     MOEX                         2   \n",
       "1093     МСБ-Лизинг 002P выпуск 5     MOEX                        12   \n",
       "1094           Альфа-Банк 002Р-18     MOEX                         2   \n",
       "1095      ГК Пионер-001P выпуск 6     MOEX                         4   \n",
       "1096          Ростелеком выпуск 3     MOEX                         2   \n",
       "\n",
       "     maturity_date  nominal  ...  company_rating  mean_return  stability  \\\n",
       "0       02/12/2025  1000.00  ...        6.293961     5.478607   7.072402   \n",
       "1       11/09/2030  1000.00  ...        3.675523     2.037783   6.312588   \n",
       "2       06/02/2026  1000.00  ...        5.425456     2.576455   0.000000   \n",
       "3       28/02/2051   380.15  ...        5.401428     2.167806   4.603457   \n",
       "4       10/08/2029  1000.00  ...        6.306879     6.437097   7.994501   \n",
       "...            ...      ...  ...             ...          ...        ...   \n",
       "1092    25/12/2025  1000.00  ...        4.992343     5.023308   5.829206   \n",
       "1093    18/09/2026   638.86  ...        6.204105     5.257028   5.383971   \n",
       "1094    29/11/2024  1000.00  ...        5.442307     6.950916   8.011526   \n",
       "1095    04/12/2025  1000.00  ...        4.801130     5.907525   7.932433   \n",
       "1096    09/11/2027  1000.00  ...        4.965786     5.904696   5.791758   \n",
       "\n",
       "     inverse_drawdown sharpe_ratio sortino_ratio trend_slope  price_rating  \\\n",
       "0            2.321849     5.604616      5.315462    4.959775      5.125452   \n",
       "1            6.928665     2.235709      2.225757    2.040463      3.630161   \n",
       "2            9.113294     6.559297      6.287767    0.008493      4.090884   \n",
       "3            7.343594     3.974293      4.113328    1.809578      4.002009   \n",
       "4            1.562965     6.717169      6.388216    6.236490      5.889406   \n",
       "...               ...          ...           ...         ...           ...   \n",
       "1092         2.719374     5.775431      5.498220    5.150632      4.999362   \n",
       "1093         2.627258     6.155981      5.912684    5.499200      5.139354   \n",
       "1094         0.537598     7.731825      7.442248    7.035189      6.284884   \n",
       "1095         1.360698     5.726598      5.075679    5.807311      5.301707   \n",
       "1096         2.667667     6.650719      6.463461    5.602540      5.513473   \n",
       "\n",
       "       ratings  candle_price  \n",
       "0     0.231805         96.05  \n",
       "1     0.013706         59.56  \n",
       "2     0.306771         77.83  \n",
       "3     0.123528         68.05  \n",
       "4     0.482279         95.10  \n",
       "...        ...           ...  \n",
       "1092  0.203010         88.60  \n",
       "1093  0.295340         91.28  \n",
       "1094  0.578111         99.09  \n",
       "1095  0.499176         92.30  \n",
       "1096  0.364446         90.28  \n",
       "\n",
       "[1097 rows x 35 columns]"
      ],
      "text/html": [
       "<div>\n",
       "<style scoped>\n",
       "    .dataframe tbody tr th:only-of-type {\n",
       "        vertical-align: middle;\n",
       "    }\n",
       "\n",
       "    .dataframe tbody tr th {\n",
       "        vertical-align: top;\n",
       "    }\n",
       "\n",
       "    .dataframe thead th {\n",
       "        text-align: right;\n",
       "    }\n",
       "</style>\n",
       "<table border=\"1\" class=\"dataframe\">\n",
       "  <thead>\n",
       "    <tr style=\"text-align: right;\">\n",
       "      <th></th>\n",
       "      <th>figi</th>\n",
       "      <th>ticker</th>\n",
       "      <th>class_code</th>\n",
       "      <th>isin</th>\n",
       "      <th>currency</th>\n",
       "      <th>name</th>\n",
       "      <th>exchange</th>\n",
       "      <th>coupon_quantity_per_year</th>\n",
       "      <th>maturity_date</th>\n",
       "      <th>nominal</th>\n",
       "      <th>...</th>\n",
       "      <th>company_rating</th>\n",
       "      <th>mean_return</th>\n",
       "      <th>stability</th>\n",
       "      <th>inverse_drawdown</th>\n",
       "      <th>sharpe_ratio</th>\n",
       "      <th>sortino_ratio</th>\n",
       "      <th>trend_slope</th>\n",
       "      <th>price_rating</th>\n",
       "      <th>ratings</th>\n",
       "      <th>candle_price</th>\n",
       "    </tr>\n",
       "  </thead>\n",
       "  <tbody>\n",
       "    <tr>\n",
       "      <th>0</th>\n",
       "      <td>TCS00A107D74</td>\n",
       "      <td>RU000A107D74</td>\n",
       "      <td>TQCB</td>\n",
       "      <td>RU000A107D74</td>\n",
       "      <td>rub</td>\n",
       "      <td>ЭнергоТехСервис 001P-05</td>\n",
       "      <td>MOEX</td>\n",
       "      <td>12</td>\n",
       "      <td>02/12/2025</td>\n",
       "      <td>1000.00</td>\n",
       "      <td>...</td>\n",
       "      <td>6.293961</td>\n",
       "      <td>5.478607</td>\n",
       "      <td>7.072402</td>\n",
       "      <td>2.321849</td>\n",
       "      <td>5.604616</td>\n",
       "      <td>5.315462</td>\n",
       "      <td>4.959775</td>\n",
       "      <td>5.125452</td>\n",
       "      <td>0.231805</td>\n",
       "      <td>96.05</td>\n",
       "    </tr>\n",
       "    <tr>\n",
       "      <th>1</th>\n",
       "      <td>BBG00XH4W3N3</td>\n",
       "      <td>RU000A101RZ3</td>\n",
       "      <td>TQCB</td>\n",
       "      <td>RU000A101RZ3</td>\n",
       "      <td>rub</td>\n",
       "      <td>Казахстан выпуск 11</td>\n",
       "      <td>MOEX</td>\n",
       "      <td>2</td>\n",
       "      <td>11/09/2030</td>\n",
       "      <td>1000.00</td>\n",
       "      <td>...</td>\n",
       "      <td>3.675523</td>\n",
       "      <td>2.037783</td>\n",
       "      <td>6.312588</td>\n",
       "      <td>6.928665</td>\n",
       "      <td>2.235709</td>\n",
       "      <td>2.225757</td>\n",
       "      <td>2.040463</td>\n",
       "      <td>3.630161</td>\n",
       "      <td>0.013706</td>\n",
       "      <td>59.56</td>\n",
       "    </tr>\n",
       "    <tr>\n",
       "      <th>2</th>\n",
       "      <td>BBG00Z8KGGC3</td>\n",
       "      <td>RU000A102R73</td>\n",
       "      <td>TQCB</td>\n",
       "      <td>RU000A102R73</td>\n",
       "      <td>rub</td>\n",
       "      <td>Банк Открытие БО-П выпуск 7</td>\n",
       "      <td>MOEX</td>\n",
       "      <td>2</td>\n",
       "      <td>06/02/2026</td>\n",
       "      <td>1000.00</td>\n",
       "      <td>...</td>\n",
       "      <td>5.425456</td>\n",
       "      <td>2.576455</td>\n",
       "      <td>0.000000</td>\n",
       "      <td>9.113294</td>\n",
       "      <td>6.559297</td>\n",
       "      <td>6.287767</td>\n",
       "      <td>0.008493</td>\n",
       "      <td>4.090884</td>\n",
       "      <td>0.306771</td>\n",
       "      <td>77.83</td>\n",
       "    </tr>\n",
       "    <tr>\n",
       "      <th>3</th>\n",
       "      <td>TCS00A102D46</td>\n",
       "      <td>RU000A102D46</td>\n",
       "      <td>TQCB</td>\n",
       "      <td>RU000A102D46</td>\n",
       "      <td>rub</td>\n",
       "      <td>ДОМ.РФ ИА 018P</td>\n",
       "      <td>MOEX</td>\n",
       "      <td>4</td>\n",
       "      <td>28/02/2051</td>\n",
       "      <td>380.15</td>\n",
       "      <td>...</td>\n",
       "      <td>5.401428</td>\n",
       "      <td>2.167806</td>\n",
       "      <td>4.603457</td>\n",
       "      <td>7.343594</td>\n",
       "      <td>3.974293</td>\n",
       "      <td>4.113328</td>\n",
       "      <td>1.809578</td>\n",
       "      <td>4.002009</td>\n",
       "      <td>0.123528</td>\n",
       "      <td>68.05</td>\n",
       "    </tr>\n",
       "    <tr>\n",
       "      <th>4</th>\n",
       "      <td>ISSUANCEPRLS</td>\n",
       "      <td>RU000A1022E6</td>\n",
       "      <td>TQCB</td>\n",
       "      <td>RU000A1022E6</td>\n",
       "      <td>rub</td>\n",
       "      <td>ПР-Лизинг 002P-01</td>\n",
       "      <td>MOEX</td>\n",
       "      <td>12</td>\n",
       "      <td>10/08/2029</td>\n",
       "      <td>1000.00</td>\n",
       "      <td>...</td>\n",
       "      <td>6.306879</td>\n",
       "      <td>6.437097</td>\n",
       "      <td>7.994501</td>\n",
       "      <td>1.562965</td>\n",
       "      <td>6.717169</td>\n",
       "      <td>6.388216</td>\n",
       "      <td>6.236490</td>\n",
       "      <td>5.889406</td>\n",
       "      <td>0.482279</td>\n",
       "      <td>95.10</td>\n",
       "    </tr>\n",
       "    <tr>\n",
       "      <th>...</th>\n",
       "      <td>...</td>\n",
       "      <td>...</td>\n",
       "      <td>...</td>\n",
       "      <td>...</td>\n",
       "      <td>...</td>\n",
       "      <td>...</td>\n",
       "      <td>...</td>\n",
       "      <td>...</td>\n",
       "      <td>...</td>\n",
       "      <td>...</td>\n",
       "      <td>...</td>\n",
       "      <td>...</td>\n",
       "      <td>...</td>\n",
       "      <td>...</td>\n",
       "      <td>...</td>\n",
       "      <td>...</td>\n",
       "      <td>...</td>\n",
       "      <td>...</td>\n",
       "      <td>...</td>\n",
       "      <td>...</td>\n",
       "      <td>...</td>\n",
       "    </tr>\n",
       "    <tr>\n",
       "      <th>1092</th>\n",
       "      <td>TCS00A105Q63</td>\n",
       "      <td>RU000A105Q63</td>\n",
       "      <td>TQCB</td>\n",
       "      <td>RU000A105Q63</td>\n",
       "      <td>rub</td>\n",
       "      <td>Уральская Сталь выпуск 1</td>\n",
       "      <td>MOEX</td>\n",
       "      <td>2</td>\n",
       "      <td>25/12/2025</td>\n",
       "      <td>1000.00</td>\n",
       "      <td>...</td>\n",
       "      <td>4.992343</td>\n",
       "      <td>5.023308</td>\n",
       "      <td>5.829206</td>\n",
       "      <td>2.719374</td>\n",
       "      <td>5.775431</td>\n",
       "      <td>5.498220</td>\n",
       "      <td>5.150632</td>\n",
       "      <td>4.999362</td>\n",
       "      <td>0.203010</td>\n",
       "      <td>88.60</td>\n",
       "    </tr>\n",
       "    <tr>\n",
       "      <th>1093</th>\n",
       "      <td>BBG012YS2TP2</td>\n",
       "      <td>RU000A103VD8</td>\n",
       "      <td>TQCB</td>\n",
       "      <td>RU000A103VD8</td>\n",
       "      <td>rub</td>\n",
       "      <td>МСБ-Лизинг 002P выпуск 5</td>\n",
       "      <td>MOEX</td>\n",
       "      <td>12</td>\n",
       "      <td>18/09/2026</td>\n",
       "      <td>638.86</td>\n",
       "      <td>...</td>\n",
       "      <td>6.204105</td>\n",
       "      <td>5.257028</td>\n",
       "      <td>5.383971</td>\n",
       "      <td>2.627258</td>\n",
       "      <td>6.155981</td>\n",
       "      <td>5.912684</td>\n",
       "      <td>5.499200</td>\n",
       "      <td>5.139354</td>\n",
       "      <td>0.295340</td>\n",
       "      <td>91.28</td>\n",
       "    </tr>\n",
       "    <tr>\n",
       "      <th>1094</th>\n",
       "      <td>TCS00A105HJ9</td>\n",
       "      <td>RU000A105HJ9</td>\n",
       "      <td>TQCB</td>\n",
       "      <td>RU000A105HJ9</td>\n",
       "      <td>rub</td>\n",
       "      <td>Альфа-Банк 002Р-18</td>\n",
       "      <td>MOEX</td>\n",
       "      <td>2</td>\n",
       "      <td>29/11/2024</td>\n",
       "      <td>1000.00</td>\n",
       "      <td>...</td>\n",
       "      <td>5.442307</td>\n",
       "      <td>6.950916</td>\n",
       "      <td>8.011526</td>\n",
       "      <td>0.537598</td>\n",
       "      <td>7.731825</td>\n",
       "      <td>7.442248</td>\n",
       "      <td>7.035189</td>\n",
       "      <td>6.284884</td>\n",
       "      <td>0.578111</td>\n",
       "      <td>99.09</td>\n",
       "    </tr>\n",
       "    <tr>\n",
       "      <th>1095</th>\n",
       "      <td>TCS00A104735</td>\n",
       "      <td>RU000A104735</td>\n",
       "      <td>TQCB</td>\n",
       "      <td>RU000A104735</td>\n",
       "      <td>rub</td>\n",
       "      <td>ГК Пионер-001P выпуск 6</td>\n",
       "      <td>MOEX</td>\n",
       "      <td>4</td>\n",
       "      <td>04/12/2025</td>\n",
       "      <td>1000.00</td>\n",
       "      <td>...</td>\n",
       "      <td>4.801130</td>\n",
       "      <td>5.907525</td>\n",
       "      <td>7.932433</td>\n",
       "      <td>1.360698</td>\n",
       "      <td>5.726598</td>\n",
       "      <td>5.075679</td>\n",
       "      <td>5.807311</td>\n",
       "      <td>5.301707</td>\n",
       "      <td>0.499176</td>\n",
       "      <td>92.30</td>\n",
       "    </tr>\n",
       "    <tr>\n",
       "      <th>1096</th>\n",
       "      <td>BBG00J7HHGH1</td>\n",
       "      <td>RU000A0ZYG52</td>\n",
       "      <td>TQCB</td>\n",
       "      <td>RU000A0ZYG52</td>\n",
       "      <td>rub</td>\n",
       "      <td>Ростелеком выпуск 3</td>\n",
       "      <td>MOEX</td>\n",
       "      <td>2</td>\n",
       "      <td>09/11/2027</td>\n",
       "      <td>1000.00</td>\n",
       "      <td>...</td>\n",
       "      <td>4.965786</td>\n",
       "      <td>5.904696</td>\n",
       "      <td>5.791758</td>\n",
       "      <td>2.667667</td>\n",
       "      <td>6.650719</td>\n",
       "      <td>6.463461</td>\n",
       "      <td>5.602540</td>\n",
       "      <td>5.513473</td>\n",
       "      <td>0.364446</td>\n",
       "      <td>90.28</td>\n",
       "    </tr>\n",
       "  </tbody>\n",
       "</table>\n",
       "<p>1097 rows × 35 columns</p>\n",
       "</div>"
      ]
     },
     "execution_count": 258,
     "metadata": {},
     "output_type": "execute_result"
    }
   ],
   "execution_count": 258
  },
  {
   "metadata": {
    "ExecuteTime": {
     "end_time": "2024-11-13T16:20:08.808424Z",
     "start_time": "2024-11-13T16:20:08.797842Z"
    }
   },
   "cell_type": "code",
   "source": [
    "shares_nans = shares[X_test.columns].isna().any(axis=1)\n",
    "score = model.predict_proba(shares[X_test.columns][~shares_nans])\n",
    "shares.loc[~shares_nans, \"ratings\"] = score[:, 1]\n",
    "shares.loc[shares_nans, \"ratings\"] = 0"
   ],
   "id": "280a74d0765a64ce",
   "outputs": [],
   "execution_count": 259
  },
  {
   "metadata": {
    "ExecuteTime": {
     "end_time": "2024-11-13T16:20:08.982155Z",
     "start_time": "2024-11-13T16:20:08.972919Z"
    }
   },
   "cell_type": "code",
   "source": "shares",
   "id": "9871de53cdc4062d",
   "outputs": [
    {
     "data": {
      "text/plain": [
       "             figi ticker class_code          isin currency  \\\n",
       "0    TCS007940839  KZIZP       MTQR  RU0007940839      rub   \n",
       "1    TCS00A108ZR8   DATA       TQBR  RU000A108ZR8      rub   \n",
       "2    BBG000FWGSZ5   IRKT       TQBR  RU0006752979      rub   \n",
       "3    BBG004S68CV8   VSMO       TQBR  RU0009100291      rub   \n",
       "4    BBG000Q7ZZY2   UNAC       TQBR  RU000A0JPLZ7      rub   \n",
       "..            ...    ...        ...           ...      ...   \n",
       "168  BBG004S68BR5   NMTP       TQBR  RU0009084446      rub   \n",
       "169  BBG000QFH687   TGKA       TQBR  RU000A0JNUD0      rub   \n",
       "170  BBG0027F0Y27  CNTLP       TQBR  RU0007665139      rub   \n",
       "171  BBG004S68FR6  MTLRP       TQBR  RU000A0JPV70      rub   \n",
       "172  BBG000C7P5M7   MRKY       TQBR  RU000A0JPPG8      rub   \n",
       "\n",
       "                                                               name  \\\n",
       "0    Красногорский завод им. С.А. Зверева - привилегированные акции   \n",
       "1                                                  Группа Аренадата   \n",
       "2                                                           Яковлев   \n",
       "3                                                      ВСМПО-АВИСМА   \n",
       "4                          Объединенная авиастроительная корпорация   \n",
       "..                                                              ...   \n",
       "168                                                            НМТП   \n",
       "169                                                           ТГК-1   \n",
       "170                  Центральный Телеграф - акции привилегированные   \n",
       "171                                 Мечел - Привилегированные акции   \n",
       "172                                                        МРСК Юга   \n",
       "\n",
       "                exchange    ipo_date  nominal     issue_size  ...  \\\n",
       "0                otc_ncc  12/10/2007     0.10        1343020  ...   \n",
       "1          moex_extended  15/04/2024     0.05      200000000  ...   \n",
       "2    MOEX_DEALER_WEEKEND  15/08/2002     3.00    12051279624  ...   \n",
       "3    MOEX_DEALER_WEEKEND  11/11/2004     1.00       11529538  ...   \n",
       "4    MOEX_DEALER_WEEKEND  26/04/2013     0.27   994436434417  ...   \n",
       "..                   ...         ...      ...            ...  ...   \n",
       "168  MOEX_DEALER_WEEKEND  04/06/2003     0.01    19259815400  ...   \n",
       "169  MOEX_DEALER_WEEKEND  17/05/2005     0.01  3854341416571  ...   \n",
       "170        moex_extended  20/12/2002     1.00       55389000  ...   \n",
       "171  MOEX_DEALER_WEEKEND  05/06/2008    10.00      138756915  ...   \n",
       "172        moex_extended  20/09/2007     0.10   151641426354  ...   \n",
       "\n",
       "    company_rating mean_return stability  inverse_drawdown  sharpe_ratio  \\\n",
       "0         3.708377    0.000000  2.288596         10.000000      1.225197   \n",
       "1         7.724214   10.000000  8.014655          0.000000      8.890543   \n",
       "2         9.611296    3.251468  2.911034          8.364985      3.593304   \n",
       "3         6.693208    2.328148  5.884966          5.291744      2.560762   \n",
       "4         9.802516    2.025850  3.348198         10.000000      2.850808   \n",
       "..             ...         ...       ...               ...           ...   \n",
       "168       9.625636    2.253016  5.589684          4.732105      2.574496   \n",
       "169       9.660532    2.164127  7.057391          3.701367      1.966651   \n",
       "170       3.818459    2.471787  6.063629          4.820033      2.640975   \n",
       "171       7.218503    0.000000  5.298516         10.000000      0.000000   \n",
       "172       6.702428    4.103122  3.293560          7.574434      4.071007   \n",
       "\n",
       "     sortino_ratio  trend_slope  price_rating   ratings  candle_price  \n",
       "0         1.263783     0.111665      2.481540  0.697769    302.990000  \n",
       "1         9.193300    10.000000      7.683083  0.588578    111.380000  \n",
       "2         3.334751     2.541478      3.999504  0.759401     43.550000  \n",
       "3         2.241224     2.903713      3.535093  0.756340  26580.000000  \n",
       "4         2.415672     0.000000      3.440088  0.883707      0.771000  \n",
       "..             ...          ...           ...       ...           ...  \n",
       "168       2.618918     2.607009      3.395871  0.857210      8.495000  \n",
       "169       1.731214     2.925508      3.257710  0.878465      0.007204  \n",
       "170       2.469703     2.557676      3.503967  0.879370      8.400000  \n",
       "171       0.000000     0.000000      2.549753  0.889221    111.450000  \n",
       "172       3.956887     3.278120      4.379522  0.808609      0.061700  \n",
       "\n",
       "[173 rows x 28 columns]"
      ],
      "text/html": [
       "<div>\n",
       "<style scoped>\n",
       "    .dataframe tbody tr th:only-of-type {\n",
       "        vertical-align: middle;\n",
       "    }\n",
       "\n",
       "    .dataframe tbody tr th {\n",
       "        vertical-align: top;\n",
       "    }\n",
       "\n",
       "    .dataframe thead th {\n",
       "        text-align: right;\n",
       "    }\n",
       "</style>\n",
       "<table border=\"1\" class=\"dataframe\">\n",
       "  <thead>\n",
       "    <tr style=\"text-align: right;\">\n",
       "      <th></th>\n",
       "      <th>figi</th>\n",
       "      <th>ticker</th>\n",
       "      <th>class_code</th>\n",
       "      <th>isin</th>\n",
       "      <th>currency</th>\n",
       "      <th>name</th>\n",
       "      <th>exchange</th>\n",
       "      <th>ipo_date</th>\n",
       "      <th>nominal</th>\n",
       "      <th>issue_size</th>\n",
       "      <th>...</th>\n",
       "      <th>company_rating</th>\n",
       "      <th>mean_return</th>\n",
       "      <th>stability</th>\n",
       "      <th>inverse_drawdown</th>\n",
       "      <th>sharpe_ratio</th>\n",
       "      <th>sortino_ratio</th>\n",
       "      <th>trend_slope</th>\n",
       "      <th>price_rating</th>\n",
       "      <th>ratings</th>\n",
       "      <th>candle_price</th>\n",
       "    </tr>\n",
       "  </thead>\n",
       "  <tbody>\n",
       "    <tr>\n",
       "      <th>0</th>\n",
       "      <td>TCS007940839</td>\n",
       "      <td>KZIZP</td>\n",
       "      <td>MTQR</td>\n",
       "      <td>RU0007940839</td>\n",
       "      <td>rub</td>\n",
       "      <td>Красногорский завод им. С.А. Зверева - привилегированные акции</td>\n",
       "      <td>otc_ncc</td>\n",
       "      <td>12/10/2007</td>\n",
       "      <td>0.10</td>\n",
       "      <td>1343020</td>\n",
       "      <td>...</td>\n",
       "      <td>3.708377</td>\n",
       "      <td>0.000000</td>\n",
       "      <td>2.288596</td>\n",
       "      <td>10.000000</td>\n",
       "      <td>1.225197</td>\n",
       "      <td>1.263783</td>\n",
       "      <td>0.111665</td>\n",
       "      <td>2.481540</td>\n",
       "      <td>0.697769</td>\n",
       "      <td>302.990000</td>\n",
       "    </tr>\n",
       "    <tr>\n",
       "      <th>1</th>\n",
       "      <td>TCS00A108ZR8</td>\n",
       "      <td>DATA</td>\n",
       "      <td>TQBR</td>\n",
       "      <td>RU000A108ZR8</td>\n",
       "      <td>rub</td>\n",
       "      <td>Группа Аренадата</td>\n",
       "      <td>moex_extended</td>\n",
       "      <td>15/04/2024</td>\n",
       "      <td>0.05</td>\n",
       "      <td>200000000</td>\n",
       "      <td>...</td>\n",
       "      <td>7.724214</td>\n",
       "      <td>10.000000</td>\n",
       "      <td>8.014655</td>\n",
       "      <td>0.000000</td>\n",
       "      <td>8.890543</td>\n",
       "      <td>9.193300</td>\n",
       "      <td>10.000000</td>\n",
       "      <td>7.683083</td>\n",
       "      <td>0.588578</td>\n",
       "      <td>111.380000</td>\n",
       "    </tr>\n",
       "    <tr>\n",
       "      <th>2</th>\n",
       "      <td>BBG000FWGSZ5</td>\n",
       "      <td>IRKT</td>\n",
       "      <td>TQBR</td>\n",
       "      <td>RU0006752979</td>\n",
       "      <td>rub</td>\n",
       "      <td>Яковлев</td>\n",
       "      <td>MOEX_DEALER_WEEKEND</td>\n",
       "      <td>15/08/2002</td>\n",
       "      <td>3.00</td>\n",
       "      <td>12051279624</td>\n",
       "      <td>...</td>\n",
       "      <td>9.611296</td>\n",
       "      <td>3.251468</td>\n",
       "      <td>2.911034</td>\n",
       "      <td>8.364985</td>\n",
       "      <td>3.593304</td>\n",
       "      <td>3.334751</td>\n",
       "      <td>2.541478</td>\n",
       "      <td>3.999504</td>\n",
       "      <td>0.759401</td>\n",
       "      <td>43.550000</td>\n",
       "    </tr>\n",
       "    <tr>\n",
       "      <th>3</th>\n",
       "      <td>BBG004S68CV8</td>\n",
       "      <td>VSMO</td>\n",
       "      <td>TQBR</td>\n",
       "      <td>RU0009100291</td>\n",
       "      <td>rub</td>\n",
       "      <td>ВСМПО-АВИСМА</td>\n",
       "      <td>MOEX_DEALER_WEEKEND</td>\n",
       "      <td>11/11/2004</td>\n",
       "      <td>1.00</td>\n",
       "      <td>11529538</td>\n",
       "      <td>...</td>\n",
       "      <td>6.693208</td>\n",
       "      <td>2.328148</td>\n",
       "      <td>5.884966</td>\n",
       "      <td>5.291744</td>\n",
       "      <td>2.560762</td>\n",
       "      <td>2.241224</td>\n",
       "      <td>2.903713</td>\n",
       "      <td>3.535093</td>\n",
       "      <td>0.756340</td>\n",
       "      <td>26580.000000</td>\n",
       "    </tr>\n",
       "    <tr>\n",
       "      <th>4</th>\n",
       "      <td>BBG000Q7ZZY2</td>\n",
       "      <td>UNAC</td>\n",
       "      <td>TQBR</td>\n",
       "      <td>RU000A0JPLZ7</td>\n",
       "      <td>rub</td>\n",
       "      <td>Объединенная авиастроительная корпорация</td>\n",
       "      <td>MOEX_DEALER_WEEKEND</td>\n",
       "      <td>26/04/2013</td>\n",
       "      <td>0.27</td>\n",
       "      <td>994436434417</td>\n",
       "      <td>...</td>\n",
       "      <td>9.802516</td>\n",
       "      <td>2.025850</td>\n",
       "      <td>3.348198</td>\n",
       "      <td>10.000000</td>\n",
       "      <td>2.850808</td>\n",
       "      <td>2.415672</td>\n",
       "      <td>0.000000</td>\n",
       "      <td>3.440088</td>\n",
       "      <td>0.883707</td>\n",
       "      <td>0.771000</td>\n",
       "    </tr>\n",
       "    <tr>\n",
       "      <th>...</th>\n",
       "      <td>...</td>\n",
       "      <td>...</td>\n",
       "      <td>...</td>\n",
       "      <td>...</td>\n",
       "      <td>...</td>\n",
       "      <td>...</td>\n",
       "      <td>...</td>\n",
       "      <td>...</td>\n",
       "      <td>...</td>\n",
       "      <td>...</td>\n",
       "      <td>...</td>\n",
       "      <td>...</td>\n",
       "      <td>...</td>\n",
       "      <td>...</td>\n",
       "      <td>...</td>\n",
       "      <td>...</td>\n",
       "      <td>...</td>\n",
       "      <td>...</td>\n",
       "      <td>...</td>\n",
       "      <td>...</td>\n",
       "      <td>...</td>\n",
       "    </tr>\n",
       "    <tr>\n",
       "      <th>168</th>\n",
       "      <td>BBG004S68BR5</td>\n",
       "      <td>NMTP</td>\n",
       "      <td>TQBR</td>\n",
       "      <td>RU0009084446</td>\n",
       "      <td>rub</td>\n",
       "      <td>НМТП</td>\n",
       "      <td>MOEX_DEALER_WEEKEND</td>\n",
       "      <td>04/06/2003</td>\n",
       "      <td>0.01</td>\n",
       "      <td>19259815400</td>\n",
       "      <td>...</td>\n",
       "      <td>9.625636</td>\n",
       "      <td>2.253016</td>\n",
       "      <td>5.589684</td>\n",
       "      <td>4.732105</td>\n",
       "      <td>2.574496</td>\n",
       "      <td>2.618918</td>\n",
       "      <td>2.607009</td>\n",
       "      <td>3.395871</td>\n",
       "      <td>0.857210</td>\n",
       "      <td>8.495000</td>\n",
       "    </tr>\n",
       "    <tr>\n",
       "      <th>169</th>\n",
       "      <td>BBG000QFH687</td>\n",
       "      <td>TGKA</td>\n",
       "      <td>TQBR</td>\n",
       "      <td>RU000A0JNUD0</td>\n",
       "      <td>rub</td>\n",
       "      <td>ТГК-1</td>\n",
       "      <td>MOEX_DEALER_WEEKEND</td>\n",
       "      <td>17/05/2005</td>\n",
       "      <td>0.01</td>\n",
       "      <td>3854341416571</td>\n",
       "      <td>...</td>\n",
       "      <td>9.660532</td>\n",
       "      <td>2.164127</td>\n",
       "      <td>7.057391</td>\n",
       "      <td>3.701367</td>\n",
       "      <td>1.966651</td>\n",
       "      <td>1.731214</td>\n",
       "      <td>2.925508</td>\n",
       "      <td>3.257710</td>\n",
       "      <td>0.878465</td>\n",
       "      <td>0.007204</td>\n",
       "    </tr>\n",
       "    <tr>\n",
       "      <th>170</th>\n",
       "      <td>BBG0027F0Y27</td>\n",
       "      <td>CNTLP</td>\n",
       "      <td>TQBR</td>\n",
       "      <td>RU0007665139</td>\n",
       "      <td>rub</td>\n",
       "      <td>Центральный Телеграф - акции привилегированные</td>\n",
       "      <td>moex_extended</td>\n",
       "      <td>20/12/2002</td>\n",
       "      <td>1.00</td>\n",
       "      <td>55389000</td>\n",
       "      <td>...</td>\n",
       "      <td>3.818459</td>\n",
       "      <td>2.471787</td>\n",
       "      <td>6.063629</td>\n",
       "      <td>4.820033</td>\n",
       "      <td>2.640975</td>\n",
       "      <td>2.469703</td>\n",
       "      <td>2.557676</td>\n",
       "      <td>3.503967</td>\n",
       "      <td>0.879370</td>\n",
       "      <td>8.400000</td>\n",
       "    </tr>\n",
       "    <tr>\n",
       "      <th>171</th>\n",
       "      <td>BBG004S68FR6</td>\n",
       "      <td>MTLRP</td>\n",
       "      <td>TQBR</td>\n",
       "      <td>RU000A0JPV70</td>\n",
       "      <td>rub</td>\n",
       "      <td>Мечел - Привилегированные акции</td>\n",
       "      <td>MOEX_DEALER_WEEKEND</td>\n",
       "      <td>05/06/2008</td>\n",
       "      <td>10.00</td>\n",
       "      <td>138756915</td>\n",
       "      <td>...</td>\n",
       "      <td>7.218503</td>\n",
       "      <td>0.000000</td>\n",
       "      <td>5.298516</td>\n",
       "      <td>10.000000</td>\n",
       "      <td>0.000000</td>\n",
       "      <td>0.000000</td>\n",
       "      <td>0.000000</td>\n",
       "      <td>2.549753</td>\n",
       "      <td>0.889221</td>\n",
       "      <td>111.450000</td>\n",
       "    </tr>\n",
       "    <tr>\n",
       "      <th>172</th>\n",
       "      <td>BBG000C7P5M7</td>\n",
       "      <td>MRKY</td>\n",
       "      <td>TQBR</td>\n",
       "      <td>RU000A0JPPG8</td>\n",
       "      <td>rub</td>\n",
       "      <td>МРСК Юга</td>\n",
       "      <td>moex_extended</td>\n",
       "      <td>20/09/2007</td>\n",
       "      <td>0.10</td>\n",
       "      <td>151641426354</td>\n",
       "      <td>...</td>\n",
       "      <td>6.702428</td>\n",
       "      <td>4.103122</td>\n",
       "      <td>3.293560</td>\n",
       "      <td>7.574434</td>\n",
       "      <td>4.071007</td>\n",
       "      <td>3.956887</td>\n",
       "      <td>3.278120</td>\n",
       "      <td>4.379522</td>\n",
       "      <td>0.808609</td>\n",
       "      <td>0.061700</td>\n",
       "    </tr>\n",
       "  </tbody>\n",
       "</table>\n",
       "<p>173 rows × 28 columns</p>\n",
       "</div>"
      ]
     },
     "execution_count": 260,
     "metadata": {},
     "output_type": "execute_result"
    }
   ],
   "execution_count": 260
  },
  {
   "metadata": {
    "ExecuteTime": {
     "end_time": "2024-11-13T16:20:09.516201Z",
     "start_time": "2024-11-13T16:20:09.508283Z"
    }
   },
   "cell_type": "code",
   "source": [
    "etfs_nans = etfs[X_test.columns].isna().any(axis=1)\n",
    "score = model.predict_proba(etfs[X_test.columns][~etfs_nans])\n",
    "etfs.loc[~etfs_nans, \"ratings\"] = score[:, 1]\n",
    "etfs.loc[etfs_nans, \"ratings\"] = 0"
   ],
   "id": "8c6f8a5119e4f29f",
   "outputs": [],
   "execution_count": 261
  },
  {
   "metadata": {
    "ExecuteTime": {
     "end_time": "2024-11-13T16:20:09.878227Z",
     "start_time": "2024-11-13T16:20:09.874247Z"
    }
   },
   "cell_type": "code",
   "source": [
    "bonds[\"ratings\"] = bonds[\"ratings\"] * 1000\n",
    "shares[\"ratings\"] = shares[\"ratings\"] * 1000\n",
    "etfs[\"ratings\"] = etfs[\"ratings\"] * 1000"
   ],
   "id": "ab3f7784edd5b4d",
   "outputs": [],
   "execution_count": 262
  },
  {
   "metadata": {
    "ExecuteTime": {
     "end_time": "2024-11-13T16:20:11.083410Z",
     "start_time": "2024-11-13T16:20:11.043760Z"
    }
   },
   "cell_type": "code",
   "source": [
    "bonds.to_csv('../api/.cache/bonds.csv', index=False)\n",
    "shares.to_csv('../api/.cache/shares.csv', index=False)\n",
    "etfs.to_csv('../api/.cache/etfs.csv', index=False)"
   ],
   "id": "10ee0a4460848463",
   "outputs": [],
   "execution_count": 263
  },
  {
   "metadata": {},
   "cell_type": "code",
   "source": "model.get_feature_importance()",
   "id": "c54394050411b0bd",
   "outputs": [],
   "execution_count": null
  },
  {
   "metadata": {},
   "cell_type": "code",
   "source": "pd.DataFrame({\"column\": X_test.columns, \"importance\": model.get_feature_importance()})",
   "id": "f7ce95ac61f32eb6",
   "outputs": [],
   "execution_count": null
  },
  {
   "metadata": {},
   "cell_type": "code",
   "source": "num_columns = train",
   "id": "8d5b22e98fb58b88",
   "outputs": [],
   "execution_count": null
  },
  {
   "metadata": {
    "ExecuteTime": {
     "end_time": "2024-11-13T16:00:23.971593Z",
     "start_time": "2024-11-13T16:00:23.968877Z"
    }
   },
   "cell_type": "code",
   "source": "indexes = (train.drop(\"target\", axis=1).dtypes != \"object\")",
   "id": "7a183b1da7e27da6",
   "outputs": [],
   "execution_count": 176
  },
  {
   "metadata": {
    "ExecuteTime": {
     "end_time": "2024-11-13T16:04:49.950558Z",
     "start_time": "2024-11-13T16:04:49.941791Z"
    }
   },
   "cell_type": "code",
   "source": "num_columns = indexes[indexes.values].index.values",
   "id": "fc865b702d9924e1",
   "outputs": [],
   "execution_count": 197
  },
  {
   "metadata": {
    "ExecuteTime": {
     "end_time": "2024-11-13T16:20:39.106213Z",
     "start_time": "2024-11-13T16:20:39.098508Z"
    }
   },
   "cell_type": "code",
   "source": "from sklearn.linear_model import LogisticRegressionCV",
   "id": "3cf630cb5c80504e",
   "outputs": [],
   "execution_count": 265
  },
  {
   "metadata": {
    "ExecuteTime": {
     "end_time": "2024-11-13T16:20:39.450924Z",
     "start_time": "2024-11-13T16:20:39.447621Z"
    }
   },
   "cell_type": "code",
   "source": "model2 = LogisticRegressionCV()",
   "id": "249d21064f4b2f75",
   "outputs": [],
   "execution_count": 266
  },
  {
   "metadata": {
    "ExecuteTime": {
     "end_time": "2024-11-13T16:20:40.788096Z",
     "start_time": "2024-11-13T16:20:40.617347Z"
    }
   },
   "cell_type": "code",
   "source": "model2.fit(train[num_columns], train[\"target\"])",
   "id": "f3e56f07c154cee6",
   "outputs": [
    {
     "data": {
      "text/plain": [
       "LogisticRegressionCV()"
      ],
      "text/html": [
       "<style>#sk-container-id-3 {color: black;background-color: white;}#sk-container-id-3 pre{padding: 0;}#sk-container-id-3 div.sk-toggleable {background-color: white;}#sk-container-id-3 label.sk-toggleable__label {cursor: pointer;display: block;width: 100%;margin-bottom: 0;padding: 0.3em;box-sizing: border-box;text-align: center;}#sk-container-id-3 label.sk-toggleable__label-arrow:before {content: \"▸\";float: left;margin-right: 0.25em;color: #696969;}#sk-container-id-3 label.sk-toggleable__label-arrow:hover:before {color: black;}#sk-container-id-3 div.sk-estimator:hover label.sk-toggleable__label-arrow:before {color: black;}#sk-container-id-3 div.sk-toggleable__content {max-height: 0;max-width: 0;overflow: hidden;text-align: left;background-color: #f0f8ff;}#sk-container-id-3 div.sk-toggleable__content pre {margin: 0.2em;color: black;border-radius: 0.25em;background-color: #f0f8ff;}#sk-container-id-3 input.sk-toggleable__control:checked~div.sk-toggleable__content {max-height: 200px;max-width: 100%;overflow: auto;}#sk-container-id-3 input.sk-toggleable__control:checked~label.sk-toggleable__label-arrow:before {content: \"▾\";}#sk-container-id-3 div.sk-estimator input.sk-toggleable__control:checked~label.sk-toggleable__label {background-color: #d4ebff;}#sk-container-id-3 div.sk-label input.sk-toggleable__control:checked~label.sk-toggleable__label {background-color: #d4ebff;}#sk-container-id-3 input.sk-hidden--visually {border: 0;clip: rect(1px 1px 1px 1px);clip: rect(1px, 1px, 1px, 1px);height: 1px;margin: -1px;overflow: hidden;padding: 0;position: absolute;width: 1px;}#sk-container-id-3 div.sk-estimator {font-family: monospace;background-color: #f0f8ff;border: 1px dotted black;border-radius: 0.25em;box-sizing: border-box;margin-bottom: 0.5em;}#sk-container-id-3 div.sk-estimator:hover {background-color: #d4ebff;}#sk-container-id-3 div.sk-parallel-item::after {content: \"\";width: 100%;border-bottom: 1px solid gray;flex-grow: 1;}#sk-container-id-3 div.sk-label:hover label.sk-toggleable__label {background-color: #d4ebff;}#sk-container-id-3 div.sk-serial::before {content: \"\";position: absolute;border-left: 1px solid gray;box-sizing: border-box;top: 0;bottom: 0;left: 50%;z-index: 0;}#sk-container-id-3 div.sk-serial {display: flex;flex-direction: column;align-items: center;background-color: white;padding-right: 0.2em;padding-left: 0.2em;position: relative;}#sk-container-id-3 div.sk-item {position: relative;z-index: 1;}#sk-container-id-3 div.sk-parallel {display: flex;align-items: stretch;justify-content: center;background-color: white;position: relative;}#sk-container-id-3 div.sk-item::before, #sk-container-id-3 div.sk-parallel-item::before {content: \"\";position: absolute;border-left: 1px solid gray;box-sizing: border-box;top: 0;bottom: 0;left: 50%;z-index: -1;}#sk-container-id-3 div.sk-parallel-item {display: flex;flex-direction: column;z-index: 1;position: relative;background-color: white;}#sk-container-id-3 div.sk-parallel-item:first-child::after {align-self: flex-end;width: 50%;}#sk-container-id-3 div.sk-parallel-item:last-child::after {align-self: flex-start;width: 50%;}#sk-container-id-3 div.sk-parallel-item:only-child::after {width: 0;}#sk-container-id-3 div.sk-dashed-wrapped {border: 1px dashed gray;margin: 0 0.4em 0.5em 0.4em;box-sizing: border-box;padding-bottom: 0.4em;background-color: white;}#sk-container-id-3 div.sk-label label {font-family: monospace;font-weight: bold;display: inline-block;line-height: 1.2em;}#sk-container-id-3 div.sk-label-container {text-align: center;}#sk-container-id-3 div.sk-container {/* jupyter's `normalize.less` sets `[hidden] { display: none; }` but bootstrap.min.css set `[hidden] { display: none !important; }` so we also need the `!important` here to be able to override the default hidden behavior on the sphinx rendered scikit-learn.org. See: https://github.com/scikit-learn/scikit-learn/issues/21755 */display: inline-block !important;position: relative;}#sk-container-id-3 div.sk-text-repr-fallback {display: none;}</style><div id=\"sk-container-id-3\" class=\"sk-top-container\"><div class=\"sk-text-repr-fallback\"><pre>LogisticRegressionCV()</pre><b>In a Jupyter environment, please rerun this cell to show the HTML representation or trust the notebook. <br />On GitHub, the HTML representation is unable to render, please try loading this page with nbviewer.org.</b></div><div class=\"sk-container\" hidden><div class=\"sk-item\"><div class=\"sk-estimator sk-toggleable\"><input class=\"sk-toggleable__control sk-hidden--visually\" id=\"sk-estimator-id-3\" type=\"checkbox\" checked><label for=\"sk-estimator-id-3\" class=\"sk-toggleable__label sk-toggleable__label-arrow\">LogisticRegressionCV</label><div class=\"sk-toggleable__content\"><pre>LogisticRegressionCV()</pre></div></div></div></div></div>"
      ]
     },
     "execution_count": 267,
     "metadata": {},
     "output_type": "execute_result"
    }
   ],
   "execution_count": 267
  },
  {
   "metadata": {
    "ExecuteTime": {
     "end_time": "2024-11-13T16:20:42.173200Z",
     "start_time": "2024-11-13T16:20:42.144534Z"
    }
   },
   "cell_type": "code",
   "source": [
    "bonds_nans = bonds[X_test.columns].isna().any(axis=1)\n",
    "pred = bonds[list(set(X_test.columns) & set(num_columns))][~bonds_nans]\n",
    "pred = pred.reindex(columns=num_columns)\n",
    "score = model2.predict_proba(pred)\n",
    "bonds.loc[~bonds_nans, \"ratings\"] = score[:, 1] * 1000\n",
    "bonds.loc[bonds_nans, \"ratings\"] = 0"
   ],
   "id": "9849dd288a0ae099",
   "outputs": [],
   "execution_count": 268
  },
  {
   "metadata": {
    "ExecuteTime": {
     "end_time": "2024-11-13T16:20:42.727004Z",
     "start_time": "2024-11-13T16:20:42.719448Z"
    }
   },
   "cell_type": "code",
   "source": [
    "shares_nans = shares[X_test.columns].isna().any(axis=1)\n",
    "pred = shares[list(set(X_test.columns) & set(num_columns))][~shares_nans]\n",
    "pred = pred.reindex(columns=num_columns)\n",
    "score = model2.predict_proba(pred)\n",
    "shares.loc[~shares_nans, \"ratings\"] = score[:, 1] * 1000\n",
    "shares.loc[shares_nans, \"ratings\"] = 0"
   ],
   "id": "6aa6abed674a2f70",
   "outputs": [],
   "execution_count": 269
  },
  {
   "metadata": {
    "ExecuteTime": {
     "end_time": "2024-11-13T16:20:43.139720Z",
     "start_time": "2024-11-13T16:20:43.125436Z"
    }
   },
   "cell_type": "code",
   "source": [
    "etfs_nans = etfs[X_test.columns].isna().any(axis=1)\n",
    "pred = etfs[list(set(X_test.columns) & set(num_columns))][~etfs_nans]\n",
    "pred = pred.reindex(columns=num_columns)\n",
    "score = model2.predict_proba(pred)\n",
    "etfs.loc[~etfs_nans, \"ratings\"] = score[:, 1] * 1000\n",
    "etfs.loc[etfs_nans, \"ratings\"] = 0"
   ],
   "id": "2633541b5d5f9b99",
   "outputs": [],
   "execution_count": 270
  },
  {
   "metadata": {
    "ExecuteTime": {
     "end_time": "2024-11-13T16:20:43.806488Z",
     "start_time": "2024-11-13T16:20:43.743555Z"
    }
   },
   "cell_type": "code",
   "source": [
    "bonds.to_csv('../api/.cache/bonds.csv', index=False)\n",
    "shares.to_csv('../api/.cache/shares.csv', index=False)\n",
    "etfs.to_csv('../api/.cache/etfs.csv', index=False)"
   ],
   "id": "8ca0ec0708fa4b53",
   "outputs": [],
   "execution_count": 271
  },
  {
   "metadata": {
    "ExecuteTime": {
     "end_time": "2024-11-13T16:20:44.252684Z",
     "start_time": "2024-11-13T16:20:44.249122Z"
    }
   },
   "cell_type": "code",
   "source": "print(model2.get_params())",
   "id": "1e4280f9511b5db9",
   "outputs": [
    {
     "name": "stdout",
     "output_type": "stream",
     "text": [
      "{'Cs': 10, 'class_weight': None, 'cv': None, 'dual': False, 'fit_intercept': True, 'intercept_scaling': 1.0, 'l1_ratios': None, 'max_iter': 100, 'multi_class': 'auto', 'n_jobs': None, 'penalty': 'l2', 'random_state': None, 'refit': True, 'scoring': None, 'solver': 'lbfgs', 'tol': 0.0001, 'verbose': 0}\n"
     ]
    }
   ],
   "execution_count": 272
  },
  {
   "metadata": {
    "ExecuteTime": {
     "end_time": "2024-11-13T16:11:48.130802Z",
     "start_time": "2024-11-13T16:11:48.053874Z"
    }
   },
   "cell_type": "code",
   "source": [
    "preds = X_test[list(set(X_test.columns) & set(num_columns))]\n",
    "preds = preds.reindex(columns=num_columns)\n",
    "preds = model2.predict(preds)"
   ],
   "id": "860b00cf7da07f06",
   "outputs": [],
   "execution_count": 223
  },
  {
   "metadata": {
    "ExecuteTime": {
     "end_time": "2024-11-13T16:11:48.968047Z",
     "start_time": "2024-11-13T16:11:48.963362Z"
    }
   },
   "cell_type": "code",
   "source": "Y_test.shape, preds.shape",
   "id": "ab3efee84437fc66",
   "outputs": [
    {
     "data": {
      "text/plain": [
       "((1317,), (1317,))"
      ]
     },
     "execution_count": 224,
     "metadata": {},
     "output_type": "execute_result"
    }
   ],
   "execution_count": 224
  },
  {
   "metadata": {
    "ExecuteTime": {
     "end_time": "2024-11-13T16:11:54.838880Z",
     "start_time": "2024-11-13T16:11:54.809564Z"
    }
   },
   "cell_type": "code",
   "source": "print(classification_report(Y_test, preds))",
   "id": "185ee28019b58e76",
   "outputs": [
    {
     "name": "stdout",
     "output_type": "stream",
     "text": [
      "              precision    recall  f1-score   support\n",
      "\n",
      "       False       0.76      0.99      0.86      1004\n",
      "        True       0.00      0.00      0.00       313\n",
      "\n",
      "    accuracy                           0.76      1317\n",
      "   macro avg       0.38      0.50      0.43      1317\n",
      "weighted avg       0.58      0.76      0.66      1317\n",
      "\n"
     ]
    }
   ],
   "execution_count": 226
  },
  {
   "metadata": {
    "ExecuteTime": {
     "end_time": "2024-11-13T16:12:53.923041Z",
     "start_time": "2024-11-13T16:12:53.816274Z"
    }
   },
   "cell_type": "code",
   "source": [
    "import matplotlib.pyplot as plt\n",
    "plt.pie(Y_test.value_counts(), labels=Y_test.value_counts().index)"
   ],
   "id": "bf36ac35a19d7962",
   "outputs": [
    {
     "data": {
      "text/plain": [
       "([<matplotlib.patches.Wedge at 0x16c1b7310>,\n",
       "  <matplotlib.patches.Wedge at 0x16c237b50>],\n",
       " [Text(-0.8073761396725034, 0.7470902014399107, 'False'),\n",
       "  Text(0.8073761046986861, -0.7470902392359148, 'True')])"
      ]
     },
     "execution_count": 231,
     "metadata": {},
     "output_type": "execute_result"
    },
    {
     "data": {
      "text/plain": [
       "<Figure size 640x480 with 1 Axes>"
      ],
      "image/png": "[encoded data removed]"
     },
     "metadata": {},
     "output_type": "display_data"
    }
   ],
   "execution_count": 231
  },
  {
   "metadata": {
    "ExecuteTime": {
     "end_time": "2024-11-13T16:16:19.093891Z",
     "start_time": "2024-11-13T16:16:19.035016Z"
    }
   },
   "cell_type": "code",
   "source": "print(classification_report(Y_test.astype(str), model.predict(X_test)))",
   "id": "480d347fd967ed52",
   "outputs": [
    {
     "name": "stdout",
     "output_type": "stream",
     "text": [
      "              precision    recall  f1-score   support\n",
      "\n",
      "       False       0.83      0.78      0.80      1004\n",
      "        True       0.40      0.47      0.43       313\n",
      "\n",
      "    accuracy                           0.71      1317\n",
      "   macro avg       0.61      0.62      0.62      1317\n",
      "weighted avg       0.72      0.71      0.71      1317\n",
      "\n"
     ]
    }
   ],
   "execution_count": 241
  },
  {
   "metadata": {
    "ExecuteTime": {
     "end_time": "2024-11-13T16:19:12.571963Z",
     "start_time": "2024-11-13T16:19:12.482884Z"
    }
   },
   "cell_type": "code",
   "source": "print(classification_report(train.target.astype(str), model.predict(train.drop(\"target\", axis=1))))",
   "id": "d83dd11c77b308b",
   "outputs": [
    {
     "name": "stdout",
     "output_type": "stream",
     "text": [
      "              precision    recall  f1-score   support\n",
      "\n",
      "       False       0.80      0.90      0.85       803\n",
      "        True       0.80      0.63      0.70       492\n",
      "\n",
      "    accuracy                           0.80      1295\n",
      "   macro avg       0.80      0.76      0.77      1295\n",
      "weighted avg       0.80      0.80      0.79      1295\n",
      "\n"
     ]
    }
   ],
   "execution_count": 254
  },
  {
   "metadata": {},
   "cell_type": "code",
   "outputs": [],
   "execution_count": null,
   "source": "",
   "id": "add4af9f919cada1"
  }
 ],
 "metadata": {
  "kernelspec": {
   "display_name": "Python 3",
   "language": "python",
   "name": "python3"
  },
  "language_info": {
   "codemirror_mode": {
    "name": "ipython",
    "version": 2
   },
   "file_extension": ".py",
   "mimetype": "text/x-python",
   "name": "python",
   "nbconvert_exporter": "python",
   "pygments_lexer": "ipython2",
   "version": "2.7.6"
  }
 },
 "nbformat": 4,
 "nbformat_minor": 5
}
