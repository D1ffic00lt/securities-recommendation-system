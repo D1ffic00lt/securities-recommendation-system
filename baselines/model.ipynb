{
 "cells": [
  {
   "cell_type": "code",
   "id": "initial_id",
   "metadata": {
    "collapsed": true,
    "ExecuteTime": {
     "end_time": "2024-11-18T15:24:38.675635Z",
     "start_time": "2024-11-18T15:24:33.015398Z"
    }
   },
   "source": [
    "import pandas as pd\n",
    "from sklearn.preprocessing import LabelEncoder\n",
    "from catboost import CatBoostClassifier"
   ],
   "outputs": [],
   "execution_count": 1
  },
  {
   "metadata": {
    "ExecuteTime": {
     "end_time": "2024-11-18T15:24:38.738296Z",
     "start_time": "2024-11-18T15:24:38.691197Z"
    }
   },
   "cell_type": "code",
   "source": [
    "old_bonds = pd.read_csv('../api/.cache2/bonds.csv')\n",
    "old_etfs = pd.read_csv('../api/.cache2/etfs.csv')\n",
    "old_shares = pd.read_csv('../api/.cache2/shares.csv')\n",
    "\n",
    "new_bonds = pd.read_csv('../api/.cache/bonds.csv')\n",
    "new_etfs = pd.read_csv('../api/.cache/etfs.csv')\n",
    "new_shares = pd.read_csv('../api/.cache/shares.csv')"
   ],
   "id": "e163beaa42dd613e",
   "outputs": [],
   "execution_count": 2
  },
  {
   "metadata": {
    "ExecuteTime": {
     "end_time": "2024-11-18T15:24:38.887239Z",
     "start_time": "2024-11-18T15:24:38.883171Z"
    }
   },
   "cell_type": "code",
   "source": "old_bonds.columns",
   "id": "8d1b89f07e9128e4",
   "outputs": [
    {
     "data": {
      "text/plain": [
       "Index(['figi', 'ticker', 'class_code', 'isin', 'currency', 'name', 'exchange',\n",
       "       'coupon_quantity_per_year', 'maturity_date', 'nominal',\n",
       "       'initial_nominal', 'placement_price', 'aci_value', 'country_of_risk',\n",
       "       'country_of_risk_name', 'sector', 'issue_kind', 'issue_size',\n",
       "       'issue_size_plan', 'liquidity_flag', 'risk_level',\n",
       "       'min_price_increment', 'lot', 'price', 'rub_price', 'company_rating',\n",
       "       'mean_return', 'stability', 'inverse_drawdown', 'sharpe_ratio',\n",
       "       'sortino_ratio', 'trend_slope', 'price_rating', 'ratings',\n",
       "       'candle_price'],\n",
       "      dtype='object')"
      ]
     },
     "execution_count": 3,
     "metadata": {},
     "output_type": "execute_result"
    }
   ],
   "execution_count": 3
  },
  {
   "metadata": {
    "ExecuteTime": {
     "end_time": "2024-11-18T15:24:38.973218Z",
     "start_time": "2024-11-18T15:24:38.971320Z"
    }
   },
   "cell_type": "code",
   "source": "valid_columns = list(set(old_bonds.columns) & set(old_etfs.columns) & set(old_shares.columns))",
   "id": "35b08cdf16d00a0f",
   "outputs": [],
   "execution_count": 4
  },
  {
   "metadata": {
    "ExecuteTime": {
     "end_time": "2024-11-18T15:24:39.049082Z",
     "start_time": "2024-11-18T15:24:39.045435Z"
    }
   },
   "cell_type": "code",
   "source": [
    "old_bonds = old_bonds[valid_columns]\n",
    "old_etfs = old_etfs[valid_columns]\n",
    "old_shares = old_shares[valid_columns]"
   ],
   "id": "5b42d2317227986d",
   "outputs": [],
   "execution_count": 5
  },
  {
   "metadata": {
    "ExecuteTime": {
     "end_time": "2024-11-18T15:24:41.255076Z",
     "start_time": "2024-11-18T15:24:41.247297Z"
    }
   },
   "cell_type": "code",
   "source": [
    "old_bonds = old_bonds.dropna()\n",
    "old_etfs = old_etfs.dropna()\n",
    "old_shares = old_shares.dropna()"
   ],
   "id": "ac36a7fc7da20464",
   "outputs": [],
   "execution_count": 6
  },
  {
   "metadata": {
    "ExecuteTime": {
     "end_time": "2024-11-18T15:24:41.616934Z",
     "start_time": "2024-11-18T15:24:41.612076Z"
    }
   },
   "cell_type": "code",
   "source": [
    "useless_columns = [\n",
    "    \"ticker\", \"rub_price\", \"name\", \"company_rating\", \"isin\", \"price_rating\", \"ratings\", \"price\", \"country_of_risk_name\"\n",
    "]\n",
    "\n",
    "old_bonds = old_bonds.drop(useless_columns, axis=1)\n",
    "old_etfs = old_etfs.drop(useless_columns, axis=1)\n",
    "old_shares = old_shares.drop(useless_columns, axis=1)"
   ],
   "id": "793c1466a569f99f",
   "outputs": [],
   "execution_count": 7
  },
  {
   "metadata": {
    "ExecuteTime": {
     "end_time": "2024-11-18T15:24:42.104853Z",
     "start_time": "2024-11-18T15:24:42.101830Z"
    }
   },
   "cell_type": "code",
   "source": "list(old_bonds.columns) == list(old_etfs.columns) == list(old_shares.columns)",
   "id": "8c65c63c0a0465eb",
   "outputs": [
    {
     "data": {
      "text/plain": [
       "True"
      ]
     },
     "execution_count": 8,
     "metadata": {},
     "output_type": "execute_result"
    }
   ],
   "execution_count": 8
  },
  {
   "metadata": {
    "ExecuteTime": {
     "end_time": "2024-11-18T15:24:42.609163Z",
     "start_time": "2024-11-18T15:24:42.605766Z"
    }
   },
   "cell_type": "code",
   "source": "train = pd.concat([old_bonds, old_etfs, old_shares])",
   "id": "bf5053267f17bfb2",
   "outputs": [],
   "execution_count": 9
  },
  {
   "metadata": {
    "ExecuteTime": {
     "end_time": "2024-11-18T15:24:43.021214Z",
     "start_time": "2024-11-18T15:24:43.019389Z"
    }
   },
   "cell_type": "code",
   "source": [
    "exchange_encoder = LabelEncoder()\n",
    "class_code_encoder = LabelEncoder()\n",
    "currency_encoder = LabelEncoder()\n",
    "sector_encoder = LabelEncoder()\n",
    "country_of_risk_encoder = LabelEncoder()"
   ],
   "id": "4faf6ec7958734f7",
   "outputs": [],
   "execution_count": 10
  },
  {
   "metadata": {
    "ExecuteTime": {
     "end_time": "2024-11-18T15:24:43.669756Z",
     "start_time": "2024-11-18T15:24:43.525260Z"
    }
   },
   "cell_type": "code",
   "source": "\"industrials\" in sector_encoder.classes_",
   "id": "844cfeb95980455d",
   "outputs": [
    {
     "ename": "AttributeError",
     "evalue": "'LabelEncoder' object has no attribute 'classes_'",
     "output_type": "error",
     "traceback": [
      "\u001B[0;31m---------------------------------------------------------------------------\u001B[0m",
      "\u001B[0;31mAttributeError\u001B[0m                            Traceback (most recent call last)",
      "Cell \u001B[0;32mIn[11], line 1\u001B[0m\n\u001B[0;32m----> 1\u001B[0m \u001B[38;5;124m\"\u001B[39m\u001B[38;5;124mindustrials\u001B[39m\u001B[38;5;124m\"\u001B[39m \u001B[38;5;129;01min\u001B[39;00m \u001B[43msector_encoder\u001B[49m\u001B[38;5;241;43m.\u001B[39;49m\u001B[43mclasses_\u001B[49m\n",
      "\u001B[0;31mAttributeError\u001B[0m: 'LabelEncoder' object has no attribute 'classes_'"
     ]
    }
   ],
   "execution_count": 11
  },
  {
   "metadata": {
    "ExecuteTime": {
     "end_time": "2024-11-18T15:24:44.021766Z",
     "start_time": "2024-11-18T15:24:44.015679Z"
    }
   },
   "cell_type": "code",
   "source": [
    "train.exchange = exchange_encoder.fit_transform(train.exchange)\n",
    "train.currency = currency_encoder.fit_transform(train.currency)\n",
    "train.class_code = class_code_encoder.fit_transform(train.class_code)\n",
    "train.country_of_risk = country_of_risk_encoder.fit_transform(train.country_of_risk)\n",
    "train.sector = sector_encoder.fit_transform(train.sector)"
   ],
   "id": "11d6e65b4792f4ad",
   "outputs": [],
   "execution_count": 12
  },
  {
   "metadata": {
    "ExecuteTime": {
     "end_time": "2024-11-18T15:24:47.787335Z",
     "start_time": "2024-11-18T15:24:47.781655Z"
    }
   },
   "cell_type": "code",
   "source": [
    "new_bonds = new_bonds[valid_columns].drop(useless_columns, axis=1)\n",
    "new_etfs = new_etfs[valid_columns].drop(useless_columns, axis=1)\n",
    "new_shares = new_shares[valid_columns].drop(useless_columns, axis=1)\n",
    "\n",
    "val = pd.concat([new_bonds, new_etfs, new_shares])"
   ],
   "id": "5224b56177de544e",
   "outputs": [],
   "execution_count": 13
  },
  {
   "metadata": {
    "ExecuteTime": {
     "end_time": "2024-11-18T15:24:48.789115Z",
     "start_time": "2024-11-18T15:24:48.783309Z"
    }
   },
   "cell_type": "code",
   "source": "val[[\"candle_price\", \"figi\"]].rename({\"candle_price\": \"price\"}, axis=1)",
   "id": "fcc4d3aafb1c4b75",
   "outputs": [
    {
     "data": {
      "text/plain": [
       "          price          figi\n",
       "0     96.050000  TCS00A107D74\n",
       "1     59.560000  BBG00XH4W3N3\n",
       "2     77.830000  BBG00Z8KGGC3\n",
       "3     68.050000  TCS00A102D46\n",
       "4     95.100000  ISSUANCEPRLS\n",
       "..          ...           ...\n",
       "168    8.495000  BBG004S68BR5\n",
       "169    0.007204  BBG000QFH687\n",
       "170    8.400000  BBG0027F0Y27\n",
       "171  111.450000  BBG004S68FR6\n",
       "172    0.061700  BBG000C7P5M7\n",
       "\n",
       "[1342 rows x 2 columns]"
      ],
      "text/html": [
       "<div>\n",
       "<style scoped>\n",
       "    .dataframe tbody tr th:only-of-type {\n",
       "        vertical-align: middle;\n",
       "    }\n",
       "\n",
       "    .dataframe tbody tr th {\n",
       "        vertical-align: top;\n",
       "    }\n",
       "\n",
       "    .dataframe thead th {\n",
       "        text-align: right;\n",
       "    }\n",
       "</style>\n",
       "<table border=\"1\" class=\"dataframe\">\n",
       "  <thead>\n",
       "    <tr style=\"text-align: right;\">\n",
       "      <th></th>\n",
       "      <th>price</th>\n",
       "      <th>figi</th>\n",
       "    </tr>\n",
       "  </thead>\n",
       "  <tbody>\n",
       "    <tr>\n",
       "      <th>0</th>\n",
       "      <td>96.050000</td>\n",
       "      <td>TCS00A107D74</td>\n",
       "    </tr>\n",
       "    <tr>\n",
       "      <th>1</th>\n",
       "      <td>59.560000</td>\n",
       "      <td>BBG00XH4W3N3</td>\n",
       "    </tr>\n",
       "    <tr>\n",
       "      <th>2</th>\n",
       "      <td>77.830000</td>\n",
       "      <td>BBG00Z8KGGC3</td>\n",
       "    </tr>\n",
       "    <tr>\n",
       "      <th>3</th>\n",
       "      <td>68.050000</td>\n",
       "      <td>TCS00A102D46</td>\n",
       "    </tr>\n",
       "    <tr>\n",
       "      <th>4</th>\n",
       "      <td>95.100000</td>\n",
       "      <td>ISSUANCEPRLS</td>\n",
       "    </tr>\n",
       "    <tr>\n",
       "      <th>...</th>\n",
       "      <td>...</td>\n",
       "      <td>...</td>\n",
       "    </tr>\n",
       "    <tr>\n",
       "      <th>168</th>\n",
       "      <td>8.495000</td>\n",
       "      <td>BBG004S68BR5</td>\n",
       "    </tr>\n",
       "    <tr>\n",
       "      <th>169</th>\n",
       "      <td>0.007204</td>\n",
       "      <td>BBG000QFH687</td>\n",
       "    </tr>\n",
       "    <tr>\n",
       "      <th>170</th>\n",
       "      <td>8.400000</td>\n",
       "      <td>BBG0027F0Y27</td>\n",
       "    </tr>\n",
       "    <tr>\n",
       "      <th>171</th>\n",
       "      <td>111.450000</td>\n",
       "      <td>BBG004S68FR6</td>\n",
       "    </tr>\n",
       "    <tr>\n",
       "      <th>172</th>\n",
       "      <td>0.061700</td>\n",
       "      <td>BBG000C7P5M7</td>\n",
       "    </tr>\n",
       "  </tbody>\n",
       "</table>\n",
       "<p>1342 rows × 2 columns</p>\n",
       "</div>"
      ]
     },
     "execution_count": 14,
     "metadata": {},
     "output_type": "execute_result"
    }
   ],
   "execution_count": 14
  },
  {
   "metadata": {
    "ExecuteTime": {
     "end_time": "2024-11-18T15:24:49.516313Z",
     "start_time": "2024-11-18T15:24:49.468078Z"
    }
   },
   "cell_type": "code",
   "source": [
    "import numpy as np\n",
    "\n",
    "train.loc[np.isin(train.figi, val.figi)].shape == train.shape"
   ],
   "id": "59f0e410f9a848cf",
   "outputs": [
    {
     "data": {
      "text/plain": [
       "False"
      ]
     },
     "execution_count": 15,
     "metadata": {},
     "output_type": "execute_result"
    }
   ],
   "execution_count": 15
  },
  {
   "metadata": {
    "ExecuteTime": {
     "end_time": "2024-11-18T15:24:50.008683Z",
     "start_time": "2024-11-18T15:24:49.962740Z"
    }
   },
   "cell_type": "code",
   "source": "train = train.loc[np.isin(train.figi, val.figi)]",
   "id": "b3eb45b646ee4b59",
   "outputs": [],
   "execution_count": 16
  },
  {
   "metadata": {
    "ExecuteTime": {
     "end_time": "2024-11-18T15:24:50.453137Z",
     "start_time": "2024-11-18T15:24:50.448075Z"
    }
   },
   "cell_type": "code",
   "source": [
    "prices = pd.merge(\n",
    "    val[[\"candle_price\", \"figi\"]].rename({\"candle_price\": \"price\"}, axis=1), train[[\"candle_price\",\n",
    "                                                                                    \"figi\"]],\n",
    "    on=\"figi\",\n",
    "    how=\"left\"\n",
    ")"
   ],
   "id": "df727cf991c6a055",
   "outputs": [],
   "execution_count": 17
  },
  {
   "metadata": {
    "ExecuteTime": {
     "end_time": "2024-11-18T15:24:50.897190Z",
     "start_time": "2024-11-18T15:24:50.894312Z"
    }
   },
   "cell_type": "code",
   "source": "na_figis = prices[prices.isna()].figi",
   "id": "1b38c6c728363454",
   "outputs": [],
   "execution_count": 18
  },
  {
   "metadata": {
    "ExecuteTime": {
     "end_time": "2024-11-18T15:24:51.235646Z",
     "start_time": "2024-11-18T15:24:51.231983Z"
    }
   },
   "cell_type": "code",
   "source": "prices = prices.dropna()",
   "id": "92dad2bf36428f83",
   "outputs": [],
   "execution_count": 19
  },
  {
   "metadata": {
    "ExecuteTime": {
     "end_time": "2024-11-18T15:24:51.490049Z",
     "start_time": "2024-11-18T15:24:51.486430Z"
    }
   },
   "cell_type": "code",
   "source": "prices[\"target\"] = prices.price > prices.candle_price",
   "id": "43a0a5ed775eef97",
   "outputs": [],
   "execution_count": 20
  },
  {
   "metadata": {
    "ExecuteTime": {
     "end_time": "2024-11-18T15:24:51.722773Z",
     "start_time": "2024-11-18T15:24:51.718332Z"
    }
   },
   "cell_type": "code",
   "source": "prices.dtypes",
   "id": "deecd9b7c15cffb9",
   "outputs": [
    {
     "data": {
      "text/plain": [
       "price           float64\n",
       "figi             object\n",
       "candle_price    float64\n",
       "target             bool\n",
       "dtype: object"
      ]
     },
     "execution_count": 21,
     "metadata": {},
     "output_type": "execute_result"
    }
   ],
   "execution_count": 21
  },
  {
   "metadata": {
    "ExecuteTime": {
     "end_time": "2024-11-18T15:24:52.271999Z",
     "start_time": "2024-11-18T15:24:52.099995Z"
    }
   },
   "cell_type": "code",
   "source": "train[\"target\"] = train.figi.apply(lambda x: prices.loc[prices.figi == x].iloc[0].target)",
   "id": "789a47fce92a583d",
   "outputs": [],
   "execution_count": 22
  },
  {
   "metadata": {
    "ExecuteTime": {
     "end_time": "2024-11-18T15:24:52.738183Z",
     "start_time": "2024-11-18T15:24:52.735232Z"
    }
   },
   "cell_type": "code",
   "source": "train = train.drop([\"figi\", \"candle_price\"], axis=1)",
   "id": "81576954b246ece7",
   "outputs": [],
   "execution_count": 23
  },
  {
   "metadata": {
    "ExecuteTime": {
     "end_time": "2024-11-18T15:24:53.044766Z",
     "start_time": "2024-11-18T15:24:53.041664Z"
    }
   },
   "cell_type": "code",
   "source": "train.columns",
   "id": "b2dfa723f966969f",
   "outputs": [
    {
     "data": {
      "text/plain": [
       "Index(['inverse_drawdown', 'mean_return', 'country_of_risk', 'class_code',\n",
       "       'currency', 'sharpe_ratio', 'trend_slope', 'sortino_ratio', 'exchange',\n",
       "       'lot', 'sector', 'stability', 'target'],\n",
       "      dtype='object')"
      ]
     },
     "execution_count": 24,
     "metadata": {},
     "output_type": "execute_result"
    }
   ],
   "execution_count": 24
  },
  {
   "metadata": {
    "ExecuteTime": {
     "end_time": "2024-11-18T15:24:53.392822Z",
     "start_time": "2024-11-18T15:24:53.388998Z"
    }
   },
   "cell_type": "code",
   "source": "train.dtypes",
   "id": "4ecd0c358885629a",
   "outputs": [
    {
     "data": {
      "text/plain": [
       "inverse_drawdown    float64\n",
       "mean_return         float64\n",
       "country_of_risk       int64\n",
       "class_code            int64\n",
       "currency              int64\n",
       "sharpe_ratio        float64\n",
       "trend_slope         float64\n",
       "sortino_ratio       float64\n",
       "exchange              int64\n",
       "lot                   int64\n",
       "sector                int64\n",
       "stability           float64\n",
       "target                 bool\n",
       "dtype: object"
      ]
     },
     "execution_count": 25,
     "metadata": {},
     "output_type": "execute_result"
    }
   ],
   "execution_count": 25
  },
  {
   "metadata": {
    "ExecuteTime": {
     "end_time": "2024-11-18T15:24:53.830635Z",
     "start_time": "2024-11-18T15:24:53.808245Z"
    }
   },
   "cell_type": "code",
   "source": [
    "real_bonds = pd.read_csv('../api/.actual_cache/bonds.csv')\n",
    "real_etfs = pd.read_csv('../api/.actual_cache/etfs.csv')\n",
    "real_shares = pd.read_csv('../api/.actual_cache/shares.csv')"
   ],
   "id": "d80324e26a1d9232",
   "outputs": [],
   "execution_count": 26
  },
  {
   "metadata": {
    "ExecuteTime": {
     "end_time": "2024-11-18T15:24:54.309904Z",
     "start_time": "2024-11-18T15:24:54.305611Z"
    }
   },
   "cell_type": "code",
   "source": [
    "real_bonds = real_bonds[valid_columns].drop(useless_columns, axis=1)\n",
    "real_etfs = real_etfs[valid_columns].drop(useless_columns, axis=1)\n",
    "real_shares = real_shares[valid_columns].drop(useless_columns, axis=1)"
   ],
   "id": "2f9169c408435868",
   "outputs": [],
   "execution_count": 27
  },
  {
   "metadata": {
    "ExecuteTime": {
     "end_time": "2024-11-18T15:24:54.636335Z",
     "start_time": "2024-11-18T15:24:54.632702Z"
    }
   },
   "cell_type": "code",
   "source": "test = pd.concat([real_bonds, real_etfs, real_shares])",
   "id": "f1986bd763a02bc5",
   "outputs": [],
   "execution_count": 28
  },
  {
   "metadata": {
    "ExecuteTime": {
     "end_time": "2024-11-18T15:24:54.925206Z",
     "start_time": "2024-11-18T15:24:54.920381Z"
    }
   },
   "cell_type": "code",
   "source": "test = test.dropna()",
   "id": "2d64025ebe8befb",
   "outputs": [],
   "execution_count": 29
  },
  {
   "metadata": {
    "ExecuteTime": {
     "end_time": "2024-11-18T15:24:55.212328Z",
     "start_time": "2024-11-18T15:24:55.208821Z"
    }
   },
   "cell_type": "code",
   "source": "val.figi.nunique(), test.figi.nunique()",
   "id": "4dcb001513106d2b",
   "outputs": [
    {
     "data": {
      "text/plain": [
       "(1342, 3177)"
      ]
     },
     "execution_count": 30,
     "metadata": {},
     "output_type": "execute_result"
    }
   ],
   "execution_count": 30
  },
  {
   "metadata": {
    "ExecuteTime": {
     "end_time": "2024-11-18T15:24:55.645658Z",
     "start_time": "2024-11-18T15:24:55.641206Z"
    }
   },
   "cell_type": "code",
   "source": [
    "test_prices = pd.merge(\n",
    "    test[[\"candle_price\", \"figi\"]].rename({\"candle_price\": \"price\"}, axis=1), val[[\"candle_price\", \"figi\"]],\n",
    "    on=\"figi\",\n",
    "    how=\"left\"\n",
    ")"
   ],
   "id": "4916a92846a45f4",
   "outputs": [],
   "execution_count": 31
  },
  {
   "metadata": {
    "ExecuteTime": {
     "end_time": "2024-11-18T15:24:56.329972Z",
     "start_time": "2024-11-18T15:24:56.103353Z"
    }
   },
   "cell_type": "code",
   "source": [
    "test_prices = test_prices.dropna()\n",
    "test_prices[\"target\"] = test_prices.price > test_prices.candle_price\n",
    "X_test = val.loc[np.isin(val.figi, test.figi)]\n",
    "Y_test = X_test.figi.apply(lambda x: test_prices.loc[test_prices.figi == x].iloc[0].target)"
   ],
   "id": "7d743ca9f282c27a",
   "outputs": [],
   "execution_count": 32
  },
  {
   "metadata": {
    "ExecuteTime": {
     "end_time": "2024-11-18T15:24:56.379761Z",
     "start_time": "2024-11-18T15:24:56.377606Z"
    }
   },
   "cell_type": "code",
   "source": "X_test = X_test.drop([\"figi\", \"candle_price\"], axis=1)",
   "id": "6373bc08a774aa69",
   "outputs": [],
   "execution_count": 33
  },
  {
   "metadata": {
    "ExecuteTime": {
     "end_time": "2024-11-18T15:24:57.191416Z",
     "start_time": "2024-11-18T15:24:57.185430Z"
    }
   },
   "cell_type": "code",
   "source": "model = CatBoostClassifier(iterations=10001, depth=5)",
   "id": "de4a9c2e4155a8a6",
   "outputs": [],
   "execution_count": 34
  },
  {
   "metadata": {
    "ExecuteTime": {
     "end_time": "2024-11-18T15:25:07.202276Z",
     "start_time": "2024-11-18T15:24:57.642042Z"
    }
   },
   "cell_type": "code",
   "source": [
    "model.fit(\n",
    "    train.drop(\"target\", axis=1),\n",
    "    train.target,\n",
    "    verbose=1000\n",
    ")"
   ],
   "id": "218fdb17b09820b6",
   "outputs": [
    {
     "name": "stdout",
     "output_type": "stream",
     "text": [
      "Learning rate set to 0.001393\n",
      "0:\tlearn: 0.6927915\ttotal: 57.8ms\tremaining: 9m 38s\n",
      "1000:\tlearn: 0.5613505\ttotal: 990ms\tremaining: 8.9s\n",
      "2000:\tlearn: 0.5280424\ttotal: 2.05s\tremaining: 8.21s\n",
      "3000:\tlearn: 0.5080508\ttotal: 3.2s\tremaining: 7.47s\n",
      "4000:\tlearn: 0.4916144\ttotal: 4.35s\tremaining: 6.52s\n",
      "5000:\tlearn: 0.4753030\ttotal: 5.49s\tremaining: 5.49s\n",
      "6000:\tlearn: 0.4557527\ttotal: 6.49s\tremaining: 4.32s\n",
      "7000:\tlearn: 0.4335507\ttotal: 7.18s\tremaining: 3.08s\n",
      "8000:\tlearn: 0.4125016\ttotal: 7.85s\tremaining: 1.96s\n",
      "9000:\tlearn: 0.3934285\ttotal: 8.53s\tremaining: 948ms\n",
      "10000:\tlearn: 0.3763634\ttotal: 9.21s\tremaining: 0us\n"
     ]
    },
    {
     "data": {
      "text/plain": [
       "<catboost.core.CatBoostClassifier at 0x169817f50>"
      ]
     },
     "execution_count": 35,
     "metadata": {},
     "output_type": "execute_result"
    }
   ],
   "execution_count": 35
  },
  {
   "metadata": {
    "ExecuteTime": {
     "end_time": "2024-11-18T15:25:29.372139Z",
     "start_time": "2024-11-18T15:25:29.366280Z"
    }
   },
   "cell_type": "code",
   "source": "from sklearn.metrics import classification_report",
   "id": "8ed22c69a4e5c59a",
   "outputs": [],
   "execution_count": 36
  },
  {
   "metadata": {
    "ExecuteTime": {
     "end_time": "2024-11-18T15:25:29.587210Z",
     "start_time": "2024-11-18T15:25:29.583487Z"
    }
   },
   "cell_type": "code",
   "source": "country_of_risk_encoder.classes_",
   "id": "6eed5a20911f30e9",
   "outputs": [
    {
     "data": {
      "text/plain": [
       "array(['AR', 'BE', 'BR', 'CH', 'CN', 'DE', 'ES', 'FI', 'FR', 'GB', 'HK',\n",
       "       'IL', 'IN', 'IT', 'KR', 'KZ', 'NL', 'PE', 'RU', 'SE', 'SG', 'US',\n",
       "       'UY'], dtype=object)"
      ]
     },
     "execution_count": 37,
     "metadata": {},
     "output_type": "execute_result"
    }
   ],
   "execution_count": 37
  },
  {
   "metadata": {
    "ExecuteTime": {
     "end_time": "2024-11-18T15:25:32.133062Z",
     "start_time": "2024-11-18T15:25:32.128420Z"
    }
   },
   "cell_type": "code",
   "source": "X_test.loc[~np.isin(X_test.country_of_risk, country_of_risk_encoder.classes_), \"country_of_risk\"] = \"RU\"",
   "id": "2cfff21584c4692d",
   "outputs": [],
   "execution_count": 39
  },
  {
   "metadata": {
    "ExecuteTime": {
     "end_time": "2024-11-18T15:25:32.637429Z",
     "start_time": "2024-11-18T15:25:32.633077Z"
    }
   },
   "cell_type": "code",
   "source": [
    "X_test.exchange = exchange_encoder.transform(X_test.exchange)\n",
    "X_test.currency = currency_encoder.transform(X_test.currency)\n",
    "X_test.class_code = class_code_encoder.transform(X_test.class_code)\n",
    "X_test.sector = sector_encoder.transform(X_test.sector)\n",
    "X_test.country_of_risk = country_of_risk_encoder.transform(X_test.country_of_risk)"
   ],
   "id": "8ef3dc017f3ff725",
   "outputs": [],
   "execution_count": 40
  },
  {
   "metadata": {
    "ExecuteTime": {
     "end_time": "2024-11-18T15:25:33.375321Z",
     "start_time": "2024-11-18T15:25:33.345504Z"
    }
   },
   "cell_type": "code",
   "source": "print(classification_report(Y_test.astype(str), model.predict(X_test)))",
   "id": "fb81eda3e8898c3",
   "outputs": [
    {
     "name": "stdout",
     "output_type": "stream",
     "text": [
      "              precision    recall  f1-score   support\n",
      "\n",
      "       False       0.82      0.77      0.79      1004\n",
      "        True       0.38      0.46      0.41       313\n",
      "\n",
      "    accuracy                           0.69      1317\n",
      "   macro avg       0.60      0.61      0.60      1317\n",
      "weighted avg       0.71      0.69      0.70      1317\n",
      "\n"
     ]
    }
   ],
   "execution_count": 41
  },
  {
   "metadata": {
    "ExecuteTime": {
     "end_time": "2024-11-18T15:25:35.980325Z",
     "start_time": "2024-11-18T15:25:35.965309Z"
    }
   },
   "cell_type": "code",
   "source": [
    "bonds = pd.read_csv('../api/.cache/bonds.csv')\n",
    "etfs = pd.read_csv('../api/.cache/etfs.csv')\n",
    "shares = pd.read_csv('../api/.cache/shares.csv')"
   ],
   "id": "638f2b0a02d22718",
   "outputs": [],
   "execution_count": 42
  },
  {
   "metadata": {
    "ExecuteTime": {
     "end_time": "2024-11-18T15:27:48.046958Z",
     "start_time": "2024-11-18T15:27:48.041886Z"
    }
   },
   "cell_type": "code",
   "source": "bonds_nans = bonds[X_test.columns].isna().any(axis=1)",
   "id": "a10441dbcc3b3525",
   "outputs": [],
   "execution_count": 63
  },
  {
   "metadata": {
    "ExecuteTime": {
     "end_time": "2024-11-18T15:27:50.914232Z",
     "start_time": "2024-11-18T15:27:50.904643Z"
    }
   },
   "cell_type": "code",
   "source": "bonds_nans",
   "id": "f9202c39c1b9d9f5",
   "outputs": [
    {
     "data": {
      "text/plain": [
       "0       False\n",
       "1       False\n",
       "2       False\n",
       "3       False\n",
       "4       False\n",
       "        ...  \n",
       "1092    False\n",
       "1093    False\n",
       "1094    False\n",
       "1095    False\n",
       "1096    False\n",
       "Length: 1097, dtype: bool"
      ]
     },
     "execution_count": 65,
     "metadata": {},
     "output_type": "execute_result"
    }
   ],
   "execution_count": 65
  },
  {
   "metadata": {
    "ExecuteTime": {
     "end_time": "2024-11-18T15:27:48.259498Z",
     "start_time": "2024-11-18T15:27:48.213330Z"
    }
   },
   "cell_type": "code",
   "source": "score = model.predict_proba(bonds[X_test.columns][~bonds_nans])",
   "id": "5ac2e250f71b9a30",
   "outputs": [
    {
     "ename": "CatBoostError",
     "evalue": "Bad value for num_feature[non_default_doc_idx=0,feature_idx=2]=\"RU\": Cannot convert 'b'RU'' to float",
     "output_type": "error",
     "traceback": [
      "\u001B[0;31m---------------------------------------------------------------------------\u001B[0m",
      "\u001B[0;31mTypeError\u001B[0m                                 Traceback (most recent call last)",
      "File \u001B[0;32m_catboost.pyx:2288\u001B[0m, in \u001B[0;36m_catboost.get_float_feature\u001B[0;34m()\u001B[0m\n",
      "File \u001B[0;32m_catboost.pyx:1141\u001B[0m, in \u001B[0;36m_catboost._FloatOrNan\u001B[0;34m()\u001B[0m\n",
      "File \u001B[0;32m_catboost.pyx:951\u001B[0m, in \u001B[0;36m_catboost._FloatOrNanFromString\u001B[0;34m()\u001B[0m\n",
      "\u001B[0;31mTypeError\u001B[0m: Cannot convert 'b'RU'' to float",
      "\nDuring handling of the above exception, another exception occurred:\n",
      "\u001B[0;31mCatBoostError\u001B[0m                             Traceback (most recent call last)",
      "Cell \u001B[0;32mIn[64], line 1\u001B[0m\n\u001B[0;32m----> 1\u001B[0m score \u001B[38;5;241m=\u001B[39m \u001B[43mmodel\u001B[49m\u001B[38;5;241;43m.\u001B[39;49m\u001B[43mpredict_proba\u001B[49m\u001B[43m(\u001B[49m\u001B[43mbonds\u001B[49m\u001B[43m[\u001B[49m\u001B[43mX_test\u001B[49m\u001B[38;5;241;43m.\u001B[39;49m\u001B[43mcolumns\u001B[49m\u001B[43m]\u001B[49m\u001B[43m[\u001B[49m\u001B[38;5;241;43m~\u001B[39;49m\u001B[43mbonds_nans\u001B[49m\u001B[43m]\u001B[49m\u001B[43m)\u001B[49m\n",
      "File \u001B[0;32m/Library/Frameworks/Python.framework/Versions/3.11/lib/python3.11/site-packages/catboost/core.py:5225\u001B[0m, in \u001B[0;36mCatBoostClassifier.predict_proba\u001B[0;34m(self, X, ntree_start, ntree_end, thread_count, verbose, task_type)\u001B[0m\n\u001B[1;32m   5189\u001B[0m \u001B[38;5;28;01mdef\u001B[39;00m \u001B[38;5;21mpredict_proba\u001B[39m(\u001B[38;5;28mself\u001B[39m, X, ntree_start\u001B[38;5;241m=\u001B[39m\u001B[38;5;241m0\u001B[39m, ntree_end\u001B[38;5;241m=\u001B[39m\u001B[38;5;241m0\u001B[39m, thread_count\u001B[38;5;241m=\u001B[39m\u001B[38;5;241m-\u001B[39m\u001B[38;5;241m1\u001B[39m, verbose\u001B[38;5;241m=\u001B[39m\u001B[38;5;28;01mNone\u001B[39;00m, task_type\u001B[38;5;241m=\u001B[39m\u001B[38;5;124m\"\u001B[39m\u001B[38;5;124mCPU\u001B[39m\u001B[38;5;124m\"\u001B[39m):\n\u001B[1;32m   5190\u001B[0m \u001B[38;5;250m    \u001B[39m\u001B[38;5;124;03m\"\"\"\u001B[39;00m\n\u001B[1;32m   5191\u001B[0m \u001B[38;5;124;03m    Predict class probability with X.\u001B[39;00m\n\u001B[1;32m   5192\u001B[0m \n\u001B[0;32m   (...)\u001B[0m\n\u001B[1;32m   5223\u001B[0m \u001B[38;5;124;03m            with probability for every class for each object.\u001B[39;00m\n\u001B[1;32m   5224\u001B[0m \u001B[38;5;124;03m    \"\"\"\u001B[39;00m\n\u001B[0;32m-> 5225\u001B[0m     \u001B[38;5;28;01mreturn\u001B[39;00m \u001B[38;5;28;43mself\u001B[39;49m\u001B[38;5;241;43m.\u001B[39;49m\u001B[43m_predict\u001B[49m\u001B[43m(\u001B[49m\u001B[43mX\u001B[49m\u001B[43m,\u001B[49m\u001B[43m \u001B[49m\u001B[38;5;124;43m'\u001B[39;49m\u001B[38;5;124;43mProbability\u001B[39;49m\u001B[38;5;124;43m'\u001B[39;49m\u001B[43m,\u001B[49m\u001B[43m \u001B[49m\u001B[43mntree_start\u001B[49m\u001B[43m,\u001B[49m\u001B[43m \u001B[49m\u001B[43mntree_end\u001B[49m\u001B[43m,\u001B[49m\u001B[43m \u001B[49m\u001B[43mthread_count\u001B[49m\u001B[43m,\u001B[49m\u001B[43m \u001B[49m\u001B[43mverbose\u001B[49m\u001B[43m,\u001B[49m\u001B[43m \u001B[49m\u001B[38;5;124;43m'\u001B[39;49m\u001B[38;5;124;43mpredict_proba\u001B[39;49m\u001B[38;5;124;43m'\u001B[39;49m\u001B[43m,\u001B[49m\u001B[43m \u001B[49m\u001B[43mtask_type\u001B[49m\u001B[43m)\u001B[49m\n",
      "File \u001B[0;32m/Library/Frameworks/Python.framework/Versions/3.11/lib/python3.11/site-packages/catboost/core.py:2543\u001B[0m, in \u001B[0;36mCatBoost._predict\u001B[0;34m(self, data, prediction_type, ntree_start, ntree_end, thread_count, verbose, parent_method_name, task_type)\u001B[0m\n\u001B[1;32m   2541\u001B[0m \u001B[38;5;28;01mif\u001B[39;00m verbose \u001B[38;5;129;01mis\u001B[39;00m \u001B[38;5;28;01mNone\u001B[39;00m:\n\u001B[1;32m   2542\u001B[0m     verbose \u001B[38;5;241m=\u001B[39m \u001B[38;5;28;01mFalse\u001B[39;00m\n\u001B[0;32m-> 2543\u001B[0m data, data_is_single_object \u001B[38;5;241m=\u001B[39m \u001B[38;5;28;43mself\u001B[39;49m\u001B[38;5;241;43m.\u001B[39;49m\u001B[43m_process_predict_input_data\u001B[49m\u001B[43m(\u001B[49m\u001B[43mdata\u001B[49m\u001B[43m,\u001B[49m\u001B[43m \u001B[49m\u001B[43mparent_method_name\u001B[49m\u001B[43m,\u001B[49m\u001B[43m \u001B[49m\u001B[43mthread_count\u001B[49m\u001B[43m)\u001B[49m\n\u001B[1;32m   2544\u001B[0m \u001B[38;5;28mself\u001B[39m\u001B[38;5;241m.\u001B[39m_validate_prediction_type(prediction_type)\n\u001B[1;32m   2546\u001B[0m predictions \u001B[38;5;241m=\u001B[39m \u001B[38;5;28mself\u001B[39m\u001B[38;5;241m.\u001B[39m_base_predict(data, prediction_type, ntree_start, ntree_end, thread_count, verbose, task_type)\n",
      "File \u001B[0;32m/Library/Frameworks/Python.framework/Versions/3.11/lib/python3.11/site-packages/catboost/core.py:2523\u001B[0m, in \u001B[0;36mCatBoost._process_predict_input_data\u001B[0;34m(self, data, parent_method_name, thread_count, label)\u001B[0m\n\u001B[1;32m   2521\u001B[0m is_single_object \u001B[38;5;241m=\u001B[39m _is_data_single_object(data)\n\u001B[1;32m   2522\u001B[0m \u001B[38;5;28;01mif\u001B[39;00m \u001B[38;5;129;01mnot\u001B[39;00m \u001B[38;5;28misinstance\u001B[39m(data, Pool):\n\u001B[0;32m-> 2523\u001B[0m     data \u001B[38;5;241m=\u001B[39m \u001B[43mPool\u001B[49m\u001B[43m(\u001B[49m\n\u001B[1;32m   2524\u001B[0m \u001B[43m        \u001B[49m\u001B[43mdata\u001B[49m\u001B[38;5;241;43m=\u001B[39;49m\u001B[43m[\u001B[49m\u001B[43mdata\u001B[49m\u001B[43m]\u001B[49m\u001B[43m \u001B[49m\u001B[38;5;28;43;01mif\u001B[39;49;00m\u001B[43m \u001B[49m\u001B[43mis_single_object\u001B[49m\u001B[43m \u001B[49m\u001B[38;5;28;43;01melse\u001B[39;49;00m\u001B[43m \u001B[49m\u001B[43mdata\u001B[49m\u001B[43m,\u001B[49m\n\u001B[1;32m   2525\u001B[0m \u001B[43m        \u001B[49m\u001B[43mlabel\u001B[49m\u001B[38;5;241;43m=\u001B[39;49m\u001B[43mlabel\u001B[49m\u001B[43m,\u001B[49m\n\u001B[1;32m   2526\u001B[0m \u001B[43m        \u001B[49m\u001B[43mcat_features\u001B[49m\u001B[38;5;241;43m=\u001B[39;49m\u001B[38;5;28;43mself\u001B[39;49m\u001B[38;5;241;43m.\u001B[39;49m\u001B[43m_get_cat_feature_indices\u001B[49m\u001B[43m(\u001B[49m\u001B[43m)\u001B[49m\u001B[43m \u001B[49m\u001B[38;5;28;43;01mif\u001B[39;49;00m\u001B[43m \u001B[49m\u001B[38;5;129;43;01mnot\u001B[39;49;00m\u001B[43m \u001B[49m\u001B[38;5;28;43misinstance\u001B[39;49m\u001B[43m(\u001B[49m\u001B[43mdata\u001B[49m\u001B[43m,\u001B[49m\u001B[43m \u001B[49m\u001B[43mFeaturesData\u001B[49m\u001B[43m)\u001B[49m\u001B[43m \u001B[49m\u001B[38;5;28;43;01melse\u001B[39;49;00m\u001B[43m \u001B[49m\u001B[38;5;28;43;01mNone\u001B[39;49;00m\u001B[43m,\u001B[49m\n\u001B[1;32m   2527\u001B[0m \u001B[43m        \u001B[49m\u001B[43mtext_features\u001B[49m\u001B[38;5;241;43m=\u001B[39;49m\u001B[38;5;28;43mself\u001B[39;49m\u001B[38;5;241;43m.\u001B[39;49m\u001B[43m_get_text_feature_indices\u001B[49m\u001B[43m(\u001B[49m\u001B[43m)\u001B[49m\u001B[43m \u001B[49m\u001B[38;5;28;43;01mif\u001B[39;49;00m\u001B[43m \u001B[49m\u001B[38;5;129;43;01mnot\u001B[39;49;00m\u001B[43m \u001B[49m\u001B[38;5;28;43misinstance\u001B[39;49m\u001B[43m(\u001B[49m\u001B[43mdata\u001B[49m\u001B[43m,\u001B[49m\u001B[43m \u001B[49m\u001B[43mFeaturesData\u001B[49m\u001B[43m)\u001B[49m\u001B[43m \u001B[49m\u001B[38;5;28;43;01melse\u001B[39;49;00m\u001B[43m \u001B[49m\u001B[38;5;28;43;01mNone\u001B[39;49;00m\u001B[43m,\u001B[49m\n\u001B[1;32m   2528\u001B[0m \u001B[43m        \u001B[49m\u001B[43membedding_features\u001B[49m\u001B[38;5;241;43m=\u001B[39;49m\u001B[38;5;28;43mself\u001B[39;49m\u001B[38;5;241;43m.\u001B[39;49m\u001B[43m_get_embedding_feature_indices\u001B[49m\u001B[43m(\u001B[49m\u001B[43m)\u001B[49m\u001B[43m \u001B[49m\u001B[38;5;28;43;01mif\u001B[39;49;00m\u001B[43m \u001B[49m\u001B[38;5;129;43;01mnot\u001B[39;49;00m\u001B[43m \u001B[49m\u001B[38;5;28;43misinstance\u001B[39;49m\u001B[43m(\u001B[49m\u001B[43mdata\u001B[49m\u001B[43m,\u001B[49m\u001B[43m \u001B[49m\u001B[43mFeaturesData\u001B[49m\u001B[43m)\u001B[49m\u001B[43m \u001B[49m\u001B[38;5;28;43;01melse\u001B[39;49;00m\u001B[43m \u001B[49m\u001B[38;5;28;43;01mNone\u001B[39;49;00m\u001B[43m,\u001B[49m\n\u001B[1;32m   2529\u001B[0m \u001B[43m        \u001B[49m\u001B[43mthread_count\u001B[49m\u001B[38;5;241;43m=\u001B[39;49m\u001B[43mthread_count\u001B[49m\n\u001B[1;32m   2530\u001B[0m \u001B[43m    \u001B[49m\u001B[43m)\u001B[49m\n\u001B[1;32m   2531\u001B[0m \u001B[38;5;28;01mreturn\u001B[39;00m data, is_single_object\n",
      "File \u001B[0;32m/Library/Frameworks/Python.framework/Versions/3.11/lib/python3.11/site-packages/catboost/core.py:792\u001B[0m, in \u001B[0;36mPool.__init__\u001B[0;34m(self, data, label, cat_features, text_features, embedding_features, embedding_features_data, column_description, pairs, delimiter, has_header, ignore_csv_quoting, weight, group_id, group_weight, subgroup_id, pairs_weight, baseline, timestamp, feature_names, feature_tags, thread_count, log_cout, log_cerr)\u001B[0m\n\u001B[1;32m    786\u001B[0m         \u001B[38;5;28;01mif\u001B[39;00m \u001B[38;5;28misinstance\u001B[39m(feature_names, PATH_TYPES):\n\u001B[1;32m    787\u001B[0m             \u001B[38;5;28;01mraise\u001B[39;00m CatBoostError(\n\u001B[1;32m    788\u001B[0m                 \u001B[38;5;124m\"\u001B[39m\u001B[38;5;124mfeature_names must be None or have non-string type when the pool is created from \u001B[39m\u001B[38;5;124m\"\u001B[39m\n\u001B[1;32m    789\u001B[0m                 \u001B[38;5;124m\"\u001B[39m\u001B[38;5;124mpython objects.\u001B[39m\u001B[38;5;124m\"\u001B[39m\n\u001B[1;32m    790\u001B[0m             )\n\u001B[0;32m--> 792\u001B[0m         \u001B[38;5;28;43mself\u001B[39;49m\u001B[38;5;241;43m.\u001B[39;49m\u001B[43m_init\u001B[49m\u001B[43m(\u001B[49m\u001B[43mdata\u001B[49m\u001B[43m,\u001B[49m\u001B[43m \u001B[49m\u001B[43mlabel\u001B[49m\u001B[43m,\u001B[49m\u001B[43m \u001B[49m\u001B[43mcat_features\u001B[49m\u001B[43m,\u001B[49m\u001B[43m \u001B[49m\u001B[43mtext_features\u001B[49m\u001B[43m,\u001B[49m\u001B[43m \u001B[49m\u001B[43membedding_features\u001B[49m\u001B[43m,\u001B[49m\u001B[43m \u001B[49m\u001B[43membedding_features_data\u001B[49m\u001B[43m,\u001B[49m\u001B[43m \u001B[49m\u001B[43mpairs\u001B[49m\u001B[43m,\u001B[49m\u001B[43m \u001B[49m\u001B[43mweight\u001B[49m\u001B[43m,\u001B[49m\n\u001B[1;32m    793\u001B[0m \u001B[43m                   \u001B[49m\u001B[43mgroup_id\u001B[49m\u001B[43m,\u001B[49m\u001B[43m \u001B[49m\u001B[43mgroup_weight\u001B[49m\u001B[43m,\u001B[49m\u001B[43m \u001B[49m\u001B[43msubgroup_id\u001B[49m\u001B[43m,\u001B[49m\u001B[43m \u001B[49m\u001B[43mpairs_weight\u001B[49m\u001B[43m,\u001B[49m\u001B[43m \u001B[49m\u001B[43mbaseline\u001B[49m\u001B[43m,\u001B[49m\u001B[43m \u001B[49m\u001B[43mtimestamp\u001B[49m\u001B[43m,\u001B[49m\u001B[43m \u001B[49m\u001B[43mfeature_names\u001B[49m\u001B[43m,\u001B[49m\u001B[43m \u001B[49m\u001B[43mfeature_tags\u001B[49m\u001B[43m,\u001B[49m\u001B[43m \u001B[49m\u001B[43mthread_count\u001B[49m\u001B[43m)\u001B[49m\n\u001B[1;32m    794\u001B[0m \u001B[38;5;28msuper\u001B[39m(Pool, \u001B[38;5;28mself\u001B[39m)\u001B[38;5;241m.\u001B[39m\u001B[38;5;21m__init__\u001B[39m()\n",
      "File \u001B[0;32m/Library/Frameworks/Python.framework/Versions/3.11/lib/python3.11/site-packages/catboost/core.py:1419\u001B[0m, in \u001B[0;36mPool._init\u001B[0;34m(self, data, label, cat_features, text_features, embedding_features, embedding_features_data, pairs, weight, group_id, group_weight, subgroup_id, pairs_weight, baseline, timestamp, feature_names, feature_tags, thread_count)\u001B[0m\n\u001B[1;32m   1417\u001B[0m \u001B[38;5;28;01mif\u001B[39;00m feature_tags \u001B[38;5;129;01mis\u001B[39;00m \u001B[38;5;129;01mnot\u001B[39;00m \u001B[38;5;28;01mNone\u001B[39;00m:\n\u001B[1;32m   1418\u001B[0m     feature_tags \u001B[38;5;241m=\u001B[39m \u001B[38;5;28mself\u001B[39m\u001B[38;5;241m.\u001B[39m_check_transform_tags(feature_tags, feature_names)\n\u001B[0;32m-> 1419\u001B[0m \u001B[38;5;28;43mself\u001B[39;49m\u001B[38;5;241;43m.\u001B[39;49m\u001B[43m_init_pool\u001B[49m\u001B[43m(\u001B[49m\u001B[43mdata\u001B[49m\u001B[43m,\u001B[49m\u001B[43m \u001B[49m\u001B[43mlabel\u001B[49m\u001B[43m,\u001B[49m\u001B[43m \u001B[49m\u001B[43mcat_features\u001B[49m\u001B[43m,\u001B[49m\u001B[43m \u001B[49m\u001B[43mtext_features\u001B[49m\u001B[43m,\u001B[49m\u001B[43m \u001B[49m\u001B[43membedding_features\u001B[49m\u001B[43m,\u001B[49m\u001B[43m \u001B[49m\u001B[43membedding_features_data\u001B[49m\u001B[43m,\u001B[49m\u001B[43m \u001B[49m\u001B[43mpairs\u001B[49m\u001B[43m,\u001B[49m\u001B[43m \u001B[49m\u001B[43mweight\u001B[49m\u001B[43m,\u001B[49m\n\u001B[1;32m   1420\u001B[0m \u001B[43m                \u001B[49m\u001B[43mgroup_id\u001B[49m\u001B[43m,\u001B[49m\u001B[43m \u001B[49m\u001B[43mgroup_weight\u001B[49m\u001B[43m,\u001B[49m\u001B[43m \u001B[49m\u001B[43msubgroup_id\u001B[49m\u001B[43m,\u001B[49m\u001B[43m \u001B[49m\u001B[43mpairs_weight\u001B[49m\u001B[43m,\u001B[49m\u001B[43m \u001B[49m\u001B[43mbaseline\u001B[49m\u001B[43m,\u001B[49m\u001B[43m \u001B[49m\u001B[43mtimestamp\u001B[49m\u001B[43m,\u001B[49m\u001B[43m \u001B[49m\u001B[43mfeature_names\u001B[49m\u001B[43m,\u001B[49m\u001B[43m \u001B[49m\u001B[43mfeature_tags\u001B[49m\u001B[43m,\u001B[49m\u001B[43m \u001B[49m\u001B[43mthread_count\u001B[49m\u001B[43m)\u001B[49m\n",
      "File \u001B[0;32m_catboost.pyx:3956\u001B[0m, in \u001B[0;36m_catboost._PoolBase._init_pool\u001B[0;34m()\u001B[0m\n",
      "File \u001B[0;32m_catboost.pyx:4006\u001B[0m, in \u001B[0;36m_catboost._PoolBase._init_pool\u001B[0;34m()\u001B[0m\n",
      "File \u001B[0;32m_catboost.pyx:3822\u001B[0m, in \u001B[0;36m_catboost._PoolBase._init_features_order_layout_pool\u001B[0;34m()\u001B[0m\n",
      "File \u001B[0;32m_catboost.pyx:2788\u001B[0m, in \u001B[0;36m_catboost._set_features_order_data_pd_data_frame\u001B[0;34m()\u001B[0m\n",
      "File \u001B[0;32m_catboost.pyx:2329\u001B[0m, in \u001B[0;36m_catboost.create_num_factor_data\u001B[0;34m()\u001B[0m\n",
      "File \u001B[0;32m_catboost.pyx:2290\u001B[0m, in \u001B[0;36m_catboost.get_float_feature\u001B[0;34m()\u001B[0m\n",
      "\u001B[0;31mCatBoostError\u001B[0m: Bad value for num_feature[non_default_doc_idx=0,feature_idx=2]=\"RU\": Cannot convert 'b'RU'' to float"
     ]
    }
   ],
   "execution_count": 64
  },
  {
   "metadata": {
    "ExecuteTime": {
     "end_time": "2024-11-18T15:25:39.992410Z",
     "start_time": "2024-11-18T15:25:39.982456Z"
    }
   },
   "cell_type": "code",
   "source": [
    "bonds.loc[~bonds_nans, \"ratings\"] = score[:, 1]\n",
    "bonds.loc[bonds_nans, \"ratings\"] = 0"
   ],
   "id": "13f7f8395c2486f7",
   "outputs": [
    {
     "ename": "NameError",
     "evalue": "name 'score' is not defined",
     "output_type": "error",
     "traceback": [
      "\u001B[0;31m---------------------------------------------------------------------------\u001B[0m",
      "\u001B[0;31mNameError\u001B[0m                                 Traceback (most recent call last)",
      "Cell \u001B[0;32mIn[45], line 1\u001B[0m\n\u001B[0;32m----> 1\u001B[0m bonds\u001B[38;5;241m.\u001B[39mloc[\u001B[38;5;241m~\u001B[39mbonds_nans, \u001B[38;5;124m\"\u001B[39m\u001B[38;5;124mratings\u001B[39m\u001B[38;5;124m\"\u001B[39m] \u001B[38;5;241m=\u001B[39m \u001B[43mscore\u001B[49m[:, \u001B[38;5;241m1\u001B[39m]\n\u001B[1;32m      2\u001B[0m bonds\u001B[38;5;241m.\u001B[39mloc[bonds_nans, \u001B[38;5;124m\"\u001B[39m\u001B[38;5;124mratings\u001B[39m\u001B[38;5;124m\"\u001B[39m] \u001B[38;5;241m=\u001B[39m \u001B[38;5;241m0\u001B[39m\n",
      "\u001B[0;31mNameError\u001B[0m: name 'score' is not defined"
     ]
    }
   ],
   "execution_count": 45
  },
  {
   "metadata": {
    "ExecuteTime": {
     "end_time": "2024-11-18T15:25:40.721246Z",
     "start_time": "2024-11-18T15:25:40.708544Z"
    }
   },
   "cell_type": "code",
   "source": "bonds",
   "id": "b12fa837e37cb7de",
   "outputs": [
    {
     "data": {
      "text/plain": [
       "              figi        ticker class_code          isin currency  \\\n",
       "0     TCS00A107D74  RU000A107D74       TQCB  RU000A107D74      rub   \n",
       "1     BBG00XH4W3N3  RU000A101RZ3       TQCB  RU000A101RZ3      rub   \n",
       "2     BBG00Z8KGGC3  RU000A102R73       TQCB  RU000A102R73      rub   \n",
       "3     TCS00A102D46  RU000A102D46       TQCB  RU000A102D46      rub   \n",
       "4     ISSUANCEPRLS  RU000A1022E6       TQCB  RU000A1022E6      rub   \n",
       "...            ...           ...        ...           ...      ...   \n",
       "1092  TCS00A105Q63  RU000A105Q63       TQCB  RU000A105Q63      rub   \n",
       "1093  BBG012YS2TP2  RU000A103VD8       TQCB  RU000A103VD8      rub   \n",
       "1094  TCS00A105HJ9  RU000A105HJ9       TQCB  RU000A105HJ9      rub   \n",
       "1095  TCS00A104735  RU000A104735       TQCB  RU000A104735      rub   \n",
       "1096  BBG00J7HHGH1  RU000A0ZYG52       TQCB  RU000A0ZYG52      rub   \n",
       "\n",
       "                             name exchange  coupon_quantity_per_year  \\\n",
       "0         ЭнергоТехСервис 001P-05     MOEX                        12   \n",
       "1             Казахстан выпуск 11     MOEX                         2   \n",
       "2     Банк Открытие БО-П выпуск 7     MOEX                         2   \n",
       "3                  ДОМ.РФ ИА 018P     MOEX                         4   \n",
       "4               ПР-Лизинг 002P-01     MOEX                        12   \n",
       "...                           ...      ...                       ...   \n",
       "1092     Уральская Сталь выпуск 1     MOEX                         2   \n",
       "1093     МСБ-Лизинг 002P выпуск 5     MOEX                        12   \n",
       "1094           Альфа-Банк 002Р-18     MOEX                         2   \n",
       "1095      ГК Пионер-001P выпуск 6     MOEX                         4   \n",
       "1096          Ростелеком выпуск 3     MOEX                         2   \n",
       "\n",
       "     maturity_date  nominal  ...  company_rating  mean_return  stability  \\\n",
       "0       02/12/2025  1000.00  ...        6.293961     5.478607   7.072402   \n",
       "1       11/09/2030  1000.00  ...        3.675523     2.037783   6.312588   \n",
       "2       06/02/2026  1000.00  ...        5.425456     2.576455   0.000000   \n",
       "3       28/02/2051   380.15  ...        5.401428     2.167806   4.603457   \n",
       "4       10/08/2029  1000.00  ...        6.306879     6.437097   7.994501   \n",
       "...            ...      ...  ...             ...          ...        ...   \n",
       "1092    25/12/2025  1000.00  ...        4.992343     5.023308   5.829206   \n",
       "1093    18/09/2026   638.86  ...        6.204105     5.257028   5.383971   \n",
       "1094    29/11/2024  1000.00  ...        5.442307     6.950916   8.011526   \n",
       "1095    04/12/2025  1000.00  ...        4.801130     5.907525   7.932433   \n",
       "1096    09/11/2027  1000.00  ...        4.965786     5.904696   5.791758   \n",
       "\n",
       "     inverse_drawdown sharpe_ratio sortino_ratio trend_slope  price_rating  \\\n",
       "0            2.321849     5.604616      5.315462    4.959775      5.125452   \n",
       "1            6.928665     2.235709      2.225757    2.040463      3.630161   \n",
       "2            9.113294     6.559297      6.287767    0.008493      4.090884   \n",
       "3            7.343594     3.974293      4.113328    1.809578      4.002009   \n",
       "4            1.562965     6.717169      6.388216    6.236490      5.889406   \n",
       "...               ...          ...           ...         ...           ...   \n",
       "1092         2.719374     5.775431      5.498220    5.150632      4.999362   \n",
       "1093         2.627258     6.155981      5.912684    5.499200      5.139354   \n",
       "1094         0.537598     7.731825      7.442248    7.035189      6.284884   \n",
       "1095         1.360698     5.726598      5.075679    5.807311      5.301707   \n",
       "1096         2.667667     6.650719      6.463461    5.602540      5.513473   \n",
       "\n",
       "         ratings  candle_price  \n",
       "0     373.745370         96.05  \n",
       "1     287.397906         59.56  \n",
       "2     282.098997         77.83  \n",
       "3     295.531888         68.05  \n",
       "4     387.773694         95.10  \n",
       "...          ...           ...  \n",
       "1092  390.514905         88.60  \n",
       "1093  401.488893         91.28  \n",
       "1094  417.450488         99.09  \n",
       "1095  390.098865         92.30  \n",
       "1096  389.191332         90.28  \n",
       "\n",
       "[1097 rows x 35 columns]"
      ],
      "text/html": [
       "<div>\n",
       "<style scoped>\n",
       "    .dataframe tbody tr th:only-of-type {\n",
       "        vertical-align: middle;\n",
       "    }\n",
       "\n",
       "    .dataframe tbody tr th {\n",
       "        vertical-align: top;\n",
       "    }\n",
       "\n",
       "    .dataframe thead th {\n",
       "        text-align: right;\n",
       "    }\n",
       "</style>\n",
       "<table border=\"1\" class=\"dataframe\">\n",
       "  <thead>\n",
       "    <tr style=\"text-align: right;\">\n",
       "      <th></th>\n",
       "      <th>figi</th>\n",
       "      <th>ticker</th>\n",
       "      <th>class_code</th>\n",
       "      <th>isin</th>\n",
       "      <th>currency</th>\n",
       "      <th>name</th>\n",
       "      <th>exchange</th>\n",
       "      <th>coupon_quantity_per_year</th>\n",
       "      <th>maturity_date</th>\n",
       "      <th>nominal</th>\n",
       "      <th>...</th>\n",
       "      <th>company_rating</th>\n",
       "      <th>mean_return</th>\n",
       "      <th>stability</th>\n",
       "      <th>inverse_drawdown</th>\n",
       "      <th>sharpe_ratio</th>\n",
       "      <th>sortino_ratio</th>\n",
       "      <th>trend_slope</th>\n",
       "      <th>price_rating</th>\n",
       "      <th>ratings</th>\n",
       "      <th>candle_price</th>\n",
       "    </tr>\n",
       "  </thead>\n",
       "  <tbody>\n",
       "    <tr>\n",
       "      <th>0</th>\n",
       "      <td>TCS00A107D74</td>\n",
       "      <td>RU000A107D74</td>\n",
       "      <td>TQCB</td>\n",
       "      <td>RU000A107D74</td>\n",
       "      <td>rub</td>\n",
       "      <td>ЭнергоТехСервис 001P-05</td>\n",
       "      <td>MOEX</td>\n",
       "      <td>12</td>\n",
       "      <td>02/12/2025</td>\n",
       "      <td>1000.00</td>\n",
       "      <td>...</td>\n",
       "      <td>6.293961</td>\n",
       "      <td>5.478607</td>\n",
       "      <td>7.072402</td>\n",
       "      <td>2.321849</td>\n",
       "      <td>5.604616</td>\n",
       "      <td>5.315462</td>\n",
       "      <td>4.959775</td>\n",
       "      <td>5.125452</td>\n",
       "      <td>373.745370</td>\n",
       "      <td>96.05</td>\n",
       "    </tr>\n",
       "    <tr>\n",
       "      <th>1</th>\n",
       "      <td>BBG00XH4W3N3</td>\n",
       "      <td>RU000A101RZ3</td>\n",
       "      <td>TQCB</td>\n",
       "      <td>RU000A101RZ3</td>\n",
       "      <td>rub</td>\n",
       "      <td>Казахстан выпуск 11</td>\n",
       "      <td>MOEX</td>\n",
       "      <td>2</td>\n",
       "      <td>11/09/2030</td>\n",
       "      <td>1000.00</td>\n",
       "      <td>...</td>\n",
       "      <td>3.675523</td>\n",
       "      <td>2.037783</td>\n",
       "      <td>6.312588</td>\n",
       "      <td>6.928665</td>\n",
       "      <td>2.235709</td>\n",
       "      <td>2.225757</td>\n",
       "      <td>2.040463</td>\n",
       "      <td>3.630161</td>\n",
       "      <td>287.397906</td>\n",
       "      <td>59.56</td>\n",
       "    </tr>\n",
       "    <tr>\n",
       "      <th>2</th>\n",
       "      <td>BBG00Z8KGGC3</td>\n",
       "      <td>RU000A102R73</td>\n",
       "      <td>TQCB</td>\n",
       "      <td>RU000A102R73</td>\n",
       "      <td>rub</td>\n",
       "      <td>Банк Открытие БО-П выпуск 7</td>\n",
       "      <td>MOEX</td>\n",
       "      <td>2</td>\n",
       "      <td>06/02/2026</td>\n",
       "      <td>1000.00</td>\n",
       "      <td>...</td>\n",
       "      <td>5.425456</td>\n",
       "      <td>2.576455</td>\n",
       "      <td>0.000000</td>\n",
       "      <td>9.113294</td>\n",
       "      <td>6.559297</td>\n",
       "      <td>6.287767</td>\n",
       "      <td>0.008493</td>\n",
       "      <td>4.090884</td>\n",
       "      <td>282.098997</td>\n",
       "      <td>77.83</td>\n",
       "    </tr>\n",
       "    <tr>\n",
       "      <th>3</th>\n",
       "      <td>TCS00A102D46</td>\n",
       "      <td>RU000A102D46</td>\n",
       "      <td>TQCB</td>\n",
       "      <td>RU000A102D46</td>\n",
       "      <td>rub</td>\n",
       "      <td>ДОМ.РФ ИА 018P</td>\n",
       "      <td>MOEX</td>\n",
       "      <td>4</td>\n",
       "      <td>28/02/2051</td>\n",
       "      <td>380.15</td>\n",
       "      <td>...</td>\n",
       "      <td>5.401428</td>\n",
       "      <td>2.167806</td>\n",
       "      <td>4.603457</td>\n",
       "      <td>7.343594</td>\n",
       "      <td>3.974293</td>\n",
       "      <td>4.113328</td>\n",
       "      <td>1.809578</td>\n",
       "      <td>4.002009</td>\n",
       "      <td>295.531888</td>\n",
       "      <td>68.05</td>\n",
       "    </tr>\n",
       "    <tr>\n",
       "      <th>4</th>\n",
       "      <td>ISSUANCEPRLS</td>\n",
       "      <td>RU000A1022E6</td>\n",
       "      <td>TQCB</td>\n",
       "      <td>RU000A1022E6</td>\n",
       "      <td>rub</td>\n",
       "      <td>ПР-Лизинг 002P-01</td>\n",
       "      <td>MOEX</td>\n",
       "      <td>12</td>\n",
       "      <td>10/08/2029</td>\n",
       "      <td>1000.00</td>\n",
       "      <td>...</td>\n",
       "      <td>6.306879</td>\n",
       "      <td>6.437097</td>\n",
       "      <td>7.994501</td>\n",
       "      <td>1.562965</td>\n",
       "      <td>6.717169</td>\n",
       "      <td>6.388216</td>\n",
       "      <td>6.236490</td>\n",
       "      <td>5.889406</td>\n",
       "      <td>387.773694</td>\n",
       "      <td>95.10</td>\n",
       "    </tr>\n",
       "    <tr>\n",
       "      <th>...</th>\n",
       "      <td>...</td>\n",
       "      <td>...</td>\n",
       "      <td>...</td>\n",
       "      <td>...</td>\n",
       "      <td>...</td>\n",
       "      <td>...</td>\n",
       "      <td>...</td>\n",
       "      <td>...</td>\n",
       "      <td>...</td>\n",
       "      <td>...</td>\n",
       "      <td>...</td>\n",
       "      <td>...</td>\n",
       "      <td>...</td>\n",
       "      <td>...</td>\n",
       "      <td>...</td>\n",
       "      <td>...</td>\n",
       "      <td>...</td>\n",
       "      <td>...</td>\n",
       "      <td>...</td>\n",
       "      <td>...</td>\n",
       "      <td>...</td>\n",
       "    </tr>\n",
       "    <tr>\n",
       "      <th>1092</th>\n",
       "      <td>TCS00A105Q63</td>\n",
       "      <td>RU000A105Q63</td>\n",
       "      <td>TQCB</td>\n",
       "      <td>RU000A105Q63</td>\n",
       "      <td>rub</td>\n",
       "      <td>Уральская Сталь выпуск 1</td>\n",
       "      <td>MOEX</td>\n",
       "      <td>2</td>\n",
       "      <td>25/12/2025</td>\n",
       "      <td>1000.00</td>\n",
       "      <td>...</td>\n",
       "      <td>4.992343</td>\n",
       "      <td>5.023308</td>\n",
       "      <td>5.829206</td>\n",
       "      <td>2.719374</td>\n",
       "      <td>5.775431</td>\n",
       "      <td>5.498220</td>\n",
       "      <td>5.150632</td>\n",
       "      <td>4.999362</td>\n",
       "      <td>390.514905</td>\n",
       "      <td>88.60</td>\n",
       "    </tr>\n",
       "    <tr>\n",
       "      <th>1093</th>\n",
       "      <td>BBG012YS2TP2</td>\n",
       "      <td>RU000A103VD8</td>\n",
       "      <td>TQCB</td>\n",
       "      <td>RU000A103VD8</td>\n",
       "      <td>rub</td>\n",
       "      <td>МСБ-Лизинг 002P выпуск 5</td>\n",
       "      <td>MOEX</td>\n",
       "      <td>12</td>\n",
       "      <td>18/09/2026</td>\n",
       "      <td>638.86</td>\n",
       "      <td>...</td>\n",
       "      <td>6.204105</td>\n",
       "      <td>5.257028</td>\n",
       "      <td>5.383971</td>\n",
       "      <td>2.627258</td>\n",
       "      <td>6.155981</td>\n",
       "      <td>5.912684</td>\n",
       "      <td>5.499200</td>\n",
       "      <td>5.139354</td>\n",
       "      <td>401.488893</td>\n",
       "      <td>91.28</td>\n",
       "    </tr>\n",
       "    <tr>\n",
       "      <th>1094</th>\n",
       "      <td>TCS00A105HJ9</td>\n",
       "      <td>RU000A105HJ9</td>\n",
       "      <td>TQCB</td>\n",
       "      <td>RU000A105HJ9</td>\n",
       "      <td>rub</td>\n",
       "      <td>Альфа-Банк 002Р-18</td>\n",
       "      <td>MOEX</td>\n",
       "      <td>2</td>\n",
       "      <td>29/11/2024</td>\n",
       "      <td>1000.00</td>\n",
       "      <td>...</td>\n",
       "      <td>5.442307</td>\n",
       "      <td>6.950916</td>\n",
       "      <td>8.011526</td>\n",
       "      <td>0.537598</td>\n",
       "      <td>7.731825</td>\n",
       "      <td>7.442248</td>\n",
       "      <td>7.035189</td>\n",
       "      <td>6.284884</td>\n",
       "      <td>417.450488</td>\n",
       "      <td>99.09</td>\n",
       "    </tr>\n",
       "    <tr>\n",
       "      <th>1095</th>\n",
       "      <td>TCS00A104735</td>\n",
       "      <td>RU000A104735</td>\n",
       "      <td>TQCB</td>\n",
       "      <td>RU000A104735</td>\n",
       "      <td>rub</td>\n",
       "      <td>ГК Пионер-001P выпуск 6</td>\n",
       "      <td>MOEX</td>\n",
       "      <td>4</td>\n",
       "      <td>04/12/2025</td>\n",
       "      <td>1000.00</td>\n",
       "      <td>...</td>\n",
       "      <td>4.801130</td>\n",
       "      <td>5.907525</td>\n",
       "      <td>7.932433</td>\n",
       "      <td>1.360698</td>\n",
       "      <td>5.726598</td>\n",
       "      <td>5.075679</td>\n",
       "      <td>5.807311</td>\n",
       "      <td>5.301707</td>\n",
       "      <td>390.098865</td>\n",
       "      <td>92.30</td>\n",
       "    </tr>\n",
       "    <tr>\n",
       "      <th>1096</th>\n",
       "      <td>BBG00J7HHGH1</td>\n",
       "      <td>RU000A0ZYG52</td>\n",
       "      <td>TQCB</td>\n",
       "      <td>RU000A0ZYG52</td>\n",
       "      <td>rub</td>\n",
       "      <td>Ростелеком выпуск 3</td>\n",
       "      <td>MOEX</td>\n",
       "      <td>2</td>\n",
       "      <td>09/11/2027</td>\n",
       "      <td>1000.00</td>\n",
       "      <td>...</td>\n",
       "      <td>4.965786</td>\n",
       "      <td>5.904696</td>\n",
       "      <td>5.791758</td>\n",
       "      <td>2.667667</td>\n",
       "      <td>6.650719</td>\n",
       "      <td>6.463461</td>\n",
       "      <td>5.602540</td>\n",
       "      <td>5.513473</td>\n",
       "      <td>389.191332</td>\n",
       "      <td>90.28</td>\n",
       "    </tr>\n",
       "  </tbody>\n",
       "</table>\n",
       "<p>1097 rows × 35 columns</p>\n",
       "</div>"
      ]
     },
     "execution_count": 46,
     "metadata": {},
     "output_type": "execute_result"
    }
   ],
   "execution_count": 46
  },
  {
   "metadata": {
    "ExecuteTime": {
     "end_time": "2024-11-18T15:25:41.777329Z",
     "start_time": "2024-11-18T15:25:41.726085Z"
    }
   },
   "cell_type": "code",
   "source": [
    "shares_nans = shares[X_test.columns].isna().any(axis=1)\n",
    "score = model.predict_proba(shares[X_test.columns][~shares_nans])\n",
    "shares.loc[~shares_nans, \"ratings\"] = score[:, 1]\n",
    "shares.loc[shares_nans, \"ratings\"] = 0"
   ],
   "id": "280a74d0765a64ce",
   "outputs": [
    {
     "ename": "CatBoostError",
     "evalue": "Bad value for num_feature[non_default_doc_idx=0,feature_idx=2]=\"RU\": Cannot convert 'b'RU'' to float",
     "output_type": "error",
     "traceback": [
      "\u001B[0;31m---------------------------------------------------------------------------\u001B[0m",
      "\u001B[0;31mTypeError\u001B[0m                                 Traceback (most recent call last)",
      "File \u001B[0;32m_catboost.pyx:2288\u001B[0m, in \u001B[0;36m_catboost.get_float_feature\u001B[0;34m()\u001B[0m\n",
      "File \u001B[0;32m_catboost.pyx:1141\u001B[0m, in \u001B[0;36m_catboost._FloatOrNan\u001B[0;34m()\u001B[0m\n",
      "File \u001B[0;32m_catboost.pyx:951\u001B[0m, in \u001B[0;36m_catboost._FloatOrNanFromString\u001B[0;34m()\u001B[0m\n",
      "\u001B[0;31mTypeError\u001B[0m: Cannot convert 'b'RU'' to float",
      "\nDuring handling of the above exception, another exception occurred:\n",
      "\u001B[0;31mCatBoostError\u001B[0m                             Traceback (most recent call last)",
      "Cell \u001B[0;32mIn[47], line 2\u001B[0m\n\u001B[1;32m      1\u001B[0m shares_nans \u001B[38;5;241m=\u001B[39m shares[X_test\u001B[38;5;241m.\u001B[39mcolumns]\u001B[38;5;241m.\u001B[39misna()\u001B[38;5;241m.\u001B[39many(axis\u001B[38;5;241m=\u001B[39m\u001B[38;5;241m1\u001B[39m)\n\u001B[0;32m----> 2\u001B[0m score \u001B[38;5;241m=\u001B[39m \u001B[43mmodel\u001B[49m\u001B[38;5;241;43m.\u001B[39;49m\u001B[43mpredict_proba\u001B[49m\u001B[43m(\u001B[49m\u001B[43mshares\u001B[49m\u001B[43m[\u001B[49m\u001B[43mX_test\u001B[49m\u001B[38;5;241;43m.\u001B[39;49m\u001B[43mcolumns\u001B[49m\u001B[43m]\u001B[49m\u001B[43m[\u001B[49m\u001B[38;5;241;43m~\u001B[39;49m\u001B[43mshares_nans\u001B[49m\u001B[43m]\u001B[49m\u001B[43m)\u001B[49m\n\u001B[1;32m      3\u001B[0m shares\u001B[38;5;241m.\u001B[39mloc[\u001B[38;5;241m~\u001B[39mshares_nans, \u001B[38;5;124m\"\u001B[39m\u001B[38;5;124mratings\u001B[39m\u001B[38;5;124m\"\u001B[39m] \u001B[38;5;241m=\u001B[39m score[:, \u001B[38;5;241m1\u001B[39m]\n\u001B[1;32m      4\u001B[0m shares\u001B[38;5;241m.\u001B[39mloc[shares_nans, \u001B[38;5;124m\"\u001B[39m\u001B[38;5;124mratings\u001B[39m\u001B[38;5;124m\"\u001B[39m] \u001B[38;5;241m=\u001B[39m \u001B[38;5;241m0\u001B[39m\n",
      "File \u001B[0;32m/Library/Frameworks/Python.framework/Versions/3.11/lib/python3.11/site-packages/catboost/core.py:5225\u001B[0m, in \u001B[0;36mCatBoostClassifier.predict_proba\u001B[0;34m(self, X, ntree_start, ntree_end, thread_count, verbose, task_type)\u001B[0m\n\u001B[1;32m   5189\u001B[0m \u001B[38;5;28;01mdef\u001B[39;00m \u001B[38;5;21mpredict_proba\u001B[39m(\u001B[38;5;28mself\u001B[39m, X, ntree_start\u001B[38;5;241m=\u001B[39m\u001B[38;5;241m0\u001B[39m, ntree_end\u001B[38;5;241m=\u001B[39m\u001B[38;5;241m0\u001B[39m, thread_count\u001B[38;5;241m=\u001B[39m\u001B[38;5;241m-\u001B[39m\u001B[38;5;241m1\u001B[39m, verbose\u001B[38;5;241m=\u001B[39m\u001B[38;5;28;01mNone\u001B[39;00m, task_type\u001B[38;5;241m=\u001B[39m\u001B[38;5;124m\"\u001B[39m\u001B[38;5;124mCPU\u001B[39m\u001B[38;5;124m\"\u001B[39m):\n\u001B[1;32m   5190\u001B[0m \u001B[38;5;250m    \u001B[39m\u001B[38;5;124;03m\"\"\"\u001B[39;00m\n\u001B[1;32m   5191\u001B[0m \u001B[38;5;124;03m    Predict class probability with X.\u001B[39;00m\n\u001B[1;32m   5192\u001B[0m \n\u001B[0;32m   (...)\u001B[0m\n\u001B[1;32m   5223\u001B[0m \u001B[38;5;124;03m            with probability for every class for each object.\u001B[39;00m\n\u001B[1;32m   5224\u001B[0m \u001B[38;5;124;03m    \"\"\"\u001B[39;00m\n\u001B[0;32m-> 5225\u001B[0m     \u001B[38;5;28;01mreturn\u001B[39;00m \u001B[38;5;28;43mself\u001B[39;49m\u001B[38;5;241;43m.\u001B[39;49m\u001B[43m_predict\u001B[49m\u001B[43m(\u001B[49m\u001B[43mX\u001B[49m\u001B[43m,\u001B[49m\u001B[43m \u001B[49m\u001B[38;5;124;43m'\u001B[39;49m\u001B[38;5;124;43mProbability\u001B[39;49m\u001B[38;5;124;43m'\u001B[39;49m\u001B[43m,\u001B[49m\u001B[43m \u001B[49m\u001B[43mntree_start\u001B[49m\u001B[43m,\u001B[49m\u001B[43m \u001B[49m\u001B[43mntree_end\u001B[49m\u001B[43m,\u001B[49m\u001B[43m \u001B[49m\u001B[43mthread_count\u001B[49m\u001B[43m,\u001B[49m\u001B[43m \u001B[49m\u001B[43mverbose\u001B[49m\u001B[43m,\u001B[49m\u001B[43m \u001B[49m\u001B[38;5;124;43m'\u001B[39;49m\u001B[38;5;124;43mpredict_proba\u001B[39;49m\u001B[38;5;124;43m'\u001B[39;49m\u001B[43m,\u001B[49m\u001B[43m \u001B[49m\u001B[43mtask_type\u001B[49m\u001B[43m)\u001B[49m\n",
      "File \u001B[0;32m/Library/Frameworks/Python.framework/Versions/3.11/lib/python3.11/site-packages/catboost/core.py:2543\u001B[0m, in \u001B[0;36mCatBoost._predict\u001B[0;34m(self, data, prediction_type, ntree_start, ntree_end, thread_count, verbose, parent_method_name, task_type)\u001B[0m\n\u001B[1;32m   2541\u001B[0m \u001B[38;5;28;01mif\u001B[39;00m verbose \u001B[38;5;129;01mis\u001B[39;00m \u001B[38;5;28;01mNone\u001B[39;00m:\n\u001B[1;32m   2542\u001B[0m     verbose \u001B[38;5;241m=\u001B[39m \u001B[38;5;28;01mFalse\u001B[39;00m\n\u001B[0;32m-> 2543\u001B[0m data, data_is_single_object \u001B[38;5;241m=\u001B[39m \u001B[38;5;28;43mself\u001B[39;49m\u001B[38;5;241;43m.\u001B[39;49m\u001B[43m_process_predict_input_data\u001B[49m\u001B[43m(\u001B[49m\u001B[43mdata\u001B[49m\u001B[43m,\u001B[49m\u001B[43m \u001B[49m\u001B[43mparent_method_name\u001B[49m\u001B[43m,\u001B[49m\u001B[43m \u001B[49m\u001B[43mthread_count\u001B[49m\u001B[43m)\u001B[49m\n\u001B[1;32m   2544\u001B[0m \u001B[38;5;28mself\u001B[39m\u001B[38;5;241m.\u001B[39m_validate_prediction_type(prediction_type)\n\u001B[1;32m   2546\u001B[0m predictions \u001B[38;5;241m=\u001B[39m \u001B[38;5;28mself\u001B[39m\u001B[38;5;241m.\u001B[39m_base_predict(data, prediction_type, ntree_start, ntree_end, thread_count, verbose, task_type)\n",
      "File \u001B[0;32m/Library/Frameworks/Python.framework/Versions/3.11/lib/python3.11/site-packages/catboost/core.py:2523\u001B[0m, in \u001B[0;36mCatBoost._process_predict_input_data\u001B[0;34m(self, data, parent_method_name, thread_count, label)\u001B[0m\n\u001B[1;32m   2521\u001B[0m is_single_object \u001B[38;5;241m=\u001B[39m _is_data_single_object(data)\n\u001B[1;32m   2522\u001B[0m \u001B[38;5;28;01mif\u001B[39;00m \u001B[38;5;129;01mnot\u001B[39;00m \u001B[38;5;28misinstance\u001B[39m(data, Pool):\n\u001B[0;32m-> 2523\u001B[0m     data \u001B[38;5;241m=\u001B[39m \u001B[43mPool\u001B[49m\u001B[43m(\u001B[49m\n\u001B[1;32m   2524\u001B[0m \u001B[43m        \u001B[49m\u001B[43mdata\u001B[49m\u001B[38;5;241;43m=\u001B[39;49m\u001B[43m[\u001B[49m\u001B[43mdata\u001B[49m\u001B[43m]\u001B[49m\u001B[43m \u001B[49m\u001B[38;5;28;43;01mif\u001B[39;49;00m\u001B[43m \u001B[49m\u001B[43mis_single_object\u001B[49m\u001B[43m \u001B[49m\u001B[38;5;28;43;01melse\u001B[39;49;00m\u001B[43m \u001B[49m\u001B[43mdata\u001B[49m\u001B[43m,\u001B[49m\n\u001B[1;32m   2525\u001B[0m \u001B[43m        \u001B[49m\u001B[43mlabel\u001B[49m\u001B[38;5;241;43m=\u001B[39;49m\u001B[43mlabel\u001B[49m\u001B[43m,\u001B[49m\n\u001B[1;32m   2526\u001B[0m \u001B[43m        \u001B[49m\u001B[43mcat_features\u001B[49m\u001B[38;5;241;43m=\u001B[39;49m\u001B[38;5;28;43mself\u001B[39;49m\u001B[38;5;241;43m.\u001B[39;49m\u001B[43m_get_cat_feature_indices\u001B[49m\u001B[43m(\u001B[49m\u001B[43m)\u001B[49m\u001B[43m \u001B[49m\u001B[38;5;28;43;01mif\u001B[39;49;00m\u001B[43m \u001B[49m\u001B[38;5;129;43;01mnot\u001B[39;49;00m\u001B[43m \u001B[49m\u001B[38;5;28;43misinstance\u001B[39;49m\u001B[43m(\u001B[49m\u001B[43mdata\u001B[49m\u001B[43m,\u001B[49m\u001B[43m \u001B[49m\u001B[43mFeaturesData\u001B[49m\u001B[43m)\u001B[49m\u001B[43m \u001B[49m\u001B[38;5;28;43;01melse\u001B[39;49;00m\u001B[43m \u001B[49m\u001B[38;5;28;43;01mNone\u001B[39;49;00m\u001B[43m,\u001B[49m\n\u001B[1;32m   2527\u001B[0m \u001B[43m        \u001B[49m\u001B[43mtext_features\u001B[49m\u001B[38;5;241;43m=\u001B[39;49m\u001B[38;5;28;43mself\u001B[39;49m\u001B[38;5;241;43m.\u001B[39;49m\u001B[43m_get_text_feature_indices\u001B[49m\u001B[43m(\u001B[49m\u001B[43m)\u001B[49m\u001B[43m \u001B[49m\u001B[38;5;28;43;01mif\u001B[39;49;00m\u001B[43m \u001B[49m\u001B[38;5;129;43;01mnot\u001B[39;49;00m\u001B[43m \u001B[49m\u001B[38;5;28;43misinstance\u001B[39;49m\u001B[43m(\u001B[49m\u001B[43mdata\u001B[49m\u001B[43m,\u001B[49m\u001B[43m \u001B[49m\u001B[43mFeaturesData\u001B[49m\u001B[43m)\u001B[49m\u001B[43m \u001B[49m\u001B[38;5;28;43;01melse\u001B[39;49;00m\u001B[43m \u001B[49m\u001B[38;5;28;43;01mNone\u001B[39;49;00m\u001B[43m,\u001B[49m\n\u001B[1;32m   2528\u001B[0m \u001B[43m        \u001B[49m\u001B[43membedding_features\u001B[49m\u001B[38;5;241;43m=\u001B[39;49m\u001B[38;5;28;43mself\u001B[39;49m\u001B[38;5;241;43m.\u001B[39;49m\u001B[43m_get_embedding_feature_indices\u001B[49m\u001B[43m(\u001B[49m\u001B[43m)\u001B[49m\u001B[43m \u001B[49m\u001B[38;5;28;43;01mif\u001B[39;49;00m\u001B[43m \u001B[49m\u001B[38;5;129;43;01mnot\u001B[39;49;00m\u001B[43m \u001B[49m\u001B[38;5;28;43misinstance\u001B[39;49m\u001B[43m(\u001B[49m\u001B[43mdata\u001B[49m\u001B[43m,\u001B[49m\u001B[43m \u001B[49m\u001B[43mFeaturesData\u001B[49m\u001B[43m)\u001B[49m\u001B[43m \u001B[49m\u001B[38;5;28;43;01melse\u001B[39;49;00m\u001B[43m \u001B[49m\u001B[38;5;28;43;01mNone\u001B[39;49;00m\u001B[43m,\u001B[49m\n\u001B[1;32m   2529\u001B[0m \u001B[43m        \u001B[49m\u001B[43mthread_count\u001B[49m\u001B[38;5;241;43m=\u001B[39;49m\u001B[43mthread_count\u001B[49m\n\u001B[1;32m   2530\u001B[0m \u001B[43m    \u001B[49m\u001B[43m)\u001B[49m\n\u001B[1;32m   2531\u001B[0m \u001B[38;5;28;01mreturn\u001B[39;00m data, is_single_object\n",
      "File \u001B[0;32m/Library/Frameworks/Python.framework/Versions/3.11/lib/python3.11/site-packages/catboost/core.py:792\u001B[0m, in \u001B[0;36mPool.__init__\u001B[0;34m(self, data, label, cat_features, text_features, embedding_features, embedding_features_data, column_description, pairs, delimiter, has_header, ignore_csv_quoting, weight, group_id, group_weight, subgroup_id, pairs_weight, baseline, timestamp, feature_names, feature_tags, thread_count, log_cout, log_cerr)\u001B[0m\n\u001B[1;32m    786\u001B[0m         \u001B[38;5;28;01mif\u001B[39;00m \u001B[38;5;28misinstance\u001B[39m(feature_names, PATH_TYPES):\n\u001B[1;32m    787\u001B[0m             \u001B[38;5;28;01mraise\u001B[39;00m CatBoostError(\n\u001B[1;32m    788\u001B[0m                 \u001B[38;5;124m\"\u001B[39m\u001B[38;5;124mfeature_names must be None or have non-string type when the pool is created from \u001B[39m\u001B[38;5;124m\"\u001B[39m\n\u001B[1;32m    789\u001B[0m                 \u001B[38;5;124m\"\u001B[39m\u001B[38;5;124mpython objects.\u001B[39m\u001B[38;5;124m\"\u001B[39m\n\u001B[1;32m    790\u001B[0m             )\n\u001B[0;32m--> 792\u001B[0m         \u001B[38;5;28;43mself\u001B[39;49m\u001B[38;5;241;43m.\u001B[39;49m\u001B[43m_init\u001B[49m\u001B[43m(\u001B[49m\u001B[43mdata\u001B[49m\u001B[43m,\u001B[49m\u001B[43m \u001B[49m\u001B[43mlabel\u001B[49m\u001B[43m,\u001B[49m\u001B[43m \u001B[49m\u001B[43mcat_features\u001B[49m\u001B[43m,\u001B[49m\u001B[43m \u001B[49m\u001B[43mtext_features\u001B[49m\u001B[43m,\u001B[49m\u001B[43m \u001B[49m\u001B[43membedding_features\u001B[49m\u001B[43m,\u001B[49m\u001B[43m \u001B[49m\u001B[43membedding_features_data\u001B[49m\u001B[43m,\u001B[49m\u001B[43m \u001B[49m\u001B[43mpairs\u001B[49m\u001B[43m,\u001B[49m\u001B[43m \u001B[49m\u001B[43mweight\u001B[49m\u001B[43m,\u001B[49m\n\u001B[1;32m    793\u001B[0m \u001B[43m                   \u001B[49m\u001B[43mgroup_id\u001B[49m\u001B[43m,\u001B[49m\u001B[43m \u001B[49m\u001B[43mgroup_weight\u001B[49m\u001B[43m,\u001B[49m\u001B[43m \u001B[49m\u001B[43msubgroup_id\u001B[49m\u001B[43m,\u001B[49m\u001B[43m \u001B[49m\u001B[43mpairs_weight\u001B[49m\u001B[43m,\u001B[49m\u001B[43m \u001B[49m\u001B[43mbaseline\u001B[49m\u001B[43m,\u001B[49m\u001B[43m \u001B[49m\u001B[43mtimestamp\u001B[49m\u001B[43m,\u001B[49m\u001B[43m \u001B[49m\u001B[43mfeature_names\u001B[49m\u001B[43m,\u001B[49m\u001B[43m \u001B[49m\u001B[43mfeature_tags\u001B[49m\u001B[43m,\u001B[49m\u001B[43m \u001B[49m\u001B[43mthread_count\u001B[49m\u001B[43m)\u001B[49m\n\u001B[1;32m    794\u001B[0m \u001B[38;5;28msuper\u001B[39m(Pool, \u001B[38;5;28mself\u001B[39m)\u001B[38;5;241m.\u001B[39m\u001B[38;5;21m__init__\u001B[39m()\n",
      "File \u001B[0;32m/Library/Frameworks/Python.framework/Versions/3.11/lib/python3.11/site-packages/catboost/core.py:1419\u001B[0m, in \u001B[0;36mPool._init\u001B[0;34m(self, data, label, cat_features, text_features, embedding_features, embedding_features_data, pairs, weight, group_id, group_weight, subgroup_id, pairs_weight, baseline, timestamp, feature_names, feature_tags, thread_count)\u001B[0m\n\u001B[1;32m   1417\u001B[0m \u001B[38;5;28;01mif\u001B[39;00m feature_tags \u001B[38;5;129;01mis\u001B[39;00m \u001B[38;5;129;01mnot\u001B[39;00m \u001B[38;5;28;01mNone\u001B[39;00m:\n\u001B[1;32m   1418\u001B[0m     feature_tags \u001B[38;5;241m=\u001B[39m \u001B[38;5;28mself\u001B[39m\u001B[38;5;241m.\u001B[39m_check_transform_tags(feature_tags, feature_names)\n\u001B[0;32m-> 1419\u001B[0m \u001B[38;5;28;43mself\u001B[39;49m\u001B[38;5;241;43m.\u001B[39;49m\u001B[43m_init_pool\u001B[49m\u001B[43m(\u001B[49m\u001B[43mdata\u001B[49m\u001B[43m,\u001B[49m\u001B[43m \u001B[49m\u001B[43mlabel\u001B[49m\u001B[43m,\u001B[49m\u001B[43m \u001B[49m\u001B[43mcat_features\u001B[49m\u001B[43m,\u001B[49m\u001B[43m \u001B[49m\u001B[43mtext_features\u001B[49m\u001B[43m,\u001B[49m\u001B[43m \u001B[49m\u001B[43membedding_features\u001B[49m\u001B[43m,\u001B[49m\u001B[43m \u001B[49m\u001B[43membedding_features_data\u001B[49m\u001B[43m,\u001B[49m\u001B[43m \u001B[49m\u001B[43mpairs\u001B[49m\u001B[43m,\u001B[49m\u001B[43m \u001B[49m\u001B[43mweight\u001B[49m\u001B[43m,\u001B[49m\n\u001B[1;32m   1420\u001B[0m \u001B[43m                \u001B[49m\u001B[43mgroup_id\u001B[49m\u001B[43m,\u001B[49m\u001B[43m \u001B[49m\u001B[43mgroup_weight\u001B[49m\u001B[43m,\u001B[49m\u001B[43m \u001B[49m\u001B[43msubgroup_id\u001B[49m\u001B[43m,\u001B[49m\u001B[43m \u001B[49m\u001B[43mpairs_weight\u001B[49m\u001B[43m,\u001B[49m\u001B[43m \u001B[49m\u001B[43mbaseline\u001B[49m\u001B[43m,\u001B[49m\u001B[43m \u001B[49m\u001B[43mtimestamp\u001B[49m\u001B[43m,\u001B[49m\u001B[43m \u001B[49m\u001B[43mfeature_names\u001B[49m\u001B[43m,\u001B[49m\u001B[43m \u001B[49m\u001B[43mfeature_tags\u001B[49m\u001B[43m,\u001B[49m\u001B[43m \u001B[49m\u001B[43mthread_count\u001B[49m\u001B[43m)\u001B[49m\n",
      "File \u001B[0;32m_catboost.pyx:3956\u001B[0m, in \u001B[0;36m_catboost._PoolBase._init_pool\u001B[0;34m()\u001B[0m\n",
      "File \u001B[0;32m_catboost.pyx:4006\u001B[0m, in \u001B[0;36m_catboost._PoolBase._init_pool\u001B[0;34m()\u001B[0m\n",
      "File \u001B[0;32m_catboost.pyx:3822\u001B[0m, in \u001B[0;36m_catboost._PoolBase._init_features_order_layout_pool\u001B[0;34m()\u001B[0m\n",
      "File \u001B[0;32m_catboost.pyx:2788\u001B[0m, in \u001B[0;36m_catboost._set_features_order_data_pd_data_frame\u001B[0;34m()\u001B[0m\n",
      "File \u001B[0;32m_catboost.pyx:2329\u001B[0m, in \u001B[0;36m_catboost.create_num_factor_data\u001B[0;34m()\u001B[0m\n",
      "File \u001B[0;32m_catboost.pyx:2290\u001B[0m, in \u001B[0;36m_catboost.get_float_feature\u001B[0;34m()\u001B[0m\n",
      "\u001B[0;31mCatBoostError\u001B[0m: Bad value for num_feature[non_default_doc_idx=0,feature_idx=2]=\"RU\": Cannot convert 'b'RU'' to float"
     ]
    }
   ],
   "execution_count": 47
  },
  {
   "metadata": {
    "ExecuteTime": {
     "end_time": "2024-11-18T15:25:43.113807Z",
     "start_time": "2024-11-18T15:25:43.105477Z"
    }
   },
   "cell_type": "code",
   "source": "shares",
   "id": "9871de53cdc4062d",
   "outputs": [
    {
     "data": {
      "text/plain": [
       "             figi ticker class_code          isin currency  \\\n",
       "0    TCS007940839  KZIZP       MTQR  RU0007940839      rub   \n",
       "1    TCS00A108ZR8   DATA       TQBR  RU000A108ZR8      rub   \n",
       "2    BBG000FWGSZ5   IRKT       TQBR  RU0006752979      rub   \n",
       "3    BBG004S68CV8   VSMO       TQBR  RU0009100291      rub   \n",
       "4    BBG000Q7ZZY2   UNAC       TQBR  RU000A0JPLZ7      rub   \n",
       "..            ...    ...        ...           ...      ...   \n",
       "168  BBG004S68BR5   NMTP       TQBR  RU0009084446      rub   \n",
       "169  BBG000QFH687   TGKA       TQBR  RU000A0JNUD0      rub   \n",
       "170  BBG0027F0Y27  CNTLP       TQBR  RU0007665139      rub   \n",
       "171  BBG004S68FR6  MTLRP       TQBR  RU000A0JPV70      rub   \n",
       "172  BBG000C7P5M7   MRKY       TQBR  RU000A0JPPG8      rub   \n",
       "\n",
       "                                                  name             exchange  \\\n",
       "0    Красногорский завод им. С.А. Зверева - привиле...              otc_ncc   \n",
       "1                                     Группа Аренадата        moex_extended   \n",
       "2                                              Яковлев  MOEX_DEALER_WEEKEND   \n",
       "3                                         ВСМПО-АВИСМА  MOEX_DEALER_WEEKEND   \n",
       "4             Объединенная авиастроительная корпорация  MOEX_DEALER_WEEKEND   \n",
       "..                                                 ...                  ...   \n",
       "168                                               НМТП  MOEX_DEALER_WEEKEND   \n",
       "169                                              ТГК-1  MOEX_DEALER_WEEKEND   \n",
       "170     Центральный Телеграф - акции привилегированные        moex_extended   \n",
       "171                    Мечел - Привилегированные акции  MOEX_DEALER_WEEKEND   \n",
       "172                                           МРСК Юга        moex_extended   \n",
       "\n",
       "       ipo_date  nominal     issue_size  ... company_rating mean_return  \\\n",
       "0    12/10/2007     0.10        1343020  ...       3.708377    0.000000   \n",
       "1    15/04/2024     0.05      200000000  ...       7.724214   10.000000   \n",
       "2    15/08/2002     3.00    12051279624  ...       9.611296    3.251468   \n",
       "3    11/11/2004     1.00       11529538  ...       6.693208    2.328148   \n",
       "4    26/04/2013     0.27   994436434417  ...       9.802516    2.025850   \n",
       "..          ...      ...            ...  ...            ...         ...   \n",
       "168  04/06/2003     0.01    19259815400  ...       9.625636    2.253016   \n",
       "169  17/05/2005     0.01  3854341416571  ...       9.660532    2.164127   \n",
       "170  20/12/2002     1.00       55389000  ...       3.818459    2.471787   \n",
       "171  05/06/2008    10.00      138756915  ...       7.218503    0.000000   \n",
       "172  20/09/2007     0.10   151641426354  ...       6.702428    4.103122   \n",
       "\n",
       "    stability  inverse_drawdown  sharpe_ratio  sortino_ratio  trend_slope  \\\n",
       "0    2.288596         10.000000      1.225197       1.263783     0.111665   \n",
       "1    8.014655          0.000000      8.890543       9.193300    10.000000   \n",
       "2    2.911034          8.364985      3.593304       3.334751     2.541478   \n",
       "3    5.884966          5.291744      2.560762       2.241224     2.903713   \n",
       "4    3.348198         10.000000      2.850808       2.415672     0.000000   \n",
       "..        ...               ...           ...            ...          ...   \n",
       "168  5.589684          4.732105      2.574496       2.618918     2.607009   \n",
       "169  7.057391          3.701367      1.966651       1.731214     2.925508   \n",
       "170  6.063629          4.820033      2.640975       2.469703     2.557676   \n",
       "171  5.298516         10.000000      0.000000       0.000000     0.000000   \n",
       "172  3.293560          7.574434      4.071007       3.956887     3.278120   \n",
       "\n",
       "     price_rating     ratings  candle_price  \n",
       "0        2.481540  270.108247    302.990000  \n",
       "1        7.683083  443.442764    111.380000  \n",
       "2        3.999504  291.436182     43.550000  \n",
       "3        3.535093  331.973074  26580.000000  \n",
       "4        3.440088  235.092484      0.771000  \n",
       "..            ...         ...           ...  \n",
       "168      3.395871  344.543444      8.495000  \n",
       "169      3.257710  300.433764      0.007204  \n",
       "170      3.503967  332.585289      8.400000  \n",
       "171      2.549753  237.324387    111.450000  \n",
       "172      4.379522  299.037689      0.061700  \n",
       "\n",
       "[173 rows x 28 columns]"
      ],
      "text/html": [
       "<div>\n",
       "<style scoped>\n",
       "    .dataframe tbody tr th:only-of-type {\n",
       "        vertical-align: middle;\n",
       "    }\n",
       "\n",
       "    .dataframe tbody tr th {\n",
       "        vertical-align: top;\n",
       "    }\n",
       "\n",
       "    .dataframe thead th {\n",
       "        text-align: right;\n",
       "    }\n",
       "</style>\n",
       "<table border=\"1\" class=\"dataframe\">\n",
       "  <thead>\n",
       "    <tr style=\"text-align: right;\">\n",
       "      <th></th>\n",
       "      <th>figi</th>\n",
       "      <th>ticker</th>\n",
       "      <th>class_code</th>\n",
       "      <th>isin</th>\n",
       "      <th>currency</th>\n",
       "      <th>name</th>\n",
       "      <th>exchange</th>\n",
       "      <th>ipo_date</th>\n",
       "      <th>nominal</th>\n",
       "      <th>issue_size</th>\n",
       "      <th>...</th>\n",
       "      <th>company_rating</th>\n",
       "      <th>mean_return</th>\n",
       "      <th>stability</th>\n",
       "      <th>inverse_drawdown</th>\n",
       "      <th>sharpe_ratio</th>\n",
       "      <th>sortino_ratio</th>\n",
       "      <th>trend_slope</th>\n",
       "      <th>price_rating</th>\n",
       "      <th>ratings</th>\n",
       "      <th>candle_price</th>\n",
       "    </tr>\n",
       "  </thead>\n",
       "  <tbody>\n",
       "    <tr>\n",
       "      <th>0</th>\n",
       "      <td>TCS007940839</td>\n",
       "      <td>KZIZP</td>\n",
       "      <td>MTQR</td>\n",
       "      <td>RU0007940839</td>\n",
       "      <td>rub</td>\n",
       "      <td>Красногорский завод им. С.А. Зверева - привиле...</td>\n",
       "      <td>otc_ncc</td>\n",
       "      <td>12/10/2007</td>\n",
       "      <td>0.10</td>\n",
       "      <td>1343020</td>\n",
       "      <td>...</td>\n",
       "      <td>3.708377</td>\n",
       "      <td>0.000000</td>\n",
       "      <td>2.288596</td>\n",
       "      <td>10.000000</td>\n",
       "      <td>1.225197</td>\n",
       "      <td>1.263783</td>\n",
       "      <td>0.111665</td>\n",
       "      <td>2.481540</td>\n",
       "      <td>270.108247</td>\n",
       "      <td>302.990000</td>\n",
       "    </tr>\n",
       "    <tr>\n",
       "      <th>1</th>\n",
       "      <td>TCS00A108ZR8</td>\n",
       "      <td>DATA</td>\n",
       "      <td>TQBR</td>\n",
       "      <td>RU000A108ZR8</td>\n",
       "      <td>rub</td>\n",
       "      <td>Группа Аренадата</td>\n",
       "      <td>moex_extended</td>\n",
       "      <td>15/04/2024</td>\n",
       "      <td>0.05</td>\n",
       "      <td>200000000</td>\n",
       "      <td>...</td>\n",
       "      <td>7.724214</td>\n",
       "      <td>10.000000</td>\n",
       "      <td>8.014655</td>\n",
       "      <td>0.000000</td>\n",
       "      <td>8.890543</td>\n",
       "      <td>9.193300</td>\n",
       "      <td>10.000000</td>\n",
       "      <td>7.683083</td>\n",
       "      <td>443.442764</td>\n",
       "      <td>111.380000</td>\n",
       "    </tr>\n",
       "    <tr>\n",
       "      <th>2</th>\n",
       "      <td>BBG000FWGSZ5</td>\n",
       "      <td>IRKT</td>\n",
       "      <td>TQBR</td>\n",
       "      <td>RU0006752979</td>\n",
       "      <td>rub</td>\n",
       "      <td>Яковлев</td>\n",
       "      <td>MOEX_DEALER_WEEKEND</td>\n",
       "      <td>15/08/2002</td>\n",
       "      <td>3.00</td>\n",
       "      <td>12051279624</td>\n",
       "      <td>...</td>\n",
       "      <td>9.611296</td>\n",
       "      <td>3.251468</td>\n",
       "      <td>2.911034</td>\n",
       "      <td>8.364985</td>\n",
       "      <td>3.593304</td>\n",
       "      <td>3.334751</td>\n",
       "      <td>2.541478</td>\n",
       "      <td>3.999504</td>\n",
       "      <td>291.436182</td>\n",
       "      <td>43.550000</td>\n",
       "    </tr>\n",
       "    <tr>\n",
       "      <th>3</th>\n",
       "      <td>BBG004S68CV8</td>\n",
       "      <td>VSMO</td>\n",
       "      <td>TQBR</td>\n",
       "      <td>RU0009100291</td>\n",
       "      <td>rub</td>\n",
       "      <td>ВСМПО-АВИСМА</td>\n",
       "      <td>MOEX_DEALER_WEEKEND</td>\n",
       "      <td>11/11/2004</td>\n",
       "      <td>1.00</td>\n",
       "      <td>11529538</td>\n",
       "      <td>...</td>\n",
       "      <td>6.693208</td>\n",
       "      <td>2.328148</td>\n",
       "      <td>5.884966</td>\n",
       "      <td>5.291744</td>\n",
       "      <td>2.560762</td>\n",
       "      <td>2.241224</td>\n",
       "      <td>2.903713</td>\n",
       "      <td>3.535093</td>\n",
       "      <td>331.973074</td>\n",
       "      <td>26580.000000</td>\n",
       "    </tr>\n",
       "    <tr>\n",
       "      <th>4</th>\n",
       "      <td>BBG000Q7ZZY2</td>\n",
       "      <td>UNAC</td>\n",
       "      <td>TQBR</td>\n",
       "      <td>RU000A0JPLZ7</td>\n",
       "      <td>rub</td>\n",
       "      <td>Объединенная авиастроительная корпорация</td>\n",
       "      <td>MOEX_DEALER_WEEKEND</td>\n",
       "      <td>26/04/2013</td>\n",
       "      <td>0.27</td>\n",
       "      <td>994436434417</td>\n",
       "      <td>...</td>\n",
       "      <td>9.802516</td>\n",
       "      <td>2.025850</td>\n",
       "      <td>3.348198</td>\n",
       "      <td>10.000000</td>\n",
       "      <td>2.850808</td>\n",
       "      <td>2.415672</td>\n",
       "      <td>0.000000</td>\n",
       "      <td>3.440088</td>\n",
       "      <td>235.092484</td>\n",
       "      <td>0.771000</td>\n",
       "    </tr>\n",
       "    <tr>\n",
       "      <th>...</th>\n",
       "      <td>...</td>\n",
       "      <td>...</td>\n",
       "      <td>...</td>\n",
       "      <td>...</td>\n",
       "      <td>...</td>\n",
       "      <td>...</td>\n",
       "      <td>...</td>\n",
       "      <td>...</td>\n",
       "      <td>...</td>\n",
       "      <td>...</td>\n",
       "      <td>...</td>\n",
       "      <td>...</td>\n",
       "      <td>...</td>\n",
       "      <td>...</td>\n",
       "      <td>...</td>\n",
       "      <td>...</td>\n",
       "      <td>...</td>\n",
       "      <td>...</td>\n",
       "      <td>...</td>\n",
       "      <td>...</td>\n",
       "      <td>...</td>\n",
       "    </tr>\n",
       "    <tr>\n",
       "      <th>168</th>\n",
       "      <td>BBG004S68BR5</td>\n",
       "      <td>NMTP</td>\n",
       "      <td>TQBR</td>\n",
       "      <td>RU0009084446</td>\n",
       "      <td>rub</td>\n",
       "      <td>НМТП</td>\n",
       "      <td>MOEX_DEALER_WEEKEND</td>\n",
       "      <td>04/06/2003</td>\n",
       "      <td>0.01</td>\n",
       "      <td>19259815400</td>\n",
       "      <td>...</td>\n",
       "      <td>9.625636</td>\n",
       "      <td>2.253016</td>\n",
       "      <td>5.589684</td>\n",
       "      <td>4.732105</td>\n",
       "      <td>2.574496</td>\n",
       "      <td>2.618918</td>\n",
       "      <td>2.607009</td>\n",
       "      <td>3.395871</td>\n",
       "      <td>344.543444</td>\n",
       "      <td>8.495000</td>\n",
       "    </tr>\n",
       "    <tr>\n",
       "      <th>169</th>\n",
       "      <td>BBG000QFH687</td>\n",
       "      <td>TGKA</td>\n",
       "      <td>TQBR</td>\n",
       "      <td>RU000A0JNUD0</td>\n",
       "      <td>rub</td>\n",
       "      <td>ТГК-1</td>\n",
       "      <td>MOEX_DEALER_WEEKEND</td>\n",
       "      <td>17/05/2005</td>\n",
       "      <td>0.01</td>\n",
       "      <td>3854341416571</td>\n",
       "      <td>...</td>\n",
       "      <td>9.660532</td>\n",
       "      <td>2.164127</td>\n",
       "      <td>7.057391</td>\n",
       "      <td>3.701367</td>\n",
       "      <td>1.966651</td>\n",
       "      <td>1.731214</td>\n",
       "      <td>2.925508</td>\n",
       "      <td>3.257710</td>\n",
       "      <td>300.433764</td>\n",
       "      <td>0.007204</td>\n",
       "    </tr>\n",
       "    <tr>\n",
       "      <th>170</th>\n",
       "      <td>BBG0027F0Y27</td>\n",
       "      <td>CNTLP</td>\n",
       "      <td>TQBR</td>\n",
       "      <td>RU0007665139</td>\n",
       "      <td>rub</td>\n",
       "      <td>Центральный Телеграф - акции привилегированные</td>\n",
       "      <td>moex_extended</td>\n",
       "      <td>20/12/2002</td>\n",
       "      <td>1.00</td>\n",
       "      <td>55389000</td>\n",
       "      <td>...</td>\n",
       "      <td>3.818459</td>\n",
       "      <td>2.471787</td>\n",
       "      <td>6.063629</td>\n",
       "      <td>4.820033</td>\n",
       "      <td>2.640975</td>\n",
       "      <td>2.469703</td>\n",
       "      <td>2.557676</td>\n",
       "      <td>3.503967</td>\n",
       "      <td>332.585289</td>\n",
       "      <td>8.400000</td>\n",
       "    </tr>\n",
       "    <tr>\n",
       "      <th>171</th>\n",
       "      <td>BBG004S68FR6</td>\n",
       "      <td>MTLRP</td>\n",
       "      <td>TQBR</td>\n",
       "      <td>RU000A0JPV70</td>\n",
       "      <td>rub</td>\n",
       "      <td>Мечел - Привилегированные акции</td>\n",
       "      <td>MOEX_DEALER_WEEKEND</td>\n",
       "      <td>05/06/2008</td>\n",
       "      <td>10.00</td>\n",
       "      <td>138756915</td>\n",
       "      <td>...</td>\n",
       "      <td>7.218503</td>\n",
       "      <td>0.000000</td>\n",
       "      <td>5.298516</td>\n",
       "      <td>10.000000</td>\n",
       "      <td>0.000000</td>\n",
       "      <td>0.000000</td>\n",
       "      <td>0.000000</td>\n",
       "      <td>2.549753</td>\n",
       "      <td>237.324387</td>\n",
       "      <td>111.450000</td>\n",
       "    </tr>\n",
       "    <tr>\n",
       "      <th>172</th>\n",
       "      <td>BBG000C7P5M7</td>\n",
       "      <td>MRKY</td>\n",
       "      <td>TQBR</td>\n",
       "      <td>RU000A0JPPG8</td>\n",
       "      <td>rub</td>\n",
       "      <td>МРСК Юга</td>\n",
       "      <td>moex_extended</td>\n",
       "      <td>20/09/2007</td>\n",
       "      <td>0.10</td>\n",
       "      <td>151641426354</td>\n",
       "      <td>...</td>\n",
       "      <td>6.702428</td>\n",
       "      <td>4.103122</td>\n",
       "      <td>3.293560</td>\n",
       "      <td>7.574434</td>\n",
       "      <td>4.071007</td>\n",
       "      <td>3.956887</td>\n",
       "      <td>3.278120</td>\n",
       "      <td>4.379522</td>\n",
       "      <td>299.037689</td>\n",
       "      <td>0.061700</td>\n",
       "    </tr>\n",
       "  </tbody>\n",
       "</table>\n",
       "<p>173 rows × 28 columns</p>\n",
       "</div>"
      ]
     },
     "execution_count": 48,
     "metadata": {},
     "output_type": "execute_result"
    }
   ],
   "execution_count": 48
  },
  {
   "metadata": {
    "ExecuteTime": {
     "end_time": "2024-11-18T15:25:44.304860Z",
     "start_time": "2024-11-18T15:25:44.236364Z"
    }
   },
   "cell_type": "code",
   "source": [
    "etfs_nans = etfs[X_test.columns].isna().any(axis=1)\n",
    "score = model.predict_proba(etfs[X_test.columns][~etfs_nans])\n",
    "etfs.loc[~etfs_nans, \"ratings\"] = score[:, 1]\n",
    "etfs.loc[etfs_nans, \"ratings\"] = 0"
   ],
   "id": "8c6f8a5119e4f29f",
   "outputs": [
    {
     "ename": "CatBoostError",
     "evalue": "Bad value for num_feature[non_default_doc_idx=0,feature_idx=2]=\"DE\": Cannot convert 'b'DE'' to float",
     "output_type": "error",
     "traceback": [
      "\u001B[0;31m---------------------------------------------------------------------------\u001B[0m",
      "\u001B[0;31mTypeError\u001B[0m                                 Traceback (most recent call last)",
      "File \u001B[0;32m_catboost.pyx:2288\u001B[0m, in \u001B[0;36m_catboost.get_float_feature\u001B[0;34m()\u001B[0m\n",
      "File \u001B[0;32m_catboost.pyx:1141\u001B[0m, in \u001B[0;36m_catboost._FloatOrNan\u001B[0;34m()\u001B[0m\n",
      "File \u001B[0;32m_catboost.pyx:951\u001B[0m, in \u001B[0;36m_catboost._FloatOrNanFromString\u001B[0;34m()\u001B[0m\n",
      "\u001B[0;31mTypeError\u001B[0m: Cannot convert 'b'DE'' to float",
      "\nDuring handling of the above exception, another exception occurred:\n",
      "\u001B[0;31mCatBoostError\u001B[0m                             Traceback (most recent call last)",
      "Cell \u001B[0;32mIn[49], line 2\u001B[0m\n\u001B[1;32m      1\u001B[0m etfs_nans \u001B[38;5;241m=\u001B[39m etfs[X_test\u001B[38;5;241m.\u001B[39mcolumns]\u001B[38;5;241m.\u001B[39misna()\u001B[38;5;241m.\u001B[39many(axis\u001B[38;5;241m=\u001B[39m\u001B[38;5;241m1\u001B[39m)\n\u001B[0;32m----> 2\u001B[0m score \u001B[38;5;241m=\u001B[39m \u001B[43mmodel\u001B[49m\u001B[38;5;241;43m.\u001B[39;49m\u001B[43mpredict_proba\u001B[49m\u001B[43m(\u001B[49m\u001B[43metfs\u001B[49m\u001B[43m[\u001B[49m\u001B[43mX_test\u001B[49m\u001B[38;5;241;43m.\u001B[39;49m\u001B[43mcolumns\u001B[49m\u001B[43m]\u001B[49m\u001B[43m[\u001B[49m\u001B[38;5;241;43m~\u001B[39;49m\u001B[43metfs_nans\u001B[49m\u001B[43m]\u001B[49m\u001B[43m)\u001B[49m\n\u001B[1;32m      3\u001B[0m etfs\u001B[38;5;241m.\u001B[39mloc[\u001B[38;5;241m~\u001B[39metfs_nans, \u001B[38;5;124m\"\u001B[39m\u001B[38;5;124mratings\u001B[39m\u001B[38;5;124m\"\u001B[39m] \u001B[38;5;241m=\u001B[39m score[:, \u001B[38;5;241m1\u001B[39m]\n\u001B[1;32m      4\u001B[0m etfs\u001B[38;5;241m.\u001B[39mloc[etfs_nans, \u001B[38;5;124m\"\u001B[39m\u001B[38;5;124mratings\u001B[39m\u001B[38;5;124m\"\u001B[39m] \u001B[38;5;241m=\u001B[39m \u001B[38;5;241m0\u001B[39m\n",
      "File \u001B[0;32m/Library/Frameworks/Python.framework/Versions/3.11/lib/python3.11/site-packages/catboost/core.py:5225\u001B[0m, in \u001B[0;36mCatBoostClassifier.predict_proba\u001B[0;34m(self, X, ntree_start, ntree_end, thread_count, verbose, task_type)\u001B[0m\n\u001B[1;32m   5189\u001B[0m \u001B[38;5;28;01mdef\u001B[39;00m \u001B[38;5;21mpredict_proba\u001B[39m(\u001B[38;5;28mself\u001B[39m, X, ntree_start\u001B[38;5;241m=\u001B[39m\u001B[38;5;241m0\u001B[39m, ntree_end\u001B[38;5;241m=\u001B[39m\u001B[38;5;241m0\u001B[39m, thread_count\u001B[38;5;241m=\u001B[39m\u001B[38;5;241m-\u001B[39m\u001B[38;5;241m1\u001B[39m, verbose\u001B[38;5;241m=\u001B[39m\u001B[38;5;28;01mNone\u001B[39;00m, task_type\u001B[38;5;241m=\u001B[39m\u001B[38;5;124m\"\u001B[39m\u001B[38;5;124mCPU\u001B[39m\u001B[38;5;124m\"\u001B[39m):\n\u001B[1;32m   5190\u001B[0m \u001B[38;5;250m    \u001B[39m\u001B[38;5;124;03m\"\"\"\u001B[39;00m\n\u001B[1;32m   5191\u001B[0m \u001B[38;5;124;03m    Predict class probability with X.\u001B[39;00m\n\u001B[1;32m   5192\u001B[0m \n\u001B[0;32m   (...)\u001B[0m\n\u001B[1;32m   5223\u001B[0m \u001B[38;5;124;03m            with probability for every class for each object.\u001B[39;00m\n\u001B[1;32m   5224\u001B[0m \u001B[38;5;124;03m    \"\"\"\u001B[39;00m\n\u001B[0;32m-> 5225\u001B[0m     \u001B[38;5;28;01mreturn\u001B[39;00m \u001B[38;5;28;43mself\u001B[39;49m\u001B[38;5;241;43m.\u001B[39;49m\u001B[43m_predict\u001B[49m\u001B[43m(\u001B[49m\u001B[43mX\u001B[49m\u001B[43m,\u001B[49m\u001B[43m \u001B[49m\u001B[38;5;124;43m'\u001B[39;49m\u001B[38;5;124;43mProbability\u001B[39;49m\u001B[38;5;124;43m'\u001B[39;49m\u001B[43m,\u001B[49m\u001B[43m \u001B[49m\u001B[43mntree_start\u001B[49m\u001B[43m,\u001B[49m\u001B[43m \u001B[49m\u001B[43mntree_end\u001B[49m\u001B[43m,\u001B[49m\u001B[43m \u001B[49m\u001B[43mthread_count\u001B[49m\u001B[43m,\u001B[49m\u001B[43m \u001B[49m\u001B[43mverbose\u001B[49m\u001B[43m,\u001B[49m\u001B[43m \u001B[49m\u001B[38;5;124;43m'\u001B[39;49m\u001B[38;5;124;43mpredict_proba\u001B[39;49m\u001B[38;5;124;43m'\u001B[39;49m\u001B[43m,\u001B[49m\u001B[43m \u001B[49m\u001B[43mtask_type\u001B[49m\u001B[43m)\u001B[49m\n",
      "File \u001B[0;32m/Library/Frameworks/Python.framework/Versions/3.11/lib/python3.11/site-packages/catboost/core.py:2543\u001B[0m, in \u001B[0;36mCatBoost._predict\u001B[0;34m(self, data, prediction_type, ntree_start, ntree_end, thread_count, verbose, parent_method_name, task_type)\u001B[0m\n\u001B[1;32m   2541\u001B[0m \u001B[38;5;28;01mif\u001B[39;00m verbose \u001B[38;5;129;01mis\u001B[39;00m \u001B[38;5;28;01mNone\u001B[39;00m:\n\u001B[1;32m   2542\u001B[0m     verbose \u001B[38;5;241m=\u001B[39m \u001B[38;5;28;01mFalse\u001B[39;00m\n\u001B[0;32m-> 2543\u001B[0m data, data_is_single_object \u001B[38;5;241m=\u001B[39m \u001B[38;5;28;43mself\u001B[39;49m\u001B[38;5;241;43m.\u001B[39;49m\u001B[43m_process_predict_input_data\u001B[49m\u001B[43m(\u001B[49m\u001B[43mdata\u001B[49m\u001B[43m,\u001B[49m\u001B[43m \u001B[49m\u001B[43mparent_method_name\u001B[49m\u001B[43m,\u001B[49m\u001B[43m \u001B[49m\u001B[43mthread_count\u001B[49m\u001B[43m)\u001B[49m\n\u001B[1;32m   2544\u001B[0m \u001B[38;5;28mself\u001B[39m\u001B[38;5;241m.\u001B[39m_validate_prediction_type(prediction_type)\n\u001B[1;32m   2546\u001B[0m predictions \u001B[38;5;241m=\u001B[39m \u001B[38;5;28mself\u001B[39m\u001B[38;5;241m.\u001B[39m_base_predict(data, prediction_type, ntree_start, ntree_end, thread_count, verbose, task_type)\n",
      "File \u001B[0;32m/Library/Frameworks/Python.framework/Versions/3.11/lib/python3.11/site-packages/catboost/core.py:2523\u001B[0m, in \u001B[0;36mCatBoost._process_predict_input_data\u001B[0;34m(self, data, parent_method_name, thread_count, label)\u001B[0m\n\u001B[1;32m   2521\u001B[0m is_single_object \u001B[38;5;241m=\u001B[39m _is_data_single_object(data)\n\u001B[1;32m   2522\u001B[0m \u001B[38;5;28;01mif\u001B[39;00m \u001B[38;5;129;01mnot\u001B[39;00m \u001B[38;5;28misinstance\u001B[39m(data, Pool):\n\u001B[0;32m-> 2523\u001B[0m     data \u001B[38;5;241m=\u001B[39m \u001B[43mPool\u001B[49m\u001B[43m(\u001B[49m\n\u001B[1;32m   2524\u001B[0m \u001B[43m        \u001B[49m\u001B[43mdata\u001B[49m\u001B[38;5;241;43m=\u001B[39;49m\u001B[43m[\u001B[49m\u001B[43mdata\u001B[49m\u001B[43m]\u001B[49m\u001B[43m \u001B[49m\u001B[38;5;28;43;01mif\u001B[39;49;00m\u001B[43m \u001B[49m\u001B[43mis_single_object\u001B[49m\u001B[43m \u001B[49m\u001B[38;5;28;43;01melse\u001B[39;49;00m\u001B[43m \u001B[49m\u001B[43mdata\u001B[49m\u001B[43m,\u001B[49m\n\u001B[1;32m   2525\u001B[0m \u001B[43m        \u001B[49m\u001B[43mlabel\u001B[49m\u001B[38;5;241;43m=\u001B[39;49m\u001B[43mlabel\u001B[49m\u001B[43m,\u001B[49m\n\u001B[1;32m   2526\u001B[0m \u001B[43m        \u001B[49m\u001B[43mcat_features\u001B[49m\u001B[38;5;241;43m=\u001B[39;49m\u001B[38;5;28;43mself\u001B[39;49m\u001B[38;5;241;43m.\u001B[39;49m\u001B[43m_get_cat_feature_indices\u001B[49m\u001B[43m(\u001B[49m\u001B[43m)\u001B[49m\u001B[43m \u001B[49m\u001B[38;5;28;43;01mif\u001B[39;49;00m\u001B[43m \u001B[49m\u001B[38;5;129;43;01mnot\u001B[39;49;00m\u001B[43m \u001B[49m\u001B[38;5;28;43misinstance\u001B[39;49m\u001B[43m(\u001B[49m\u001B[43mdata\u001B[49m\u001B[43m,\u001B[49m\u001B[43m \u001B[49m\u001B[43mFeaturesData\u001B[49m\u001B[43m)\u001B[49m\u001B[43m \u001B[49m\u001B[38;5;28;43;01melse\u001B[39;49;00m\u001B[43m \u001B[49m\u001B[38;5;28;43;01mNone\u001B[39;49;00m\u001B[43m,\u001B[49m\n\u001B[1;32m   2527\u001B[0m \u001B[43m        \u001B[49m\u001B[43mtext_features\u001B[49m\u001B[38;5;241;43m=\u001B[39;49m\u001B[38;5;28;43mself\u001B[39;49m\u001B[38;5;241;43m.\u001B[39;49m\u001B[43m_get_text_feature_indices\u001B[49m\u001B[43m(\u001B[49m\u001B[43m)\u001B[49m\u001B[43m \u001B[49m\u001B[38;5;28;43;01mif\u001B[39;49;00m\u001B[43m \u001B[49m\u001B[38;5;129;43;01mnot\u001B[39;49;00m\u001B[43m \u001B[49m\u001B[38;5;28;43misinstance\u001B[39;49m\u001B[43m(\u001B[49m\u001B[43mdata\u001B[49m\u001B[43m,\u001B[49m\u001B[43m \u001B[49m\u001B[43mFeaturesData\u001B[49m\u001B[43m)\u001B[49m\u001B[43m \u001B[49m\u001B[38;5;28;43;01melse\u001B[39;49;00m\u001B[43m \u001B[49m\u001B[38;5;28;43;01mNone\u001B[39;49;00m\u001B[43m,\u001B[49m\n\u001B[1;32m   2528\u001B[0m \u001B[43m        \u001B[49m\u001B[43membedding_features\u001B[49m\u001B[38;5;241;43m=\u001B[39;49m\u001B[38;5;28;43mself\u001B[39;49m\u001B[38;5;241;43m.\u001B[39;49m\u001B[43m_get_embedding_feature_indices\u001B[49m\u001B[43m(\u001B[49m\u001B[43m)\u001B[49m\u001B[43m \u001B[49m\u001B[38;5;28;43;01mif\u001B[39;49;00m\u001B[43m \u001B[49m\u001B[38;5;129;43;01mnot\u001B[39;49;00m\u001B[43m \u001B[49m\u001B[38;5;28;43misinstance\u001B[39;49m\u001B[43m(\u001B[49m\u001B[43mdata\u001B[49m\u001B[43m,\u001B[49m\u001B[43m \u001B[49m\u001B[43mFeaturesData\u001B[49m\u001B[43m)\u001B[49m\u001B[43m \u001B[49m\u001B[38;5;28;43;01melse\u001B[39;49;00m\u001B[43m \u001B[49m\u001B[38;5;28;43;01mNone\u001B[39;49;00m\u001B[43m,\u001B[49m\n\u001B[1;32m   2529\u001B[0m \u001B[43m        \u001B[49m\u001B[43mthread_count\u001B[49m\u001B[38;5;241;43m=\u001B[39;49m\u001B[43mthread_count\u001B[49m\n\u001B[1;32m   2530\u001B[0m \u001B[43m    \u001B[49m\u001B[43m)\u001B[49m\n\u001B[1;32m   2531\u001B[0m \u001B[38;5;28;01mreturn\u001B[39;00m data, is_single_object\n",
      "File \u001B[0;32m/Library/Frameworks/Python.framework/Versions/3.11/lib/python3.11/site-packages/catboost/core.py:792\u001B[0m, in \u001B[0;36mPool.__init__\u001B[0;34m(self, data, label, cat_features, text_features, embedding_features, embedding_features_data, column_description, pairs, delimiter, has_header, ignore_csv_quoting, weight, group_id, group_weight, subgroup_id, pairs_weight, baseline, timestamp, feature_names, feature_tags, thread_count, log_cout, log_cerr)\u001B[0m\n\u001B[1;32m    786\u001B[0m         \u001B[38;5;28;01mif\u001B[39;00m \u001B[38;5;28misinstance\u001B[39m(feature_names, PATH_TYPES):\n\u001B[1;32m    787\u001B[0m             \u001B[38;5;28;01mraise\u001B[39;00m CatBoostError(\n\u001B[1;32m    788\u001B[0m                 \u001B[38;5;124m\"\u001B[39m\u001B[38;5;124mfeature_names must be None or have non-string type when the pool is created from \u001B[39m\u001B[38;5;124m\"\u001B[39m\n\u001B[1;32m    789\u001B[0m                 \u001B[38;5;124m\"\u001B[39m\u001B[38;5;124mpython objects.\u001B[39m\u001B[38;5;124m\"\u001B[39m\n\u001B[1;32m    790\u001B[0m             )\n\u001B[0;32m--> 792\u001B[0m         \u001B[38;5;28;43mself\u001B[39;49m\u001B[38;5;241;43m.\u001B[39;49m\u001B[43m_init\u001B[49m\u001B[43m(\u001B[49m\u001B[43mdata\u001B[49m\u001B[43m,\u001B[49m\u001B[43m \u001B[49m\u001B[43mlabel\u001B[49m\u001B[43m,\u001B[49m\u001B[43m \u001B[49m\u001B[43mcat_features\u001B[49m\u001B[43m,\u001B[49m\u001B[43m \u001B[49m\u001B[43mtext_features\u001B[49m\u001B[43m,\u001B[49m\u001B[43m \u001B[49m\u001B[43membedding_features\u001B[49m\u001B[43m,\u001B[49m\u001B[43m \u001B[49m\u001B[43membedding_features_data\u001B[49m\u001B[43m,\u001B[49m\u001B[43m \u001B[49m\u001B[43mpairs\u001B[49m\u001B[43m,\u001B[49m\u001B[43m \u001B[49m\u001B[43mweight\u001B[49m\u001B[43m,\u001B[49m\n\u001B[1;32m    793\u001B[0m \u001B[43m                   \u001B[49m\u001B[43mgroup_id\u001B[49m\u001B[43m,\u001B[49m\u001B[43m \u001B[49m\u001B[43mgroup_weight\u001B[49m\u001B[43m,\u001B[49m\u001B[43m \u001B[49m\u001B[43msubgroup_id\u001B[49m\u001B[43m,\u001B[49m\u001B[43m \u001B[49m\u001B[43mpairs_weight\u001B[49m\u001B[43m,\u001B[49m\u001B[43m \u001B[49m\u001B[43mbaseline\u001B[49m\u001B[43m,\u001B[49m\u001B[43m \u001B[49m\u001B[43mtimestamp\u001B[49m\u001B[43m,\u001B[49m\u001B[43m \u001B[49m\u001B[43mfeature_names\u001B[49m\u001B[43m,\u001B[49m\u001B[43m \u001B[49m\u001B[43mfeature_tags\u001B[49m\u001B[43m,\u001B[49m\u001B[43m \u001B[49m\u001B[43mthread_count\u001B[49m\u001B[43m)\u001B[49m\n\u001B[1;32m    794\u001B[0m \u001B[38;5;28msuper\u001B[39m(Pool, \u001B[38;5;28mself\u001B[39m)\u001B[38;5;241m.\u001B[39m\u001B[38;5;21m__init__\u001B[39m()\n",
      "File \u001B[0;32m/Library/Frameworks/Python.framework/Versions/3.11/lib/python3.11/site-packages/catboost/core.py:1419\u001B[0m, in \u001B[0;36mPool._init\u001B[0;34m(self, data, label, cat_features, text_features, embedding_features, embedding_features_data, pairs, weight, group_id, group_weight, subgroup_id, pairs_weight, baseline, timestamp, feature_names, feature_tags, thread_count)\u001B[0m\n\u001B[1;32m   1417\u001B[0m \u001B[38;5;28;01mif\u001B[39;00m feature_tags \u001B[38;5;129;01mis\u001B[39;00m \u001B[38;5;129;01mnot\u001B[39;00m \u001B[38;5;28;01mNone\u001B[39;00m:\n\u001B[1;32m   1418\u001B[0m     feature_tags \u001B[38;5;241m=\u001B[39m \u001B[38;5;28mself\u001B[39m\u001B[38;5;241m.\u001B[39m_check_transform_tags(feature_tags, feature_names)\n\u001B[0;32m-> 1419\u001B[0m \u001B[38;5;28;43mself\u001B[39;49m\u001B[38;5;241;43m.\u001B[39;49m\u001B[43m_init_pool\u001B[49m\u001B[43m(\u001B[49m\u001B[43mdata\u001B[49m\u001B[43m,\u001B[49m\u001B[43m \u001B[49m\u001B[43mlabel\u001B[49m\u001B[43m,\u001B[49m\u001B[43m \u001B[49m\u001B[43mcat_features\u001B[49m\u001B[43m,\u001B[49m\u001B[43m \u001B[49m\u001B[43mtext_features\u001B[49m\u001B[43m,\u001B[49m\u001B[43m \u001B[49m\u001B[43membedding_features\u001B[49m\u001B[43m,\u001B[49m\u001B[43m \u001B[49m\u001B[43membedding_features_data\u001B[49m\u001B[43m,\u001B[49m\u001B[43m \u001B[49m\u001B[43mpairs\u001B[49m\u001B[43m,\u001B[49m\u001B[43m \u001B[49m\u001B[43mweight\u001B[49m\u001B[43m,\u001B[49m\n\u001B[1;32m   1420\u001B[0m \u001B[43m                \u001B[49m\u001B[43mgroup_id\u001B[49m\u001B[43m,\u001B[49m\u001B[43m \u001B[49m\u001B[43mgroup_weight\u001B[49m\u001B[43m,\u001B[49m\u001B[43m \u001B[49m\u001B[43msubgroup_id\u001B[49m\u001B[43m,\u001B[49m\u001B[43m \u001B[49m\u001B[43mpairs_weight\u001B[49m\u001B[43m,\u001B[49m\u001B[43m \u001B[49m\u001B[43mbaseline\u001B[49m\u001B[43m,\u001B[49m\u001B[43m \u001B[49m\u001B[43mtimestamp\u001B[49m\u001B[43m,\u001B[49m\u001B[43m \u001B[49m\u001B[43mfeature_names\u001B[49m\u001B[43m,\u001B[49m\u001B[43m \u001B[49m\u001B[43mfeature_tags\u001B[49m\u001B[43m,\u001B[49m\u001B[43m \u001B[49m\u001B[43mthread_count\u001B[49m\u001B[43m)\u001B[49m\n",
      "File \u001B[0;32m_catboost.pyx:3956\u001B[0m, in \u001B[0;36m_catboost._PoolBase._init_pool\u001B[0;34m()\u001B[0m\n",
      "File \u001B[0;32m_catboost.pyx:4006\u001B[0m, in \u001B[0;36m_catboost._PoolBase._init_pool\u001B[0;34m()\u001B[0m\n",
      "File \u001B[0;32m_catboost.pyx:3822\u001B[0m, in \u001B[0;36m_catboost._PoolBase._init_features_order_layout_pool\u001B[0;34m()\u001B[0m\n",
      "File \u001B[0;32m_catboost.pyx:2788\u001B[0m, in \u001B[0;36m_catboost._set_features_order_data_pd_data_frame\u001B[0;34m()\u001B[0m\n",
      "File \u001B[0;32m_catboost.pyx:2329\u001B[0m, in \u001B[0;36m_catboost.create_num_factor_data\u001B[0;34m()\u001B[0m\n",
      "File \u001B[0;32m_catboost.pyx:2290\u001B[0m, in \u001B[0;36m_catboost.get_float_feature\u001B[0;34m()\u001B[0m\n",
      "\u001B[0;31mCatBoostError\u001B[0m: Bad value for num_feature[non_default_doc_idx=0,feature_idx=2]=\"DE\": Cannot convert 'b'DE'' to float"
     ]
    }
   ],
   "execution_count": 49
  },
  {
   "metadata": {
    "ExecuteTime": {
     "end_time": "2024-11-18T15:25:45.031801Z",
     "start_time": "2024-11-18T15:25:45.029258Z"
    }
   },
   "cell_type": "code",
   "source": [
    "bonds[\"ratings\"] = bonds[\"ratings\"] * 1000\n",
    "shares[\"ratings\"] = shares[\"ratings\"] * 1000\n",
    "etfs[\"ratings\"] = etfs[\"ratings\"] * 1000"
   ],
   "id": "ab3f7784edd5b4d",
   "outputs": [],
   "execution_count": 50
  },
  {
   "metadata": {
    "ExecuteTime": {
     "end_time": "2024-11-18T15:25:45.415305Z",
     "start_time": "2024-11-18T15:25:45.385086Z"
    }
   },
   "cell_type": "code",
   "source": [
    "bonds.to_csv('../api/.cache/bonds.csv', index=False)\n",
    "shares.to_csv('../api/.cache/shares.csv', index=False)\n",
    "etfs.to_csv('../api/.cache/etfs.csv', index=False)"
   ],
   "id": "10ee0a4460848463",
   "outputs": [],
   "execution_count": 51
  },
  {
   "metadata": {
    "ExecuteTime": {
     "end_time": "2024-11-18T15:25:46.108983Z",
     "start_time": "2024-11-18T15:25:46.082625Z"
    }
   },
   "cell_type": "code",
   "source": "model.get_feature_importance()",
   "id": "c54394050411b0bd",
   "outputs": [
    {
     "data": {
      "text/plain": [
       "array([14.36306357,  9.61895767,  0.68099238, 10.17674443,  0.72714222,\n",
       "        8.53988313, 15.4736288 ,  9.62917164,  8.82310319,  4.28443962,\n",
       "        6.91445172, 10.76842163])"
      ]
     },
     "execution_count": 52,
     "metadata": {},
     "output_type": "execute_result"
    }
   ],
   "execution_count": 52
  },
  {
   "metadata": {
    "ExecuteTime": {
     "end_time": "2024-11-18T15:25:46.642285Z",
     "start_time": "2024-11-18T15:25:46.624636Z"
    }
   },
   "cell_type": "code",
   "source": "pd.DataFrame({\"column\": X_test.columns, \"importance\": model.get_feature_importance()})",
   "id": "f7ce95ac61f32eb6",
   "outputs": [
    {
     "data": {
      "text/plain": [
       "              column  importance\n",
       "0   inverse_drawdown   14.363064\n",
       "1        mean_return    9.618958\n",
       "2    country_of_risk    0.680992\n",
       "3         class_code   10.176744\n",
       "4           currency    0.727142\n",
       "5       sharpe_ratio    8.539883\n",
       "6        trend_slope   15.473629\n",
       "7      sortino_ratio    9.629172\n",
       "8           exchange    8.823103\n",
       "9                lot    4.284440\n",
       "10            sector    6.914452\n",
       "11         stability   10.768422"
      ],
      "text/html": [
       "<div>\n",
       "<style scoped>\n",
       "    .dataframe tbody tr th:only-of-type {\n",
       "        vertical-align: middle;\n",
       "    }\n",
       "\n",
       "    .dataframe tbody tr th {\n",
       "        vertical-align: top;\n",
       "    }\n",
       "\n",
       "    .dataframe thead th {\n",
       "        text-align: right;\n",
       "    }\n",
       "</style>\n",
       "<table border=\"1\" class=\"dataframe\">\n",
       "  <thead>\n",
       "    <tr style=\"text-align: right;\">\n",
       "      <th></th>\n",
       "      <th>column</th>\n",
       "      <th>importance</th>\n",
       "    </tr>\n",
       "  </thead>\n",
       "  <tbody>\n",
       "    <tr>\n",
       "      <th>0</th>\n",
       "      <td>inverse_drawdown</td>\n",
       "      <td>14.363064</td>\n",
       "    </tr>\n",
       "    <tr>\n",
       "      <th>1</th>\n",
       "      <td>mean_return</td>\n",
       "      <td>9.618958</td>\n",
       "    </tr>\n",
       "    <tr>\n",
       "      <th>2</th>\n",
       "      <td>country_of_risk</td>\n",
       "      <td>0.680992</td>\n",
       "    </tr>\n",
       "    <tr>\n",
       "      <th>3</th>\n",
       "      <td>class_code</td>\n",
       "      <td>10.176744</td>\n",
       "    </tr>\n",
       "    <tr>\n",
       "      <th>4</th>\n",
       "      <td>currency</td>\n",
       "      <td>0.727142</td>\n",
       "    </tr>\n",
       "    <tr>\n",
       "      <th>5</th>\n",
       "      <td>sharpe_ratio</td>\n",
       "      <td>8.539883</td>\n",
       "    </tr>\n",
       "    <tr>\n",
       "      <th>6</th>\n",
       "      <td>trend_slope</td>\n",
       "      <td>15.473629</td>\n",
       "    </tr>\n",
       "    <tr>\n",
       "      <th>7</th>\n",
       "      <td>sortino_ratio</td>\n",
       "      <td>9.629172</td>\n",
       "    </tr>\n",
       "    <tr>\n",
       "      <th>8</th>\n",
       "      <td>exchange</td>\n",
       "      <td>8.823103</td>\n",
       "    </tr>\n",
       "    <tr>\n",
       "      <th>9</th>\n",
       "      <td>lot</td>\n",
       "      <td>4.284440</td>\n",
       "    </tr>\n",
       "    <tr>\n",
       "      <th>10</th>\n",
       "      <td>sector</td>\n",
       "      <td>6.914452</td>\n",
       "    </tr>\n",
       "    <tr>\n",
       "      <th>11</th>\n",
       "      <td>stability</td>\n",
       "      <td>10.768422</td>\n",
       "    </tr>\n",
       "  </tbody>\n",
       "</table>\n",
       "</div>"
      ]
     },
     "execution_count": 53,
     "metadata": {},
     "output_type": "execute_result"
    }
   ],
   "execution_count": 53
  },
  {
   "metadata": {
    "ExecuteTime": {
     "end_time": "2024-11-18T15:25:47.172372Z",
     "start_time": "2024-11-18T15:25:47.170838Z"
    }
   },
   "cell_type": "code",
   "source": "num_columns = train",
   "id": "8d5b22e98fb58b88",
   "outputs": [],
   "execution_count": 54
  },
  {
   "metadata": {
    "ExecuteTime": {
     "end_time": "2024-11-18T15:25:47.666195Z",
     "start_time": "2024-11-18T15:25:47.663428Z"
    }
   },
   "cell_type": "code",
   "source": "indexes = (train.drop(\"target\", axis=1).dtypes != \"object\")",
   "id": "7a183b1da7e27da6",
   "outputs": [],
   "execution_count": 55
  },
  {
   "metadata": {
    "ExecuteTime": {
     "end_time": "2024-11-18T15:25:48.092027Z",
     "start_time": "2024-11-18T15:25:48.089827Z"
    }
   },
   "cell_type": "code",
   "source": "num_columns = indexes[indexes.values].index.values",
   "id": "fc865b702d9924e1",
   "outputs": [],
   "execution_count": 56
  },
  {
   "metadata": {
    "ExecuteTime": {
     "end_time": "2024-11-18T15:25:48.825824Z",
     "start_time": "2024-11-18T15:25:48.566636Z"
    }
   },
   "cell_type": "code",
   "source": "from sklearn.linear_model import LogisticRegressionCV",
   "id": "3cf630cb5c80504e",
   "outputs": [],
   "execution_count": 57
  },
  {
   "metadata": {
    "ExecuteTime": {
     "end_time": "2024-11-18T15:25:49.174759Z",
     "start_time": "2024-11-18T15:25:49.172827Z"
    }
   },
   "cell_type": "code",
   "source": "model2 = LogisticRegressionCV()",
   "id": "249d21064f4b2f75",
   "outputs": [],
   "execution_count": 58
  },
  {
   "metadata": {
    "ExecuteTime": {
     "end_time": "2024-11-18T15:25:50.383680Z",
     "start_time": "2024-11-18T15:25:49.567141Z"
    }
   },
   "cell_type": "code",
   "source": "model2.fit(train[num_columns], train[\"target\"])",
   "id": "f3e56f07c154cee6",
   "outputs": [
    {
     "name": "stderr",
     "output_type": "stream",
     "text": [
      "/Library/Frameworks/Python.framework/Versions/3.11/lib/python3.11/site-packages/sklearn/linear_model/_logistic.py:458: ConvergenceWarning: lbfgs failed to converge (status=1):\n",
      "STOP: TOTAL NO. of ITERATIONS REACHED LIMIT.\n",
      "\n",
      "Increase the number of iterations (max_iter) or scale the data as shown in:\n",
      "    https://scikit-learn.org/stable/modules/preprocessing.html\n",
      "Please also refer to the documentation for alternative solver options:\n",
      "    https://scikit-learn.org/stable/modules/linear_model.html#logistic-regression\n",
      "  n_iter_i = _check_optimize_result(\n",
      "/Library/Frameworks/Python.framework/Versions/3.11/lib/python3.11/site-packages/sklearn/linear_model/_logistic.py:458: ConvergenceWarning: lbfgs failed to converge (status=1):\n",
      "STOP: TOTAL NO. of ITERATIONS REACHED LIMIT.\n",
      "\n",
      "Increase the number of iterations (max_iter) or scale the data as shown in:\n",
      "    https://scikit-learn.org/stable/modules/preprocessing.html\n",
      "Please also refer to the documentation for alternative solver options:\n",
      "    https://scikit-learn.org/stable/modules/linear_model.html#logistic-regression\n",
      "  n_iter_i = _check_optimize_result(\n",
      "/Library/Frameworks/Python.framework/Versions/3.11/lib/python3.11/site-packages/sklearn/linear_model/_logistic.py:458: ConvergenceWarning: lbfgs failed to converge (status=1):\n",
      "STOP: TOTAL NO. of ITERATIONS REACHED LIMIT.\n",
      "\n",
      "Increase the number of iterations (max_iter) or scale the data as shown in:\n",
      "    https://scikit-learn.org/stable/modules/preprocessing.html\n",
      "Please also refer to the documentation for alternative solver options:\n",
      "    https://scikit-learn.org/stable/modules/linear_model.html#logistic-regression\n",
      "  n_iter_i = _check_optimize_result(\n",
      "/Library/Frameworks/Python.framework/Versions/3.11/lib/python3.11/site-packages/sklearn/linear_model/_logistic.py:458: ConvergenceWarning: lbfgs failed to converge (status=1):\n",
      "STOP: TOTAL NO. of ITERATIONS REACHED LIMIT.\n",
      "\n",
      "Increase the number of iterations (max_iter) or scale the data as shown in:\n",
      "    https://scikit-learn.org/stable/modules/preprocessing.html\n",
      "Please also refer to the documentation for alternative solver options:\n",
      "    https://scikit-learn.org/stable/modules/linear_model.html#logistic-regression\n",
      "  n_iter_i = _check_optimize_result(\n"
     ]
    },
    {
     "data": {
      "text/plain": [
       "LogisticRegressionCV()"
      ],
      "text/html": [
       "<style>#sk-container-id-1 {color: black;background-color: white;}#sk-container-id-1 pre{padding: 0;}#sk-container-id-1 div.sk-toggleable {background-color: white;}#sk-container-id-1 label.sk-toggleable__label {cursor: pointer;display: block;width: 100%;margin-bottom: 0;padding: 0.3em;box-sizing: border-box;text-align: center;}#sk-container-id-1 label.sk-toggleable__label-arrow:before {content: \"▸\";float: left;margin-right: 0.25em;color: #696969;}#sk-container-id-1 label.sk-toggleable__label-arrow:hover:before {color: black;}#sk-container-id-1 div.sk-estimator:hover label.sk-toggleable__label-arrow:before {color: black;}#sk-container-id-1 div.sk-toggleable__content {max-height: 0;max-width: 0;overflow: hidden;text-align: left;background-color: #f0f8ff;}#sk-container-id-1 div.sk-toggleable__content pre {margin: 0.2em;color: black;border-radius: 0.25em;background-color: #f0f8ff;}#sk-container-id-1 input.sk-toggleable__control:checked~div.sk-toggleable__content {max-height: 200px;max-width: 100%;overflow: auto;}#sk-container-id-1 input.sk-toggleable__control:checked~label.sk-toggleable__label-arrow:before {content: \"▾\";}#sk-container-id-1 div.sk-estimator input.sk-toggleable__control:checked~label.sk-toggleable__label {background-color: #d4ebff;}#sk-container-id-1 div.sk-label input.sk-toggleable__control:checked~label.sk-toggleable__label {background-color: #d4ebff;}#sk-container-id-1 input.sk-hidden--visually {border: 0;clip: rect(1px 1px 1px 1px);clip: rect(1px, 1px, 1px, 1px);height: 1px;margin: -1px;overflow: hidden;padding: 0;position: absolute;width: 1px;}#sk-container-id-1 div.sk-estimator {font-family: monospace;background-color: #f0f8ff;border: 1px dotted black;border-radius: 0.25em;box-sizing: border-box;margin-bottom: 0.5em;}#sk-container-id-1 div.sk-estimator:hover {background-color: #d4ebff;}#sk-container-id-1 div.sk-parallel-item::after {content: \"\";width: 100%;border-bottom: 1px solid gray;flex-grow: 1;}#sk-container-id-1 div.sk-label:hover label.sk-toggleable__label {background-color: #d4ebff;}#sk-container-id-1 div.sk-serial::before {content: \"\";position: absolute;border-left: 1px solid gray;box-sizing: border-box;top: 0;bottom: 0;left: 50%;z-index: 0;}#sk-container-id-1 div.sk-serial {display: flex;flex-direction: column;align-items: center;background-color: white;padding-right: 0.2em;padding-left: 0.2em;position: relative;}#sk-container-id-1 div.sk-item {position: relative;z-index: 1;}#sk-container-id-1 div.sk-parallel {display: flex;align-items: stretch;justify-content: center;background-color: white;position: relative;}#sk-container-id-1 div.sk-item::before, #sk-container-id-1 div.sk-parallel-item::before {content: \"\";position: absolute;border-left: 1px solid gray;box-sizing: border-box;top: 0;bottom: 0;left: 50%;z-index: -1;}#sk-container-id-1 div.sk-parallel-item {display: flex;flex-direction: column;z-index: 1;position: relative;background-color: white;}#sk-container-id-1 div.sk-parallel-item:first-child::after {align-self: flex-end;width: 50%;}#sk-container-id-1 div.sk-parallel-item:last-child::after {align-self: flex-start;width: 50%;}#sk-container-id-1 div.sk-parallel-item:only-child::after {width: 0;}#sk-container-id-1 div.sk-dashed-wrapped {border: 1px dashed gray;margin: 0 0.4em 0.5em 0.4em;box-sizing: border-box;padding-bottom: 0.4em;background-color: white;}#sk-container-id-1 div.sk-label label {font-family: monospace;font-weight: bold;display: inline-block;line-height: 1.2em;}#sk-container-id-1 div.sk-label-container {text-align: center;}#sk-container-id-1 div.sk-container {/* jupyter's `normalize.less` sets `[hidden] { display: none; }` but bootstrap.min.css set `[hidden] { display: none !important; }` so we also need the `!important` here to be able to override the default hidden behavior on the sphinx rendered scikit-learn.org. See: https://github.com/scikit-learn/scikit-learn/issues/21755 */display: inline-block !important;position: relative;}#sk-container-id-1 div.sk-text-repr-fallback {display: none;}</style><div id=\"sk-container-id-1\" class=\"sk-top-container\"><div class=\"sk-text-repr-fallback\"><pre>LogisticRegressionCV()</pre><b>In a Jupyter environment, please rerun this cell to show the HTML representation or trust the notebook. <br />On GitHub, the HTML representation is unable to render, please try loading this page with nbviewer.org.</b></div><div class=\"sk-container\" hidden><div class=\"sk-item\"><div class=\"sk-estimator sk-toggleable\"><input class=\"sk-toggleable__control sk-hidden--visually\" id=\"sk-estimator-id-1\" type=\"checkbox\" checked><label for=\"sk-estimator-id-1\" class=\"sk-toggleable__label sk-toggleable__label-arrow\">LogisticRegressionCV</label><div class=\"sk-toggleable__content\"><pre>LogisticRegressionCV()</pre></div></div></div></div></div>"
      ]
     },
     "execution_count": 59,
     "metadata": {},
     "output_type": "execute_result"
    }
   ],
   "execution_count": 59
  },
  {
   "metadata": {
    "ExecuteTime": {
     "end_time": "2024-11-18T15:25:50.896687Z",
     "start_time": "2024-11-18T15:25:50.443557Z"
    }
   },
   "cell_type": "code",
   "source": [
    "bonds_nans = bonds[X_test.columns].isna().any(axis=1)\n",
    "pred = bonds[list(set(X_test.columns) & set(num_columns))][~bonds_nans]\n",
    "pred = pred.reindex(columns=num_columns)\n",
    "score = model2.predict_proba(pred)\n",
    "bonds.loc[~bonds_nans, \"ratings\"] = score[:, 1] * 1000\n",
    "bonds.loc[bonds_nans, \"ratings\"] = 0"
   ],
   "id": "9849dd288a0ae099",
   "outputs": [
    {
     "ename": "ValueError",
     "evalue": "could not convert string to float: 'RU'",
     "output_type": "error",
     "traceback": [
      "\u001B[0;31m---------------------------------------------------------------------------\u001B[0m",
      "\u001B[0;31mValueError\u001B[0m                                Traceback (most recent call last)",
      "Cell \u001B[0;32mIn[60], line 4\u001B[0m\n\u001B[1;32m      2\u001B[0m pred \u001B[38;5;241m=\u001B[39m bonds[\u001B[38;5;28mlist\u001B[39m(\u001B[38;5;28mset\u001B[39m(X_test\u001B[38;5;241m.\u001B[39mcolumns) \u001B[38;5;241m&\u001B[39m \u001B[38;5;28mset\u001B[39m(num_columns))][\u001B[38;5;241m~\u001B[39mbonds_nans]\n\u001B[1;32m      3\u001B[0m pred \u001B[38;5;241m=\u001B[39m pred\u001B[38;5;241m.\u001B[39mreindex(columns\u001B[38;5;241m=\u001B[39mnum_columns)\n\u001B[0;32m----> 4\u001B[0m score \u001B[38;5;241m=\u001B[39m \u001B[43mmodel2\u001B[49m\u001B[38;5;241;43m.\u001B[39;49m\u001B[43mpredict_proba\u001B[49m\u001B[43m(\u001B[49m\u001B[43mpred\u001B[49m\u001B[43m)\u001B[49m\n\u001B[1;32m      5\u001B[0m bonds\u001B[38;5;241m.\u001B[39mloc[\u001B[38;5;241m~\u001B[39mbonds_nans, \u001B[38;5;124m\"\u001B[39m\u001B[38;5;124mratings\u001B[39m\u001B[38;5;124m\"\u001B[39m] \u001B[38;5;241m=\u001B[39m score[:, \u001B[38;5;241m1\u001B[39m] \u001B[38;5;241m*\u001B[39m \u001B[38;5;241m1000\u001B[39m\n\u001B[1;32m      6\u001B[0m bonds\u001B[38;5;241m.\u001B[39mloc[bonds_nans, \u001B[38;5;124m\"\u001B[39m\u001B[38;5;124mratings\u001B[39m\u001B[38;5;124m\"\u001B[39m] \u001B[38;5;241m=\u001B[39m \u001B[38;5;241m0\u001B[39m\n",
      "File \u001B[0;32m/Library/Frameworks/Python.framework/Versions/3.11/lib/python3.11/site-packages/sklearn/linear_model/_logistic.py:1372\u001B[0m, in \u001B[0;36mLogisticRegression.predict_proba\u001B[0;34m(self, X)\u001B[0m\n\u001B[1;32m   1364\u001B[0m ovr \u001B[38;5;241m=\u001B[39m \u001B[38;5;28mself\u001B[39m\u001B[38;5;241m.\u001B[39mmulti_class \u001B[38;5;129;01min\u001B[39;00m [\u001B[38;5;124m\"\u001B[39m\u001B[38;5;124movr\u001B[39m\u001B[38;5;124m\"\u001B[39m, \u001B[38;5;124m\"\u001B[39m\u001B[38;5;124mwarn\u001B[39m\u001B[38;5;124m\"\u001B[39m] \u001B[38;5;129;01mor\u001B[39;00m (\n\u001B[1;32m   1365\u001B[0m     \u001B[38;5;28mself\u001B[39m\u001B[38;5;241m.\u001B[39mmulti_class \u001B[38;5;241m==\u001B[39m \u001B[38;5;124m\"\u001B[39m\u001B[38;5;124mauto\u001B[39m\u001B[38;5;124m\"\u001B[39m\n\u001B[1;32m   1366\u001B[0m     \u001B[38;5;129;01mand\u001B[39;00m (\n\u001B[0;32m   (...)\u001B[0m\n\u001B[1;32m   1369\u001B[0m     )\n\u001B[1;32m   1370\u001B[0m )\n\u001B[1;32m   1371\u001B[0m \u001B[38;5;28;01mif\u001B[39;00m ovr:\n\u001B[0;32m-> 1372\u001B[0m     \u001B[38;5;28;01mreturn\u001B[39;00m \u001B[38;5;28;43msuper\u001B[39;49m\u001B[43m(\u001B[49m\u001B[43m)\u001B[49m\u001B[38;5;241;43m.\u001B[39;49m\u001B[43m_predict_proba_lr\u001B[49m\u001B[43m(\u001B[49m\u001B[43mX\u001B[49m\u001B[43m)\u001B[49m\n\u001B[1;32m   1373\u001B[0m \u001B[38;5;28;01melse\u001B[39;00m:\n\u001B[1;32m   1374\u001B[0m     decision \u001B[38;5;241m=\u001B[39m \u001B[38;5;28mself\u001B[39m\u001B[38;5;241m.\u001B[39mdecision_function(X)\n",
      "File \u001B[0;32m/Library/Frameworks/Python.framework/Versions/3.11/lib/python3.11/site-packages/sklearn/linear_model/_base.py:434\u001B[0m, in \u001B[0;36mLinearClassifierMixin._predict_proba_lr\u001B[0;34m(self, X)\u001B[0m\n\u001B[1;32m    427\u001B[0m \u001B[38;5;28;01mdef\u001B[39;00m \u001B[38;5;21m_predict_proba_lr\u001B[39m(\u001B[38;5;28mself\u001B[39m, X):\n\u001B[1;32m    428\u001B[0m \u001B[38;5;250m    \u001B[39m\u001B[38;5;124;03m\"\"\"Probability estimation for OvR logistic regression.\u001B[39;00m\n\u001B[1;32m    429\u001B[0m \n\u001B[1;32m    430\u001B[0m \u001B[38;5;124;03m    Positive class probabilities are computed as\u001B[39;00m\n\u001B[1;32m    431\u001B[0m \u001B[38;5;124;03m    1. / (1. + np.exp(-self.decision_function(X)));\u001B[39;00m\n\u001B[1;32m    432\u001B[0m \u001B[38;5;124;03m    multiclass is handled by normalizing that over all classes.\u001B[39;00m\n\u001B[1;32m    433\u001B[0m \u001B[38;5;124;03m    \"\"\"\u001B[39;00m\n\u001B[0;32m--> 434\u001B[0m     prob \u001B[38;5;241m=\u001B[39m \u001B[38;5;28;43mself\u001B[39;49m\u001B[38;5;241;43m.\u001B[39;49m\u001B[43mdecision_function\u001B[49m\u001B[43m(\u001B[49m\u001B[43mX\u001B[49m\u001B[43m)\u001B[49m\n\u001B[1;32m    435\u001B[0m     expit(prob, out\u001B[38;5;241m=\u001B[39mprob)\n\u001B[1;32m    436\u001B[0m     \u001B[38;5;28;01mif\u001B[39;00m prob\u001B[38;5;241m.\u001B[39mndim \u001B[38;5;241m==\u001B[39m \u001B[38;5;241m1\u001B[39m:\n",
      "File \u001B[0;32m/Library/Frameworks/Python.framework/Versions/3.11/lib/python3.11/site-packages/sklearn/linear_model/_base.py:400\u001B[0m, in \u001B[0;36mLinearClassifierMixin.decision_function\u001B[0;34m(self, X)\u001B[0m\n\u001B[1;32m    397\u001B[0m check_is_fitted(\u001B[38;5;28mself\u001B[39m)\n\u001B[1;32m    398\u001B[0m xp, _ \u001B[38;5;241m=\u001B[39m get_namespace(X)\n\u001B[0;32m--> 400\u001B[0m X \u001B[38;5;241m=\u001B[39m \u001B[38;5;28;43mself\u001B[39;49m\u001B[38;5;241;43m.\u001B[39;49m\u001B[43m_validate_data\u001B[49m\u001B[43m(\u001B[49m\u001B[43mX\u001B[49m\u001B[43m,\u001B[49m\u001B[43m \u001B[49m\u001B[43maccept_sparse\u001B[49m\u001B[38;5;241;43m=\u001B[39;49m\u001B[38;5;124;43m\"\u001B[39;49m\u001B[38;5;124;43mcsr\u001B[39;49m\u001B[38;5;124;43m\"\u001B[39;49m\u001B[43m,\u001B[49m\u001B[43m \u001B[49m\u001B[43mreset\u001B[49m\u001B[38;5;241;43m=\u001B[39;49m\u001B[38;5;28;43;01mFalse\u001B[39;49;00m\u001B[43m)\u001B[49m\n\u001B[1;32m    401\u001B[0m scores \u001B[38;5;241m=\u001B[39m safe_sparse_dot(X, \u001B[38;5;28mself\u001B[39m\u001B[38;5;241m.\u001B[39mcoef_\u001B[38;5;241m.\u001B[39mT, dense_output\u001B[38;5;241m=\u001B[39m\u001B[38;5;28;01mTrue\u001B[39;00m) \u001B[38;5;241m+\u001B[39m \u001B[38;5;28mself\u001B[39m\u001B[38;5;241m.\u001B[39mintercept_\n\u001B[1;32m    402\u001B[0m \u001B[38;5;28;01mreturn\u001B[39;00m xp\u001B[38;5;241m.\u001B[39mreshape(scores, \u001B[38;5;241m-\u001B[39m\u001B[38;5;241m1\u001B[39m) \u001B[38;5;28;01mif\u001B[39;00m scores\u001B[38;5;241m.\u001B[39mshape[\u001B[38;5;241m1\u001B[39m] \u001B[38;5;241m==\u001B[39m \u001B[38;5;241m1\u001B[39m \u001B[38;5;28;01melse\u001B[39;00m scores\n",
      "File \u001B[0;32m/Library/Frameworks/Python.framework/Versions/3.11/lib/python3.11/site-packages/sklearn/base.py:565\u001B[0m, in \u001B[0;36mBaseEstimator._validate_data\u001B[0;34m(self, X, y, reset, validate_separately, **check_params)\u001B[0m\n\u001B[1;32m    563\u001B[0m     \u001B[38;5;28;01mraise\u001B[39;00m \u001B[38;5;167;01mValueError\u001B[39;00m(\u001B[38;5;124m\"\u001B[39m\u001B[38;5;124mValidation should be done on X, y or both.\u001B[39m\u001B[38;5;124m\"\u001B[39m)\n\u001B[1;32m    564\u001B[0m \u001B[38;5;28;01melif\u001B[39;00m \u001B[38;5;129;01mnot\u001B[39;00m no_val_X \u001B[38;5;129;01mand\u001B[39;00m no_val_y:\n\u001B[0;32m--> 565\u001B[0m     X \u001B[38;5;241m=\u001B[39m \u001B[43mcheck_array\u001B[49m\u001B[43m(\u001B[49m\u001B[43mX\u001B[49m\u001B[43m,\u001B[49m\u001B[43m \u001B[49m\u001B[43minput_name\u001B[49m\u001B[38;5;241;43m=\u001B[39;49m\u001B[38;5;124;43m\"\u001B[39;49m\u001B[38;5;124;43mX\u001B[39;49m\u001B[38;5;124;43m\"\u001B[39;49m\u001B[43m,\u001B[49m\u001B[43m \u001B[49m\u001B[38;5;241;43m*\u001B[39;49m\u001B[38;5;241;43m*\u001B[39;49m\u001B[43mcheck_params\u001B[49m\u001B[43m)\u001B[49m\n\u001B[1;32m    566\u001B[0m     out \u001B[38;5;241m=\u001B[39m X\n\u001B[1;32m    567\u001B[0m \u001B[38;5;28;01melif\u001B[39;00m no_val_X \u001B[38;5;129;01mand\u001B[39;00m \u001B[38;5;129;01mnot\u001B[39;00m no_val_y:\n",
      "File \u001B[0;32m/Library/Frameworks/Python.framework/Versions/3.11/lib/python3.11/site-packages/sklearn/utils/validation.py:879\u001B[0m, in \u001B[0;36mcheck_array\u001B[0;34m(array, accept_sparse, accept_large_sparse, dtype, order, copy, force_all_finite, ensure_2d, allow_nd, ensure_min_samples, ensure_min_features, estimator, input_name)\u001B[0m\n\u001B[1;32m    877\u001B[0m         array \u001B[38;5;241m=\u001B[39m xp\u001B[38;5;241m.\u001B[39mastype(array, dtype, copy\u001B[38;5;241m=\u001B[39m\u001B[38;5;28;01mFalse\u001B[39;00m)\n\u001B[1;32m    878\u001B[0m     \u001B[38;5;28;01melse\u001B[39;00m:\n\u001B[0;32m--> 879\u001B[0m         array \u001B[38;5;241m=\u001B[39m \u001B[43m_asarray_with_order\u001B[49m\u001B[43m(\u001B[49m\u001B[43marray\u001B[49m\u001B[43m,\u001B[49m\u001B[43m \u001B[49m\u001B[43morder\u001B[49m\u001B[38;5;241;43m=\u001B[39;49m\u001B[43morder\u001B[49m\u001B[43m,\u001B[49m\u001B[43m \u001B[49m\u001B[43mdtype\u001B[49m\u001B[38;5;241;43m=\u001B[39;49m\u001B[43mdtype\u001B[49m\u001B[43m,\u001B[49m\u001B[43m \u001B[49m\u001B[43mxp\u001B[49m\u001B[38;5;241;43m=\u001B[39;49m\u001B[43mxp\u001B[49m\u001B[43m)\u001B[49m\n\u001B[1;32m    880\u001B[0m \u001B[38;5;28;01mexcept\u001B[39;00m ComplexWarning \u001B[38;5;28;01mas\u001B[39;00m complex_warning:\n\u001B[1;32m    881\u001B[0m     \u001B[38;5;28;01mraise\u001B[39;00m \u001B[38;5;167;01mValueError\u001B[39;00m(\n\u001B[1;32m    882\u001B[0m         \u001B[38;5;124m\"\u001B[39m\u001B[38;5;124mComplex data not supported\u001B[39m\u001B[38;5;130;01m\\n\u001B[39;00m\u001B[38;5;132;01m{}\u001B[39;00m\u001B[38;5;130;01m\\n\u001B[39;00m\u001B[38;5;124m\"\u001B[39m\u001B[38;5;241m.\u001B[39mformat(array)\n\u001B[1;32m    883\u001B[0m     ) \u001B[38;5;28;01mfrom\u001B[39;00m \u001B[38;5;21;01mcomplex_warning\u001B[39;00m\n",
      "File \u001B[0;32m/Library/Frameworks/Python.framework/Versions/3.11/lib/python3.11/site-packages/sklearn/utils/_array_api.py:185\u001B[0m, in \u001B[0;36m_asarray_with_order\u001B[0;34m(array, dtype, order, copy, xp)\u001B[0m\n\u001B[1;32m    182\u001B[0m     xp, _ \u001B[38;5;241m=\u001B[39m get_namespace(array)\n\u001B[1;32m    183\u001B[0m \u001B[38;5;28;01mif\u001B[39;00m xp\u001B[38;5;241m.\u001B[39m\u001B[38;5;18m__name__\u001B[39m \u001B[38;5;129;01min\u001B[39;00m {\u001B[38;5;124m\"\u001B[39m\u001B[38;5;124mnumpy\u001B[39m\u001B[38;5;124m\"\u001B[39m, \u001B[38;5;124m\"\u001B[39m\u001B[38;5;124mnumpy.array_api\u001B[39m\u001B[38;5;124m\"\u001B[39m}:\n\u001B[1;32m    184\u001B[0m     \u001B[38;5;66;03m# Use NumPy API to support order\u001B[39;00m\n\u001B[0;32m--> 185\u001B[0m     array \u001B[38;5;241m=\u001B[39m numpy\u001B[38;5;241m.\u001B[39masarray(array, order\u001B[38;5;241m=\u001B[39morder, dtype\u001B[38;5;241m=\u001B[39mdtype)\n\u001B[1;32m    186\u001B[0m     \u001B[38;5;28;01mreturn\u001B[39;00m xp\u001B[38;5;241m.\u001B[39masarray(array, copy\u001B[38;5;241m=\u001B[39mcopy)\n\u001B[1;32m    187\u001B[0m \u001B[38;5;28;01melse\u001B[39;00m:\n",
      "File \u001B[0;32m/Library/Frameworks/Python.framework/Versions/3.11/lib/python3.11/site-packages/pandas/core/generic.py:2153\u001B[0m, in \u001B[0;36mNDFrame.__array__\u001B[0;34m(self, dtype, copy)\u001B[0m\n\u001B[1;32m   2149\u001B[0m \u001B[38;5;28;01mdef\u001B[39;00m \u001B[38;5;21m__array__\u001B[39m(\n\u001B[1;32m   2150\u001B[0m     \u001B[38;5;28mself\u001B[39m, dtype: npt\u001B[38;5;241m.\u001B[39mDTypeLike \u001B[38;5;241m|\u001B[39m \u001B[38;5;28;01mNone\u001B[39;00m \u001B[38;5;241m=\u001B[39m \u001B[38;5;28;01mNone\u001B[39;00m, copy: bool_t \u001B[38;5;241m|\u001B[39m \u001B[38;5;28;01mNone\u001B[39;00m \u001B[38;5;241m=\u001B[39m \u001B[38;5;28;01mNone\u001B[39;00m\n\u001B[1;32m   2151\u001B[0m ) \u001B[38;5;241m-\u001B[39m\u001B[38;5;241m>\u001B[39m np\u001B[38;5;241m.\u001B[39mndarray:\n\u001B[1;32m   2152\u001B[0m     values \u001B[38;5;241m=\u001B[39m \u001B[38;5;28mself\u001B[39m\u001B[38;5;241m.\u001B[39m_values\n\u001B[0;32m-> 2153\u001B[0m     arr \u001B[38;5;241m=\u001B[39m \u001B[43mnp\u001B[49m\u001B[38;5;241;43m.\u001B[39;49m\u001B[43masarray\u001B[49m\u001B[43m(\u001B[49m\u001B[43mvalues\u001B[49m\u001B[43m,\u001B[49m\u001B[43m \u001B[49m\u001B[43mdtype\u001B[49m\u001B[38;5;241;43m=\u001B[39;49m\u001B[43mdtype\u001B[49m\u001B[43m)\u001B[49m\n\u001B[1;32m   2154\u001B[0m     \u001B[38;5;28;01mif\u001B[39;00m (\n\u001B[1;32m   2155\u001B[0m         astype_is_view(values\u001B[38;5;241m.\u001B[39mdtype, arr\u001B[38;5;241m.\u001B[39mdtype)\n\u001B[1;32m   2156\u001B[0m         \u001B[38;5;129;01mand\u001B[39;00m using_copy_on_write()\n\u001B[1;32m   2157\u001B[0m         \u001B[38;5;129;01mand\u001B[39;00m \u001B[38;5;28mself\u001B[39m\u001B[38;5;241m.\u001B[39m_mgr\u001B[38;5;241m.\u001B[39mis_single_block\n\u001B[1;32m   2158\u001B[0m     ):\n\u001B[1;32m   2159\u001B[0m         \u001B[38;5;66;03m# Check if both conversions can be done without a copy\u001B[39;00m\n\u001B[1;32m   2160\u001B[0m         \u001B[38;5;28;01mif\u001B[39;00m astype_is_view(\u001B[38;5;28mself\u001B[39m\u001B[38;5;241m.\u001B[39mdtypes\u001B[38;5;241m.\u001B[39miloc[\u001B[38;5;241m0\u001B[39m], values\u001B[38;5;241m.\u001B[39mdtype) \u001B[38;5;129;01mand\u001B[39;00m astype_is_view(\n\u001B[1;32m   2161\u001B[0m             values\u001B[38;5;241m.\u001B[39mdtype, arr\u001B[38;5;241m.\u001B[39mdtype\n\u001B[1;32m   2162\u001B[0m         ):\n",
      "\u001B[0;31mValueError\u001B[0m: could not convert string to float: 'RU'"
     ]
    }
   ],
   "execution_count": 60
  },
  {
   "metadata": {
    "ExecuteTime": {
     "end_time": "2024-11-13T16:20:42.727004Z",
     "start_time": "2024-11-13T16:20:42.719448Z"
    }
   },
   "cell_type": "code",
   "source": [
    "shares_nans = shares[X_test.columns].isna().any(axis=1)\n",
    "pred = shares[list(set(X_test.columns) & set(num_columns))][~shares_nans]\n",
    "pred = pred.reindex(columns=num_columns)\n",
    "score = model2.predict_proba(pred)\n",
    "shares.loc[~shares_nans, \"ratings\"] = score[:, 1] * 1000\n",
    "shares.loc[shares_nans, \"ratings\"] = 0"
   ],
   "id": "6aa6abed674a2f70",
   "outputs": [],
   "execution_count": 269
  },
  {
   "metadata": {
    "ExecuteTime": {
     "end_time": "2024-11-13T16:20:43.139720Z",
     "start_time": "2024-11-13T16:20:43.125436Z"
    }
   },
   "cell_type": "code",
   "source": [
    "etfs_nans = etfs[X_test.columns].isna().any(axis=1)\n",
    "pred = etfs[list(set(X_test.columns) & set(num_columns))][~etfs_nans]\n",
    "pred = pred.reindex(columns=num_columns)\n",
    "score = model2.predict_proba(pred)\n",
    "etfs.loc[~etfs_nans, \"ratings\"] = score[:, 1] * 1000\n",
    "etfs.loc[etfs_nans, \"ratings\"] = 0"
   ],
   "id": "2633541b5d5f9b99",
   "outputs": [],
   "execution_count": 270
  },
  {
   "metadata": {
    "ExecuteTime": {
     "end_time": "2024-11-13T16:20:43.806488Z",
     "start_time": "2024-11-13T16:20:43.743555Z"
    }
   },
   "cell_type": "code",
   "source": [
    "bonds.to_csv('../api/.cache/bonds.csv', index=False)\n",
    "shares.to_csv('../api/.cache/shares.csv', index=False)\n",
    "etfs.to_csv('../api/.cache/etfs.csv', index=False)"
   ],
   "id": "8ca0ec0708fa4b53",
   "outputs": [],
   "execution_count": 271
  },
  {
   "metadata": {
    "ExecuteTime": {
     "end_time": "2024-11-13T16:20:44.252684Z",
     "start_time": "2024-11-13T16:20:44.249122Z"
    }
   },
   "cell_type": "code",
   "source": "print(model2.get_params())",
   "id": "1e4280f9511b5db9",
   "outputs": [
    {
     "name": "stdout",
     "output_type": "stream",
     "text": [
      "{'Cs': 10, 'class_weight': None, 'cv': None, 'dual': False, 'fit_intercept': True, 'intercept_scaling': 1.0, 'l1_ratios': None, 'max_iter': 100, 'multi_class': 'auto', 'n_jobs': None, 'penalty': 'l2', 'random_state': None, 'refit': True, 'scoring': None, 'solver': 'lbfgs', 'tol': 0.0001, 'verbose': 0}\n"
     ]
    }
   ],
   "execution_count": 272
  },
  {
   "metadata": {
    "ExecuteTime": {
     "end_time": "2024-11-14T15:32:14.739055Z",
     "start_time": "2024-11-14T15:32:14.727098Z"
    }
   },
   "cell_type": "code",
   "source": [
    "X_test.class_code = class_code_encoder.transform(X_test.class_code)\n",
    "X_test.currency = currency_encoder.transform(X_test.currency)"
   ],
   "id": "ecc69f40f44b0f8c",
   "outputs": [],
   "execution_count": 158
  },
  {
   "metadata": {
    "ExecuteTime": {
     "end_time": "2024-11-14T15:32:30.692749Z",
     "start_time": "2024-11-14T15:32:30.676298Z"
    }
   },
   "cell_type": "code",
   "source": "X_test.exchange = exchange_encoder.transform(X_test.exchange)",
   "id": "e0316736e85c7735",
   "outputs": [],
   "execution_count": 161
  },
  {
   "metadata": {
    "ExecuteTime": {
     "end_time": "2024-11-14T15:32:31.154906Z",
     "start_time": "2024-11-14T15:32:31.148205Z"
    }
   },
   "cell_type": "code",
   "source": "X_test",
   "id": "35a905891365448a",
   "outputs": [
    {
     "data": {
      "text/plain": [
       "     country_of_risk  stability  exchange  class_code  currency  mean_return  \\\n",
       "0                 18   7.072402         0           7         2     5.478607   \n",
       "1                 15   6.312588         0           7         2     2.037783   \n",
       "2                 18   0.000000         0           7         2     2.576455   \n",
       "3                 18   4.603457         0           7         2     2.167806   \n",
       "4                 18   7.994501         0           7         2     6.437097   \n",
       "..               ...        ...       ...         ...       ...          ...   \n",
       "168               18   5.589684         1           6         2     2.253016   \n",
       "169               18   7.057391         1           6         2     2.164127   \n",
       "170               18   6.063629         7           6         2     2.471787   \n",
       "171               18   5.298516         1           6         2     0.000000   \n",
       "172               18   3.293560         7           6         2     4.103122   \n",
       "\n",
       "     sortino_ratio     lot  trend_slope  sharpe_ratio  inverse_drawdown  \\\n",
       "0         5.315462       1     4.959775      5.604616          2.321849   \n",
       "1         2.225757       1     2.040463      2.235709          6.928665   \n",
       "2         6.287767       1     0.008493      6.559297          9.113294   \n",
       "3         4.113328       1     1.809578      3.974293          7.343594   \n",
       "4         6.388216       1     6.236490      6.717169          1.562965   \n",
       "..             ...     ...          ...           ...               ...   \n",
       "168       2.618918     100     2.607009      2.574496          4.732105   \n",
       "169       1.731214  100000     2.925508      1.966651          3.701367   \n",
       "170       2.469703     100     2.557676      2.640975          4.820033   \n",
       "171       0.000000      10     0.000000      0.000000         10.000000   \n",
       "172       3.956887   10000     3.278120      4.071007          7.574434   \n",
       "\n",
       "     sector  \n",
       "0         9  \n",
       "1         5  \n",
       "2         4  \n",
       "3         4  \n",
       "4        13  \n",
       "..      ...  \n",
       "168       9  \n",
       "169      16  \n",
       "170      15  \n",
       "171      11  \n",
       "172      16  \n",
       "\n",
       "[1317 rows x 12 columns]"
      ],
      "text/html": [
       "<div>\n",
       "<style scoped>\n",
       "    .dataframe tbody tr th:only-of-type {\n",
       "        vertical-align: middle;\n",
       "    }\n",
       "\n",
       "    .dataframe tbody tr th {\n",
       "        vertical-align: top;\n",
       "    }\n",
       "\n",
       "    .dataframe thead th {\n",
       "        text-align: right;\n",
       "    }\n",
       "</style>\n",
       "<table border=\"1\" class=\"dataframe\">\n",
       "  <thead>\n",
       "    <tr style=\"text-align: right;\">\n",
       "      <th></th>\n",
       "      <th>country_of_risk</th>\n",
       "      <th>stability</th>\n",
       "      <th>exchange</th>\n",
       "      <th>class_code</th>\n",
       "      <th>currency</th>\n",
       "      <th>mean_return</th>\n",
       "      <th>sortino_ratio</th>\n",
       "      <th>lot</th>\n",
       "      <th>trend_slope</th>\n",
       "      <th>sharpe_ratio</th>\n",
       "      <th>inverse_drawdown</th>\n",
       "      <th>sector</th>\n",
       "    </tr>\n",
       "  </thead>\n",
       "  <tbody>\n",
       "    <tr>\n",
       "      <th>0</th>\n",
       "      <td>18</td>\n",
       "      <td>7.072402</td>\n",
       "      <td>0</td>\n",
       "      <td>7</td>\n",
       "      <td>2</td>\n",
       "      <td>5.478607</td>\n",
       "      <td>5.315462</td>\n",
       "      <td>1</td>\n",
       "      <td>4.959775</td>\n",
       "      <td>5.604616</td>\n",
       "      <td>2.321849</td>\n",
       "      <td>9</td>\n",
       "    </tr>\n",
       "    <tr>\n",
       "      <th>1</th>\n",
       "      <td>15</td>\n",
       "      <td>6.312588</td>\n",
       "      <td>0</td>\n",
       "      <td>7</td>\n",
       "      <td>2</td>\n",
       "      <td>2.037783</td>\n",
       "      <td>2.225757</td>\n",
       "      <td>1</td>\n",
       "      <td>2.040463</td>\n",
       "      <td>2.235709</td>\n",
       "      <td>6.928665</td>\n",
       "      <td>5</td>\n",
       "    </tr>\n",
       "    <tr>\n",
       "      <th>2</th>\n",
       "      <td>18</td>\n",
       "      <td>0.000000</td>\n",
       "      <td>0</td>\n",
       "      <td>7</td>\n",
       "      <td>2</td>\n",
       "      <td>2.576455</td>\n",
       "      <td>6.287767</td>\n",
       "      <td>1</td>\n",
       "      <td>0.008493</td>\n",
       "      <td>6.559297</td>\n",
       "      <td>9.113294</td>\n",
       "      <td>4</td>\n",
       "    </tr>\n",
       "    <tr>\n",
       "      <th>3</th>\n",
       "      <td>18</td>\n",
       "      <td>4.603457</td>\n",
       "      <td>0</td>\n",
       "      <td>7</td>\n",
       "      <td>2</td>\n",
       "      <td>2.167806</td>\n",
       "      <td>4.113328</td>\n",
       "      <td>1</td>\n",
       "      <td>1.809578</td>\n",
       "      <td>3.974293</td>\n",
       "      <td>7.343594</td>\n",
       "      <td>4</td>\n",
       "    </tr>\n",
       "    <tr>\n",
       "      <th>4</th>\n",
       "      <td>18</td>\n",
       "      <td>7.994501</td>\n",
       "      <td>0</td>\n",
       "      <td>7</td>\n",
       "      <td>2</td>\n",
       "      <td>6.437097</td>\n",
       "      <td>6.388216</td>\n",
       "      <td>1</td>\n",
       "      <td>6.236490</td>\n",
       "      <td>6.717169</td>\n",
       "      <td>1.562965</td>\n",
       "      <td>13</td>\n",
       "    </tr>\n",
       "    <tr>\n",
       "      <th>...</th>\n",
       "      <td>...</td>\n",
       "      <td>...</td>\n",
       "      <td>...</td>\n",
       "      <td>...</td>\n",
       "      <td>...</td>\n",
       "      <td>...</td>\n",
       "      <td>...</td>\n",
       "      <td>...</td>\n",
       "      <td>...</td>\n",
       "      <td>...</td>\n",
       "      <td>...</td>\n",
       "      <td>...</td>\n",
       "    </tr>\n",
       "    <tr>\n",
       "      <th>168</th>\n",
       "      <td>18</td>\n",
       "      <td>5.589684</td>\n",
       "      <td>1</td>\n",
       "      <td>6</td>\n",
       "      <td>2</td>\n",
       "      <td>2.253016</td>\n",
       "      <td>2.618918</td>\n",
       "      <td>100</td>\n",
       "      <td>2.607009</td>\n",
       "      <td>2.574496</td>\n",
       "      <td>4.732105</td>\n",
       "      <td>9</td>\n",
       "    </tr>\n",
       "    <tr>\n",
       "      <th>169</th>\n",
       "      <td>18</td>\n",
       "      <td>7.057391</td>\n",
       "      <td>1</td>\n",
       "      <td>6</td>\n",
       "      <td>2</td>\n",
       "      <td>2.164127</td>\n",
       "      <td>1.731214</td>\n",
       "      <td>100000</td>\n",
       "      <td>2.925508</td>\n",
       "      <td>1.966651</td>\n",
       "      <td>3.701367</td>\n",
       "      <td>16</td>\n",
       "    </tr>\n",
       "    <tr>\n",
       "      <th>170</th>\n",
       "      <td>18</td>\n",
       "      <td>6.063629</td>\n",
       "      <td>7</td>\n",
       "      <td>6</td>\n",
       "      <td>2</td>\n",
       "      <td>2.471787</td>\n",
       "      <td>2.469703</td>\n",
       "      <td>100</td>\n",
       "      <td>2.557676</td>\n",
       "      <td>2.640975</td>\n",
       "      <td>4.820033</td>\n",
       "      <td>15</td>\n",
       "    </tr>\n",
       "    <tr>\n",
       "      <th>171</th>\n",
       "      <td>18</td>\n",
       "      <td>5.298516</td>\n",
       "      <td>1</td>\n",
       "      <td>6</td>\n",
       "      <td>2</td>\n",
       "      <td>0.000000</td>\n",
       "      <td>0.000000</td>\n",
       "      <td>10</td>\n",
       "      <td>0.000000</td>\n",
       "      <td>0.000000</td>\n",
       "      <td>10.000000</td>\n",
       "      <td>11</td>\n",
       "    </tr>\n",
       "    <tr>\n",
       "      <th>172</th>\n",
       "      <td>18</td>\n",
       "      <td>3.293560</td>\n",
       "      <td>7</td>\n",
       "      <td>6</td>\n",
       "      <td>2</td>\n",
       "      <td>4.103122</td>\n",
       "      <td>3.956887</td>\n",
       "      <td>10000</td>\n",
       "      <td>3.278120</td>\n",
       "      <td>4.071007</td>\n",
       "      <td>7.574434</td>\n",
       "      <td>16</td>\n",
       "    </tr>\n",
       "  </tbody>\n",
       "</table>\n",
       "<p>1317 rows × 12 columns</p>\n",
       "</div>"
      ]
     },
     "execution_count": 162,
     "metadata": {},
     "output_type": "execute_result"
    }
   ],
   "execution_count": 162
  },
  {
   "metadata": {
    "ExecuteTime": {
     "end_time": "2024-11-14T15:32:37.515044Z",
     "start_time": "2024-11-14T15:32:37.478994Z"
    }
   },
   "cell_type": "code",
   "source": [
    "preds = X_test[list(set(X_test.columns) & set(num_columns))]\n",
    "preds = preds.reindex(columns=num_columns)\n",
    "preds = model2.predict(preds)"
   ],
   "id": "860b00cf7da07f06",
   "outputs": [],
   "execution_count": 163
  },
  {
   "metadata": {
    "ExecuteTime": {
     "end_time": "2024-11-14T15:32:39.398637Z",
     "start_time": "2024-11-14T15:32:39.395089Z"
    }
   },
   "cell_type": "code",
   "source": "Y_test.shape, preds.shape",
   "id": "ab3efee84437fc66",
   "outputs": [
    {
     "data": {
      "text/plain": [
       "((1317,), (1317,))"
      ]
     },
     "execution_count": 164,
     "metadata": {},
     "output_type": "execute_result"
    }
   ],
   "execution_count": 164
  },
  {
   "metadata": {
    "ExecuteTime": {
     "end_time": "2024-11-14T15:32:40.233375Z",
     "start_time": "2024-11-14T15:32:40.225669Z"
    }
   },
   "cell_type": "code",
   "source": "print(classification_report(Y_test, preds))",
   "id": "185ee28019b58e76",
   "outputs": [
    {
     "name": "stdout",
     "output_type": "stream",
     "text": [
      "              precision    recall  f1-score   support\n",
      "\n",
      "       False       0.77      0.91      0.83      1004\n",
      "        True       0.31      0.13      0.18       313\n",
      "\n",
      "    accuracy                           0.72      1317\n",
      "   macro avg       0.54      0.52      0.51      1317\n",
      "weighted avg       0.66      0.72      0.68      1317\n",
      "\n"
     ]
    }
   ],
   "execution_count": 165
  },
  {
   "metadata": {
    "ExecuteTime": {
     "end_time": "2024-11-14T15:33:04.699104Z",
     "start_time": "2024-11-14T15:33:04.588587Z"
    }
   },
   "cell_type": "code",
   "source": [
    "import matplotlib.pyplot as plt\n",
    "\n",
    "plt.pie(Y_test.value_counts(), labels=Y_test.value_counts().index)"
   ],
   "id": "bf36ac35a19d7962",
   "outputs": [
    {
     "data": {
      "text/plain": [
       "([<matplotlib.patches.Wedge at 0x1627cff10>,\n",
       "  <matplotlib.patches.Wedge at 0x167dd2310>],\n",
       " [Text(-0.8073761396725034, 0.7470902014399107, 'False'),\n",
       "  Text(0.8073761046986861, -0.7470902392359148, 'True')])"
      ]
     },
     "execution_count": 166,
     "metadata": {},
     "output_type": "execute_result"
    },
    {
     "data": {
      "text/plain": [
       "<Figure size 640x480 with 1 Axes>"
      ],
      "image/png": "[encoded data removed]"
     },
     "metadata": {},
     "output_type": "display_data"
    }
   ],
   "execution_count": 166
  },
  {
   "metadata": {
    "ExecuteTime": {
     "end_time": "2024-11-14T15:33:09.305543Z",
     "start_time": "2024-11-14T15:33:09.281163Z"
    }
   },
   "cell_type": "code",
   "source": "print(classification_report(Y_test, model2.predict(X_test[num_columns])))",
   "id": "480d347fd967ed52",
   "outputs": [
    {
     "name": "stdout",
     "output_type": "stream",
     "text": [
      "              precision    recall  f1-score   support\n",
      "\n",
      "       False       0.77      0.91      0.83      1004\n",
      "        True       0.31      0.13      0.18       313\n",
      "\n",
      "    accuracy                           0.72      1317\n",
      "   macro avg       0.54      0.52      0.51      1317\n",
      "weighted avg       0.66      0.72      0.68      1317\n",
      "\n"
     ]
    }
   ],
   "execution_count": 167
  },
  {
   "metadata": {
    "ExecuteTime": {
     "end_time": "2024-11-13T16:19:12.571963Z",
     "start_time": "2024-11-13T16:19:12.482884Z"
    }
   },
   "cell_type": "code",
   "source": "print(classification_report(train.target.astype(str), model.predict(train.drop(\"target\", axis=1))))",
   "id": "d83dd11c77b308b",
   "outputs": [
    {
     "name": "stdout",
     "output_type": "stream",
     "text": [
      "              precision    recall  f1-score   support\n",
      "\n",
      "       False       0.80      0.90      0.85       803\n",
      "        True       0.80      0.63      0.70       492\n",
      "\n",
      "    accuracy                           0.80      1295\n",
      "   macro avg       0.80      0.76      0.77      1295\n",
      "weighted avg       0.80      0.80      0.79      1295\n",
      "\n"
     ]
    }
   ],
   "execution_count": 254
  }
 ],
 "metadata": {
  "kernelspec": {
   "display_name": "Python 3",
   "language": "python",
   "name": "python3"
  },
  "language_info": {
   "codemirror_mode": {
    "name": "ipython",
    "version": 2
   },
   "file_extension": ".py",
   "mimetype": "text/x-python",
   "name": "python",
   "nbconvert_exporter": "python",
   "pygments_lexer": "ipython2",
   "version": "2.7.6"
  }
 },
 "nbformat": 4,
 "nbformat_minor": 5
}
